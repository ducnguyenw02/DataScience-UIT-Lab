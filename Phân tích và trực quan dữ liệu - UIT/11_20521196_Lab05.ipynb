{
  "nbformat": 4,
  "nbformat_minor": 0,
  "metadata": {
    "colab": {
      "provenance": [],
      "collapsed_sections": [],
      "toc_visible": true
    },
    "kernelspec": {
      "name": "python3",
      "display_name": "Python 3"
    },
    "language_info": {
      "name": "python"
    }
  },
  "cells": [
    {
      "cell_type": "markdown",
      "source": [
        "# LAB 5 \n",
        "# Model Development\n",
        "# Model Evaluation and Refinement"
      ],
      "metadata": {
        "id": "MpXGk1zHrzB3"
      }
    },
    {
      "cell_type": "markdown",
      "source": [
        "STT: 11\n",
        "\n",
        "Họ và tên: Nguyễn Mạnh Đức \n",
        "\n",
        "Lớp: DS105.N11.2\n",
        "\n",
        "Buổi 03 - Bài 05 \n"
      ],
      "metadata": {
        "id": "SHHKf4Osr9uT"
      }
    },
    {
      "cell_type": "markdown",
      "source": [
        "# Câu 1. Tạo dataframe (df) lưu trữ dataset tại đường dẫn trên (chọn cách đọc load từ internet). Xuất 10 samples bất kỳ. Dataset có bao nhiêu sample, số lượng bao nhiêu feature."
      ],
      "metadata": {
        "id": "gOgc6CAysB5Q"
      }
    },
    {
      "cell_type": "code",
      "execution_count": 4,
      "metadata": {
        "id": "OZ3Fje6AoWt4",
        "colab": {
          "base_uri": "https://localhost:8080/",
          "height": 424
        },
        "outputId": "09ae20d3-e8fd-4652-d614-c16bb3b5f833"
      },
      "outputs": [
        {
          "output_type": "execute_result",
          "data": {
            "text/plain": [
              "     curb-weight  engine-size    length     width  horsepower  city-mpg  \\\n",
              "0           2548          130  0.811148  0.890278       111.0        21   \n",
              "1           2548          130  0.811148  0.890278       111.0        21   \n",
              "2           2823          152  0.822681  0.909722       154.0        19   \n",
              "3           2337          109  0.848630  0.919444       102.0        24   \n",
              "4           2824          136  0.848630  0.922222       115.0        18   \n",
              "..           ...          ...       ...       ...         ...       ...   \n",
              "196         2952          141  0.907256  0.956944       114.0        23   \n",
              "197         3049          141  0.907256  0.955556       160.0        19   \n",
              "198         3012          173  0.907256  0.956944       134.0        18   \n",
              "199         3217          145  0.907256  0.956944       106.0        26   \n",
              "200         3062          141  0.907256  0.956944       114.0        19   \n",
              "\n",
              "     highway-mpg  wheel-base  bore    price  \n",
              "0             27        88.6  3.47  13495.0  \n",
              "1             27        88.6  3.47  16500.0  \n",
              "2             26        94.5  2.68  16500.0  \n",
              "3             30        99.8  3.19  13950.0  \n",
              "4             22        99.4  3.19  17450.0  \n",
              "..           ...         ...   ...      ...  \n",
              "196           28       109.1  3.78  16845.0  \n",
              "197           25       109.1  3.78  19045.0  \n",
              "198           23       109.1  3.58  21485.0  \n",
              "199           27       109.1  3.01  22470.0  \n",
              "200           25       109.1  3.78  22625.0  \n",
              "\n",
              "[201 rows x 10 columns]"
            ],
            "text/html": [
              "\n",
              "  <div id=\"df-78994e72-0ba1-4141-b18a-c55b9cb1dff8\">\n",
              "    <div class=\"colab-df-container\">\n",
              "      <div>\n",
              "<style scoped>\n",
              "    .dataframe tbody tr th:only-of-type {\n",
              "        vertical-align: middle;\n",
              "    }\n",
              "\n",
              "    .dataframe tbody tr th {\n",
              "        vertical-align: top;\n",
              "    }\n",
              "\n",
              "    .dataframe thead th {\n",
              "        text-align: right;\n",
              "    }\n",
              "</style>\n",
              "<table border=\"1\" class=\"dataframe\">\n",
              "  <thead>\n",
              "    <tr style=\"text-align: right;\">\n",
              "      <th></th>\n",
              "      <th>curb-weight</th>\n",
              "      <th>engine-size</th>\n",
              "      <th>length</th>\n",
              "      <th>width</th>\n",
              "      <th>horsepower</th>\n",
              "      <th>city-mpg</th>\n",
              "      <th>highway-mpg</th>\n",
              "      <th>wheel-base</th>\n",
              "      <th>bore</th>\n",
              "      <th>price</th>\n",
              "    </tr>\n",
              "  </thead>\n",
              "  <tbody>\n",
              "    <tr>\n",
              "      <th>0</th>\n",
              "      <td>2548</td>\n",
              "      <td>130</td>\n",
              "      <td>0.811148</td>\n",
              "      <td>0.890278</td>\n",
              "      <td>111.0</td>\n",
              "      <td>21</td>\n",
              "      <td>27</td>\n",
              "      <td>88.6</td>\n",
              "      <td>3.47</td>\n",
              "      <td>13495.0</td>\n",
              "    </tr>\n",
              "    <tr>\n",
              "      <th>1</th>\n",
              "      <td>2548</td>\n",
              "      <td>130</td>\n",
              "      <td>0.811148</td>\n",
              "      <td>0.890278</td>\n",
              "      <td>111.0</td>\n",
              "      <td>21</td>\n",
              "      <td>27</td>\n",
              "      <td>88.6</td>\n",
              "      <td>3.47</td>\n",
              "      <td>16500.0</td>\n",
              "    </tr>\n",
              "    <tr>\n",
              "      <th>2</th>\n",
              "      <td>2823</td>\n",
              "      <td>152</td>\n",
              "      <td>0.822681</td>\n",
              "      <td>0.909722</td>\n",
              "      <td>154.0</td>\n",
              "      <td>19</td>\n",
              "      <td>26</td>\n",
              "      <td>94.5</td>\n",
              "      <td>2.68</td>\n",
              "      <td>16500.0</td>\n",
              "    </tr>\n",
              "    <tr>\n",
              "      <th>3</th>\n",
              "      <td>2337</td>\n",
              "      <td>109</td>\n",
              "      <td>0.848630</td>\n",
              "      <td>0.919444</td>\n",
              "      <td>102.0</td>\n",
              "      <td>24</td>\n",
              "      <td>30</td>\n",
              "      <td>99.8</td>\n",
              "      <td>3.19</td>\n",
              "      <td>13950.0</td>\n",
              "    </tr>\n",
              "    <tr>\n",
              "      <th>4</th>\n",
              "      <td>2824</td>\n",
              "      <td>136</td>\n",
              "      <td>0.848630</td>\n",
              "      <td>0.922222</td>\n",
              "      <td>115.0</td>\n",
              "      <td>18</td>\n",
              "      <td>22</td>\n",
              "      <td>99.4</td>\n",
              "      <td>3.19</td>\n",
              "      <td>17450.0</td>\n",
              "    </tr>\n",
              "    <tr>\n",
              "      <th>...</th>\n",
              "      <td>...</td>\n",
              "      <td>...</td>\n",
              "      <td>...</td>\n",
              "      <td>...</td>\n",
              "      <td>...</td>\n",
              "      <td>...</td>\n",
              "      <td>...</td>\n",
              "      <td>...</td>\n",
              "      <td>...</td>\n",
              "      <td>...</td>\n",
              "    </tr>\n",
              "    <tr>\n",
              "      <th>196</th>\n",
              "      <td>2952</td>\n",
              "      <td>141</td>\n",
              "      <td>0.907256</td>\n",
              "      <td>0.956944</td>\n",
              "      <td>114.0</td>\n",
              "      <td>23</td>\n",
              "      <td>28</td>\n",
              "      <td>109.1</td>\n",
              "      <td>3.78</td>\n",
              "      <td>16845.0</td>\n",
              "    </tr>\n",
              "    <tr>\n",
              "      <th>197</th>\n",
              "      <td>3049</td>\n",
              "      <td>141</td>\n",
              "      <td>0.907256</td>\n",
              "      <td>0.955556</td>\n",
              "      <td>160.0</td>\n",
              "      <td>19</td>\n",
              "      <td>25</td>\n",
              "      <td>109.1</td>\n",
              "      <td>3.78</td>\n",
              "      <td>19045.0</td>\n",
              "    </tr>\n",
              "    <tr>\n",
              "      <th>198</th>\n",
              "      <td>3012</td>\n",
              "      <td>173</td>\n",
              "      <td>0.907256</td>\n",
              "      <td>0.956944</td>\n",
              "      <td>134.0</td>\n",
              "      <td>18</td>\n",
              "      <td>23</td>\n",
              "      <td>109.1</td>\n",
              "      <td>3.58</td>\n",
              "      <td>21485.0</td>\n",
              "    </tr>\n",
              "    <tr>\n",
              "      <th>199</th>\n",
              "      <td>3217</td>\n",
              "      <td>145</td>\n",
              "      <td>0.907256</td>\n",
              "      <td>0.956944</td>\n",
              "      <td>106.0</td>\n",
              "      <td>26</td>\n",
              "      <td>27</td>\n",
              "      <td>109.1</td>\n",
              "      <td>3.01</td>\n",
              "      <td>22470.0</td>\n",
              "    </tr>\n",
              "    <tr>\n",
              "      <th>200</th>\n",
              "      <td>3062</td>\n",
              "      <td>141</td>\n",
              "      <td>0.907256</td>\n",
              "      <td>0.956944</td>\n",
              "      <td>114.0</td>\n",
              "      <td>19</td>\n",
              "      <td>25</td>\n",
              "      <td>109.1</td>\n",
              "      <td>3.78</td>\n",
              "      <td>22625.0</td>\n",
              "    </tr>\n",
              "  </tbody>\n",
              "</table>\n",
              "<p>201 rows × 10 columns</p>\n",
              "</div>\n",
              "      <button class=\"colab-df-convert\" onclick=\"convertToInteractive('df-78994e72-0ba1-4141-b18a-c55b9cb1dff8')\"\n",
              "              title=\"Convert this dataframe to an interactive table.\"\n",
              "              style=\"display:none;\">\n",
              "        \n",
              "  <svg xmlns=\"http://www.w3.org/2000/svg\" height=\"24px\"viewBox=\"0 0 24 24\"\n",
              "       width=\"24px\">\n",
              "    <path d=\"M0 0h24v24H0V0z\" fill=\"none\"/>\n",
              "    <path d=\"M18.56 5.44l.94 2.06.94-2.06 2.06-.94-2.06-.94-.94-2.06-.94 2.06-2.06.94zm-11 1L8.5 8.5l.94-2.06 2.06-.94-2.06-.94L8.5 2.5l-.94 2.06-2.06.94zm10 10l.94 2.06.94-2.06 2.06-.94-2.06-.94-.94-2.06-.94 2.06-2.06.94z\"/><path d=\"M17.41 7.96l-1.37-1.37c-.4-.4-.92-.59-1.43-.59-.52 0-1.04.2-1.43.59L10.3 9.45l-7.72 7.72c-.78.78-.78 2.05 0 2.83L4 21.41c.39.39.9.59 1.41.59.51 0 1.02-.2 1.41-.59l7.78-7.78 2.81-2.81c.8-.78.8-2.07 0-2.86zM5.41 20L4 18.59l7.72-7.72 1.47 1.35L5.41 20z\"/>\n",
              "  </svg>\n",
              "      </button>\n",
              "      \n",
              "  <style>\n",
              "    .colab-df-container {\n",
              "      display:flex;\n",
              "      flex-wrap:wrap;\n",
              "      gap: 12px;\n",
              "    }\n",
              "\n",
              "    .colab-df-convert {\n",
              "      background-color: #E8F0FE;\n",
              "      border: none;\n",
              "      border-radius: 50%;\n",
              "      cursor: pointer;\n",
              "      display: none;\n",
              "      fill: #1967D2;\n",
              "      height: 32px;\n",
              "      padding: 0 0 0 0;\n",
              "      width: 32px;\n",
              "    }\n",
              "\n",
              "    .colab-df-convert:hover {\n",
              "      background-color: #E2EBFA;\n",
              "      box-shadow: 0px 1px 2px rgba(60, 64, 67, 0.3), 0px 1px 3px 1px rgba(60, 64, 67, 0.15);\n",
              "      fill: #174EA6;\n",
              "    }\n",
              "\n",
              "    [theme=dark] .colab-df-convert {\n",
              "      background-color: #3B4455;\n",
              "      fill: #D2E3FC;\n",
              "    }\n",
              "\n",
              "    [theme=dark] .colab-df-convert:hover {\n",
              "      background-color: #434B5C;\n",
              "      box-shadow: 0px 1px 3px 1px rgba(0, 0, 0, 0.15);\n",
              "      filter: drop-shadow(0px 1px 2px rgba(0, 0, 0, 0.3));\n",
              "      fill: #FFFFFF;\n",
              "    }\n",
              "  </style>\n",
              "\n",
              "      <script>\n",
              "        const buttonEl =\n",
              "          document.querySelector('#df-78994e72-0ba1-4141-b18a-c55b9cb1dff8 button.colab-df-convert');\n",
              "        buttonEl.style.display =\n",
              "          google.colab.kernel.accessAllowed ? 'block' : 'none';\n",
              "\n",
              "        async function convertToInteractive(key) {\n",
              "          const element = document.querySelector('#df-78994e72-0ba1-4141-b18a-c55b9cb1dff8');\n",
              "          const dataTable =\n",
              "            await google.colab.kernel.invokeFunction('convertToInteractive',\n",
              "                                                     [key], {});\n",
              "          if (!dataTable) return;\n",
              "\n",
              "          const docLinkHtml = 'Like what you see? Visit the ' +\n",
              "            '<a target=\"_blank\" href=https://colab.research.google.com/notebooks/data_table.ipynb>data table notebook</a>'\n",
              "            + ' to learn more about interactive tables.';\n",
              "          element.innerHTML = '';\n",
              "          dataTable['output_type'] = 'display_data';\n",
              "          await google.colab.output.renderOutput(dataTable, element);\n",
              "          const docLink = document.createElement('div');\n",
              "          docLink.innerHTML = docLinkHtml;\n",
              "          element.appendChild(docLink);\n",
              "        }\n",
              "      </script>\n",
              "    </div>\n",
              "  </div>\n",
              "  "
            ]
          },
          "metadata": {},
          "execution_count": 4
        }
      ],
      "source": [
        "import pandas as pd \n",
        "df = pd.read_csv('https://raw.githubusercontent.com/datasethub/ds105/master/Lab_Model_Development.csv')\n",
        "df"
      ]
    },
    {
      "cell_type": "code",
      "source": [
        "df.sample(10)"
      ],
      "metadata": {
        "colab": {
          "base_uri": "https://localhost:8080/",
          "height": 363
        },
        "id": "pX0FOeTww9sf",
        "outputId": "32db7e6b-f5e7-434d-d4d2-b1b5d40a8702"
      },
      "execution_count": 5,
      "outputs": [
        {
          "output_type": "execute_result",
          "data": {
            "text/plain": [
              "     curb-weight  engine-size    length     width  horsepower  city-mpg  \\\n",
              "155         2275          110  0.799135  0.894444        56.0        38   \n",
              "177         3151          161  0.902451  0.923611       156.0        19   \n",
              "159         2169           98  0.810668  0.888889        70.0        29   \n",
              "170         2480          110  0.843825  0.923611        73.0        30   \n",
              "175         3016          171  0.881788  0.940278       161.0        19   \n",
              "167         2714          146  0.846708  0.911111       116.0        24   \n",
              "165         2551          146  0.846708  0.911111       116.0        24   \n",
              "121         2818          156  0.832292  0.920833       145.0        19   \n",
              "194         3045          130  0.907256  0.933333       162.0        17   \n",
              "171         2414          122  0.843825  0.923611        92.0        27   \n",
              "\n",
              "     highway-mpg  wheel-base  bore    price  \n",
              "155           47        95.7  3.27   7788.0  \n",
              "177           24       104.5  3.27  15750.0  \n",
              "159           34        94.5  3.19   8058.0  \n",
              "170           33       102.4  3.27  10698.0  \n",
              "175           24       102.9  3.27  15998.0  \n",
              "167           30        98.4  3.62  11549.0  \n",
              "165           30        98.4  3.62   9989.0  \n",
              "121           24        95.9  3.59  12764.0  \n",
              "194           22       104.3  3.62  18420.0  \n",
              "171           32       102.4  3.31   9988.0  "
            ],
            "text/html": [
              "\n",
              "  <div id=\"df-eb0c503e-cce7-4d00-9ead-b7a81313783e\">\n",
              "    <div class=\"colab-df-container\">\n",
              "      <div>\n",
              "<style scoped>\n",
              "    .dataframe tbody tr th:only-of-type {\n",
              "        vertical-align: middle;\n",
              "    }\n",
              "\n",
              "    .dataframe tbody tr th {\n",
              "        vertical-align: top;\n",
              "    }\n",
              "\n",
              "    .dataframe thead th {\n",
              "        text-align: right;\n",
              "    }\n",
              "</style>\n",
              "<table border=\"1\" class=\"dataframe\">\n",
              "  <thead>\n",
              "    <tr style=\"text-align: right;\">\n",
              "      <th></th>\n",
              "      <th>curb-weight</th>\n",
              "      <th>engine-size</th>\n",
              "      <th>length</th>\n",
              "      <th>width</th>\n",
              "      <th>horsepower</th>\n",
              "      <th>city-mpg</th>\n",
              "      <th>highway-mpg</th>\n",
              "      <th>wheel-base</th>\n",
              "      <th>bore</th>\n",
              "      <th>price</th>\n",
              "    </tr>\n",
              "  </thead>\n",
              "  <tbody>\n",
              "    <tr>\n",
              "      <th>155</th>\n",
              "      <td>2275</td>\n",
              "      <td>110</td>\n",
              "      <td>0.799135</td>\n",
              "      <td>0.894444</td>\n",
              "      <td>56.0</td>\n",
              "      <td>38</td>\n",
              "      <td>47</td>\n",
              "      <td>95.7</td>\n",
              "      <td>3.27</td>\n",
              "      <td>7788.0</td>\n",
              "    </tr>\n",
              "    <tr>\n",
              "      <th>177</th>\n",
              "      <td>3151</td>\n",
              "      <td>161</td>\n",
              "      <td>0.902451</td>\n",
              "      <td>0.923611</td>\n",
              "      <td>156.0</td>\n",
              "      <td>19</td>\n",
              "      <td>24</td>\n",
              "      <td>104.5</td>\n",
              "      <td>3.27</td>\n",
              "      <td>15750.0</td>\n",
              "    </tr>\n",
              "    <tr>\n",
              "      <th>159</th>\n",
              "      <td>2169</td>\n",
              "      <td>98</td>\n",
              "      <td>0.810668</td>\n",
              "      <td>0.888889</td>\n",
              "      <td>70.0</td>\n",
              "      <td>29</td>\n",
              "      <td>34</td>\n",
              "      <td>94.5</td>\n",
              "      <td>3.19</td>\n",
              "      <td>8058.0</td>\n",
              "    </tr>\n",
              "    <tr>\n",
              "      <th>170</th>\n",
              "      <td>2480</td>\n",
              "      <td>110</td>\n",
              "      <td>0.843825</td>\n",
              "      <td>0.923611</td>\n",
              "      <td>73.0</td>\n",
              "      <td>30</td>\n",
              "      <td>33</td>\n",
              "      <td>102.4</td>\n",
              "      <td>3.27</td>\n",
              "      <td>10698.0</td>\n",
              "    </tr>\n",
              "    <tr>\n",
              "      <th>175</th>\n",
              "      <td>3016</td>\n",
              "      <td>171</td>\n",
              "      <td>0.881788</td>\n",
              "      <td>0.940278</td>\n",
              "      <td>161.0</td>\n",
              "      <td>19</td>\n",
              "      <td>24</td>\n",
              "      <td>102.9</td>\n",
              "      <td>3.27</td>\n",
              "      <td>15998.0</td>\n",
              "    </tr>\n",
              "    <tr>\n",
              "      <th>167</th>\n",
              "      <td>2714</td>\n",
              "      <td>146</td>\n",
              "      <td>0.846708</td>\n",
              "      <td>0.911111</td>\n",
              "      <td>116.0</td>\n",
              "      <td>24</td>\n",
              "      <td>30</td>\n",
              "      <td>98.4</td>\n",
              "      <td>3.62</td>\n",
              "      <td>11549.0</td>\n",
              "    </tr>\n",
              "    <tr>\n",
              "      <th>165</th>\n",
              "      <td>2551</td>\n",
              "      <td>146</td>\n",
              "      <td>0.846708</td>\n",
              "      <td>0.911111</td>\n",
              "      <td>116.0</td>\n",
              "      <td>24</td>\n",
              "      <td>30</td>\n",
              "      <td>98.4</td>\n",
              "      <td>3.62</td>\n",
              "      <td>9989.0</td>\n",
              "    </tr>\n",
              "    <tr>\n",
              "      <th>121</th>\n",
              "      <td>2818</td>\n",
              "      <td>156</td>\n",
              "      <td>0.832292</td>\n",
              "      <td>0.920833</td>\n",
              "      <td>145.0</td>\n",
              "      <td>19</td>\n",
              "      <td>24</td>\n",
              "      <td>95.9</td>\n",
              "      <td>3.59</td>\n",
              "      <td>12764.0</td>\n",
              "    </tr>\n",
              "    <tr>\n",
              "      <th>194</th>\n",
              "      <td>3045</td>\n",
              "      <td>130</td>\n",
              "      <td>0.907256</td>\n",
              "      <td>0.933333</td>\n",
              "      <td>162.0</td>\n",
              "      <td>17</td>\n",
              "      <td>22</td>\n",
              "      <td>104.3</td>\n",
              "      <td>3.62</td>\n",
              "      <td>18420.0</td>\n",
              "    </tr>\n",
              "    <tr>\n",
              "      <th>171</th>\n",
              "      <td>2414</td>\n",
              "      <td>122</td>\n",
              "      <td>0.843825</td>\n",
              "      <td>0.923611</td>\n",
              "      <td>92.0</td>\n",
              "      <td>27</td>\n",
              "      <td>32</td>\n",
              "      <td>102.4</td>\n",
              "      <td>3.31</td>\n",
              "      <td>9988.0</td>\n",
              "    </tr>\n",
              "  </tbody>\n",
              "</table>\n",
              "</div>\n",
              "      <button class=\"colab-df-convert\" onclick=\"convertToInteractive('df-eb0c503e-cce7-4d00-9ead-b7a81313783e')\"\n",
              "              title=\"Convert this dataframe to an interactive table.\"\n",
              "              style=\"display:none;\">\n",
              "        \n",
              "  <svg xmlns=\"http://www.w3.org/2000/svg\" height=\"24px\"viewBox=\"0 0 24 24\"\n",
              "       width=\"24px\">\n",
              "    <path d=\"M0 0h24v24H0V0z\" fill=\"none\"/>\n",
              "    <path d=\"M18.56 5.44l.94 2.06.94-2.06 2.06-.94-2.06-.94-.94-2.06-.94 2.06-2.06.94zm-11 1L8.5 8.5l.94-2.06 2.06-.94-2.06-.94L8.5 2.5l-.94 2.06-2.06.94zm10 10l.94 2.06.94-2.06 2.06-.94-2.06-.94-.94-2.06-.94 2.06-2.06.94z\"/><path d=\"M17.41 7.96l-1.37-1.37c-.4-.4-.92-.59-1.43-.59-.52 0-1.04.2-1.43.59L10.3 9.45l-7.72 7.72c-.78.78-.78 2.05 0 2.83L4 21.41c.39.39.9.59 1.41.59.51 0 1.02-.2 1.41-.59l7.78-7.78 2.81-2.81c.8-.78.8-2.07 0-2.86zM5.41 20L4 18.59l7.72-7.72 1.47 1.35L5.41 20z\"/>\n",
              "  </svg>\n",
              "      </button>\n",
              "      \n",
              "  <style>\n",
              "    .colab-df-container {\n",
              "      display:flex;\n",
              "      flex-wrap:wrap;\n",
              "      gap: 12px;\n",
              "    }\n",
              "\n",
              "    .colab-df-convert {\n",
              "      background-color: #E8F0FE;\n",
              "      border: none;\n",
              "      border-radius: 50%;\n",
              "      cursor: pointer;\n",
              "      display: none;\n",
              "      fill: #1967D2;\n",
              "      height: 32px;\n",
              "      padding: 0 0 0 0;\n",
              "      width: 32px;\n",
              "    }\n",
              "\n",
              "    .colab-df-convert:hover {\n",
              "      background-color: #E2EBFA;\n",
              "      box-shadow: 0px 1px 2px rgba(60, 64, 67, 0.3), 0px 1px 3px 1px rgba(60, 64, 67, 0.15);\n",
              "      fill: #174EA6;\n",
              "    }\n",
              "\n",
              "    [theme=dark] .colab-df-convert {\n",
              "      background-color: #3B4455;\n",
              "      fill: #D2E3FC;\n",
              "    }\n",
              "\n",
              "    [theme=dark] .colab-df-convert:hover {\n",
              "      background-color: #434B5C;\n",
              "      box-shadow: 0px 1px 3px 1px rgba(0, 0, 0, 0.15);\n",
              "      filter: drop-shadow(0px 1px 2px rgba(0, 0, 0, 0.3));\n",
              "      fill: #FFFFFF;\n",
              "    }\n",
              "  </style>\n",
              "\n",
              "      <script>\n",
              "        const buttonEl =\n",
              "          document.querySelector('#df-eb0c503e-cce7-4d00-9ead-b7a81313783e button.colab-df-convert');\n",
              "        buttonEl.style.display =\n",
              "          google.colab.kernel.accessAllowed ? 'block' : 'none';\n",
              "\n",
              "        async function convertToInteractive(key) {\n",
              "          const element = document.querySelector('#df-eb0c503e-cce7-4d00-9ead-b7a81313783e');\n",
              "          const dataTable =\n",
              "            await google.colab.kernel.invokeFunction('convertToInteractive',\n",
              "                                                     [key], {});\n",
              "          if (!dataTable) return;\n",
              "\n",
              "          const docLinkHtml = 'Like what you see? Visit the ' +\n",
              "            '<a target=\"_blank\" href=https://colab.research.google.com/notebooks/data_table.ipynb>data table notebook</a>'\n",
              "            + ' to learn more about interactive tables.';\n",
              "          element.innerHTML = '';\n",
              "          dataTable['output_type'] = 'display_data';\n",
              "          await google.colab.output.renderOutput(dataTable, element);\n",
              "          const docLink = document.createElement('div');\n",
              "          docLink.innerHTML = docLinkHtml;\n",
              "          element.appendChild(docLink);\n",
              "        }\n",
              "      </script>\n",
              "    </div>\n",
              "  </div>\n",
              "  "
            ]
          },
          "metadata": {},
          "execution_count": 5
        }
      ]
    },
    {
      "cell_type": "markdown",
      "source": [
        "Nhận xét: Dữ liệu có 201 samples và 10 feature "
      ],
      "metadata": {
        "id": "HYY0QWesxAb9"
      }
    },
    {
      "cell_type": "markdown",
      "source": [
        "# Câu 2. Kiểm tra kiểu dữ liệu của các feature ('curb-weight', 'engine-size', 'length', 'width', 'horsepower', 'city-mpg', 'highway-mpg', 'wheel-base', 'bore') trong dataset có bị khuyết giá trị nào không"
      ],
      "metadata": {
        "id": "YxXpZR-usHzt"
      }
    },
    {
      "cell_type": "code",
      "source": [
        "df.info()"
      ],
      "metadata": {
        "colab": {
          "base_uri": "https://localhost:8080/"
        },
        "id": "V-us0iDdsJoe",
        "outputId": "5defb89f-8ef5-4d7e-abd3-f44b3cb8f55b"
      },
      "execution_count": 6,
      "outputs": [
        {
          "output_type": "stream",
          "name": "stdout",
          "text": [
            "<class 'pandas.core.frame.DataFrame'>\n",
            "RangeIndex: 201 entries, 0 to 200\n",
            "Data columns (total 10 columns):\n",
            " #   Column       Non-Null Count  Dtype  \n",
            "---  ------       --------------  -----  \n",
            " 0   curb-weight  201 non-null    int64  \n",
            " 1   engine-size  201 non-null    int64  \n",
            " 2   length       201 non-null    float64\n",
            " 3   width        201 non-null    float64\n",
            " 4   horsepower   201 non-null    float64\n",
            " 5   city-mpg     201 non-null    int64  \n",
            " 6   highway-mpg  201 non-null    int64  \n",
            " 7   wheel-base   201 non-null    float64\n",
            " 8   bore         201 non-null    float64\n",
            " 9   price        201 non-null    float64\n",
            "dtypes: float64(6), int64(4)\n",
            "memory usage: 15.8 KB\n"
          ]
        }
      ]
    },
    {
      "cell_type": "markdown",
      "source": [
        "Nhận xét: Dữ liệu không bị khuyết giá trị "
      ],
      "metadata": {
        "id": "HgzG2HU5xaqY"
      }
    },
    {
      "cell_type": "markdown",
      "source": [
        "# Câu 3. Phát triển mô hình Polynomial Regression bậc 3 để dự đoán giá xe từ biến 'highway-mpg' (tên mô hình poly)"
      ],
      "metadata": {
        "id": "ZgsU0SXQsR-z"
      }
    },
    {
      "cell_type": "code",
      "source": [
        "from sklearn.preprocessing import PolynomialFeatures\n",
        "from sklearn.linear_model import LinearRegression\n",
        "\n",
        "poly_bt3 = PolynomialFeatures(degree=3)\n",
        "X_bt3 = df[['highway-mpg']]\n",
        "X_poly_bt3 = poly_bt3.fit_transform(X_bt3)\n",
        "y = df['price']\n",
        "\n",
        "model_bt3 = LinearRegression()\n",
        "model_bt3.fit(X_poly_bt3, y)\n",
        "\n",
        "print(\"intercept_ :  \" + str(model_bt3.intercept_))\n",
        "print(\"coef_      :  \" + str(model_bt3.coef_))"
      ],
      "metadata": {
        "colab": {
          "base_uri": "https://localhost:8080/"
        },
        "id": "cBXgRCU3sUue",
        "outputId": "02fbb355-e7d4-4230-bcd6-82f41ef27a77"
      },
      "execution_count": 9,
      "outputs": [
        {
          "output_type": "stream",
          "name": "stdout",
          "text": [
            "intercept_ :  137923.5937576546\n",
            "coef_      :  [ 0.00000000e+00 -8.96543312e+03  2.04754306e+02 -1.55663829e+00]\n"
          ]
        }
      ]
    },
    {
      "cell_type": "markdown",
      "source": [
        "# Câu 4. Tính MSE và R^2 để đánh giá tập mẫu của mô hình poly bằng phương pháp thủ công. Có thể phát họa distribution plot để đánh giá mô hình được không?"
      ],
      "metadata": {
        "id": "I0JzuSjwsVTq"
      }
    },
    {
      "cell_type": "code",
      "source": [
        "from sklearn.metrics import r2_score, mean_squared_error\n",
        "y_pred = model_bt3.predict(X_poly_bt3)"
      ],
      "metadata": {
        "id": "AtieBVAesYXK"
      },
      "execution_count": 10,
      "outputs": []
    },
    {
      "cell_type": "code",
      "source": [
        "def sse(y, y_pred):\n",
        "  SSE = 0\n",
        "  n = len(y)\n",
        "  for i in range(n):\n",
        "    difference = y[i] - y_pred[i]\n",
        "    squared_difference = difference**2\n",
        "    SSE += squared_difference\n",
        "\n",
        "  return SSE"
      ],
      "metadata": {
        "id": "VrO3Z7rAydH8"
      },
      "execution_count": 11,
      "outputs": []
    },
    {
      "cell_type": "code",
      "source": [
        "# Hàm tính MSE\n",
        "def mse(y, y_pred):\n",
        "  n = len(y) \n",
        "  MSE = sse(y, y_pred)/n  \n",
        "  return MSE"
      ],
      "metadata": {
        "id": "sNZkCYdRyezD"
      },
      "execution_count": 12,
      "outputs": []
    },
    {
      "cell_type": "code",
      "source": [
        "print(\"MSE: \" , mse(y, y_pred))"
      ],
      "metadata": {
        "colab": {
          "base_uri": "https://localhost:8080/"
        },
        "id": "JHLuJbmAyiIt",
        "outputId": "2ecfce00-a677-4ae8-9e2b-351f31bc5d76"
      },
      "execution_count": 13,
      "outputs": [
        {
          "output_type": "stream",
          "name": "stdout",
          "text": [
            "MSE:  20474146.426361192\n"
          ]
        }
      ]
    },
    {
      "cell_type": "code",
      "source": [
        "# Hàm tính R^2\n",
        "def r2(y, y_mean, y_pred):\n",
        "  SSE_model = sse(y, y_pred)\n",
        "  SSE_baseline = sse(y, y_mean)\n",
        "  R2 = 1 - SSE_model/SSE_baseline\n",
        "  return R2"
      ],
      "metadata": {
        "id": "Jk6rcWmeymDC"
      },
      "execution_count": 14,
      "outputs": []
    },
    {
      "cell_type": "code",
      "source": [
        "y_mean = [y.mean()]*len(y)\n",
        "print(\"R^2: \" , r2(y, y_mean, y_pred))"
      ],
      "metadata": {
        "colab": {
          "base_uri": "https://localhost:8080/"
        },
        "id": "trKZEVhTyr6z",
        "outputId": "a09b0a6a-04a1-4cef-9a42-e4ab20011931"
      },
      "execution_count": 15,
      "outputs": [
        {
          "output_type": "stream",
          "name": "stdout",
          "text": [
            "R^2:  0.674194666390652\n"
          ]
        }
      ]
    },
    {
      "cell_type": "markdown",
      "source": [
        "Nhận xét: Có thể phát họa distribution plot để đánh giá mô hình"
      ],
      "metadata": {
        "id": "R2oQvDThz8g0"
      }
    },
    {
      "cell_type": "code",
      "source": [
        "# Phát họa distributon \n",
        "import matplotlib.pyplot as plt\n",
        "import seaborn as sns\n",
        "\n",
        "plt.figure(figsize=(10,5))\n",
        "sns.distplot(y, hist=False, label='Actual price')\n",
        "sns.distplot(y_pred, hist=False, label='Predicted price')\n",
        "plt.ticklabel_format(style='plain')\n",
        "plt.tight_layout()\n",
        "plt.legend()\n",
        "plt.show()"
      ],
      "metadata": {
        "colab": {
          "base_uri": "https://localhost:8080/",
          "height": 462
        },
        "id": "zdRatJ5Dy3MD",
        "outputId": "89db9ed1-cff2-4788-e06b-76fe73d2c6af"
      },
      "execution_count": 22,
      "outputs": [
        {
          "output_type": "stream",
          "name": "stderr",
          "text": [
            "/usr/local/lib/python3.7/dist-packages/seaborn/distributions.py:2619: FutureWarning: `distplot` is a deprecated function and will be removed in a future version. Please adapt your code to use either `displot` (a figure-level function with similar flexibility) or `kdeplot` (an axes-level function for kernel density plots).\n",
            "  warnings.warn(msg, FutureWarning)\n",
            "/usr/local/lib/python3.7/dist-packages/seaborn/distributions.py:2619: FutureWarning: `distplot` is a deprecated function and will be removed in a future version. Please adapt your code to use either `displot` (a figure-level function with similar flexibility) or `kdeplot` (an axes-level function for kernel density plots).\n",
            "  warnings.warn(msg, FutureWarning)\n"
          ]
        },
        {
          "output_type": "display_data",
          "data": {
            "text/plain": [
              "<Figure size 720x360 with 1 Axes>"
            ],
            "image/png": "[encoded data removed]"
          },
          "metadata": {
            "needs_background": "light"
          }
        }
      ]
    },
    {
      "cell_type": "markdown",
      "source": [
        "# Câu 5. Phát triển mô hình hồi quy tuyến tính đa biến để dự đoán giá xe từ biến 'horsepower', 'curb-weight', 'engine-size', 'highway-mpg'.\n"
      ],
      "metadata": {
        "id": "Qv7uzn1Jsaa2"
      }
    },
    {
      "cell_type": "code",
      "source": [
        "X_bt5 = df[['horsepower', 'curb-weight', 'engine-size', 'highway-mpg']]\n",
        "y = df['price']\n",
        "model_cau5 = LinearRegression()\n",
        "model_cau5.fit(X_bt5, y)\n",
        "\n",
        "y_pred = model_cau5.predict(X_bt5)"
      ],
      "metadata": {
        "id": "J3hELhF-sbTc"
      },
      "execution_count": 19,
      "outputs": []
    },
    {
      "cell_type": "markdown",
      "source": [
        "# Câu 6. Tính MSE và R^2 để đánh giá tập mẫu của mô hình trên bằng phương pháp thủ công và gọi hàm. Có thể phát họa distribution plot để đánh giá mô hình được không"
      ],
      "metadata": {
        "id": "KpRAQoiBscD4"
      }
    },
    {
      "cell_type": "code",
      "source": [
        "# MSE \n",
        "print(\"MSE tính bằng phương pháp thủ công: \", mse(y, y_pred))\n",
        "print(\"MSE tính bằng phương gọi hàm: \", mean_squared_error(y, y_pred))"
      ],
      "metadata": {
        "colab": {
          "base_uri": "https://localhost:8080/"
        },
        "id": "OXML4e3fse6p",
        "outputId": "020cbb2e-1b6e-4269-dd43-11d387e13473"
      },
      "execution_count": 20,
      "outputs": [
        {
          "output_type": "stream",
          "name": "stdout",
          "text": [
            "MSE tính bằng phương pháp thủ công là:  11980366.870726483\n",
            "MSE tính bằng phương gọi hàm là:  11980366.87072649\n"
          ]
        }
      ]
    },
    {
      "cell_type": "code",
      "source": [
        "# R2\n",
        "y_mean = [y.mean()]*len(y)\n",
        "print(\"R2 tính bằng phương pháp thủ công: \", r2(y, y_mean, y_pred))\n",
        "print(\"R2 tính bằng phương gọi hàm: \", r2_score(y, y_pred))"
      ],
      "metadata": {
        "colab": {
          "base_uri": "https://localhost:8080/"
        },
        "id": "271-5YvTztjx",
        "outputId": "a71a0c05-302b-442b-89f0-36958fa12c38"
      },
      "execution_count": 21,
      "outputs": [
        {
          "output_type": "stream",
          "name": "stdout",
          "text": [
            "R2 tính bằng phương pháp thủ công:  0.8093562806577457\n",
            "R2 tính bằng phương gọi hàm:  0.8093562806577457\n"
          ]
        }
      ]
    },
    {
      "cell_type": "markdown",
      "source": [
        "Nhận xét: Có thể phát họa distribution plot để đánh giá mô hình"
      ],
      "metadata": {
        "id": "DEiPKsZ-z6Ii"
      }
    },
    {
      "cell_type": "code",
      "source": [
        "plt.figure(figsize=(10,5))\n",
        "sns.distplot(y, hist=False, label='Actual price')\n",
        "sns.distplot(y_pred, hist=False, label='Predicted price')\n",
        "plt.ticklabel_format(style='plain')\n",
        "plt.tight_layout()\n",
        "plt.legend()\n",
        "plt.show()"
      ],
      "metadata": {
        "colab": {
          "base_uri": "https://localhost:8080/",
          "height": 462
        },
        "id": "AriIgN6F0EzK",
        "outputId": "f02d6039-8494-4929-a12a-c20600e4a567"
      },
      "execution_count": 23,
      "outputs": [
        {
          "output_type": "stream",
          "name": "stderr",
          "text": [
            "/usr/local/lib/python3.7/dist-packages/seaborn/distributions.py:2619: FutureWarning: `distplot` is a deprecated function and will be removed in a future version. Please adapt your code to use either `displot` (a figure-level function with similar flexibility) or `kdeplot` (an axes-level function for kernel density plots).\n",
            "  warnings.warn(msg, FutureWarning)\n",
            "/usr/local/lib/python3.7/dist-packages/seaborn/distributions.py:2619: FutureWarning: `distplot` is a deprecated function and will be removed in a future version. Please adapt your code to use either `displot` (a figure-level function with similar flexibility) or `kdeplot` (an axes-level function for kernel density plots).\n",
            "  warnings.warn(msg, FutureWarning)\n"
          ]
        },
        {
          "output_type": "display_data",
          "data": {
            "text/plain": [
              "<Figure size 720x360 with 1 Axes>"
            ],
            "image/png": "[encoded data removed]"
          },
          "metadata": {
            "needs_background": "light"
          }
        }
      ]
    },
    {
      "cell_type": "markdown",
      "source": [
        "# Câu 7. Phát triển mô hình Polynomial Regression bậc 2 để dự đoán giá xe từ biến 'horsepower', 'curb-weight', 'engine-size', 'highway-mpg'.\n"
      ],
      "metadata": {
        "id": "4_MswvJhsh1e"
      }
    },
    {
      "cell_type": "code",
      "source": [
        "poly_bt7 = PolynomialFeatures(degree=2)\n",
        "X_bt7 = df[['horsepower', 'curb-weight', 'engine-size', 'highway-mpg']]\n",
        "X_poly_bt7 = poly_bt7.fit_transform(X_bt7)\n",
        "y = df['price']\n",
        "\n",
        "model_bt7 = LinearRegression()\n",
        "model_bt7.fit(X_poly_bt7, y)\n",
        "\n",
        "print(\"intercept_ :  \" + str(model_bt7.intercept_))\n",
        "print(\"coef_      :  \" + str(model_bt7.coef_))\n",
        "\n",
        "y_pred = model_bt7.predict(X_poly_bt7)"
      ],
      "metadata": {
        "colab": {
          "base_uri": "https://localhost:8080/"
        },
        "id": "Se63fIFysi41",
        "outputId": "fddf23f4-920d-4f77-e8c0-a8a35803c702"
      },
      "execution_count": 25,
      "outputs": [
        {
          "output_type": "stream",
          "name": "stdout",
          "text": [
            "intercept_ :  -21262.84827700755\n",
            "coef_      :  [ 0.00000000e+00  3.79990747e+02  9.53081616e+00 -1.06265103e+02\n",
            "  1.82168928e+02  1.69423474e+00 -1.86864385e-01 -1.29043091e+00\n",
            " -2.14860065e+00  7.57100954e-04  1.11910005e-01 -1.92007463e-01\n",
            "  8.95252693e-02  4.23869258e-02  4.66019878e+00]\n"
          ]
        }
      ]
    },
    {
      "cell_type": "markdown",
      "source": [
        "# Câu 8. Tính MSE và R^2 để đánh giá tập mẫu của mô hình trên bằng phương pháp thủ công và gọi hàm. Có thể phát họa distribution plot để đánh giá mô hình được không?\n"
      ],
      "metadata": {
        "id": "efvqI-xTslCM"
      }
    },
    {
      "cell_type": "code",
      "source": [
        "# MSE \n",
        "print(\"MSE tính bằng phương pháp thủ công: \", mse(y, y_pred))\n",
        "print(\"MSE tính bằng phương gọi hàm: \", mean_squared_error(y, y_pred))"
      ],
      "metadata": {
        "colab": {
          "base_uri": "https://localhost:8080/"
        },
        "id": "iEabQdfj0kYO",
        "outputId": "0e31854e-e1d9-4b22-b363-3d81d74d4178"
      },
      "execution_count": 26,
      "outputs": [
        {
          "output_type": "stream",
          "name": "stdout",
          "text": [
            "MSE tính bằng phương pháp thủ công:  9656613.403989585\n",
            "MSE tính bằng phương gọi hàm:  9656613.40398959\n"
          ]
        }
      ]
    },
    {
      "cell_type": "code",
      "source": [
        "# R2\n",
        "y_mean = [y.mean()]*len(y)\n",
        "print(\"R2 tính bằng phương pháp thủ công: \", r2(y, y_mean, y_pred))\n",
        "print(\"R2 tính bằng phương gọi hàm: \", r2_score(y, y_pred))"
      ],
      "metadata": {
        "colab": {
          "base_uri": "https://localhost:8080/"
        },
        "id": "mlJwNPoW0mrh",
        "outputId": "dcd2d1c9-c241-447e-b34d-c5f3ea789868"
      },
      "execution_count": 27,
      "outputs": [
        {
          "output_type": "stream",
          "name": "stdout",
          "text": [
            "R2 tính bằng phương pháp thủ công:  0.8463341969864729\n",
            "R2 tính bằng phương gọi hàm:  0.8463341969864729\n"
          ]
        }
      ]
    },
    {
      "cell_type": "markdown",
      "source": [
        "Nhận xét: Có thể phát họa distribution plot để đánh giá mô hình"
      ],
      "metadata": {
        "id": "LlxwQGci0w1Z"
      }
    },
    {
      "cell_type": "code",
      "source": [
        "plt.figure(figsize=(10,5))\n",
        "sns.distplot(y, hist=False, label='Actual price')\n",
        "sns.distplot(y_pred, hist=False, label='Predicted price')\n",
        "plt.ticklabel_format(style='plain')\n",
        "plt.tight_layout()\n",
        "plt.legend()\n",
        "plt.show()"
      ],
      "metadata": {
        "colab": {
          "base_uri": "https://localhost:8080/",
          "height": 462
        },
        "id": "CLh7Xmd3smw2",
        "outputId": "345b938d-9f34-491c-e826-faba385bb46f"
      },
      "execution_count": 28,
      "outputs": [
        {
          "output_type": "stream",
          "name": "stderr",
          "text": [
            "/usr/local/lib/python3.7/dist-packages/seaborn/distributions.py:2619: FutureWarning: `distplot` is a deprecated function and will be removed in a future version. Please adapt your code to use either `displot` (a figure-level function with similar flexibility) or `kdeplot` (an axes-level function for kernel density plots).\n",
            "  warnings.warn(msg, FutureWarning)\n",
            "/usr/local/lib/python3.7/dist-packages/seaborn/distributions.py:2619: FutureWarning: `distplot` is a deprecated function and will be removed in a future version. Please adapt your code to use either `displot` (a figure-level function with similar flexibility) or `kdeplot` (an axes-level function for kernel density plots).\n",
            "  warnings.warn(msg, FutureWarning)\n"
          ]
        },
        {
          "output_type": "display_data",
          "data": {
            "text/plain": [
              "<Figure size 720x360 with 1 Axes>"
            ],
            "image/png": "[encoded data removed]"
          },
          "metadata": {
            "needs_background": "light"
          }
        }
      ]
    },
    {
      "cell_type": "markdown",
      "source": [
        "# Câu 9. Thiết kế một pipeline để phát triển mô hình mô hình Polynomial Regression bậc 2 để dự đoán giá xe từ biến 'horsepower', 'curb-weight', 'engine-size', 'highway-mpg'. Trong pipeline thực hiện các công việc sau: Normalize, Transform => feature, LinearRegression để Fit tìm mô hình. Xuất mô hình vừa tìm được"
      ],
      "metadata": {
        "id": "hZruLF8isonl"
      }
    },
    {
      "cell_type": "code",
      "source": [
        "from sklearn.preprocessing import PolynomialFeatures, StandardScaler\n",
        "from sklearn.linear_model import LinearRegression\n",
        "from sklearn.pipeline import Pipeline"
      ],
      "metadata": {
        "id": "VsZDQAkFsrfx"
      },
      "execution_count": 30,
      "outputs": []
    },
    {
      "cell_type": "code",
      "source": [
        "X_bt9 = df[['horsepower', 'curb-weight', 'engine-size', 'highway-mpg']]\n",
        "y = df['price']"
      ],
      "metadata": {
        "id": "i96U9-r51DlM"
      },
      "execution_count": 31,
      "outputs": []
    },
    {
      "cell_type": "code",
      "source": [
        "pipeline_bt9 = Pipeline([('scaler', StandardScaler()),\n",
        "                 ('transform', PolynomialFeatures(degree=2)),\n",
        "                 ('model', LinearRegression())])"
      ],
      "metadata": {
        "id": "3oahtXx71Dhp"
      },
      "execution_count": 32,
      "outputs": []
    },
    {
      "cell_type": "code",
      "source": [
        "pipeline_bt9.fit(X_bt9, y)\n",
        "y_pred = pipeline_bt9.predict(X_bt9)"
      ],
      "metadata": {
        "id": "iqKq_Tq31DdC"
      },
      "execution_count": 33,
      "outputs": []
    },
    {
      "cell_type": "code",
      "source": [
        "print('MSE: ', mean_squared_error(y_pred, y))\n",
        "print('R2: ', r2_score(y_pred, y))"
      ],
      "metadata": {
        "colab": {
          "base_uri": "https://localhost:8080/"
        },
        "id": "G1iiDoLu5GuD",
        "outputId": "4271a0bf-3d5d-47a7-d1fe-c09519353d85"
      },
      "execution_count": 36,
      "outputs": [
        {
          "output_type": "stream",
          "name": "stdout",
          "text": [
            "MSE:  9656613.403989598\n",
            "R2:  0.8184336594684674\n"
          ]
        }
      ]
    },
    {
      "cell_type": "markdown",
      "source": [
        "# Câu 10. Tìm khoảng giá trị chặn của các mô hình.\n"
      ],
      "metadata": {
        "id": "-Q4atx_lstow"
      }
    },
    {
      "cell_type": "code",
      "source": [
        "print('Khoảng chặn dưới: price =', df['price'].min())\n",
        "print('Khoảng chặn trên: highway-mpg =', df['highway-mpg'].min())"
      ],
      "metadata": {
        "colab": {
          "base_uri": "https://localhost:8080/"
        },
        "id": "pT1R0az4suTs",
        "outputId": "d2ee0d1a-45b4-44cd-891b-06a419cbb47a"
      },
      "execution_count": 35,
      "outputs": [
        {
          "output_type": "stream",
          "name": "stdout",
          "text": [
            "Khoảng chặn dưới: price = 5118.0\n",
            "Khoảng chặn trên: highway-mpg = 16\n"
          ]
        }
      ]
    },
    {
      "cell_type": "markdown",
      "source": [
        "# Câu 11. Xếp hạng các mô hình đã phát triển các câu trên"
      ],
      "metadata": {
        "id": "cjRD2-_NswN8"
      }
    },
    {
      "cell_type": "markdown",
      "source": [
        "Kết quả MSE và R2 của các model từ các câu trên là: \n",
        "\n",
        "Bài tập 3 \n",
        "\n",
        "MSE:  20474146.426361192 \n",
        "R2:   0.674194666390652\n",
        "\n",
        "Bài tập 5 \n",
        "\n",
        "MSE:  11980366.870726483\n",
        "R2:   0.8093562806577457\n",
        "\n",
        "Bài tập 7\n",
        "\n",
        "MSE:  9656613.403989585\n",
        "R2:   0.8463341969864729\n",
        "\n",
        "Bài tập 9\n",
        "\n",
        "MSE:  9656613.403989598\n",
        "R2:   0.8184336594684674\n",
        "\n",
        "Nhận xét: Dựa vào các chỉ số MSE và R2 để đánh giá các mô hình trên, xếp hạng thứ tự mô hình trên từ kém nhất đến tốt nhất là:\n",
        "\n",
        "Model Bài 3 (kém nhất) -> Model Bài 5 -> Model bài 9 -> Model bài 7 (Tốt nhất)"
      ],
      "metadata": {
        "id": "rBd_hPvv5DYk"
      }
    },
    {
      "cell_type": "markdown",
      "source": [
        "# Câu 12. *Anh/chị có thể phát triển một mô hình nào khác tốt hơn các mô hình đã phát triển bên trên. Nếu có thì chứng minh mô hình của bạn là tốt hơn?"
      ],
      "metadata": {
        "id": "lfsb2UBmsyLn"
      }
    },
    {
      "cell_type": "code",
      "source": [
        "from sklearn.ensemble import RandomForestRegressor\n",
        "random_forest_bt3 = RandomForestRegressor() \n",
        "random_forest_bt3.fit(X_poly_bt3, y)\n",
        "\n",
        "y_pred_bt3 = random_forest_bt3.predict(X_poly_bt3)\n",
        "print(\"MSE BT3-random forest: \", mean_squared_error(y, y_pred_bt3))\n",
        "print(\"R2 BT3-random forest: \", r2_score(y, y_pred_bt3))\n",
        "print(\"\")\n",
        "\n",
        "\n",
        "random_forest_bt5 = RandomForestRegressor() \n",
        "random_forest_bt5.fit(X_bt5, y)\n",
        "\n",
        "y_pred_bt5 = random_forest_bt5.predict(X_bt5)\n",
        "print(\"MSE BT5-random forest: \", mean_squared_error(y, y_pred_bt5))\n",
        "print(\"R2 BT5-random forest: \", r2_score(y, y_pred_bt5))\n",
        "print(\"\")\n",
        "\n",
        "\n",
        "random_forest_bt7 = RandomForestRegressor() \n",
        "random_forest_bt7.fit(X_poly_bt7, y)\n",
        "\n",
        "y_pred_bt7 = random_forest_bt7.predict(X_poly_bt7)\n",
        "print(\"MSE BT7-random forest: \", mean_squared_error(y, y_pred_bt7))\n",
        "print(\"R2 BT7-random forest: \", r2_score(y, y_pred_bt7))\n",
        "print(\"\")\n",
        "\n",
        "\n",
        "random_forest_bt9 = RandomForestRegressor() \n",
        "random_forest_bt9.fit(X_bt9, y)\n",
        "\n",
        "y_pred_bt9 = random_forest_bt9.predict(X_bt9)\n",
        "print(\"MSE BT9-random forest: \", mean_squared_error(y, y_pred_bt9))\n",
        "print(\"R2 BT9-random forest: \", r2_score(y, y_pred_bt9))"
      ],
      "metadata": {
        "colab": {
          "base_uri": "https://localhost:8080/"
        },
        "id": "GNMh5KwYszPi",
        "outputId": "db9f5681-8f0d-40d5-81a6-11ad27fd52fb"
      },
      "execution_count": 43,
      "outputs": [
        {
          "output_type": "stream",
          "name": "stdout",
          "text": [
            "MSE BT3-random forest:  13536868.426819995\n",
            "R2 BT3-random forest:  0.7845876530341012\n",
            "\n",
            "MSE BT5-random forest:  689066.9974172814\n",
            "R2 BT5-random forest:  0.9890348687414058\n",
            "\n",
            "MSE BT7-random forest:  677352.4253141175\n",
            "R2 BT7-random forest:  0.9892212828654763\n",
            "\n",
            "MSE BT9-random forest:  681165.7570181196\n",
            "R2 BT9-random forest:  0.9891606012730859\n"
          ]
        }
      ]
    },
    {
      "cell_type": "markdown",
      "source": [
        "Nhận xét: Cùng với dữ liệu đầu vào như các model sử dụng ở các model từ bài 3, 5, 7, 9 thì khi áp dụng Model random forest đều cho ra kết quả MSE và R2 tương ứng tốt hơn hẳn so với model cũ"
      ],
      "metadata": {
        "id": "LrBQotol7z0f"
      }
    },
    {
      "cell_type": "markdown",
      "source": [
        "# Câu 13. Viết hàm trả về kết quả dự đoán từ một hoặc nhiều feature thuộc 'curb-weight', 'engine-size', 'length', 'width', 'horsepower', 'city-mpg', 'highway-mpg', 'wheel\u0002base', 'bore'.\n"
      ],
      "metadata": {
        "id": "20wxforHs1el"
      }
    },
    {
      "cell_type": "code",
      "source": [],
      "metadata": {
        "id": "kPkYUX39s2Pl"
      },
      "execution_count": null,
      "outputs": []
    }
  ]
}