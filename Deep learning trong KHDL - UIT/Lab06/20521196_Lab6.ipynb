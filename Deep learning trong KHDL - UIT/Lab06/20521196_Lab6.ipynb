{
  "nbformat": 4,
  "nbformat_minor": 0,
  "metadata": {
    "colab": {
      "provenance": []
    },
    "kernelspec": {
      "name": "python3",
      "display_name": "Python 3"
    },
    "language_info": {
      "name": "python"
    },
    "accelerator": "GPU",
    "gpuClass": "standard"
  },
  "cells": [
    {
      "cell_type": "markdown",
      "source": [
        "# Lab 6. ỨNG DỤNG MẠNG NEURAL HỒI QUY \n",
        "\n",
        "MSSV: 20521196\n",
        "\n",
        "Họ tên: Nguyễn Mạnh Đức\n",
        "\n",
        "Lớp: DS201.N11.1\n"
      ],
      "metadata": {
        "id": "DBaI2coGi9JO"
      }
    },
    {
      "cell_type": "code",
      "source": [
        "from google.colab import drive\n",
        "drive.mount('/content/drive')"
      ],
      "metadata": {
        "colab": {
          "base_uri": "https://localhost:8080/"
        },
        "id": "qW61uv6_GB4C",
        "outputId": "a21ca7fc-e7bf-44eb-d161-7028a304b935"
      },
      "execution_count": 2,
      "outputs": [
        {
          "output_type": "stream",
          "name": "stdout",
          "text": [
            "Mounted at /content/drive\n"
          ]
        }
      ]
    },
    {
      "cell_type": "code",
      "source": [
        "import numpy as np \n",
        "import pandas as pd "
      ],
      "metadata": {
        "id": "l_VjP8ccGCVf"
      },
      "execution_count": 3,
      "outputs": []
    },
    {
      "cell_type": "markdown",
      "source": [
        "# 1. BÀI TOÁN PHÂN TÍCH CẢM XÚC (SENTIMENT ANALYSIS)"
      ],
      "metadata": {
        "id": "l2HBn87Ei1NQ"
      }
    },
    {
      "cell_type": "code",
      "source": [
        "X_train = pd.read_csv('/content/drive/MyDrive/Data Scientist/DS201.N11-Deep learning/_UIT-VSFC/train/sents.txt',sep='\\n', header=None, index_col=None)\n",
        "y_train = pd.read_csv('/content/drive/MyDrive/Data Scientist/DS201.N11-Deep learning/_UIT-VSFC/train/sentiments.txt',sep='\\n', header=None, index_col=None)\n",
        "X_dev = pd.read_csv('/content/drive/MyDrive/Data Scientist/DS201.N11-Deep learning/_UIT-VSFC/dev/sents.txt',sep='\\n', header=None, index_col=None)\n",
        "y_dev = pd.read_csv('/content/drive/MyDrive/Data Scientist/DS201.N11-Deep learning/_UIT-VSFC/dev/sentiments.txt',sep='\\n', header=None, index_col=None)\n",
        "X_test = pd.read_csv('/content/drive/MyDrive/Data Scientist/DS201.N11-Deep learning/_UIT-VSFC/test/sents.txt',sep='\\n', header=None, index_col=None)\n",
        "y_test = pd.read_csv('/content/drive/MyDrive/Data Scientist/DS201.N11-Deep learning/_UIT-VSFC/test/sentiments.txt',sep='\\n', header=None, index_col=None)\n",
        "y_train = y_train.values.flatten()\n",
        "y_dev = y_dev.values.flatten()\n",
        "y_test = y_test.values.flatten()"
      ],
      "metadata": {
        "id": "yhQ8l9TDGIjv"
      },
      "execution_count": 4,
      "outputs": []
    },
    {
      "cell_type": "code",
      "source": [
        "sl_2_train = sum(y_train[y_train == 2])/2\n",
        "sl_1_train = sum(y_train[y_train == 1])\n",
        "sl_0_train = len(y_train) - sl_2_train - sl_1_train \n",
        "\n",
        "sl_2_test = sum(y_test[y_test == 2])/2\n",
        "sl_1_test = sum(y_test[y_test == 1])\n",
        "sl_0_test = len(y_test) - sl_2_test - sl_1_test\n",
        "\n",
        "sl_2_dev = sum(y_dev[y_dev == 2])/2\n",
        "sl_1_dev = sum(y_dev[y_dev == 1])\n",
        "sl_0_dev = len(y_dev) - sl_2_dev - sl_1_dev "
      ],
      "metadata": {
        "id": "Nkk2omQ4H_FL"
      },
      "execution_count": 5,
      "outputs": []
    },
    {
      "cell_type": "code",
      "source": [
        "import matplotlib.pyplot as plt\n",
        "labels = ['0', '1', '2'] "
      ],
      "metadata": {
        "id": "L6SIZJgaIyOf"
      },
      "execution_count": 6,
      "outputs": []
    },
    {
      "cell_type": "code",
      "source": [
        "sl_train = [sl_0_train, sl_1_train, sl_2_train] \n",
        "\n",
        "plt.bar(labels, sl_train)\n",
        "plt.ylabel('So luong')\n",
        "plt.xlabel('Labels')\n",
        "plt.title(\"Tap train\")\n",
        "plt.show()"
      ],
      "metadata": {
        "colab": {
          "base_uri": "https://localhost:8080/",
          "height": 295
        },
        "id": "Jrn5j1BKIC3a",
        "outputId": "136fecbc-229d-4d98-e53f-acf804a3b8a6"
      },
      "execution_count": 7,
      "outputs": [
        {
          "output_type": "display_data",
          "data": {
            "text/plain": [
              "<Figure size 432x288 with 1 Axes>"
            ],
            "image/png": "[encoded data removed]"
          },
          "metadata": {
            "needs_background": "light"
          }
        }
      ]
    },
    {
      "cell_type": "code",
      "source": [
        "sl_test = [sl_0_test, sl_1_test, sl_2_test] \n",
        "\n",
        "plt.bar(labels, sl_test)\n",
        "plt.ylabel('So luong')\n",
        "plt.xlabel('Labels')\n",
        "plt.title(\"Tap test\")\n",
        "plt.show()"
      ],
      "metadata": {
        "colab": {
          "base_uri": "https://localhost:8080/",
          "height": 295
        },
        "id": "Nh6FN3xDI1QD",
        "outputId": "3b355572-f800-4e88-be2f-dd3c2a25f930"
      },
      "execution_count": 8,
      "outputs": [
        {
          "output_type": "display_data",
          "data": {
            "text/plain": [
              "<Figure size 432x288 with 1 Axes>"
            ],
            "image/png": "[encoded data removed]"
          },
          "metadata": {
            "needs_background": "light"
          }
        }
      ]
    },
    {
      "cell_type": "code",
      "source": [
        "sl_dev = [sl_0_dev, sl_1_dev, sl_2_dev] \n",
        "\n",
        "plt.bar(labels, sl_dev)\n",
        "plt.title(\"Tap dev\")\n",
        "plt.ylabel('So luong')\n",
        "plt.xlabel('Labels')\n",
        "plt.show()"
      ],
      "metadata": {
        "colab": {
          "base_uri": "https://localhost:8080/",
          "height": 295
        },
        "id": "Afm2tJr3JGW6",
        "outputId": "ce016b81-40f3-4367-c192-ae5dc31b442e"
      },
      "execution_count": 9,
      "outputs": [
        {
          "output_type": "display_data",
          "data": {
            "text/plain": [
              "<Figure size 432x288 with 1 Axes>"
            ],
            "image/png": "[encoded data removed]"
          },
          "metadata": {
            "needs_background": "light"
          }
        }
      ]
    },
    {
      "cell_type": "code",
      "source": [
        "EMBEDDING = '/content/drive/MyDrive/Data Scientist/DS201.N11-Deep learning/word2vec_vi_words_100dims.txt'\n",
        "EMBEDING_DIM = 100\n",
        "MAX_FEATURE = 10000\n",
        "word_dict = []\n",
        "embeddings_index = {}\n",
        "embedding_dim = EMBEDING_DIM\n",
        "max_feature = MAX_FEATURE\n",
        "f = open(EMBEDDING)\n",
        "for line in f:\n",
        "  values = line.split(' ')\n",
        "  word = values[0]\n",
        "  word_dict.append(word)\n",
        "  try:\n",
        "    coefs = np.asarray(values[1:], dtype='float32')\n",
        "    embeddings_index[word] = coefs\n",
        "  except Exception as e:\n",
        "    pass\n",
        "f.close()\n",
        "print('Embedding data loaded')"
      ],
      "metadata": {
        "colab": {
          "base_uri": "https://localhost:8080/"
        },
        "id": "Q5JkmKVdOHsP",
        "outputId": "aeaaa4ff-6563-4eaf-95f8-69f8ca2cccae"
      },
      "execution_count": 10,
      "outputs": [
        {
          "output_type": "stream",
          "name": "stdout",
          "text": [
            "Embedding data loaded\n"
          ]
        }
      ]
    },
    {
      "cell_type": "code",
      "source": [
        "words = word_dict\n",
        "num_words = len(words)\n",
        "num_words"
      ],
      "metadata": {
        "colab": {
          "base_uri": "https://localhost:8080/"
        },
        "id": "gdPaUGGdPagy",
        "outputId": "b7a86007-5bc3-4000-e0b5-fac48d0ce346"
      },
      "execution_count": 11,
      "outputs": [
        {
          "output_type": "execute_result",
          "data": {
            "text/plain": [
              "1587508"
            ]
          },
          "metadata": {},
          "execution_count": 11
        }
      ]
    },
    {
      "cell_type": "code",
      "source": [
        "word_to_index = {w : i + 2 for i, w in enumerate(words)}\n",
        "word_to_index[\"UNK\"] = 1\n",
        "word_to_index[\"PAD\"] = 0\n",
        "\n",
        "# Dictionary label:index pair\n",
        "idx2word = {i: w for w, i in word_to_index.items()}"
      ],
      "metadata": {
        "id": "Szhejyt0PuMo"
      },
      "execution_count": 12,
      "outputs": []
    },
    {
      "cell_type": "code",
      "source": [
        "idx2word"
      ],
      "metadata": {
        "colab": {
          "base_uri": "https://localhost:8080/"
        },
        "id": "MJuLXngpQfPu",
        "outputId": "e92b8bbb-c7b1-4450-b175-6bbddd35a8a1"
      },
      "execution_count": 13,
      "outputs": [
        {
          "output_type": "execute_result",
          "data": {
            "text/plain": [
              "{2: '1587507',\n",
              " 3: ',',\n",
              " 4: '.',\n",
              " 5: 'và',\n",
              " 6: 'của',\n",
              " 7: 'là',\n",
              " 8: 'các',\n",
              " 9: 'có',\n",
              " 10: 'được',\n",
              " 11: 'trong',\n",
              " 12: 'cho',\n",
              " 13: 'đã',\n",
              " 14: 'với',\n",
              " 15: 'một',\n",
              " 16: 'không',\n",
              " 17: 'người',\n",
              " 18: ')',\n",
              " 19: '(',\n",
              " 20: 'những',\n",
              " 21: '\"',\n",
              " 22: 'này',\n",
              " 23: 'để',\n",
              " 24: 'ở',\n",
              " 25: 'khi',\n",
              " 26: ':',\n",
              " 27: 'về',\n",
              " 28: 'năm',\n",
              " 29: 'đến',\n",
              " 30: '-',\n",
              " 31: 'cũng',\n",
              " 32: 'vào',\n",
              " 33: 'trên',\n",
              " 34: 'tại',\n",
              " 35: 'nhiều',\n",
              " 36: 'đó',\n",
              " 37: 'sẽ',\n",
              " 38: 'từ',\n",
              " 39: 'ra',\n",
              " 40: 'phải',\n",
              " 41: 'như',\n",
              " 42: 'ngày',\n",
              " 43: 'lại',\n",
              " 44: 'bị',\n",
              " 45: 'ông',\n",
              " 46: 'làm',\n",
              " 47: 'hơn',\n",
              " 48: 'việc',\n",
              " 49: 'còn',\n",
              " 50: 'nhưng',\n",
              " 51: 'đang',\n",
              " 52: 'sau',\n",
              " 53: 'thì',\n",
              " 54: 'biết',\n",
              " 55: 'Việt_Nam',\n",
              " 56: 'đi',\n",
              " 57: 'nước',\n",
              " 58: 'rất',\n",
              " 59: 'mới',\n",
              " 60: 'sự',\n",
              " 61: 'có_thể',\n",
              " 62: 'theo',\n",
              " 63: 'mà',\n",
              " 64: ';',\n",
              " 65: 'nhất',\n",
              " 66: 'chỉ',\n",
              " 67: 'mình',\n",
              " 68: 'nhà',\n",
              " 69: 'tôi',\n",
              " 70: 'trước',\n",
              " 71: 'lên',\n",
              " 72: 'vẫn',\n",
              " 73: 'tới',\n",
              " 74: 'con',\n",
              " 75: 'nên',\n",
              " 76: 'tháng',\n",
              " 77: 'Theo',\n",
              " 78: '2',\n",
              " 79: 'đồng',\n",
              " 80: 'cùng',\n",
              " 81: 'hai',\n",
              " 82: 'anh',\n",
              " 83: 'khác',\n",
              " 84: 'cao',\n",
              " 85: 'họ',\n",
              " 86: 'rằng',\n",
              " 87: 'bạn',\n",
              " 88: 'qua',\n",
              " 89: 'vì',\n",
              " 90: 'Trong',\n",
              " 91: 'do',\n",
              " 92: 'cả',\n",
              " 93: 'Mỹ',\n",
              " 94: '/',\n",
              " 95: 'nói',\n",
              " 96: 'tỉnh',\n",
              " 97: 'đây',\n",
              " 98: 'số',\n",
              " 99: 'lần',\n",
              " 100: 'chưa',\n",
              " 101: 'lớn',\n",
              " 102: '1',\n",
              " 103: \"'\",\n",
              " 104: 'xe',\n",
              " 105: 'cô',\n",
              " 106: 'thấy',\n",
              " 107: '3',\n",
              " 108: 'cuộc',\n",
              " 109: 'đường',\n",
              " 110: 'đưa',\n",
              " 111: 'thực_hiện',\n",
              " 112: 'triệu',\n",
              " 113: '?',\n",
              " 114: 'cần',\n",
              " 115: 'tổ_chức',\n",
              " 116: 'sử_dụng',\n",
              " 117: 'hay',\n",
              " 118: 'hàng',\n",
              " 119: 'Hà_Nội',\n",
              " 120: 'bằng',\n",
              " 121: 'khiến',\n",
              " 122: 'tiền',\n",
              " 123: 'gần',\n",
              " 124: 'tuổi',\n",
              " 125: 'Bộ',\n",
              " 126: 'đầu',\n",
              " 127: 'tăng',\n",
              " 128: 'thứ',\n",
              " 129: 'thời_gian',\n",
              " 130: 'hoạt_động',\n",
              " 131: 'đều',\n",
              " 132: 'giá',\n",
              " 133: 'phát_triển',\n",
              " 134: '...',\n",
              " 135: 'nay',\n",
              " 136: 'khoảng',\n",
              " 137: 'nhau',\n",
              " 138: 'gây',\n",
              " 139: 'xây_dựng',\n",
              " 140: 'cách',\n",
              " 141: 'nào',\n",
              " 142: 'thêm',\n",
              " 143: 'bên',\n",
              " 144: 'Ảnh',\n",
              " 145: 'giữa',\n",
              " 146: 'Các',\n",
              " 147: 'gì',\n",
              " 148: 'huyện',\n",
              " 149: 'từng',\n",
              " 150: 'hoặc',\n",
              " 151: 'chiếc',\n",
              " 152: 'Tuy_nhiên',\n",
              " 153: 'nhận',\n",
              " 154: 'bà',\n",
              " 155: 'đầu_tư',\n",
              " 156: 'mang',\n",
              " 157: 'chính',\n",
              " 158: 'khu_vực',\n",
              " 159: 'gia_đình',\n",
              " 160: 'Sau',\n",
              " 161: 'Anh',\n",
              " 162: 'vừa',\n",
              " 163: 'tốt',\n",
              " 164: 'dự_án',\n",
              " 165: 'loại',\n",
              " 166: 'Trung_Quốc',\n",
              " 167: 'Ông',\n",
              " 168: 'bán',\n",
              " 169: 'giúp',\n",
              " 170: 'một_số',\n",
              " 171: '4',\n",
              " 172: 'dùng',\n",
              " 173: 'xã',\n",
              " 174: 'trẻ',\n",
              " 175: 'Nga',\n",
              " 176: '5',\n",
              " 177: 'vụ',\n",
              " 178: 'người_dân',\n",
              " 179: 'đất',\n",
              " 180: 'nếu',\n",
              " 181: 'rồi',\n",
              " 182: 'mức',\n",
              " 183: 'điều',\n",
              " 184: 'cấp',\n",
              " 185: 'tỷ',\n",
              " 186: 'thuộc',\n",
              " 187: 'mua',\n",
              " 188: 'nơi',\n",
              " 189: 'đối_với',\n",
              " 190: 'đầu_tiên',\n",
              " 191: 'điểm',\n",
              " 192: 'tiếp_tục',\n",
              " 193: 'thông_tin',\n",
              " 194: 'trận',\n",
              " 195: 'thế_giới',\n",
              " 196: 'giảm',\n",
              " 197: 'em',\n",
              " 198: 'tạo',\n",
              " 199: 'thi',\n",
              " 200: 'muốn',\n",
              " 201: 'quá',\n",
              " 202: 'ăn',\n",
              " 203: 'mỗi',\n",
              " 204: 'tin',\n",
              " 205: 'tham_gia',\n",
              " 206: 'mọi',\n",
              " 207: 'đạt',\n",
              " 208: 'quy_định',\n",
              " 209: 'doanh_nghiệp',\n",
              " 210: 'trường',\n",
              " 211: 'chị',\n",
              " 212: 'thành_phố',\n",
              " 213: 'phía',\n",
              " 214: 'bộ',\n",
              " 215: 'Những',\n",
              " 216: '10',\n",
              " 217: 'Tôi',\n",
              " 218: 'lúc',\n",
              " 219: 'vấn_đề',\n",
              " 220: 'tên',\n",
              " 221: 'bởi',\n",
              " 222: 'thị_trường',\n",
              " 223: 'cái',\n",
              " 224: 'đội',\n",
              " 225: 'ngoài',\n",
              " 226: 'học',\n",
              " 227: 'diễn',\n",
              " 228: 'phần',\n",
              " 229: 'USD',\n",
              " 230: 'nó',\n",
              " 231: 'đặc_biệt',\n",
              " 232: 'giờ',\n",
              " 233: 'kinh_tế',\n",
              " 234: 'sống',\n",
              " 235: 'luôn',\n",
              " 236: 'gái',\n",
              " 237: 'nhỏ',\n",
              " 238: 'tìm',\n",
              " 239: 'gặp',\n",
              " 240: 'Một',\n",
              " 241: 'ấy',\n",
              " 242: 'vốn',\n",
              " 243: 'công_tác',\n",
              " 244: 'ngay',\n",
              " 245: 'giải',\n",
              " 246: 'so',\n",
              " 247: 'Khi',\n",
              " 248: '6',\n",
              " 249: 'hệ_thống',\n",
              " 250: 'xảy',\n",
              " 251: 'Chủ_tịch',\n",
              " 252: 'ngành',\n",
              " 253: 'sản_xuất',\n",
              " 254: 'TP',\n",
              " 255: 'khả_năng',\n",
              " 256: 'quốc_gia',\n",
              " 257: 'đẹp',\n",
              " 258: 'quản_lý',\n",
              " 259: 'quyết_định',\n",
              " 260: 'công_ty',\n",
              " 261: 'biển',\n",
              " 262: 'sản_phẩm',\n",
              " 263: 'ta',\n",
              " 264: 'phim',\n",
              " 265: 'xã_hội',\n",
              " 266: 'UBND',\n",
              " 267: 'chương_trình',\n",
              " 268: 'mẹ',\n",
              " 269: 'cơ_quan',\n",
              " 270: 'Phó',\n",
              " 271: 'nhằm',\n",
              " 272: 'lấy',\n",
              " 273: 'mất',\n",
              " 274: 'vùng',\n",
              " 275: 'nhóm',\n",
              " 276: 'không_thể',\n",
              " 277: 'lời',\n",
              " 278: 'dưới',\n",
              " 279: 'khá',\n",
              " 280: 'chúng_tôi',\n",
              " 281: 'Đây',\n",
              " 282: 'yêu_cầu',\n",
              " 283: 'ảnh',\n",
              " 284: 'đúng',\n",
              " 285: 'chủ',\n",
              " 286: 'chia_sẻ',\n",
              " 287: 'hỗ_trợ',\n",
              " 288: 'Công_ty',\n",
              " 289: 'mạng',\n",
              " 290: 'tính',\n",
              " 291: 'ai',\n",
              " 292: 'Nhưng',\n",
              " 293: 'rõ',\n",
              " 294: 'địa_phương',\n",
              " 295: 'sang',\n",
              " 296: 'phòng',\n",
              " 297: 'trở_thành',\n",
              " 298: 'sáng',\n",
              " 299: 'giữ',\n",
              " 300: 'thành',\n",
              " 301: 'đơn_vị',\n",
              " 302: 'mùa',\n",
              " 303: 'bóng',\n",
              " 304: 'xem',\n",
              " 305: 'xuống',\n",
              " 306: 'tay',\n",
              " 307: 'bé',\n",
              " 308: 'xử_lý',\n",
              " 309: 'thường',\n",
              " 310: 'nguồn',\n",
              " 311: 'đủ',\n",
              " 312: 'liên_quan',\n",
              " 313: 'Nếu',\n",
              " 314: 'Chính_phủ',\n",
              " 315: 'quận',\n",
              " 316: 'khu',\n",
              " 317: 'Ngày',\n",
              " 318: 'đặt',\n",
              " 319: 'làm_việc',\n",
              " 320: 'Với',\n",
              " 321: 'Thủ_tướng',\n",
              " 322: 'vòng',\n",
              " 323: 'loài',\n",
              " 324: 'bệnh',\n",
              " 325: 'chồng',\n",
              " 326: 'gọi',\n",
              " 327: 'khó_khăn',\n",
              " 328: 'kinh_doanh',\n",
              " 329: '7',\n",
              " 330: 'quan_trọng',\n",
              " 331: 'phát_hiện',\n",
              " 332: 'quốc_tế',\n",
              " 333: 'TP.',\n",
              " 334: 'chống',\n",
              " 335: 'kể',\n",
              " 336: 'nằm',\n",
              " 337: 'lực_lượng',\n",
              " 338: 'bỏ',\n",
              " 339: 'khách',\n",
              " 340: 'kiểm_tra',\n",
              " 341: 'cơ_sở',\n",
              " 342: 'Người',\n",
              " 343: 'chuyện',\n",
              " 344: 'nữa',\n",
              " 345: 'Trước',\n",
              " 346: 'đấu',\n",
              " 347: 'ít',\n",
              " 348: 'hết',\n",
              " 349: 'cuối',\n",
              " 350: 'khỏi',\n",
              " 351: 'tiếng',\n",
              " 352: 'tàu',\n",
              " 353: 'vàng',\n",
              " 354: 'bảo_vệ',\n",
              " 355: 'khó',\n",
              " 356: 'triển_khai',\n",
              " 357: 'dài',\n",
              " 358: 'cạnh',\n",
              " 359: 'ba',\n",
              " 360: 'nhìn',\n",
              " 361: 'dành',\n",
              " 362: 'Công_an',\n",
              " 363: 'ảnh_hưởng',\n",
              " 364: 'cây',\n",
              " 365: 'chết',\n",
              " 366: 'thu',\n",
              " 367: 'hiệu_quả',\n",
              " 368: 'đánh_giá',\n",
              " 369: 'khẳng_định',\n",
              " 370: 'điều_tra',\n",
              " 371: 'vợ',\n",
              " 372: '!',\n",
              " 373: 'dẫn',\n",
              " 374: 'hiện',\n",
              " 375: 'tự',\n",
              " 376: 'HCM',\n",
              " 377: 'Tại',\n",
              " 378: 'du_lịch',\n",
              " 379: 'mạnh',\n",
              " 380: 'tuần',\n",
              " 381: 'chơi',\n",
              " 382: 'bài',\n",
              " 383: 'độ',\n",
              " 384: 'chất_lượng',\n",
              " 385: '8',\n",
              " 386: 'mặt',\n",
              " 387: 'buổi',\n",
              " 388: 'Việt',\n",
              " 389: 'tất_cả',\n",
              " 390: 'lãnh_đạo',\n",
              " 391: 'kết_quả',\n",
              " 392: 'xuất_hiện',\n",
              " 393: 'thời_điểm',\n",
              " 394: 'dịch_vụ',\n",
              " 395: 'đêm',\n",
              " 396: 'chạy',\n",
              " 397: 'an_toàn',\n",
              " 398: 'hoa',\n",
              " 399: 'học_sinh',\n",
              " 400: 'bắt_đầu',\n",
              " 401: 'nữ',\n",
              " 402: 'đảm_bảo',\n",
              " 403: 'chiều',\n",
              " 404: 'Tổng_thống',\n",
              " 405: 'Đức',\n",
              " 406: 'Sở',\n",
              " 407: 'nghiên_cứu',\n",
              " 408: 'thay_đổi',\n",
              " 409: 'Từ',\n",
              " 410: 'gửi',\n",
              " 411: 'đứng',\n",
              " 412: 'màu',\n",
              " 413: 'tình_trạng',\n",
              " 414: 'yêu',\n",
              " 415: 'cán_bộ',\n",
              " 416: 'chung',\n",
              " 417: 'trường_hợp',\n",
              " 418: 'phụ_nữ',\n",
              " 419: 'kế_hoạch',\n",
              " 420: 'điều_kiện',\n",
              " 421: 'hình_ảnh',\n",
              " 422: 'quan_hệ',\n",
              " 423: 'sao',\n",
              " 424: 'môi_trường',\n",
              " 425: 'đối_tượng',\n",
              " 426: 'chuyển',\n",
              " 427: 'thành_công',\n",
              " 428: '2017',\n",
              " 429: 'sinh',\n",
              " 430: 'Điều',\n",
              " 431: 'cá_nhân',\n",
              " 432: 'phút',\n",
              " 433: 'chọn',\n",
              " 434: 'hiện_nay',\n",
              " 435: 'Năm',\n",
              " 436: 'cầu_thủ',\n",
              " 437: 'vị_trí',\n",
              " 438: 'trai',\n",
              " 439: 'tấn_công',\n",
              " 440: 'Ban',\n",
              " 441: 'chân',\n",
              " 442: 'giao_thông',\n",
              " 443: 'báo',\n",
              " 444: 'Nhiều',\n",
              " 445: 'máy_bay',\n",
              " 446: 'hỏi',\n",
              " 447: 'tuyến',\n",
              " 448: 'Không',\n",
              " 449: 'khoa_học',\n",
              " 450: '&',\n",
              " 451: 'hướng',\n",
              " 452: 'HLV',\n",
              " 453: 'dân',\n",
              " 454: '20',\n",
              " 455: 'công_nghệ',\n",
              " 456: 'miền',\n",
              " 457: 'lớp',\n",
              " 458: 'Pháp',\n",
              " 459: 'đáng',\n",
              " 460: '9',\n",
              " 461: 'riêng',\n",
              " 462: 'đôi',\n",
              " 463: 'giá_trị',\n",
              " 464: 'cung_cấp',\n",
              " 465: 'dù',\n",
              " 466: 'nâng',\n",
              " 467: 'điện',\n",
              " 468: 'viết',\n",
              " 469: 'sớm',\n",
              " 470: 'văn_hoá',\n",
              " 471: 'quá_trình',\n",
              " 472: 'thấp',\n",
              " 473: 'trách_nhiệm',\n",
              " 474: 'giống',\n",
              " 475: 'giải_quyết',\n",
              " 476: 'khách_hàng',\n",
              " 477: 'gồm',\n",
              " 478: 'đánh',\n",
              " 479: 'Để',\n",
              " 480: 'tiến_hành',\n",
              " 481: 'nhanh',\n",
              " 482: 'Nhật_Bản',\n",
              " 483: 'vi_phạm',\n",
              " 484: 'tập_trung',\n",
              " 485: 'nghĩ',\n",
              " 486: 'cuộc_sống',\n",
              " 487: '2016',\n",
              " 488: 'Ngoài_ra',\n",
              " 489: 'chính_thức',\n",
              " 490: 'thành_viên',\n",
              " 491: 'sông',\n",
              " 492: 'thiết_kế',\n",
              " 493: 'thiếu',\n",
              " 494: 'đá',\n",
              " 495: '12',\n",
              " 496: 'hoàn_toàn',\n",
              " 497: 'chính_sách',\n",
              " 498: 'trả',\n",
              " 499: 'bước',\n",
              " 500: 'chúng_ta',\n",
              " 501: 'đồng_thời',\n",
              " 502: 'hộ',\n",
              " 503: 'Có',\n",
              " 504: 'vượt',\n",
              " 505: 'quyền',\n",
              " 506: '2018',\n",
              " 507: 'quan_tâm',\n",
              " 508: 'phối_hợp',\n",
              " 509: 'nội_dung',\n",
              " 510: 'lao_động',\n",
              " 511: 'bàn',\n",
              " 512: 'vài',\n",
              " 513: 'nước_ngoài',\n",
              " 514: 'sân',\n",
              " 515: 'lĩnh_vực',\n",
              " 516: 'thật',\n",
              " 517: 'cơ_hội',\n",
              " 518: 'Việc',\n",
              " 519: 'địa_bàn',\n",
              " 520: 'hợp_tác',\n",
              " 521: 'nghe',\n",
              " 522: 'nhiệm_vụ',\n",
              " 523: 'món',\n",
              " 524: 'thuốc',\n",
              " 525: 'công_trình',\n",
              " 526: 'công_việc',\n",
              " 527: 'lượng',\n",
              " 528: 'câu',\n",
              " 529: 'dòng',\n",
              " 530: 'báo_cáo',\n",
              " 531: 'nặng',\n",
              " 532: 'phục_vụ',\n",
              " 533: 'hãng',\n",
              " 534: '30',\n",
              " 535: 'thể_hiện',\n",
              " 536: 'bắt',\n",
              " 537: 'tài_sản',\n",
              " 538: 'Hàn_Quốc',\n",
              " 539: 'khán_giả',\n",
              " 540: 'thích',\n",
              " 541: 'Nhà_nước',\n",
              " 542: 'da',\n",
              " 543: 'chuẩn_bị',\n",
              " 544: 'đề_nghị',\n",
              " 545: 'phù_hợp',\n",
              " 546: 'chuyến',\n",
              " 547: 'đầy',\n",
              " 548: 'mở',\n",
              " 549: 'mục_tiêu',\n",
              " 550: 'đại_diện',\n",
              " 551: 'chịu',\n",
              " 552: 'nổi_tiếng',\n",
              " 553: '“',\n",
              " 554: 'nam',\n",
              " 555: 'phường',\n",
              " 556: 'chỉ_đạo',\n",
              " 557: 'Bên',\n",
              " 558: 'giành',\n",
              " 559: 'đông',\n",
              " 560: 'hiểu',\n",
              " 561: '”',\n",
              " 562: 'nền',\n",
              " 563: 'kỳ',\n",
              " 564: 'càng',\n",
              " 565: 'máy',\n",
              " 566: 'thế',\n",
              " 567: 'ý_kiến',\n",
              " 568: 'cá',\n",
              " 569: 'thực_tế',\n",
              " 570: 'chất',\n",
              " 571: 'chúng',\n",
              " 572: 'cháu',\n",
              " 573: 'công_bố',\n",
              " 574: 'thuế',\n",
              " 575: 'hát',\n",
              " 576: 'giao',\n",
              " 577: 'đóng',\n",
              " 578: 'chuyên_gia',\n",
              " 579: 'trực_tiếp',\n",
              " 580: 'mối',\n",
              " 581: 'pháp_luật',\n",
              " 582: 'Và',\n",
              " 583: 'hợp_đồng',\n",
              " 584: 'lễ',\n",
              " 585: 'hành_vi',\n",
              " 586: 'trung_tâm',\n",
              " 587: 'dễ',\n",
              " 588: 'bất_ngờ',\n",
              " 589: 'sức_khoẻ',\n",
              " 590: 'nhờ',\n",
              " 591: 'như_vậy',\n",
              " 592: 'xác_định',\n",
              " 593: 'điện_thoại',\n",
              " 594: 'chứ',\n",
              " 595: 'quay',\n",
              " 596: 'án',\n",
              " 597: 'mẫu',\n",
              " 598: 'trở_lại',\n",
              " 599: 'đâu',\n",
              " 600: 'nhân_dân',\n",
              " 601: 'Syria',\n",
              " 602: 'giáo_dục',\n",
              " 603: 'giai_đoạn',\n",
              " 604: 'Đến',\n",
              " 605: 'ngân_hàng',\n",
              " 606: 'tránh',\n",
              " 607: 'bảng',\n",
              " 608: 'Quốc_hội',\n",
              " 609: 'thắng',\n",
              " 610: 'tăng_cường',\n",
              " 611: 'xin',\n",
              " 612: 'lòng',\n",
              " 613: 'xa',\n",
              " 614: 'Đà_Nẵng',\n",
              " 615: 'Đảng',\n",
              " 616: 'Cô',\n",
              " 617: 'thương_mại',\n",
              " 618: 'thiết_bị',\n",
              " 619: 'bản',\n",
              " 620: 'an_ninh',\n",
              " 621: 'bay',\n",
              " 622: 'Còn',\n",
              " 623: 'Bộ_trưởng',\n",
              " 624: 'nhu_cầu',\n",
              " 625: 'cũ',\n",
              " 626: 'thường_xuyên',\n",
              " 627: 'làng',\n",
              " 628: 'Ở',\n",
              " 629: 'diện_tích',\n",
              " 630: 'diễn_viên',\n",
              " 631: 'cầu',\n",
              " 632: 'lựa_chọn',\n",
              " 633: 'thậm_chí',\n",
              " 634: 'đào_tạo',\n",
              " 635: 'ngôi',\n",
              " 636: 'bao_gồm',\n",
              " 637: 'chính_quyền',\n",
              " 638: 'vị',\n",
              " 639: 'sinh_viên',\n",
              " 640: 'Cục',\n",
              " 641: 'quả',\n",
              " 642: 'nhân_viên',\n",
              " 643: 'đàn_ông',\n",
              " 644: 'thông_qua',\n",
              " 645: 'thông_báo',\n",
              " 646: 'hôm',\n",
              " 647: 'đoàn',\n",
              " 648: 'mắt',\n",
              " 649: 'kiểm_soát',\n",
              " 650: 'uống',\n",
              " 651: 'một_cách',\n",
              " 652: '15',\n",
              " 653: 'cứ',\n",
              " 654: 'nghề',\n",
              " 655: 'hoàn_thành',\n",
              " 656: 'ngồi',\n",
              " 657: 'Trung_tâm',\n",
              " 658: '2015',\n",
              " 659: 'không_chỉ',\n",
              " 660: 'khoản',\n",
              " 661: 'xanh',\n",
              " 662: 'Trường',\n",
              " 663: 'chẳng',\n",
              " 664: 'toàn',\n",
              " 665: '11',\n",
              " 666: 'Đó',\n",
              " 667: 'Cũng',\n",
              " 668: 'Nam',\n",
              " 669: 'thi_đấu',\n",
              " 670: 'tuyên_bố',\n",
              " 671: 'họp',\n",
              " 672: 'trưởng',\n",
              " 673: 'thí_sinh',\n",
              " 674: 'Về',\n",
              " 675: 'lịch_sử',\n",
              " 676: 'trở',\n",
              " 677: 'mưa',\n",
              " 678: 'thuê',\n",
              " 679: 'chỗ',\n",
              " 680: 'Bà',\n",
              " 681: 'bóng_đá',\n",
              " 682: 'đô_thị',\n",
              " 683: 'hành_động',\n",
              " 684: 'chụp',\n",
              " 685: 'đoạn',\n",
              " 686: 'rừng',\n",
              " 687: 'giới',\n",
              " 688: 'thịt',\n",
              " 689: 'sở_hữu',\n",
              " 690: 'thực_phẩm',\n",
              " 691: 'Giám_đốc',\n",
              " 692: 'tổng',\n",
              " 693: 'vay',\n",
              " 694: 'tài_chính',\n",
              " 695: 'nuôi',\n",
              " 696: 'lâu',\n",
              " 697: 'thu_hút',\n",
              " 698: 'vậy',\n",
              " 699: 'suốt',\n",
              " 700: 'kỹ_thuật',\n",
              " 701: 'ghi',\n",
              " 702: 'tình_hình',\n",
              " 703: 'vai_trò',\n",
              " 704: 'cuối_cùng',\n",
              " 705: 'công',\n",
              " 706: 'bức',\n",
              " 707: 'cộng_đồng',\n",
              " 708: 'đảo',\n",
              " 709: 'khai_thác',\n",
              " 710: 'phương_tiện',\n",
              " 711: 'biện_pháp',\n",
              " 712: 'trồng',\n",
              " 713: 'sách',\n",
              " 714: 'đăng_ký',\n",
              " 715: 'giải_pháp',\n",
              " 716: 'Tết',\n",
              " 717: 'rộng',\n",
              " 718: 'liên_tục',\n",
              " 719: 'tích_cực',\n",
              " 720: 'nhớ',\n",
              " 721: 'chiếm',\n",
              " 722: 'ủng_hộ',\n",
              " 723: 'cơ_thể',\n",
              " 724: 'nguyên_nhân',\n",
              " 725: 'ổn_định',\n",
              " 726: 'áp_dụng',\n",
              " 727: 'trái',\n",
              " 728: 'ngày_càng',\n",
              " 729: 'hồ_sơ',\n",
              " 730: 'Trung_ương',\n",
              " 731: 'Hai',\n",
              " 732: 'nạn_nhân',\n",
              " 733: 'Loài',\n",
              " 734: 'chức_năng',\n",
              " 735: 'thực_sự',\n",
              " 736: '100',\n",
              " 737: 'truyền_thống',\n",
              " 738: 'bản_thân',\n",
              " 739: 'thăm',\n",
              " 740: 'lập',\n",
              " 741: 'Chúng_tôi',\n",
              " 742: 'nguy_cơ',\n",
              " 743: 'tầm',\n",
              " 744: 'bác_sĩ',\n",
              " 745: 'nhạc',\n",
              " 746: 'trang',\n",
              " 747: 'vừa_qua',\n",
              " 748: 'vụ_việc',\n",
              " 749: 'con_người',\n",
              " 750: 'chú_ý',\n",
              " 751: 'châu_Âu',\n",
              " 752: 'ô_tô',\n",
              " 753: 'bệnh_viện',\n",
              " 754: 'ban',\n",
              " 755: 'toàn_bộ',\n",
              " 756: 'thành_lập',\n",
              " 757: 'đời',\n",
              " 758: 'sức',\n",
              " 759: 'vai',\n",
              " 760: 'nợ',\n",
              " 761: 'ca_sĩ',\n",
              " 762: 'nhanh_chóng',\n",
              " 763: 'máu',\n",
              " 764: 'trắng',\n",
              " 765: 'dừng',\n",
              " 766: 'nỗ_lực',\n",
              " 767: 'Luật',\n",
              " 768: 'hạn_chế',\n",
              " 769: 'coi',\n",
              " 770: 'sự_kiện',\n",
              " 771: 'cháy',\n",
              " 772: 'chi_phí',\n",
              " 773: 'm',\n",
              " 774: 'núi',\n",
              " 775: 'tên_lửa',\n",
              " 776: 'chục',\n",
              " 777: 'điều_trị',\n",
              " 778: 'ký',\n",
              " 779: 'cho_phép',\n",
              " 780: 'Hồ_Chí_Minh',\n",
              " 781: 'Họ',\n",
              " 782: 'ứng_dụng',\n",
              " 783: 'tấn',\n",
              " 784: 'giao_dịch',\n",
              " 785: 'bao_giờ',\n",
              " 786: 'cụ_thể',\n",
              " 787: 'thời',\n",
              " 788: 'đất_nước',\n",
              " 789: 'bệnh_nhân',\n",
              " 790: 'trả_lời',\n",
              " 791: 'số_lượng',\n",
              " 792: 'đứa',\n",
              " 793: 'nêu',\n",
              " 794: 'mở_rộng',\n",
              " 795: 'Triều_Tiên',\n",
              " 796: 'đồ',\n",
              " 797: 'Hiện',\n",
              " 798: 'tặng',\n",
              " 799: 'lý_do',\n",
              " 800: 'chiến_thắng',\n",
              " 801: 'sâu',\n",
              " 802: 'đơn',\n",
              " 803: 'chứa',\n",
              " 804: 'đỏ',\n",
              " 805: 'nhà_nước',\n",
              " 806: 'bổ_sung',\n",
              " 807: 'cảnh_sát',\n",
              " 808: 'tinh_thần',\n",
              " 809: 'nhất_là',\n",
              " 810: 'quân_sự',\n",
              " 811: 'Được',\n",
              " 812: 'nghìn',\n",
              " 813: 'chủ_yếu',\n",
              " 814: 'tai_nạn',\n",
              " 815: 'cảnh',\n",
              " 816: 'niềm',\n",
              " 817: 'vé',\n",
              " 818: 'vô_cùng',\n",
              " 819: 'kéo_dài',\n",
              " 820: 'áo',\n",
              " 821: 'toà',\n",
              " 822: 'quân_đội',\n",
              " 823: '2010',\n",
              " 824: 'tập',\n",
              " 825: 'hình',\n",
              " 826: 'chăm_sóc',\n",
              " 827: 'phố',\n",
              " 828: 'vợ_chồng',\n",
              " 829: 'chính_trị',\n",
              " 830: 'cảm_thấy',\n",
              " 831: 'mời',\n",
              " 832: 'giới_thiệu',\n",
              " 833: 'mấy',\n",
              " 834: 'Đại_học',\n",
              " 835: 'Nguồn',\n",
              " 836: 'kinh_nghiệm',\n",
              " 837: 'ĐH',\n",
              " 838: 'hãy',\n",
              " 839: 'Hội',\n",
              " 840: 'dự_kiến',\n",
              " 841: 'góp_phần',\n",
              " 842: 'Chỉ',\n",
              " 843: 'ngủ',\n",
              " 844: 'hạnh_phúc',\n",
              " 845: 'trẻ_em',\n",
              " 846: 'công_an',\n",
              " 847: 'nghệ_thuật',\n",
              " 848: 'hồi',\n",
              " 849: 'phí',\n",
              " 850: '2014',\n",
              " 851: 'Dù',\n",
              " 852: 'dịp',\n",
              " 853: '+',\n",
              " 854: 'Uỷ_ban',\n",
              " 855: 'dân_tộc',\n",
              " 856: 'Ngay',\n",
              " 857: 'đem',\n",
              " 858: 'đáp_ứng',\n",
              " 859: 'hiện_tại',\n",
              " 860: 'câu_chuyện',\n",
              " 861: 'trăm',\n",
              " 862: 'công_nghiệp',\n",
              " 863: 'tối',\n",
              " 864: 'tương_lai',\n",
              " 865: '>',\n",
              " 866: 'quy_hoạch',\n",
              " 867: 'tìm_kiếm',\n",
              " 868: 'cậu',\n",
              " 869: 'nhà_đầu_tư',\n",
              " 870: 'thôi',\n",
              " 871: 'quân',\n",
              " 872: 'Trên',\n",
              " 873: 'Thái_Lan',\n",
              " 874: 'nguyên',\n",
              " 875: 'quý',\n",
              " 876: 'đổ',\n",
              " 877: 'tỉ',\n",
              " 878: 'rơi',\n",
              " 879: 'cổ',\n",
              " 880: 'trở_nên',\n",
              " 881: 'tham_dự',\n",
              " 882: 'cặp',\n",
              " 883: 'tỷ_lệ',\n",
              " 884: 'cho_hay',\n",
              " 885: 'tốc_độ',\n",
              " 886: 'phiên',\n",
              " 887: 'hiện_đại',\n",
              " 888: 'du_khách',\n",
              " 889: 'trang_bị',\n",
              " 890: 'nóng',\n",
              " 891: 'trao',\n",
              " 892: 'xuất_khẩu',\n",
              " 893: 'Đặc_biệt',\n",
              " 894: 'chi',\n",
              " 895: 'nhấn_mạnh',\n",
              " 896: 'văn_bản',\n",
              " 897: '–',\n",
              " 898: 'tăng_trưởng',\n",
              " 899: '50',\n",
              " 900: 'tạm',\n",
              " 901: 'tiếp',\n",
              " 902: 'vui',\n",
              " 903: 'cắt',\n",
              " 904: 'nghiêm_trọng',\n",
              " 905: 'báo_chí',\n",
              " 906: 'bờ',\n",
              " 907: 'nghèo',\n",
              " 908: 'quê',\n",
              " 909: 'thủ_tục',\n",
              " 910: 'ra_mắt',\n",
              " 911: 'giám_sát',\n",
              " 912: 'nghỉ',\n",
              " 913: 'kiểu',\n",
              " 914: 'chính_phủ',\n",
              " 915: 'dự',\n",
              " 916: 'DN',\n",
              " 917: 'xem_xét',\n",
              " 918: 'thoả_thuận',\n",
              " 919: 'sẵn_sàng',\n",
              " 920: 'hình_thức',\n",
              " 921: 'tình',\n",
              " 922: 'mà_còn',\n",
              " 923: 'có_mặt',\n",
              " 924: 'chợ',\n",
              " 925: 'bắn',\n",
              " 926: 'dầu',\n",
              " 927: 'dạy',\n",
              " 928: 'điều_chỉnh',\n",
              " 929: 'ấn_tượng',\n",
              " 930: 'kết_hợp',\n",
              " 931: 'cười',\n",
              " 932: 'xong',\n",
              " 933: 'thanh_niên',\n",
              " 934: 'đại_học',\n",
              " 935: 'kg',\n",
              " 936: 'hành_chính',\n",
              " 937: 'Ấn_Độ',\n",
              " 938: 'lắm',\n",
              " 939: 'nguy_hiểm',\n",
              " 940: 'mạnh_mẽ',\n",
              " 941: 'quán',\n",
              " 942: 'giáo_viên',\n",
              " 943: 'rời',\n",
              " 944: 'đề_xuất',\n",
              " 945: 'kẻ',\n",
              " 946: 'lá',\n",
              " 947: 'tấm',\n",
              " 948: 'rút',\n",
              " 949: 'Cùng',\n",
              " 950: 'đơn_giản',\n",
              " 951: 'y_tế',\n",
              " 952: 'chờ',\n",
              " 953: 'TTXVN',\n",
              " 954: 'Bạn',\n",
              " 955: 'km',\n",
              " 956: 'cần_thiết',\n",
              " 957: 'dần',\n",
              " 958: 'mong_muốn',\n",
              " 959: 'xe_máy',\n",
              " 960: 'cố_gắng',\n",
              " 961: 'sắp',\n",
              " 962: 'nghệ_sĩ',\n",
              " 963: 'cánh',\n",
              " 964: 'chở',\n",
              " 965: 'giấy',\n",
              " 966: 'vũ_khí',\n",
              " 967: 'đọc',\n",
              " 968: 'chắc_chắn',\n",
              " 969: 'đau',\n",
              " 970: 'chiến_lược',\n",
              " 971: 'đầy_đủ',\n",
              " 972: 'cửa',\n",
              " 973: '18',\n",
              " 974: 'tình_cảm',\n",
              " 975: 'Đông',\n",
              " 976: 'bị_cáo',\n",
              " 977: 'nổi',\n",
              " 978: 'phép',\n",
              " 979: 'vô_địch',\n",
              " 980: 'bình_thường',\n",
              " 981: 'hướng_dẫn',\n",
              " 982: 'buộc',\n",
              " 983: 'nhập_khẩu',\n",
              " 984: 'Hoa_hậu',\n",
              " 985: 'đại_biểu',\n",
              " 986: 'bảo_đảm',\n",
              " 987: 'kết_thúc',\n",
              " 988: 'to',\n",
              " 989: 'hề',\n",
              " 990: 'Ngoài',\n",
              " 991: 'hồ',\n",
              " 992: 'Bắc',\n",
              " 993: 'phiên_bản',\n",
              " 994: 'thay',\n",
              " 995: 'Mặc_dù',\n",
              " 996: 'cổ_phiếu',\n",
              " 997: 'Trưởng',\n",
              " 998: 'mắc',\n",
              " 999: 'cấm',\n",
              " 1000: 'xuất_sắc',\n",
              " 1001: 'trời',\n",
              " ...}"
            ]
          },
          "metadata": {},
          "execution_count": 13
        }
      ]
    },
    {
      "cell_type": "code",
      "source": [
        "embedding_matrix = np.zeros((num_words, embedding_dim))\n",
        "# for each word in out tokenizer, try to find that work in our w2v model\n",
        "for word, i in word_to_index.items():\n",
        "  if i > max_feature:\n",
        "    continue\n",
        "  embedding_vector = embeddings_index.get(word)\n",
        "  if embedding_vector is not None:\n",
        "\n",
        "    # add that words vector to the matrix\n",
        "    embedding_matrix[i] = embedding_vector\n",
        "  else:\n",
        "    # doesn't exist, assign a random vector\n",
        "    embedding_matrix[i] = np.random.randn(embedding_dim)"
      ],
      "metadata": {
        "id": "-qs5eO75P0ev"
      },
      "execution_count": 14,
      "outputs": []
    },
    {
      "cell_type": "code",
      "source": [
        "pip install vncorenlp"
      ],
      "metadata": {
        "colab": {
          "base_uri": "https://localhost:8080/"
        },
        "id": "MXTh8jsCQDN-",
        "outputId": "518b7e0b-cefc-48a9-df3b-1f29ac2b7654"
      },
      "execution_count": 15,
      "outputs": [
        {
          "output_type": "stream",
          "name": "stdout",
          "text": [
            "Looking in indexes: https://pypi.org/simple, https://us-python.pkg.dev/colab-wheels/public/simple/\n",
            "Collecting vncorenlp\n",
            "  Downloading vncorenlp-1.0.3.tar.gz (2.6 MB)\n",
            "\u001b[K     |████████████████████████████████| 2.6 MB 31.5 MB/s \n",
            "\u001b[?25hRequirement already satisfied: requests in /usr/local/lib/python3.8/dist-packages (from vncorenlp) (2.23.0)\n",
            "Requirement already satisfied: idna<3,>=2.5 in /usr/local/lib/python3.8/dist-packages (from requests->vncorenlp) (2.10)\n",
            "Requirement already satisfied: urllib3!=1.25.0,!=1.25.1,<1.26,>=1.21.1 in /usr/local/lib/python3.8/dist-packages (from requests->vncorenlp) (1.24.3)\n",
            "Requirement already satisfied: chardet<4,>=3.0.2 in /usr/local/lib/python3.8/dist-packages (from requests->vncorenlp) (3.0.4)\n",
            "Requirement already satisfied: certifi>=2017.4.17 in /usr/local/lib/python3.8/dist-packages (from requests->vncorenlp) (2022.12.7)\n",
            "Building wheels for collected packages: vncorenlp\n",
            "  Building wheel for vncorenlp (setup.py) ... \u001b[?25l\u001b[?25hdone\n",
            "  Created wheel for vncorenlp: filename=vncorenlp-1.0.3-py3-none-any.whl size=2645950 sha256=60a069e4d3caaca718b2174f266ea0784b79e7605ae0767458b233809f41c269\n",
            "  Stored in directory: /root/.cache/pip/wheels/3c/e9/86/706911c12e307aeb9a2702399f0dad38d36f1d6f9dde8af35e\n",
            "Successfully built vncorenlp\n",
            "Installing collected packages: vncorenlp\n",
            "Successfully installed vncorenlp-1.0.3\n"
          ]
        }
      ]
    },
    {
      "cell_type": "code",
      "source": [
        "!mkdir -p vncorenlp/models/wordsegmenter\n",
        "!wget https://raw.githubusercontent.com/vncorenlp/VnCoreNLP/master/VnCoreNLP-1.1.1.jar\n",
        "!wget https://raw.githubusercontent.com/vncorenlp/VnCoreNLP/master/models/wordsegmenter/vi-vocab\n",
        "!wget https://raw.githubusercontent.com/vncorenlp/VnCoreNLP/master/models/wordsegmenter/wordsegmenter.rdr\n",
        "!mv VnCoreNLP-1.1.1.jar vncorenlp/\n",
        "!mv vi-vocab vncorenlp/models/wordsegmenter/\n",
        "!mv wordsegmenter.rdr vncorenlp/models/wordsegmenter/\n"
      ],
      "metadata": {
        "colab": {
          "base_uri": "https://localhost:8080/"
        },
        "id": "WFBxHSOgT-Bv",
        "outputId": "de0ac51e-13f0-4cdc-a0c7-8e50eaa86050"
      },
      "execution_count": 16,
      "outputs": [
        {
          "output_type": "stream",
          "name": "stdout",
          "text": [
            "--2022-12-19 13:23:51--  https://raw.githubusercontent.com/vncorenlp/VnCoreNLP/master/VnCoreNLP-1.1.1.jar\n",
            "Resolving raw.githubusercontent.com (raw.githubusercontent.com)... 185.199.109.133, 185.199.108.133, 185.199.110.133, ...\n",
            "Connecting to raw.githubusercontent.com (raw.githubusercontent.com)|185.199.109.133|:443... connected.\n",
            "HTTP request sent, awaiting response... 200 OK\n",
            "Length: 27412575 (26M) [application/octet-stream]\n",
            "Saving to: ‘VnCoreNLP-1.1.1.jar’\n",
            "\n",
            "\rVnCoreNLP-1.1.1.jar   0%[                    ]       0  --.-KB/s               \rVnCoreNLP-1.1.1.jar 100%[===================>]  26.14M  --.-KB/s    in 0.09s   \n",
            "\n",
            "2022-12-19 13:23:51 (282 MB/s) - ‘VnCoreNLP-1.1.1.jar’ saved [27412575/27412575]\n",
            "\n",
            "--2022-12-19 13:23:51--  https://raw.githubusercontent.com/vncorenlp/VnCoreNLP/master/models/wordsegmenter/vi-vocab\n",
            "Resolving raw.githubusercontent.com (raw.githubusercontent.com)... 185.199.108.133, 185.199.109.133, 185.199.110.133, ...\n",
            "Connecting to raw.githubusercontent.com (raw.githubusercontent.com)|185.199.108.133|:443... connected.\n",
            "HTTP request sent, awaiting response... 200 OK\n",
            "Length: 526544 (514K) [application/octet-stream]\n",
            "Saving to: ‘vi-vocab’\n",
            "\n",
            "vi-vocab            100%[===================>] 514.20K  --.-KB/s    in 0.003s  \n",
            "\n",
            "2022-12-19 13:23:51 (173 MB/s) - ‘vi-vocab’ saved [526544/526544]\n",
            "\n",
            "--2022-12-19 13:23:52--  https://raw.githubusercontent.com/vncorenlp/VnCoreNLP/master/models/wordsegmenter/wordsegmenter.rdr\n",
            "Resolving raw.githubusercontent.com (raw.githubusercontent.com)... 185.199.108.133, 185.199.110.133, 185.199.109.133, ...\n",
            "Connecting to raw.githubusercontent.com (raw.githubusercontent.com)|185.199.108.133|:443... connected.\n",
            "HTTP request sent, awaiting response... 200 OK\n",
            "Length: 128508 (125K) [text/plain]\n",
            "Saving to: ‘wordsegmenter.rdr’\n",
            "\n",
            "wordsegmenter.rdr   100%[===================>] 125.50K  --.-KB/s    in 0.002s  \n",
            "\n",
            "2022-12-19 13:23:52 (78.2 MB/s) - ‘wordsegmenter.rdr’ saved [128508/128508]\n",
            "\n"
          ]
        }
      ]
    },
    {
      "cell_type": "code",
      "source": [
        "from vncorenlp import VnCoreNLP\n",
        "vncorenlp = VnCoreNLP(\"vncorenlp/VnCoreNLP-1.1.1.jar\",\n",
        "annotators=\"wseg\", max_heap_size='-Xmx500m')\n",
        "def custom_tokenizer(text_data, tokenizer=True):\n",
        "  if tokenizer:\n",
        "    return \" \".join(vncorenlp.tokenize(str(text_data))[0])\n",
        "  return text_data"
      ],
      "metadata": {
        "id": "qrx5Ay8YUB6Q"
      },
      "execution_count": 17,
      "outputs": []
    },
    {
      "cell_type": "code",
      "source": [
        "from keras_preprocessing.sequence import pad_sequences\n",
        "from tensorflow.keras.utils import to_categorical\n",
        "MAX_LEN = 100\n",
        "NUM_LABEL = 3\n",
        "TOKENIZER = True\n",
        "def encoding(X, y):\n",
        "  sentences = []\n",
        "  for t in X:\n",
        "    sentences.append(custom_tokenizer(t, tokenizer=TOKENIZER))\n",
        "    X = []\n",
        "  for s in sentences:\n",
        "    sent = []\n",
        "    for w in s.split():\n",
        "      try:\n",
        "        w = w.lower()\n",
        "        sent.append(word_to_index[w])\n",
        "      except:\n",
        "        sent.append(word_to_index[\"UNK\"])\n",
        "    X.append(sent)\n",
        "  X = pad_sequences(maxlen = MAX_LEN, sequences = X, padding = \"post\", value = word_to_index[\"PAD\"])\n",
        "  y = to_categorical(y, num_classes=NUM_LABEL)\n",
        "  return (X,y)\n"
      ],
      "metadata": {
        "id": "mVnDXZ6aUSEY"
      },
      "execution_count": 18,
      "outputs": []
    },
    {
      "cell_type": "code",
      "source": [
        "X_train_encoded, y_train_encoded = encoding(X_train.values.flatten(), y_train)\n",
        "X_dev_encoded, y_dev_encoded = encoding(X_dev.values.flatten(), y_dev)\n",
        "X_test_encoded, y_test_encoded = encoding(X_test.values.flatten(), y_test)"
      ],
      "metadata": {
        "id": "mthpnhmrVm5T"
      },
      "execution_count": 19,
      "outputs": []
    },
    {
      "cell_type": "code",
      "source": [
        "from keras.layers import * \n",
        "from keras.models import *\n",
        "from keras.initializers import Constant\n",
        "\n",
        "model = Sequential()\n",
        "model.add(Input(shape=(MAX_LEN, ), dtype=\"float64\"))\n",
        "model.add(Embedding(input_dim=num_words,\n",
        "output_dim=embedding_dim,\n",
        "embeddings_initializer=Constant(embedding_matrix),\n",
        "input_length=MAX_LEN, trainable=False))\n",
        "model.add(Bidirectional(LSTM(200, return_sequences=False)))\n",
        "model.add(Dense(3, activation='softmax'))"
      ],
      "metadata": {
        "id": "5nIh_daHXnRG"
      },
      "execution_count": 27,
      "outputs": []
    },
    {
      "cell_type": "code",
      "source": [
        "model.summary()"
      ],
      "metadata": {
        "id": "swYjSjeHXret",
        "colab": {
          "base_uri": "https://localhost:8080/"
        },
        "outputId": "78461d27-e0a9-4209-81c7-2438f2b1e9b6"
      },
      "execution_count": 28,
      "outputs": [
        {
          "output_type": "stream",
          "name": "stdout",
          "text": [
            "Model: \"sequential_1\"\n",
            "_________________________________________________________________\n",
            " Layer (type)                Output Shape              Param #   \n",
            "=================================================================\n",
            " embedding_1 (Embedding)     (None, 100, 100)          158750800 \n",
            "                                                                 \n",
            " bidirectional_1 (Bidirectio  (None, 400)              481600    \n",
            " nal)                                                            \n",
            "                                                                 \n",
            " dense_1 (Dense)             (None, 3)                 1203      \n",
            "                                                                 \n",
            "=================================================================\n",
            "Total params: 159,233,603\n",
            "Trainable params: 482,803\n",
            "Non-trainable params: 158,750,800\n",
            "_________________________________________________________________\n"
          ]
        }
      ]
    },
    {
      "cell_type": "code",
      "source": [
        "from keras.optimizers import *\n",
        "from keras.losses import *\n",
        "\n",
        "optimizer = Adam(learning_rate=0.01)\n",
        "loss = CategoricalCrossentropy()\n",
        "model.compile(optimizer=optimizer, loss=loss, metrics=['accuracy'])"
      ],
      "metadata": {
        "id": "FEAyVckaXudM"
      },
      "execution_count": 29,
      "outputs": []
    },
    {
      "cell_type": "code",
      "source": [
        "history = model.fit(\n",
        "    X_train_encoded,\n",
        "    y_train_encoded,\n",
        "    validation_data = (X_dev_encoded,y_dev_encoded),\n",
        "    epochs = 10,\n",
        "    batch_size = 128\n",
        ")"
      ],
      "metadata": {
        "colab": {
          "base_uri": "https://localhost:8080/"
        },
        "id": "Sn-IBDWEeK9Q",
        "outputId": "8148c37c-8222-4d37-ef46-c194e0547130"
      },
      "execution_count": 31,
      "outputs": [
        {
          "output_type": "stream",
          "name": "stdout",
          "text": [
            "Epoch 1/10\n",
            "90/90 [==============================] - 7s 34ms/step - loss: 0.5522 - accuracy: 0.7683 - val_loss: 0.4372 - val_accuracy: 0.8187\n",
            "Epoch 2/10\n",
            "90/90 [==============================] - 2s 24ms/step - loss: 0.3773 - accuracy: 0.8636 - val_loss: 0.3810 - val_accuracy: 0.8711\n",
            "Epoch 3/10\n",
            "90/90 [==============================] - 2s 24ms/step - loss: 0.3134 - accuracy: 0.8903 - val_loss: 0.3205 - val_accuracy: 0.8882\n",
            "Epoch 4/10\n",
            "90/90 [==============================] - 2s 24ms/step - loss: 0.2822 - accuracy: 0.8986 - val_loss: 0.2848 - val_accuracy: 0.8977\n",
            "Epoch 5/10\n",
            "90/90 [==============================] - 3s 29ms/step - loss: 0.2542 - accuracy: 0.9120 - val_loss: 0.2783 - val_accuracy: 0.9059\n",
            "Epoch 6/10\n",
            "90/90 [==============================] - 2s 25ms/step - loss: 0.2286 - accuracy: 0.9207 - val_loss: 0.2669 - val_accuracy: 0.9097\n",
            "Epoch 7/10\n",
            "90/90 [==============================] - 3s 32ms/step - loss: 0.2089 - accuracy: 0.9266 - val_loss: 0.2700 - val_accuracy: 0.9040\n",
            "Epoch 8/10\n",
            "90/90 [==============================] - 3s 31ms/step - loss: 0.1830 - accuracy: 0.9352 - val_loss: 0.2562 - val_accuracy: 0.9116\n",
            "Epoch 9/10\n",
            "90/90 [==============================] - 2s 25ms/step - loss: 0.1584 - accuracy: 0.9450 - val_loss: 0.2928 - val_accuracy: 0.9021\n",
            "Epoch 10/10\n",
            "90/90 [==============================] - 2s 25ms/step - loss: 0.1346 - accuracy: 0.9536 - val_loss: 0.3041 - val_accuracy: 0.9002\n"
          ]
        }
      ]
    },
    {
      "cell_type": "code",
      "source": [
        "def modelPlot(history,is_accuracy,is_loss):\n",
        "    plt.figure(figsize = (20,7))\n",
        "    if is_accuracy:\n",
        "        plt.subplot(121)\n",
        "        plt.plot(history.history['accuracy'])\n",
        "        plt.plot(history.history['val_accuracy'])\n",
        "        plt.xlabel(\"epochs\")\n",
        "        plt.title(\"model_accuracy\")\n",
        "        plt.legend(['train','val'],loc = 'upper right')\n",
        "    if is_loss:\n",
        "        plt.subplot(122)\n",
        "        plt.plot(history.history['loss'])\n",
        "        plt.plot(history.history['val_loss'])\n",
        "        plt.xlabel(\"epochs\")\n",
        "        plt.title(\"model_loss\")\n",
        "        plt.legend(['train','val'],loc = 'upper right')\n",
        "\n"
      ],
      "metadata": {
        "id": "UQrq-0p4ke7b"
      },
      "execution_count": 32,
      "outputs": []
    },
    {
      "cell_type": "code",
      "source": [
        "modelPlot(history,1,1)"
      ],
      "metadata": {
        "colab": {
          "base_uri": "https://localhost:8080/",
          "height": 478
        },
        "id": "abFetoL2kgnH",
        "outputId": "a9cd1330-9d2b-4b2b-9afc-43f50ec3a163"
      },
      "execution_count": 33,
      "outputs": [
        {
          "output_type": "display_data",
          "data": {
            "text/plain": [
              "<Figure size 1440x504 with 2 Axes>"
            ],
            "image/png": "[encoded data removed]"
          },
          "metadata": {
            "needs_background": "light"
          }
        }
      ]
    },
    {
      "cell_type": "markdown",
      "source": [
        "# 2. BÀI TOÁN NHẬN DIỆN THỰC THỂ CÓ TÊN (NAMEDENTITIES RECOGNITION)"
      ],
      "metadata": {
        "id": "ujMfWIcPjXLt"
      }
    },
    {
      "cell_type": "code",
      "source": [
        "train = \"/content/drive/MyDrive/Data Scientist/DS201.N11-Deep learning/PhoNER_COVID19-main/data/word/train_word.conll\"\n",
        "dev = \"/content/drive/MyDrive/Data Scientist/DS201.N11-Deep learning/PhoNER_COVID19-main/data/word/dev_word.conll\"\n",
        "test = \"/content/drive/MyDrive/Data Scientist/DS201.N11-Deep learning/PhoNER_COVID19-main/data/word/test_word.conll\""
      ],
      "metadata": {
        "id": "GnRCzRMte-Bt"
      },
      "execution_count": 59,
      "outputs": []
    },
    {
      "cell_type": "code",
      "source": [
        "def load_data_and_labels(filename, encoding='utf-8'):\n",
        "  sents, labels = [], []\n",
        "  words, tags = [], []\n",
        "  with open(filename, encoding=encoding) as f:\n",
        "    for line in f:\n",
        "      try:\n",
        "        line = line.strip()\n",
        "        if line:\n",
        "          word, tag = line.split(\" \")\n",
        "          words.append(word)\n",
        "          tags.append(tag)\n",
        "        else:\n",
        "          sents.append(words)\n",
        "          labels.append(tags)\n",
        "          words, tags = [], []\n",
        "      except Exception as e:\n",
        "        pass\n",
        "  return sents, labels\n",
        "  \n",
        "train_set = load_data_and_labels(train)\n",
        "dev_set = load_data_and_labels(dev)\n",
        "test_set = load_data_and_labels(test)"
      ],
      "metadata": {
        "id": "bMBrXQ0mk3Uy"
      },
      "execution_count": 60,
      "outputs": []
    },
    {
      "cell_type": "code",
      "source": [
        "tags = list(set(np.concatenate((np.concatenate(train_set[1]),\n",
        "np.concatenate(dev_set[1])))))\n",
        "tags2idx = {t:i for i,t in enumerate(tags)}"
      ],
      "metadata": {
        "id": "Uq6UWJKxk4lh"
      },
      "execution_count": 62,
      "outputs": []
    },
    {
      "cell_type": "code",
      "source": [
        "plt.hist(np.vectorize(len) (train_set[0]))"
      ],
      "metadata": {
        "colab": {
          "base_uri": "https://localhost:8080/",
          "height": 352
        },
        "id": "kp6n2HKRoAfP",
        "outputId": "bc9b96be-a621-44be-cb68-6a7ab2d8918a"
      },
      "execution_count": 64,
      "outputs": [
        {
          "output_type": "execute_result",
          "data": {
            "text/plain": [
              "(array([2.060e+03, 2.095e+03, 6.810e+02, 1.480e+02, 3.100e+01, 8.000e+00,\n",
              "        2.000e+00, 1.000e+00, 0.000e+00, 1.000e+00]),\n",
              " array([  6. ,  21.5,  37. ,  52.5,  68. ,  83.5,  99. , 114.5, 130. ,\n",
              "        145.5, 161. ]),\n",
              " <a list of 10 Patch objects>)"
            ]
          },
          "metadata": {},
          "execution_count": 64
        },
        {
          "output_type": "display_data",
          "data": {
            "text/plain": [
              "<Figure size 432x288 with 1 Axes>"
            ],
            "image/png": "[encoded data removed]"
          },
          "metadata": {
            "needs_background": "light"
          }
        }
      ]
    },
    {
      "cell_type": "code",
      "source": [
        "num_words = len(words)\n",
        "\n",
        "word2idx = {w:i+2 for i,w in enumerate(words)}\n",
        "word2idx[\"PAD\"] = 1\n",
        "word2idx[\"UNK\"] = 0"
      ],
      "metadata": {
        "id": "ZKRQwoSyoRa7"
      },
      "execution_count": 67,
      "outputs": []
    },
    {
      "cell_type": "code",
      "source": [
        "MAX_LEN_NER = 60\n",
        "def encoding_ner(X,y):\n",
        "  sentences = []\n",
        "  for sent in X:\n",
        "    te = []\n",
        "    for w in sent:\n",
        "      try:\n",
        "        te.append(word2idx[w])\n",
        "      except:\n",
        "        te.append(word2idx['UNK'])\n",
        "    sentences.append(te)\n",
        "  sentences = pad_sequences(sentences,padding='post',value = word2idx['UNK'],maxlen = MAX_LEN_NER)\n",
        "\n",
        "  y = [[tags2idx[tag] for tag in tags]for tags in y] \n",
        "  y = pad_sequences(y,padding='post',value = tags2idx['O'],maxlen = MAX_LEN_NER)\n",
        "\n",
        "  y = to_categorical(y,num_classes = len(tags2idx))\n",
        "  return sentences,y"
      ],
      "metadata": {
        "id": "YubrfqNooC1B"
      },
      "execution_count": 68,
      "outputs": []
    },
    {
      "cell_type": "code",
      "source": [
        "X_train_encoded_ner,y_train_new_ner = encoding_ner(train_set[0],train_set[1])\n",
        "X_dev_encoded_ner,y_dev_new_ner = encoding_ner(dev_set[0],dev_set[1])\n",
        "X_test_encoded_ner, y_test_new_ner = encoding_ner(test_set[0],test_set[1])"
      ],
      "metadata": {
        "id": "M9SzudkzoELF"
      },
      "execution_count": 69,
      "outputs": []
    },
    {
      "cell_type": "code",
      "source": [
        "input = Input(shape = (MAX_LEN_NER))\n",
        "embedding = Embedding(input_dim = num_words,output_dim = embedding_dim,input_length =MAX_LEN_NER,embeddings_initializer=Constant(embedding_matrix),trainable = False) (input)\n",
        "bi_lstm = Bidirectional(LSTM(units=512, return_sequences=True,\n",
        "                        recurrent_dropout=0.2, dropout=0.2)) (embedding)\n",
        "output = TimeDistributed(Dense(len(tags2idx),activation ='softmax')) (bi_lstm)"
      ],
      "metadata": {
        "colab": {
          "base_uri": "https://localhost:8080/"
        },
        "id": "m5z4jlMOojnm",
        "outputId": "a5fad30e-6245-4e4e-b50c-e7ef5e769bde"
      },
      "execution_count": 70,
      "outputs": [
        {
          "output_type": "stream",
          "name": "stderr",
          "text": [
            "WARNING:tensorflow:Layer lstm_6 will not use cuDNN kernels since it doesn't meet the criteria. It will use a generic GPU kernel as fallback when running on GPU.\n",
            "WARNING:tensorflow:Layer lstm_6 will not use cuDNN kernels since it doesn't meet the criteria. It will use a generic GPU kernel as fallback when running on GPU.\n",
            "WARNING:tensorflow:Layer lstm_6 will not use cuDNN kernels since it doesn't meet the criteria. It will use a generic GPU kernel as fallback when running on GPU.\n"
          ]
        }
      ]
    },
    {
      "cell_type": "code",
      "source": [
        "model_ner = Model(input, output)\n",
        "model_ner.summary()"
      ],
      "metadata": {
        "colab": {
          "base_uri": "https://localhost:8080/"
        },
        "id": "8CSOmJsholH9",
        "outputId": "5d77863f-bef8-44b6-ad72-99e882b123ad"
      },
      "execution_count": 71,
      "outputs": [
        {
          "output_type": "stream",
          "name": "stdout",
          "text": [
            "Model: \"model\"\n",
            "_________________________________________________________________\n",
            " Layer (type)                Output Shape              Param #   \n",
            "=================================================================\n",
            " input_6 (InputLayer)        [(None, 60)]              0         \n",
            "                                                                 \n",
            " embedding_5 (Embedding)     (None, 60, 100)           158750800 \n",
            "                                                                 \n",
            " bidirectional_6 (Bidirectio  (None, 60, 1024)         2510848   \n",
            " nal)                                                            \n",
            "                                                                 \n",
            " time_distributed (TimeDistr  (None, 60, 20)           20500     \n",
            " ibuted)                                                         \n",
            "                                                                 \n",
            "=================================================================\n",
            "Total params: 161,282,148\n",
            "Trainable params: 2,531,348\n",
            "Non-trainable params: 158,750,800\n",
            "_________________________________________________________________\n"
          ]
        }
      ]
    },
    {
      "cell_type": "code",
      "source": [
        "model_ner.compile(optimizer=optimizer, loss=loss, metrics=['accuracy'])"
      ],
      "metadata": {
        "id": "_5mNSbiIomzA"
      },
      "execution_count": 72,
      "outputs": []
    },
    {
      "cell_type": "code",
      "source": [
        "history_ner = model_ner.fit(\n",
        "    X_train_encoded_ner,\n",
        "    y_train_new_ner,\n",
        "    validation_data = (X_dev_encoded_ner,y_dev_new_ner),\n",
        "    epochs = 3,\n",
        "    batch_size = 128\n",
        ")"
      ],
      "metadata": {
        "colab": {
          "base_uri": "https://localhost:8080/"
        },
        "id": "Bb9EJBHmooH2",
        "outputId": "e2348024-d8b1-46f3-c74c-ed614e7976ab"
      },
      "execution_count": 73,
      "outputs": [
        {
          "output_type": "stream",
          "name": "stdout",
          "text": [
            "Epoch 1/3\n",
            "40/40 [==============================] - 35s 746ms/step - loss: 1.5111 - accuracy: 0.8869 - val_loss: 1.8678 - val_accuracy: 0.8841\n",
            "Epoch 2/3\n",
            "40/40 [==============================] - 20s 511ms/step - loss: 1.4711 - accuracy: 0.9087 - val_loss: 1.8678 - val_accuracy: 0.8841\n",
            "Epoch 3/3\n",
            "40/40 [==============================] - 23s 567ms/step - loss: 1.4711 - accuracy: 0.9087 - val_loss: 1.8678 - val_accuracy: 0.8841\n"
          ]
        }
      ]
    },
    {
      "cell_type": "code",
      "source": [
        "modelPlot(history_ner,1,1)"
      ],
      "metadata": {
        "colab": {
          "base_uri": "https://localhost:8080/",
          "height": 478
        },
        "id": "WhLhGyleormN",
        "outputId": "ee92c072-e044-497a-c0dc-0438fd69fb32"
      },
      "execution_count": 74,
      "outputs": [
        {
          "output_type": "display_data",
          "data": {
            "text/plain": [
              "<Figure size 1440x504 with 2 Axes>"
            ],
            "image/png": "[encoded data removed]"
          },
          "metadata": {
            "needs_background": "light"
          }
        }
      ]
    },
    {
      "cell_type": "code",
      "source": [
        "y_pred = np.argmax(model_ner.predict(X_test_encoded_ner),axis=-1)"
      ],
      "metadata": {
        "colab": {
          "base_uri": "https://localhost:8080/"
        },
        "id": "vd3MGH_WoqO-",
        "outputId": "fafa0c6b-3486-473c-d0fe-72c05794bf7b"
      },
      "execution_count": 75,
      "outputs": [
        {
          "output_type": "stream",
          "name": "stdout",
          "text": [
            "94/94 [==============================] - 4s 41ms/step\n"
          ]
        }
      ]
    },
    {
      "cell_type": "code",
      "source": [
        "import numpy as np\n",
        "from sklearn.metrics import accuracy_score\n",
        "acc = []\n",
        "for i in range(0, len(y_test_new_ner)):\n",
        "  acc.append(accuracy_score(np.argmax(y_test_new_ner,axis=-1)[i], y_pred[i]))\n",
        "\n",
        "np.mean(acc)*100"
      ],
      "metadata": {
        "colab": {
          "base_uri": "https://localhost:8080/"
        },
        "id": "EtyUFPMDotkf",
        "outputId": "ba692bc6-f30e-40f6-bcb1-d3194b03a96d"
      },
      "execution_count": 76,
      "outputs": [
        {
          "output_type": "execute_result",
          "data": {
            "text/plain": [
              "87.89722222222224"
            ]
          },
          "metadata": {},
          "execution_count": 76
        }
      ]
    },
    {
      "cell_type": "code",
      "source": [
        "np.argmax(model_ner.predict(X_test_encoded_ner),axis = 2)[2]"
      ],
      "metadata": {
        "colab": {
          "base_uri": "https://localhost:8080/"
        },
        "id": "TgNXRjG8ovV6",
        "outputId": "6705fc2c-6cd3-4d5d-a589-bb1d5d10a00d"
      },
      "execution_count": 77,
      "outputs": [
        {
          "output_type": "stream",
          "name": "stdout",
          "text": [
            "94/94 [==============================] - 4s 41ms/step\n"
          ]
        },
        {
          "output_type": "execute_result",
          "data": {
            "text/plain": [
              "array([9, 9, 9, 9, 9, 9, 9, 9, 9, 9, 9, 9, 9, 9, 9, 9, 9, 9, 9, 9, 9, 9,\n",
              "       9, 9, 9, 9, 9, 9, 9, 9, 9, 9, 9, 9, 9, 9, 9, 9, 9, 9, 9, 9, 9, 9,\n",
              "       9, 9, 9, 9, 9, 9, 9, 9, 9, 9, 9, 9, 9, 9, 9, 9])"
            ]
          },
          "metadata": {},
          "execution_count": 77
        }
      ]
    },
    {
      "cell_type": "markdown",
      "source": [
        "# BÀI TẬP"
      ],
      "metadata": {
        "id": "S9TFTBtKlKWX"
      }
    },
    {
      "cell_type": "markdown",
      "source": [
        "## Bai 01"
      ],
      "metadata": {
        "id": "xPLQbOzTlMwo"
      }
    },
    {
      "cell_type": "code",
      "source": [
        "model_bt1 = Sequential()\n",
        "model_bt1.add(Input(shape=(MAX_LEN, ), dtype=\"float64\"))\n",
        "model_bt1.add(Embedding(input_dim=num_words,\n",
        "output_dim=embedding_dim,\n",
        "embeddings_initializer=Constant(embedding_matrix),\n",
        "input_length=MAX_LEN, trainable=False))\n",
        "model_bt1.add(Bidirectional(LSTM(200, return_sequences=False)))\n",
        "model_bt1.add(Dense(3, activation='softmax'))"
      ],
      "metadata": {
        "id": "lQomYF7klMH3"
      },
      "execution_count": 36,
      "outputs": []
    },
    {
      "cell_type": "code",
      "source": [
        "model_bt1.summary()"
      ],
      "metadata": {
        "colab": {
          "base_uri": "https://localhost:8080/"
        },
        "id": "sLi-Od8SlSMd",
        "outputId": "3247a9c5-4183-4889-92da-b16a286377cf"
      },
      "execution_count": 37,
      "outputs": [
        {
          "output_type": "stream",
          "name": "stdout",
          "text": [
            "Model: \"sequential_2\"\n",
            "_________________________________________________________________\n",
            " Layer (type)                Output Shape              Param #   \n",
            "=================================================================\n",
            " embedding_2 (Embedding)     (None, 100, 100)          158750800 \n",
            "                                                                 \n",
            " bidirectional_2 (Bidirectio  (None, 400)              481600    \n",
            " nal)                                                            \n",
            "                                                                 \n",
            " dense_2 (Dense)             (None, 3)                 1203      \n",
            "                                                                 \n",
            "=================================================================\n",
            "Total params: 159,233,603\n",
            "Trainable params: 482,803\n",
            "Non-trainable params: 158,750,800\n",
            "_________________________________________________________________\n"
          ]
        }
      ]
    },
    {
      "cell_type": "code",
      "source": [
        "model_bt1.compile(optimizer=optimizer, loss=loss, metrics=['accuracy'])"
      ],
      "metadata": {
        "id": "afXdKdSUlUHQ"
      },
      "execution_count": 38,
      "outputs": []
    },
    {
      "cell_type": "code",
      "source": [
        "history_bt1 = model_bt1.fit(\n",
        "    X_train_encoded,\n",
        "    y_train_encoded,\n",
        "    validation_data = (X_dev_encoded,y_dev_encoded),\n",
        "    epochs = 10,\n",
        "    batch_size = 128\n",
        ")"
      ],
      "metadata": {
        "colab": {
          "base_uri": "https://localhost:8080/"
        },
        "id": "KyxTuOaylVkR",
        "outputId": "b0434cfa-5d99-46ae-c804-dd748c923e53"
      },
      "execution_count": 40,
      "outputs": [
        {
          "output_type": "stream",
          "name": "stdout",
          "text": [
            "Epoch 1/10\n",
            "90/90 [==============================] - 8s 39ms/step - loss: 0.9587 - accuracy: 0.6028 - val_loss: 0.6405 - val_accuracy: 0.7239\n",
            "Epoch 2/10\n",
            "90/90 [==============================] - 2s 25ms/step - loss: 0.6121 - accuracy: 0.7432 - val_loss: 0.5230 - val_accuracy: 0.8092\n",
            "Epoch 3/10\n",
            "90/90 [==============================] - 2s 25ms/step - loss: 0.5202 - accuracy: 0.7949 - val_loss: 0.4656 - val_accuracy: 0.8282\n",
            "Epoch 4/10\n",
            "90/90 [==============================] - 3s 30ms/step - loss: 0.4525 - accuracy: 0.8297 - val_loss: 0.4344 - val_accuracy: 0.8383\n",
            "Epoch 5/10\n",
            "90/90 [==============================] - 3s 32ms/step - loss: 0.4254 - accuracy: 0.8423 - val_loss: 0.4964 - val_accuracy: 0.8124\n",
            "Epoch 6/10\n",
            "90/90 [==============================] - 2s 26ms/step - loss: 0.4218 - accuracy: 0.8446 - val_loss: 0.4413 - val_accuracy: 0.8282\n",
            "Epoch 7/10\n",
            "90/90 [==============================] - 2s 25ms/step - loss: 0.4155 - accuracy: 0.8471 - val_loss: 0.4112 - val_accuracy: 0.8471\n",
            "Epoch 8/10\n",
            "90/90 [==============================] - 2s 25ms/step - loss: 0.3770 - accuracy: 0.8639 - val_loss: 0.3948 - val_accuracy: 0.8680\n",
            "Epoch 9/10\n",
            "90/90 [==============================] - 2s 25ms/step - loss: 0.3861 - accuracy: 0.8615 - val_loss: 0.3713 - val_accuracy: 0.8793\n",
            "Epoch 10/10\n",
            "90/90 [==============================] - 2s 25ms/step - loss: 0.3591 - accuracy: 0.8710 - val_loss: 0.5993 - val_accuracy: 0.7821\n"
          ]
        }
      ]
    },
    {
      "cell_type": "code",
      "source": [
        "y_pred_bt1 = np.argmax(model_bt1.predict(X_test_encoded),axis = 1)"
      ],
      "metadata": {
        "colab": {
          "base_uri": "https://localhost:8080/"
        },
        "id": "B7i022nxlWvi",
        "outputId": "ea3a9a02-a644-4199-e511-60378acd25b2"
      },
      "execution_count": 41,
      "outputs": [
        {
          "output_type": "stream",
          "name": "stdout",
          "text": [
            "99/99 [==============================] - 1s 6ms/step\n"
          ]
        }
      ]
    },
    {
      "cell_type": "code",
      "source": [
        "from sklearn.metrics import accuracy_score,precision_score,recall_score,confusion_matrix,f1_score\n",
        "\n",
        "print(\"Precision:\",precision_score(y_test,y_pred_bt1,average = 'macro'))\n",
        "print(\"Recall:\",recall_score(y_test,y_pred_bt1,average = 'macro'))\n",
        "print(\"F1-score:\",f1_score(y_test,y_pred_bt1,average = 'macro'))"
      ],
      "metadata": {
        "colab": {
          "base_uri": "https://localhost:8080/"
        },
        "id": "XkvOwkwyla25",
        "outputId": "72bb8a50-d87a-4c10-c04a-8a9cea82fc92"
      },
      "execution_count": 42,
      "outputs": [
        {
          "output_type": "stream",
          "name": "stdout",
          "text": [
            "Precision: 0.5396599518253872\n",
            "Recall: 0.5396821570824276\n",
            "F1-score: 0.5263400374924538\n"
          ]
        },
        {
          "output_type": "stream",
          "name": "stderr",
          "text": [
            "/usr/local/lib/python3.8/dist-packages/sklearn/metrics/_classification.py:1318: UndefinedMetricWarning: Precision is ill-defined and being set to 0.0 in labels with no predicted samples. Use `zero_division` parameter to control this behavior.\n",
            "  _warn_prf(average, modifier, msg_start, len(result))\n"
          ]
        }
      ]
    },
    {
      "cell_type": "code",
      "source": [
        "print(confusion_matrix(y_test,y_pred_bt1))"
      ],
      "metadata": {
        "colab": {
          "base_uri": "https://localhost:8080/"
        },
        "id": "R8P8WJ44ldag",
        "outputId": "452bec32-c83e-41c1-9085-b00ba2e2694f"
      },
      "execution_count": 43,
      "outputs": [
        {
          "output_type": "stream",
          "name": "stdout",
          "text": [
            "[[ 913    0  496]\n",
            " [  53    0  114]\n",
            " [  46    0 1544]]\n"
          ]
        }
      ]
    },
    {
      "cell_type": "markdown",
      "source": [
        "## Bai 02"
      ],
      "metadata": {
        "id": "TCM1fTD-llfq"
      }
    },
    {
      "cell_type": "code",
      "source": [
        "model_bt2 = Sequential()\n",
        "model_bt2.add(Input(shape=(MAX_LEN, ), dtype=\"float64\"))\n",
        "model_bt2.add(Embedding(input_dim=num_words,\n",
        "output_dim=embedding_dim,\n",
        "embeddings_initializer=Constant(embedding_matrix),\n",
        "input_length=MAX_LEN, trainable=False))\n",
        "model_bt2.add(Bidirectional(LSTM(200, return_sequences=True)))\n",
        "model_bt2.add(Bidirectional(LSTM(200, return_sequences=False)))\n",
        "model_bt2.add(Dense(3, activation='softmax'))"
      ],
      "metadata": {
        "id": "N8F0voAwliTt"
      },
      "execution_count": 44,
      "outputs": []
    },
    {
      "cell_type": "code",
      "source": [
        "model_bt2.summary()"
      ],
      "metadata": {
        "colab": {
          "base_uri": "https://localhost:8080/"
        },
        "id": "b7ASWgN-lnk7",
        "outputId": "fe5bc401-29d8-448b-c07e-ffe0a8795717"
      },
      "execution_count": 45,
      "outputs": [
        {
          "output_type": "stream",
          "name": "stdout",
          "text": [
            "Model: \"sequential_3\"\n",
            "_________________________________________________________________\n",
            " Layer (type)                Output Shape              Param #   \n",
            "=================================================================\n",
            " embedding_3 (Embedding)     (None, 100, 100)          158750800 \n",
            "                                                                 \n",
            " bidirectional_3 (Bidirectio  (None, 100, 400)         481600    \n",
            " nal)                                                            \n",
            "                                                                 \n",
            " bidirectional_4 (Bidirectio  (None, 400)              961600    \n",
            " nal)                                                            \n",
            "                                                                 \n",
            " dense_3 (Dense)             (None, 3)                 1203      \n",
            "                                                                 \n",
            "=================================================================\n",
            "Total params: 160,195,203\n",
            "Trainable params: 1,444,403\n",
            "Non-trainable params: 158,750,800\n",
            "_________________________________________________________________\n"
          ]
        }
      ]
    },
    {
      "cell_type": "code",
      "source": [
        "model_bt2.compile(optimizer=optimizer, loss=loss, metrics=['accuracy'])"
      ],
      "metadata": {
        "id": "OaVYRHFTloky"
      },
      "execution_count": 46,
      "outputs": []
    },
    {
      "cell_type": "code",
      "source": [
        "history_bt2 = model_bt2.fit(\n",
        "    X_train_encoded,\n",
        "    y_train_encoded,\n",
        "    validation_data = (X_dev_encoded,y_dev_encoded),\n",
        "    epochs = 10,\n",
        "    batch_size = 128\n",
        ")"
      ],
      "metadata": {
        "colab": {
          "base_uri": "https://localhost:8080/"
        },
        "id": "i5AH3Bidlppt",
        "outputId": "83ae2283-8506-4497-a850-5a6ac487936e"
      },
      "execution_count": 47,
      "outputs": [
        {
          "output_type": "stream",
          "name": "stdout",
          "text": [
            "Epoch 1/10\n",
            "90/90 [==============================] - 15s 77ms/step - loss: 1.0146 - accuracy: 0.5298 - val_loss: 0.7687 - val_accuracy: 0.6677\n",
            "Epoch 2/10\n",
            "90/90 [==============================] - 6s 62ms/step - loss: 0.7383 - accuracy: 0.6989 - val_loss: 0.7544 - val_accuracy: 0.6999\n",
            "Epoch 3/10\n",
            "90/90 [==============================] - 6s 63ms/step - loss: 0.7274 - accuracy: 0.7025 - val_loss: 0.7957 - val_accuracy: 0.7069\n",
            "Epoch 4/10\n",
            "90/90 [==============================] - 6s 68ms/step - loss: 0.7063 - accuracy: 0.7098 - val_loss: 0.6952 - val_accuracy: 0.7246\n",
            "Epoch 5/10\n",
            "90/90 [==============================] - 6s 65ms/step - loss: 0.6983 - accuracy: 0.7132 - val_loss: 0.7037 - val_accuracy: 0.7233\n",
            "Epoch 6/10\n",
            "90/90 [==============================] - 6s 63ms/step - loss: 0.6819 - accuracy: 0.7240 - val_loss: 0.7159 - val_accuracy: 0.7246\n",
            "Epoch 7/10\n",
            "90/90 [==============================] - 6s 63ms/step - loss: 0.7058 - accuracy: 0.7099 - val_loss: 0.7866 - val_accuracy: 0.7006\n",
            "Epoch 8/10\n",
            "90/90 [==============================] - 6s 64ms/step - loss: 0.6770 - accuracy: 0.7206 - val_loss: 0.6667 - val_accuracy: 0.7284\n",
            "Epoch 9/10\n",
            "90/90 [==============================] - 6s 64ms/step - loss: 0.6333 - accuracy: 0.7335 - val_loss: 0.6330 - val_accuracy: 0.7625\n",
            "Epoch 10/10\n",
            "90/90 [==============================] - 6s 63ms/step - loss: 0.5966 - accuracy: 0.7607 - val_loss: 0.5982 - val_accuracy: 0.7385\n"
          ]
        }
      ]
    },
    {
      "cell_type": "code",
      "source": [
        "y_pred_bt2 = np.argmax(model_bt2.predict(X_test_encoded),axis = 1)"
      ],
      "metadata": {
        "colab": {
          "base_uri": "https://localhost:8080/"
        },
        "id": "ngUN1qfaltEt",
        "outputId": "269ea8e3-d193-4caf-e2db-21563df02c0b"
      },
      "execution_count": 51,
      "outputs": [
        {
          "output_type": "stream",
          "name": "stdout",
          "text": [
            "99/99 [==============================] - 2s 12ms/step\n"
          ]
        }
      ]
    },
    {
      "cell_type": "code",
      "source": [
        "from sklearn.metrics import accuracy_score,precision_score,recall_score,confusion_matrix,f1_score\n",
        "\n",
        "print(\"Precision:\",precision_score(y_test,y_pred_bt2,average = 'macro'))\n",
        "print(\"Recall:\",recall_score(y_test,y_pred_bt2,average = 'macro'))\n",
        "print(\"F1-score:\",f1_score(y_test,y_pred_bt2,average = 'macro'))"
      ],
      "metadata": {
        "colab": {
          "base_uri": "https://localhost:8080/"
        },
        "id": "gdSih8Bvly9-",
        "outputId": "55f1f2ef-db38-4ba1-9430-9e22e61ea88f"
      },
      "execution_count": 52,
      "outputs": [
        {
          "output_type": "stream",
          "name": "stdout",
          "text": [
            "Precision: 0.47786470973505485\n",
            "Recall: 0.5015021730623589\n",
            "F1-score: 0.4881457060969517\n"
          ]
        },
        {
          "output_type": "stream",
          "name": "stderr",
          "text": [
            "/usr/local/lib/python3.8/dist-packages/sklearn/metrics/_classification.py:1318: UndefinedMetricWarning: Precision is ill-defined and being set to 0.0 in labels with no predicted samples. Use `zero_division` parameter to control this behavior.\n",
            "  _warn_prf(average, modifier, msg_start, len(result))\n"
          ]
        },
        {
          "output_type": "stream",
          "name": "stdout",
          "text": [
            "Precision: 0.47786470973505485\n",
            "Recall: 0.5015021730623589\n",
            "F1-score: 0.4881457060969517\n"
          ]
        },
        {
          "output_type": "stream",
          "name": "stderr",
          "text": [
            "/usr/local/lib/python3.8/dist-packages/sklearn/metrics/_classification.py:1318: UndefinedMetricWarning: Precision is ill-defined and being set to 0.0 in labels with no predicted samples. Use `zero_division` parameter to control this behavior.\n",
            "  _warn_prf(average, modifier, msg_start, len(result))\n"
          ]
        }
      ]
    },
    {
      "cell_type": "code",
      "source": [
        "print(confusion_matrix(y_test,y_pred_bt2))"
      ],
      "metadata": {
        "colab": {
          "base_uri": "https://localhost:8080/"
        },
        "id": "OgUWWaEUlzVr",
        "outputId": "6d85a426-00d4-4f6b-d343-3cc032da66be"
      },
      "execution_count": 54,
      "outputs": [
        {
          "output_type": "stream",
          "name": "stdout",
          "text": [
            "[[ 951    0  458]\n",
            " [ 107    0   60]\n",
            " [ 271    0 1319]]\n"
          ]
        }
      ]
    },
    {
      "cell_type": "markdown",
      "source": [
        "## Bai 03"
      ],
      "metadata": {
        "id": "wHVSxTzIl30Z"
      }
    },
    {
      "cell_type": "code",
      "source": [
        "input = Input(shape = (MAX_LEN_NER))\n",
        "embedding = Embedding(input_dim = num_words,output_dim = embedding_dim,input_length =MAX_LEN_NER,embeddings_initializer=Constant(embedding_matrix),trainable = False) (input)\n",
        "bi_lstm = Bidirectional(LSTM(units=512, return_sequences=True,\n",
        "                        recurrent_dropout=0.2, dropout=0.2)) (embedding)\n",
        "output = TimeDistributed(Dense(len(tags2idx),activation ='softmax')) (bi_lstm)"
      ],
      "metadata": {
        "colab": {
          "base_uri": "https://localhost:8080/"
        },
        "id": "jyB4FjRpo1pH",
        "outputId": "8dffffd6-b2b7-4b36-f418-99e906d41a93"
      },
      "execution_count": 80,
      "outputs": [
        {
          "output_type": "stream",
          "name": "stderr",
          "text": [
            "WARNING:tensorflow:Layer lstm_8 will not use cuDNN kernels since it doesn't meet the criteria. It will use a generic GPU kernel as fallback when running on GPU.\n",
            "WARNING:tensorflow:Layer lstm_8 will not use cuDNN kernels since it doesn't meet the criteria. It will use a generic GPU kernel as fallback when running on GPU.\n",
            "WARNING:tensorflow:Layer lstm_8 will not use cuDNN kernels since it doesn't meet the criteria. It will use a generic GPU kernel as fallback when running on GPU.\n"
          ]
        }
      ]
    },
    {
      "cell_type": "code",
      "source": [
        "model_bt3 = Model(input, output)\n",
        "model_bt3.summary()"
      ],
      "metadata": {
        "colab": {
          "base_uri": "https://localhost:8080/"
        },
        "id": "4NvnN_xRl5uP",
        "outputId": "53fac28d-ed76-46a3-e848-d7d8fa79ed98"
      },
      "execution_count": 81,
      "outputs": [
        {
          "output_type": "stream",
          "name": "stdout",
          "text": [
            "Model: \"model_2\"\n",
            "_________________________________________________________________\n",
            " Layer (type)                Output Shape              Param #   \n",
            "=================================================================\n",
            " input_8 (InputLayer)        [(None, 60)]              0         \n",
            "                                                                 \n",
            " embedding_7 (Embedding)     (None, 60, 100)           158750800 \n",
            "                                                                 \n",
            " bidirectional_8 (Bidirectio  (None, 60, 1024)         2510848   \n",
            " nal)                                                            \n",
            "                                                                 \n",
            " time_distributed_2 (TimeDis  (None, 60, 20)           20500     \n",
            " tributed)                                                       \n",
            "                                                                 \n",
            "=================================================================\n",
            "Total params: 161,282,148\n",
            "Trainable params: 2,531,348\n",
            "Non-trainable params: 158,750,800\n",
            "_________________________________________________________________\n"
          ]
        }
      ]
    },
    {
      "cell_type": "code",
      "source": [
        "model_bt3.compile(optimizer=optimizer, loss=loss, metrics=['accuracy'])"
      ],
      "metadata": {
        "id": "WWoen4wml_Nj"
      },
      "execution_count": 82,
      "outputs": []
    },
    {
      "cell_type": "code",
      "source": [
        "history_bt3 = model_bt3.fit(\n",
        "    X_train_encoded_ner,\n",
        "    y_train_new_ner,\n",
        "    validation_data = (X_dev_encoded_ner,y_dev_new_ner),\n",
        "    epochs = 3,\n",
        "    batch_size = 128\n",
        ")"
      ],
      "metadata": {
        "colab": {
          "base_uri": "https://localhost:8080/"
        },
        "id": "Ag5kSuBomAjA",
        "outputId": "afa1c0d7-b72a-4280-c8ed-4c16ae8e0213"
      },
      "execution_count": 83,
      "outputs": [
        {
          "output_type": "stream",
          "name": "stdout",
          "text": [
            "Epoch 1/3\n",
            "40/40 [==============================] - 37s 838ms/step - loss: 1.5114 - accuracy: 0.8857 - val_loss: 1.8678 - val_accuracy: 0.8841\n",
            "Epoch 2/3\n",
            "40/40 [==============================] - 20s 504ms/step - loss: 1.4711 - accuracy: 0.9087 - val_loss: 1.8678 - val_accuracy: 0.8841\n",
            "Epoch 3/3\n",
            "40/40 [==============================] - 20s 497ms/step - loss: 1.4711 - accuracy: 0.9087 - val_loss: 1.8678 - val_accuracy: 0.8841\n"
          ]
        }
      ]
    },
    {
      "cell_type": "code",
      "source": [
        "y_pred_bt3 = np.argmax(model_bt3.predict(X_test_encoded_ner),axis=-1)"
      ],
      "metadata": {
        "colab": {
          "base_uri": "https://localhost:8080/"
        },
        "id": "uPmiYnPRpP3r",
        "outputId": "7d234082-5c4c-4b12-ed76-91ab7c99cd03"
      },
      "execution_count": 84,
      "outputs": [
        {
          "output_type": "stream",
          "name": "stdout",
          "text": [
            "94/94 [==============================] - 4s 41ms/step\n"
          ]
        }
      ]
    },
    {
      "cell_type": "code",
      "source": [
        "from sklearn.metrics import accuracy_score\n",
        "acc = []\n",
        "for i in range(0, len(y_test_new_ner)):\n",
        "  acc.append(accuracy_score(np.argmax(y_test_new_ner,axis=-1)[i], y_pred_bt3[i]))\n",
        "\n",
        "np.mean(acc)*100"
      ],
      "metadata": {
        "colab": {
          "base_uri": "https://localhost:8080/"
        },
        "id": "xDV8up5vpReQ",
        "outputId": "929ee01e-3f45-41d1-d11d-f9447e47f3d0"
      },
      "execution_count": 85,
      "outputs": [
        {
          "output_type": "execute_result",
          "data": {
            "text/plain": [
              "87.89722222222224"
            ]
          },
          "metadata": {},
          "execution_count": 85
        }
      ]
    },
    {
      "cell_type": "code",
      "source": [
        "np.argmax(model_bt3.predict(X_test_encoded_ner),axis = 2)[2]"
      ],
      "metadata": {
        "colab": {
          "base_uri": "https://localhost:8080/"
        },
        "id": "zCvohSQJpTWR",
        "outputId": "40061d92-3494-4441-e25d-2c4a4f78bccf"
      },
      "execution_count": 86,
      "outputs": [
        {
          "output_type": "stream",
          "name": "stdout",
          "text": [
            "94/94 [==============================] - 4s 40ms/step\n"
          ]
        },
        {
          "output_type": "execute_result",
          "data": {
            "text/plain": [
              "array([9, 9, 9, 9, 9, 9, 9, 9, 9, 9, 9, 9, 9, 9, 9, 9, 9, 9, 9, 9, 9, 9,\n",
              "       9, 9, 9, 9, 9, 9, 9, 9, 9, 9, 9, 9, 9, 9, 9, 9, 9, 9, 9, 9, 9, 9,\n",
              "       9, 9, 9, 9, 9, 9, 9, 9, 9, 9, 9, 9, 9, 9, 9, 9])"
            ]
          },
          "metadata": {},
          "execution_count": 86
        }
      ]
    },
    {
      "cell_type": "markdown",
      "source": [
        "## Bai 04"
      ],
      "metadata": {
        "id": "N2a5gY5DpWeG"
      }
    },
    {
      "cell_type": "code",
      "source": [
        "train = \"/content/drive/MyDrive/Data Scientist/DS201.N11-Deep learning/PhoNER_COVID19-main/data/syllable/train_syllable.conll\"\n",
        "dev = \"/content/drive/MyDrive/Data Scientist/DS201.N11-Deep learning/PhoNER_COVID19-main/data/syllable/dev_syllable.conll\"\n",
        "test = \"/content/drive/MyDrive/Data Scientist/DS201.N11-Deep learning/PhoNER_COVID19-main/data/syllable/test_syllable.conll\"\n",
        "\n",
        "train_set_syllable = load_data_and_labels(train)\n",
        "dev_set_syllable = load_data_and_labels(dev)\n",
        "test_set_syllable = load_data_and_labels(test)"
      ],
      "metadata": {
        "id": "8uM43bBOpVP_"
      },
      "execution_count": 89,
      "outputs": []
    },
    {
      "cell_type": "markdown",
      "source": [
        "## Bai 05"
      ],
      "metadata": {
        "id": "-USJwxkaqRKJ"
      }
    },
    {
      "cell_type": "code",
      "source": [
        "input = Input(shape = (MAX_LEN_NER))\n",
        "embedding = Embedding(input_dim = num_words,output_dim = embedding_dim,input_length =MAX_LEN_NER,embeddings_initializer=Constant(embedding_matrix),trainable = False) (input)\n",
        "bi_lstm = Bidirectional(LSTM(units=512, return_sequences=True,\n",
        "                        recurrent_dropout=0.2, dropout=0.2)) (embedding)\n",
        "bi_lstm = Bidirectional(LSTM(units=512, return_sequences=True,\n",
        "                        recurrent_dropout=0.2, dropout=0.2)) (bi_lstm)                        \n",
        "output = TimeDistributed(Dense(len(tags2idx),activation ='softmax')) (bi_lstm)"
      ],
      "metadata": {
        "colab": {
          "base_uri": "https://localhost:8080/"
        },
        "id": "bnYKJE3IqAhL",
        "outputId": "688fcda4-805c-49e9-b30f-fb50677483b9"
      },
      "execution_count": 90,
      "outputs": [
        {
          "output_type": "stream",
          "name": "stderr",
          "text": [
            "WARNING:tensorflow:Layer lstm_9 will not use cuDNN kernels since it doesn't meet the criteria. It will use a generic GPU kernel as fallback when running on GPU.\n",
            "WARNING:tensorflow:Layer lstm_9 will not use cuDNN kernels since it doesn't meet the criteria. It will use a generic GPU kernel as fallback when running on GPU.\n",
            "WARNING:tensorflow:Layer lstm_9 will not use cuDNN kernels since it doesn't meet the criteria. It will use a generic GPU kernel as fallback when running on GPU.\n",
            "WARNING:tensorflow:Layer lstm_10 will not use cuDNN kernels since it doesn't meet the criteria. It will use a generic GPU kernel as fallback when running on GPU.\n",
            "WARNING:tensorflow:Layer lstm_10 will not use cuDNN kernels since it doesn't meet the criteria. It will use a generic GPU kernel as fallback when running on GPU.\n",
            "WARNING:tensorflow:Layer lstm_10 will not use cuDNN kernels since it doesn't meet the criteria. It will use a generic GPU kernel as fallback when running on GPU.\n"
          ]
        }
      ]
    },
    {
      "cell_type": "code",
      "source": [
        "model_bt5 = Model(input, output)\n",
        "model_bt5.summary()"
      ],
      "metadata": {
        "colab": {
          "base_uri": "https://localhost:8080/"
        },
        "id": "lfOxBCFuqcHq",
        "outputId": "aebf33ab-a90e-42b9-d58e-79a281003f04"
      },
      "execution_count": 91,
      "outputs": [
        {
          "output_type": "stream",
          "name": "stdout",
          "text": [
            "Model: \"model_3\"\n",
            "_________________________________________________________________\n",
            " Layer (type)                Output Shape              Param #   \n",
            "=================================================================\n",
            " input_9 (InputLayer)        [(None, 60)]              0         \n",
            "                                                                 \n",
            " embedding_8 (Embedding)     (None, 60, 100)           158750800 \n",
            "                                                                 \n",
            " bidirectional_9 (Bidirectio  (None, 60, 1024)         2510848   \n",
            " nal)                                                            \n",
            "                                                                 \n",
            " bidirectional_10 (Bidirecti  (None, 60, 1024)         6295552   \n",
            " onal)                                                           \n",
            "                                                                 \n",
            " time_distributed_3 (TimeDis  (None, 60, 20)           20500     \n",
            " tributed)                                                       \n",
            "                                                                 \n",
            "=================================================================\n",
            "Total params: 167,577,700\n",
            "Trainable params: 8,826,900\n",
            "Non-trainable params: 158,750,800\n",
            "_________________________________________________________________\n"
          ]
        }
      ]
    },
    {
      "cell_type": "code",
      "source": [
        "model_bt5.compile(optimizer=optimizer, loss=loss, metrics=['accuracy'])"
      ],
      "metadata": {
        "id": "r416Ashuqd6s"
      },
      "execution_count": 92,
      "outputs": []
    },
    {
      "cell_type": "code",
      "source": [
        "history_bt5 = model_bt5.fit(\n",
        "    X_train_encoded_ner,\n",
        "    y_train_new_ner,\n",
        "    validation_data = (X_dev_encoded_ner,y_dev_new_ner),\n",
        "    epochs = 3,\n",
        "    batch_size = 128\n",
        ")"
      ],
      "metadata": {
        "colab": {
          "base_uri": "https://localhost:8080/"
        },
        "id": "6_FJ4ECgqgRL",
        "outputId": "f2dea066-a053-4c20-db67-0c04d4a0b07c"
      },
      "execution_count": 93,
      "outputs": [
        {
          "output_type": "stream",
          "name": "stdout",
          "text": [
            "Epoch 1/3\n",
            "40/40 [==============================] - 58s 1s/step - loss: 1.5102 - accuracy: 0.8868 - val_loss: 1.8678 - val_accuracy: 0.8841\n",
            "Epoch 2/3\n",
            "40/40 [==============================] - 41s 1s/step - loss: 1.4711 - accuracy: 0.9087 - val_loss: 1.8678 - val_accuracy: 0.8841\n",
            "Epoch 3/3\n",
            "40/40 [==============================] - 43s 1s/step - loss: 1.4711 - accuracy: 0.9087 - val_loss: 1.8678 - val_accuracy: 0.8841\n"
          ]
        }
      ]
    },
    {
      "cell_type": "code",
      "source": [
        "y_pred_bt5 = np.argmax(model_bt5.predict(X_test_encoded_ner),axis=-1)"
      ],
      "metadata": {
        "colab": {
          "base_uri": "https://localhost:8080/"
        },
        "id": "NjfI2-Ctqggj",
        "outputId": "a00243c2-9314-43e2-a091-6309ef397e7e"
      },
      "execution_count": 94,
      "outputs": [
        {
          "output_type": "stream",
          "name": "stdout",
          "text": [
            "94/94 [==============================] - 9s 86ms/step\n"
          ]
        }
      ]
    },
    {
      "cell_type": "code",
      "source": [
        "import numpy as np\n",
        "from sklearn.metrics import accuracy_score\n",
        "acc = []\n",
        "for i in range(0, len(y_test_new_ner)):\n",
        "  acc.append(accuracy_score(np.argmax(y_test_new_ner,axis=-1)[i], y_pred_bt5[i]))\n",
        "\n",
        "np.mean(acc)*100"
      ],
      "metadata": {
        "colab": {
          "base_uri": "https://localhost:8080/"
        },
        "id": "UYs4Fw4yqhm4",
        "outputId": "a15fbbe8-63f2-4819-a69b-dc31fee5fa12"
      },
      "execution_count": 95,
      "outputs": [
        {
          "output_type": "execute_result",
          "data": {
            "text/plain": [
              "87.89722222222224"
            ]
          },
          "metadata": {},
          "execution_count": 95
        }
      ]
    }
  ]
}