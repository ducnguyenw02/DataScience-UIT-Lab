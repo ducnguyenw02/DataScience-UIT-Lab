{
  "cells": [
    {
      "cell_type": "markdown",
      "source": [
        "DS201 - Deep Learning trong Khoa học dữ liệu\n",
        "\n",
        "Bài thực hành 5. MẠNG NEURAL HỒI QUY (RNN) \n",
        "\n",
        "Họ tên: Nguyễn Mạnh Đức\n",
        "\n",
        "MSSV: 20521196 "
      ],
      "metadata": {
        "id": "09zd2XB5TBdp"
      }
    },
    {
      "cell_type": "markdown",
      "source": [
        "# 1. Bộ dữ liệu "
      ],
      "metadata": {
        "id": "7Cc1xYRbOlSv"
      }
    },
    {
      "cell_type": "code",
      "execution_count": 1,
      "metadata": {
        "id": "a_Z_Oggk_dhZ",
        "colab": {
          "base_uri": "https://localhost:8080/"
        },
        "outputId": "77105478-26e5-4e9f-f79a-a668251ec6de"
      },
      "outputs": [
        {
          "output_type": "stream",
          "name": "stdout",
          "text": [
            "Downloading data from https://storage.googleapis.com/tensorflow/tf-keras-datasets/imdb.npz\n",
            "17464789/17464789 [==============================] - 0s 0us/step\n"
          ]
        }
      ],
      "source": [
        "from keras.datasets import imdb\n",
        "(training_data, training_targets),(testing_data, testing_targets)=imdb.load_data(num_words=10000)"
      ]
    },
    {
      "cell_type": "markdown",
      "source": [
        "Cho biết số lượng phần tử của tập train và tập test"
      ],
      "metadata": {
        "id": "r611QdgrOtkZ"
      }
    },
    {
      "cell_type": "code",
      "execution_count": 4,
      "metadata": {
        "colab": {
          "base_uri": "https://localhost:8080/"
        },
        "id": "MJTJ2vBSBr1_",
        "outputId": "fbefc07a-c470-4692-8187-3935e6c13b8e"
      },
      "outputs": [
        {
          "output_type": "stream",
          "name": "stdout",
          "text": [
            "Tập train: 25000\n",
            "Tập test: 25000\n"
          ]
        }
      ],
      "source": [
        "print(\"Tập train: \" + str(len(training_targets)))\n",
        "print(\"Tập test: \" + str(len(testing_targets)))"
      ]
    },
    {
      "cell_type": "markdown",
      "metadata": {
        "id": "Am15VAWgFzVc"
      },
      "source": [
        "Vẽ biểu đồ cột thể hiện số lượng nhãn của mỗi tập dữ liệu và biểu đồ tròn thể hiện tỉ lệ phân bố nhãn của mỗi tập dữ liệu"
      ]
    },
    {
      "cell_type": "code",
      "execution_count": 6,
      "metadata": {
        "id": "Ayci_OxnD2Pm"
      },
      "outputs": [],
      "source": [
        "import matplotlib.pyplot as plt\n",
        "labels = ['0', '1']\n",
        " \n",
        "sl_1_train = sum(training_targets[training_targets == 1])\n",
        "sl_0_train = len(training_targets) - sl_1_train \n",
        "\n",
        "sl_1_test = sum(testing_targets[testing_targets == 1])\n",
        "sl_0_test = len(testing_targets) - sl_1_test"
      ]
    },
    {
      "cell_type": "code",
      "source": [
        "sl_train = [sl_0_train, sl_1_train] \n",
        "\n",
        "plt.bar(labels, sl_train)\n",
        "plt.ylabel('Số lượng')\n",
        "plt.xlabel('Labels')\n",
        "plt.title(\"Tập train\")\n",
        "plt.show()\n",
        "\n",
        "sl_test = [sl_0_test, sl_1_test] \n",
        "\n",
        "plt.bar(labels, sl_test)\n",
        "plt.ylabel('Số lượng')\n",
        "plt.xlabel('Labels')\n",
        "plt.title(\"Tập test\")\n",
        "plt.show()"
      ],
      "metadata": {
        "colab": {
          "base_uri": "https://localhost:8080/",
          "height": 573
        },
        "id": "k1jSPPrjQBoe",
        "outputId": "9245244f-d752-4ca9-fe00-acf40cc2ff5a"
      },
      "execution_count": 8,
      "outputs": [
        {
          "output_type": "display_data",
          "data": {
            "text/plain": [
              "<Figure size 432x288 with 1 Axes>"
            ],
            "image/png": "[encoded data removed]"
          },
          "metadata": {
            "needs_background": "light"
          }
        },
        {
          "output_type": "display_data",
          "data": {
            "text/plain": [
              "<Figure size 432x288 with 1 Axes>"
            ],
            "image/png": "[encoded data removed]"
          },
          "metadata": {
            "needs_background": "light"
          }
        }
      ]
    },
    {
      "cell_type": "code",
      "execution_count": 14,
      "metadata": {
        "colab": {
          "base_uri": "https://localhost:8080/",
          "height": 511
        },
        "id": "bf9d4uNEAxR4",
        "outputId": "47fa882f-eec2-4ff1-fe15-fb5f0c060a50"
      },
      "outputs": [
        {
          "output_type": "display_data",
          "data": {
            "text/plain": [
              "<Figure size 432x288 with 1 Axes>"
            ],
            "image/png": "[encoded data removed]"
          },
          "metadata": {}
        },
        {
          "output_type": "display_data",
          "data": {
            "text/plain": [
              "<Figure size 432x288 with 1 Axes>"
            ],
            "image/png": "[encoded data removed]"
          },
          "metadata": {}
        }
      ],
      "source": [
        "plt.pie(x=sl_train,labels=labels,autopct='%.0f%%')\n",
        "plt.title(\"Tập train\")\n",
        "plt.show()\n",
        "\n",
        "plt.pie(x=sl_test,labels=labels,autopct='%.0f%%')\n",
        "plt.title(\"Tập test\")\n",
        "plt.show()"
      ]
    },
    {
      "cell_type": "markdown",
      "source": [
        "In ra 5 câuđầu tiên trong tập train và tập test kèm nhãn tương ứng"
      ],
      "metadata": {
        "id": "23nVz_rbQpmL"
      }
    },
    {
      "cell_type": "code",
      "source": [
        "print(\"Tập train: -----------------------\")\n",
        "for i in range(5):\n",
        "  print(\"train[\" + str(i) + \"] : \" + str(training_data[i]))\n",
        "  print(\"=> label: \" + str(training_targets[i]))\n",
        "  print(\"\")\n",
        "print(\"\")\n",
        "print(\"Tập test : -----------------------\")\n",
        "for i in range(5):\n",
        "  print(\"test[\" + str(i) + \"] : \" + str(testing_data[i]))\n",
        "  print(\"=> label: \" + str(testing_targets[i]))\n",
        "  print(\"\")"
      ],
      "metadata": {
        "colab": {
          "base_uri": "https://localhost:8080/"
        },
        "id": "kfGc9Dx9QnHd",
        "outputId": "d34dd9ec-5264-4146-985d-5ac6bf6ae15f"
      },
      "execution_count": 15,
      "outputs": [
        {
          "output_type": "stream",
          "name": "stdout",
          "text": [
            "Tập train: -----------------------\n",
            "train[0] : [1, 14, 22, 16, 43, 530, 973, 1622, 1385, 65, 458, 4468, 66, 3941, 4, 173, 36, 256, 5, 25, 100, 43, 838, 112, 50, 670, 2, 9, 35, 480, 284, 5, 150, 4, 172, 112, 167, 2, 336, 385, 39, 4, 172, 4536, 1111, 17, 546, 38, 13, 447, 4, 192, 50, 16, 6, 147, 2025, 19, 14, 22, 4, 1920, 4613, 469, 4, 22, 71, 87, 12, 16, 43, 530, 38, 76, 15, 13, 1247, 4, 22, 17, 515, 17, 12, 16, 626, 18, 2, 5, 62, 386, 12, 8, 316, 8, 106, 5, 4, 2223, 5244, 16, 480, 66, 3785, 33, 4, 130, 12, 16, 38, 619, 5, 25, 124, 51, 36, 135, 48, 25, 1415, 33, 6, 22, 12, 215, 28, 77, 52, 5, 14, 407, 16, 82, 2, 8, 4, 107, 117, 5952, 15, 256, 4, 2, 7, 3766, 5, 723, 36, 71, 43, 530, 476, 26, 400, 317, 46, 7, 4, 2, 1029, 13, 104, 88, 4, 381, 15, 297, 98, 32, 2071, 56, 26, 141, 6, 194, 7486, 18, 4, 226, 22, 21, 134, 476, 26, 480, 5, 144, 30, 5535, 18, 51, 36, 28, 224, 92, 25, 104, 4, 226, 65, 16, 38, 1334, 88, 12, 16, 283, 5, 16, 4472, 113, 103, 32, 15, 16, 5345, 19, 178, 32]\n",
            "=> label: 1\n",
            "\n",
            "train[1] : [1, 194, 1153, 194, 8255, 78, 228, 5, 6, 1463, 4369, 5012, 134, 26, 4, 715, 8, 118, 1634, 14, 394, 20, 13, 119, 954, 189, 102, 5, 207, 110, 3103, 21, 14, 69, 188, 8, 30, 23, 7, 4, 249, 126, 93, 4, 114, 9, 2300, 1523, 5, 647, 4, 116, 9, 35, 8163, 4, 229, 9, 340, 1322, 4, 118, 9, 4, 130, 4901, 19, 4, 1002, 5, 89, 29, 952, 46, 37, 4, 455, 9, 45, 43, 38, 1543, 1905, 398, 4, 1649, 26, 6853, 5, 163, 11, 3215, 2, 4, 1153, 9, 194, 775, 7, 8255, 2, 349, 2637, 148, 605, 2, 8003, 15, 123, 125, 68, 2, 6853, 15, 349, 165, 4362, 98, 5, 4, 228, 9, 43, 2, 1157, 15, 299, 120, 5, 120, 174, 11, 220, 175, 136, 50, 9, 4373, 228, 8255, 5, 2, 656, 245, 2350, 5, 4, 9837, 131, 152, 491, 18, 2, 32, 7464, 1212, 14, 9, 6, 371, 78, 22, 625, 64, 1382, 9, 8, 168, 145, 23, 4, 1690, 15, 16, 4, 1355, 5, 28, 6, 52, 154, 462, 33, 89, 78, 285, 16, 145, 95]\n",
            "=> label: 0\n",
            "\n",
            "train[2] : [1, 14, 47, 8, 30, 31, 7, 4, 249, 108, 7, 4, 5974, 54, 61, 369, 13, 71, 149, 14, 22, 112, 4, 2401, 311, 12, 16, 3711, 33, 75, 43, 1829, 296, 4, 86, 320, 35, 534, 19, 263, 4821, 1301, 4, 1873, 33, 89, 78, 12, 66, 16, 4, 360, 7, 4, 58, 316, 334, 11, 4, 1716, 43, 645, 662, 8, 257, 85, 1200, 42, 1228, 2578, 83, 68, 3912, 15, 36, 165, 1539, 278, 36, 69, 2, 780, 8, 106, 14, 6905, 1338, 18, 6, 22, 12, 215, 28, 610, 40, 6, 87, 326, 23, 2300, 21, 23, 22, 12, 272, 40, 57, 31, 11, 4, 22, 47, 6, 2307, 51, 9, 170, 23, 595, 116, 595, 1352, 13, 191, 79, 638, 89, 2, 14, 9, 8, 106, 607, 624, 35, 534, 6, 227, 7, 129, 113]\n",
            "=> label: 0\n",
            "\n",
            "train[3] : [1, 4, 2, 2, 33, 2804, 4, 2040, 432, 111, 153, 103, 4, 1494, 13, 70, 131, 67, 11, 61, 2, 744, 35, 3715, 761, 61, 5766, 452, 9214, 4, 985, 7, 2, 59, 166, 4, 105, 216, 1239, 41, 1797, 9, 15, 7, 35, 744, 2413, 31, 8, 4, 687, 23, 4, 2, 7339, 6, 3693, 42, 38, 39, 121, 59, 456, 10, 10, 7, 265, 12, 575, 111, 153, 159, 59, 16, 1447, 21, 25, 586, 482, 39, 4, 96, 59, 716, 12, 4, 172, 65, 9, 579, 11, 6004, 4, 1615, 5, 2, 7, 5168, 17, 13, 7064, 12, 19, 6, 464, 31, 314, 11, 2, 6, 719, 605, 11, 8, 202, 27, 310, 4, 3772, 3501, 8, 2722, 58, 10, 10, 537, 2116, 180, 40, 14, 413, 173, 7, 263, 112, 37, 152, 377, 4, 537, 263, 846, 579, 178, 54, 75, 71, 476, 36, 413, 263, 2504, 182, 5, 17, 75, 2306, 922, 36, 279, 131, 2895, 17, 2867, 42, 17, 35, 921, 2, 192, 5, 1219, 3890, 19, 2, 217, 4122, 1710, 537, 2, 1236, 5, 736, 10, 10, 61, 403, 9, 2, 40, 61, 4494, 5, 27, 4494, 159, 90, 263, 2311, 4319, 309, 8, 178, 5, 82, 4319, 4, 65, 15, 9225, 145, 143, 5122, 12, 7039, 537, 746, 537, 537, 15, 7979, 4, 2, 594, 7, 5168, 94, 9096, 3987, 2, 11, 2, 4, 538, 7, 1795, 246, 2, 9, 2, 11, 635, 14, 9, 51, 408, 12, 94, 318, 1382, 12, 47, 6, 2683, 936, 5, 6307, 2, 19, 49, 7, 4, 1885, 2, 1118, 25, 80, 126, 842, 10, 10, 2, 2, 4726, 27, 4494, 11, 1550, 3633, 159, 27, 341, 29, 2733, 19, 4185, 173, 7, 90, 2, 8, 30, 11, 4, 1784, 86, 1117, 8, 3261, 46, 11, 2, 21, 29, 9, 2841, 23, 4, 1010, 2, 793, 6, 2, 1386, 1830, 10, 10, 246, 50, 9, 6, 2750, 1944, 746, 90, 29, 2, 8, 124, 4, 882, 4, 882, 496, 27, 2, 2213, 537, 121, 127, 1219, 130, 5, 29, 494, 8, 124, 4, 882, 496, 4, 341, 7, 27, 846, 10, 10, 29, 9, 1906, 8, 97, 6, 236, 2, 1311, 8, 4, 2, 7, 31, 7, 2, 91, 2, 3987, 70, 4, 882, 30, 579, 42, 9, 12, 32, 11, 537, 10, 10, 11, 14, 65, 44, 537, 75, 2, 1775, 3353, 2, 1846, 4, 2, 7, 154, 5, 4, 518, 53, 2, 2, 7, 3211, 882, 11, 399, 38, 75, 257, 3807, 19, 2, 17, 29, 456, 4, 65, 7, 27, 205, 113, 10, 10, 2, 4, 2, 2, 9, 242, 4, 91, 1202, 2, 5, 2070, 307, 22, 7, 5168, 126, 93, 40, 2, 13, 188, 1076, 3222, 19, 4, 2, 7, 2348, 537, 23, 53, 537, 21, 82, 40, 2, 13, 2, 14, 280, 13, 219, 4, 2, 431, 758, 859, 4, 953, 1052, 2, 7, 5991, 5, 94, 40, 25, 238, 60, 2, 4, 2, 804, 2, 7, 4, 9941, 132, 8, 67, 6, 22, 15, 9, 283, 8, 5168, 14, 31, 9, 242, 955, 48, 25, 279, 2, 23, 12, 1685, 195, 25, 238, 60, 796, 2, 4, 671, 7, 2804, 5, 4, 559, 154, 888, 7, 726, 50, 26, 49, 7008, 15, 566, 30, 579, 21, 64, 2574]\n",
            "=> label: 1\n",
            "\n",
            "train[4] : [1, 249, 1323, 7, 61, 113, 10, 10, 13, 1637, 14, 20, 56, 33, 2401, 18, 457, 88, 13, 2626, 1400, 45, 3171, 13, 70, 79, 49, 706, 919, 13, 16, 355, 340, 355, 1696, 96, 143, 4, 22, 32, 289, 7, 61, 369, 71, 2359, 5, 13, 16, 131, 2073, 249, 114, 249, 229, 249, 20, 13, 28, 126, 110, 13, 473, 8, 569, 61, 419, 56, 429, 6, 1513, 18, 35, 534, 95, 474, 570, 5, 25, 124, 138, 88, 12, 421, 1543, 52, 725, 6397, 61, 419, 11, 13, 1571, 15, 1543, 20, 11, 4, 2, 5, 296, 12, 3524, 5, 15, 421, 128, 74, 233, 334, 207, 126, 224, 12, 562, 298, 2167, 1272, 7, 2601, 5, 516, 988, 43, 8, 79, 120, 15, 595, 13, 784, 25, 3171, 18, 165, 170, 143, 19, 14, 5, 7224, 6, 226, 251, 7, 61, 113]\n",
            "=> label: 0\n",
            "\n",
            "\n",
            "Tập test : -----------------------\n",
            "test[0] : [1, 591, 202, 14, 31, 6, 717, 10, 10, 2, 2, 5, 4, 360, 7, 4, 177, 5760, 394, 354, 4, 123, 9, 1035, 1035, 1035, 10, 10, 13, 92, 124, 89, 488, 7944, 100, 28, 1668, 14, 31, 23, 27, 7479, 29, 220, 468, 8, 124, 14, 286, 170, 8, 157, 46, 5, 27, 239, 16, 179, 2, 38, 32, 25, 7944, 451, 202, 14, 6, 717]\n",
            "=> label: 0\n",
            "\n",
            "test[1] : [1, 14, 22, 3443, 6, 176, 7, 5063, 88, 12, 2679, 23, 1310, 5, 109, 943, 4, 114, 9, 55, 606, 5, 111, 7, 4, 139, 193, 273, 23, 4, 172, 270, 11, 7216, 2, 4, 8463, 2801, 109, 1603, 21, 4, 22, 3861, 8, 6, 1193, 1330, 10, 10, 4, 105, 987, 35, 841, 2, 19, 861, 1074, 5, 1987, 2, 45, 55, 221, 15, 670, 5304, 526, 14, 1069, 4, 405, 5, 2438, 7, 27, 85, 108, 131, 4, 5045, 5304, 3884, 405, 9, 3523, 133, 5, 50, 13, 104, 51, 66, 166, 14, 22, 157, 9, 4, 530, 239, 34, 8463, 2801, 45, 407, 31, 7, 41, 3778, 105, 21, 59, 299, 12, 38, 950, 5, 4521, 15, 45, 629, 488, 2733, 127, 6, 52, 292, 17, 4, 6936, 185, 132, 1988, 5304, 1799, 488, 2693, 47, 6, 392, 173, 4, 2, 4378, 270, 2352, 4, 1500, 7, 4, 65, 55, 73, 11, 346, 14, 20, 9, 6, 976, 2078, 7, 5293, 861, 2, 5, 4182, 30, 3127, 2, 56, 4, 841, 5, 990, 692, 8, 4, 1669, 398, 229, 10, 10, 13, 2822, 670, 5304, 14, 9, 31, 7, 27, 111, 108, 15, 2033, 19, 7836, 1429, 875, 551, 14, 22, 9, 1193, 21, 45, 4829, 5, 45, 252, 8, 2, 6, 565, 921, 3639, 39, 4, 529, 48, 25, 181, 8, 67, 35, 1732, 22, 49, 238, 60, 135, 1162, 14, 9, 290, 4, 58, 10, 10, 472, 45, 55, 878, 8, 169, 11, 374, 5687, 25, 203, 28, 8, 818, 12, 125, 4, 3077]\n",
            "=> label: 1\n",
            "\n",
            "test[2] : [1, 111, 748, 4368, 1133, 2, 2, 4, 87, 1551, 1262, 7, 31, 318, 9459, 7, 4, 498, 5076, 748, 63, 29, 5161, 220, 686, 2, 5, 17, 12, 575, 220, 2507, 17, 6, 185, 132, 2, 16, 53, 928, 11, 2, 74, 4, 438, 21, 27, 2, 589, 8, 22, 107, 2, 2, 997, 1638, 8, 35, 2076, 9019, 11, 22, 231, 54, 29, 1706, 29, 100, 2, 2425, 34, 2, 8738, 2, 5, 2, 98, 31, 2122, 33, 6, 58, 14, 3808, 1638, 8, 4, 365, 7, 2789, 3761, 356, 346, 4, 2, 1060, 63, 29, 93, 11, 5421, 11, 2, 33, 6, 58, 54, 1270, 431, 748, 7, 32, 2580, 16, 11, 94, 2, 10, 10, 4, 993, 2, 7, 4, 1766, 2634, 2164, 2, 8, 847, 8, 1450, 121, 31, 7, 27, 86, 2663, 2, 16, 6, 465, 993, 2006, 2, 573, 17, 2, 42, 4, 2, 37, 473, 6, 711, 6, 8869, 7, 328, 212, 70, 30, 258, 11, 220, 32, 7, 108, 21, 133, 12, 9, 55, 465, 849, 3711, 53, 33, 2071, 1969, 37, 70, 1144, 4, 5940, 1409, 74, 476, 37, 62, 91, 1329, 169, 4, 1330, 2, 146, 655, 2212, 5, 258, 12, 184, 2, 546, 5, 849, 2, 7, 4, 22, 1436, 18, 631, 1386, 797, 7, 4, 8712, 71, 348, 425, 4320, 1061, 19, 2, 5, 2, 11, 661, 8, 339, 2, 4, 2455, 2, 7, 4, 1962, 10, 10, 263, 787, 9, 270, 11, 6, 9466, 4, 2, 2, 121, 4, 5437, 26, 4434, 19, 68, 1372, 5, 28, 446, 6, 318, 7149, 8, 67, 51, 36, 70, 81, 8, 4392, 2294, 36, 1197, 8, 2, 2, 18, 6, 711, 4, 9909, 26, 2, 1125, 11, 14, 636, 720, 12, 426, 28, 77, 776, 8, 97, 38, 111, 7489, 6175, 168, 1239, 5189, 137, 2, 18, 27, 173, 9, 2399, 17, 6, 2, 428, 2, 232, 11, 4, 8014, 37, 272, 40, 2708, 247, 30, 656, 6, 2, 54, 2, 3292, 98, 6, 2840, 40, 558, 37, 6093, 98, 4, 2, 1197, 15, 14, 9, 57, 4893, 5, 4659, 6, 275, 711, 7937, 2, 3292, 98, 6, 2, 10, 10, 6639, 19, 14, 2, 267, 162, 711, 37, 5900, 752, 98, 4, 2, 2378, 90, 19, 6, 2, 7, 2, 1810, 2, 4, 4770, 3183, 930, 8, 508, 90, 4, 1317, 8, 4, 2, 17, 2, 3965, 1853, 4, 1494, 8, 4468, 189, 4, 2, 6287, 5774, 4, 4770, 5, 95, 271, 23, 6, 7742, 6063, 2, 5437, 33, 1526, 6, 425, 3155, 2, 4535, 1636, 7, 4, 4669, 2, 469, 4, 4552, 54, 4, 150, 5664, 2, 280, 53, 2, 2, 18, 339, 29, 1978, 27, 7885, 5, 2, 68, 1830, 19, 6571, 2, 4, 1515, 7, 263, 65, 2132, 34, 6, 5680, 7489, 43, 159, 29, 9, 4706, 9, 387, 73, 195, 584, 10, 10, 1069, 4, 58, 810, 54, 14, 6078, 117, 22, 16, 93, 5, 1069, 4, 192, 15, 12, 16, 93, 34, 6, 1766, 2, 33, 4, 5673, 7, 15, 2, 9252, 3286, 325, 12, 62, 30, 776, 8, 67, 14, 17, 6, 2, 44, 148, 687, 2, 203, 42, 203, 24, 28, 69, 2, 6676, 11, 330, 54, 29, 93, 2, 21, 845, 2, 27, 1099, 7, 819, 4, 22, 1407, 17, 6, 2, 787, 7, 2460, 2, 2, 100, 30, 4, 3737, 3617, 3169, 2321, 42, 1898, 11, 4, 3814, 42, 101, 704, 7, 101, 999, 15, 1625, 94, 2926, 180, 5, 9, 9101, 34, 2, 45, 6, 1429, 22, 60, 6, 1220, 31, 11, 94, 6408, 96, 21, 94, 749, 9, 57, 975]\n",
            "=> label: 1\n",
            "\n",
            "test[3] : [1, 13, 1228, 119, 14, 552, 7, 20, 190, 14, 58, 13, 258, 546, 1786, 8, 1968, 4, 268, 237, 13, 191, 81, 15, 13, 80, 43, 3824, 44, 12, 14, 16, 427, 3192, 4, 183, 15, 593, 19, 4, 351, 362, 26, 55, 646, 21, 4, 1239, 84, 26, 1557, 3755, 13, 244, 6, 2071, 132, 184, 194, 5, 13, 70, 4478, 546, 73, 190, 13, 62, 24, 81, 320, 4, 538, 4, 117, 250, 127, 11, 14, 20, 82, 4, 452, 11, 14, 20, 9, 8654, 19, 41, 476, 8, 4, 213, 7, 9185, 13, 657, 13, 286, 38, 1612, 44, 41, 5, 41, 1729, 88, 13, 62, 28, 900, 510, 4, 509, 51, 6, 612, 59, 16, 193, 61, 4666, 5, 702, 930, 143, 285, 25, 67, 41, 81, 366, 4, 130, 82, 9, 259, 334, 397, 1195, 7, 149, 102, 15, 26, 814, 38, 465, 1627, 31, 70, 983, 67, 51, 9, 112, 814, 17, 35, 311, 75, 26, 2, 574, 19, 4, 1729, 23, 4, 268, 38, 95, 138, 4, 609, 191, 75, 28, 314, 1772]\n",
            "=> label: 0\n",
            "\n",
            "test[4] : [1, 40, 49, 85, 84, 1040, 146, 6, 783, 254, 4386, 337, 5, 13, 447, 14, 500, 10, 10, 14, 500, 517, 1076, 357, 21, 1684, 72, 45, 290, 12, 17, 515, 17, 25, 380, 129, 3305, 4, 2191, 26, 253, 5, 2, 36, 80, 4357, 25, 2, 129, 330, 505, 8, 2, 146, 24, 3988, 14, 500, 9, 82, 2, 5, 9, 1293, 224, 10, 10, 8, 401, 14, 1361, 879, 13, 28, 8, 401, 61, 1642, 2925, 44, 1373, 21, 591, 353, 14, 500, 4092, 30, 290, 12, 10, 10, 65, 790, 790, 206, 158, 300, 45, 15, 52, 2, 158, 692, 2, 158, 856, 158]\n",
            "=> label: 1\n",
            "\n"
          ]
        }
      ]
    },
    {
      "cell_type": "code",
      "execution_count": 16,
      "metadata": {
        "id": "nevFXXbaH1_Y",
        "colab": {
          "base_uri": "https://localhost:8080/"
        },
        "outputId": "88bb3030-e1bf-41ac-e628-683f8e5b53b5"
      },
      "outputs": [
        {
          "output_type": "stream",
          "name": "stdout",
          "text": [
            "Downloading data from https://storage.googleapis.com/tensorflow/tf-keras-datasets/imdb_word_index.json\n",
            "1641221/1641221 [==============================] - 0s 0us/step\n"
          ]
        }
      ],
      "source": [
        "index = imdb.get_word_index()"
      ]
    },
    {
      "cell_type": "markdown",
      "source": [
        " Cho biết 5 từ đầu tiên của tập từ vựng"
      ],
      "metadata": {
        "id": "u2uoAsGZQ8Tu"
      }
    },
    {
      "cell_type": "code",
      "source": [
        "a = list(index.keys())\n",
        "a[:5]"
      ],
      "metadata": {
        "colab": {
          "base_uri": "https://localhost:8080/"
        },
        "id": "2f7myTVdQ6vP",
        "outputId": "64aab60c-0917-4721-b904-979bb8e466c6"
      },
      "execution_count": 17,
      "outputs": [
        {
          "output_type": "execute_result",
          "data": {
            "text/plain": [
              "['fawn', 'tsukino', 'nunnery', 'sonja', 'vani']"
            ]
          },
          "metadata": {},
          "execution_count": 17
        }
      ]
    },
    {
      "cell_type": "markdown",
      "source": [
        "Cho biết tập từ vựng của bộ dữ liệu có bao nhiêu từ"
      ],
      "metadata": {
        "id": "iN4-WXyPQ_GX"
      }
    },
    {
      "cell_type": "code",
      "execution_count": 18,
      "metadata": {
        "colab": {
          "base_uri": "https://localhost:8080/"
        },
        "id": "5MC5vOhFIeS2",
        "outputId": "f0d7a09a-6eeb-475d-960d-610c33a556fa"
      },
      "outputs": [
        {
          "output_type": "stream",
          "name": "stdout",
          "text": [
            "Tập từ vựng có 88584 từ\n"
          ]
        }
      ],
      "source": [
        "print(\"Tập từ vựng có \" + str(len(index)) + \" từ\")"
      ]
    },
    {
      "cell_type": "code",
      "execution_count": 19,
      "metadata": {
        "id": "RclFVsrlIlk-"
      },
      "outputs": [],
      "source": [
        "reverse_index= dict([(value,key)for (key,value)in index.items()])\n",
        "decoded= \" \".join([reverse_index.get(i,\"#\")for i in training_data[0]])"
      ]
    },
    {
      "cell_type": "code",
      "source": [
        "print(\"Độ dài câu văn vừa được decode: \" + str(len(training_data[0])))"
      ],
      "metadata": {
        "colab": {
          "base_uri": "https://localhost:8080/"
        },
        "id": "kGZm27WeRIds",
        "outputId": "19fc096d-3181-45d4-e834-7533cd0b63ca"
      },
      "execution_count": 20,
      "outputs": [
        {
          "output_type": "stream",
          "name": "stdout",
          "text": [
            "Độ dài câu văn vừa được decode: 218\n"
          ]
        }
      ]
    },
    {
      "cell_type": "markdown",
      "source": [
        "Decode 5 câu tiếp theo trong tập train"
      ],
      "metadata": {
        "id": "Dfi_4umbRK6t"
      }
    },
    {
      "cell_type": "code",
      "execution_count": 23,
      "metadata": {
        "colab": {
          "base_uri": "https://localhost:8080/"
        },
        "id": "kb_K2EKDJkoq",
        "outputId": "ed4e2068-5912-40c4-fd2e-41099c19b88c"
      },
      "outputs": [
        {
          "output_type": "stream",
          "name": "stdout",
          "text": [
            "the thought solid thought senator do making to is spot nomination assumed while he of jack in where picked as getting on was did hands fact characters to always life thrillers not as me can't in at are br of sure your way of little it strongly random to view of love it so principles of guy it used producer of where it of here icon film of outside to don't all unique some like of direction it if out her imagination below keep of queen he diverse to makes this stretch and of solid it thought begins br senator and budget worthwhile though ok and awaiting for ever better were and diverse for budget look kicked any to of making it out and follows for effects show to show cast this family us scenes more it severe making senator to and finds tv tend to of emerged these thing wants but and an beckinsale cult as it is video do you david see scenery it in few those are of ship for with of wild to one is very work dark they don't do dvd with those them\n",
            "the as there in at by br of sure many br of proving no only women was than doesn't as you never of hat night that with ignored they bad out superman plays of how star so stories film comes defense date of wide they don't do that had with of hollywood br of my seeing fan this of pop out body shots in having because cause it's stick passing first were enjoys for from look seven sense from me and die in character as cuban issues but is you that isn't one song just is him less are strongly not are you that different just even by this of you there is eight when it part are film's love film's 80's was big also light don't and as it in character looked cinematography so stories is far br man acting\n",
            "the of and and they halfway of identity went plot actors watch of share was well these can this only and ten so failing feels only novak killer theo of bill br and would find of films saw grade about hated it for br so ten remain by in of songs are of and gigantic is morality it's her or know would care i i br screen that obvious plot actors new would with paris not have attempt lead or of too would local that of every their it coming this eleven of information to and br singers movie was anxious that film is under by left this and is entertainment ok this in own be house of sticks worker in bound my i i obviously sake things just as lost lot br comes never like thing start of obviously comes indeed coming want no bad than history from lost comes accidentally young to movie bad facts dream from reason these honor movie elizabeth it's movie so fi and enough to computer duo film and almost jeffrey rarely obviously and alive to appears i i only human it and just only hop to be hop new made comes evidence blues high in want to other blues of their for concludes those i'm 1995 that wider obviously message obviously obviously for submarine of and brother br singers make climbs lit and this and of blood br andy worst and it and this across as it when lines that make excellent scenery that there is julia fantasy to repressed and film good br of loose and basic have into your whatever i i and and demented be hop this standards cole new be home all seek film wives lot br made and in at this of search how concept in thirty some this and not all it rachel are of boys and re is and animals deserve i i worst more it is renting concerned message made all and in does of nor of nor side be and center obviously know end computer here to all tries in does of nor side of home br be indeed i i all it officer in could is performance and fully in of and br by br and its and lit well of nor at coming it's it that an this obviously i i this as their has obviously bad and exist countless and mixed of and br work to of run up and and br dear nor this early her bad having tortured film and movie all care of their br be right acting i i and of and and it away of its shooting and to suffering version you br singers your way just and was can't compared condition film of and br united obviously are up obviously not other just and was and as true was least of and certainly lady poorly of setting produced and br refuse to make just have 2 which and of and dialog and br of frye say in can is you for it wasn't in singers as by it away plenty what have reason and are that willing that's have 2 which sister and of important br halfway to of took work 20 br similar more he good flower for hit at coming not see reputation\n",
            "the sure themes br only acting i i was favourite as on she they hat but already most was scares minor if flash was well also good 8 older was with enjoy used enjoy phone too i'm of you an job br only women than robot to was with these unexpected sure little sure guy sure on was one your life was children in particularly only yes she sort is jerry but so stories them final known to have does such most that supposed imagination very moving antonioni only yes this was seconds for imagination on this of and to plays that nights to for supposed still been last fan always your bit that strong said clean knowing br theory to car masterpiece out in also show for film's was tale have flash but look part i'm film as to penelope is script hard br only acting\n",
            "the effort still been that usually makes for of finished sucking ended and an because before if just though something know novel female i i slowly lot of above and with connect in of script their that out end his and i i\n"
          ]
        }
      ],
      "source": [
        "for i in range(1,6):\n",
        "  reverse_index = dict([(value,key)for (key,value) in index.items()])\n",
        "  decoded = ' '.join([reverse_index.get(i,\"#\") for i in training_data[i]])\n",
        "  print(decoded)"
      ]
    },
    {
      "cell_type": "markdown",
      "metadata": {
        "id": "o0GggRJhLhAX"
      },
      "source": [
        "Padding chiều dài của sequence\n"
      ]
    },
    {
      "cell_type": "code",
      "execution_count": 24,
      "metadata": {
        "id": "fd_yROTONn1T"
      },
      "outputs": [],
      "source": [
        "from keras_preprocessing.sequence import pad_sequences\n",
        "maxlen = 200\n",
        "X_train = pad_sequences(training_data, maxlen=maxlen)\n",
        "X_test = pad_sequences(testing_data, maxlen=maxlen)"
      ]
    },
    {
      "cell_type": "code",
      "execution_count": 25,
      "metadata": {
        "id": "YV9W0YskNzYF"
      },
      "outputs": [],
      "source": [
        "from tensorflow.keras.utils import to_categorical\n",
        "y_train = to_categorical(training_targets,num_classes=2)\n",
        "y_test = testing_targets"
      ]
    },
    {
      "cell_type": "markdown",
      "metadata": {
        "id": "vqOx_Kr9O4KE"
      },
      "source": [
        "# 2. Xây dựng mô hình "
      ]
    },
    {
      "cell_type": "code",
      "execution_count": 26,
      "metadata": {
        "id": "5F_FWFsMO5RM"
      },
      "outputs": [],
      "source": [
        "import numpy as np\n",
        "X_train_new = np.expand_dims(X_train, axis=2)\n",
        "X_test_new = np.expand_dims(X_test, axis=2)\n"
      ]
    },
    {
      "cell_type": "code",
      "execution_count": 27,
      "metadata": {
        "id": "OZJcTOoSSS5K"
      },
      "outputs": [],
      "source": [
        "from tensorflow.keras.layers import SimpleRNN,Input, Dense,LSTM, Embedding, Bidirectional\n",
        "from keras.models import Sequential"
      ]
    },
    {
      "cell_type": "code",
      "execution_count": 35,
      "metadata": {
        "id": "Ic0q8YdDTYYR"
      },
      "outputs": [],
      "source": [
        "model = Sequential()\n",
        "model.add(Input(shape=(None, 1), dtype=\"float64\"))\n",
        "model.add(SimpleRNN(200, return_sequences=True, return_state=False,\n",
        "activation='relu'))\n",
        "model.add(SimpleRNN(200, return_sequences=False, return_state=False,\n",
        "activation='relu'))\n",
        "model.add(Dense(2, activation='sigmoid'))"
      ]
    },
    {
      "cell_type": "markdown",
      "source": [
        "Sử dụng hàm summary để xem cấu trúc mô hình đã xây dựng"
      ],
      "metadata": {
        "id": "XwICzzkaR9e8"
      }
    },
    {
      "cell_type": "code",
      "execution_count": 36,
      "metadata": {
        "colab": {
          "base_uri": "https://localhost:8080/"
        },
        "id": "cQU_FZqwTaKD",
        "outputId": "64c327e7-3b7b-4c09-f617-33ea4d2267bb"
      },
      "outputs": [
        {
          "output_type": "stream",
          "name": "stdout",
          "text": [
            "Model: \"sequential\"\n",
            "_________________________________________________________________\n",
            " Layer (type)                Output Shape              Param #   \n",
            "=================================================================\n",
            " simple_rnn (SimpleRNN)      (None, None, 200)         40400     \n",
            "                                                                 \n",
            " simple_rnn_1 (SimpleRNN)    (None, 200)               80200     \n",
            "                                                                 \n",
            " dense (Dense)               (None, 2)                 402       \n",
            "                                                                 \n",
            "=================================================================\n",
            "Total params: 121,002\n",
            "Trainable params: 121,002\n",
            "Non-trainable params: 0\n",
            "_________________________________________________________________\n"
          ]
        }
      ],
      "source": [
        "model.summary()"
      ]
    },
    {
      "cell_type": "code",
      "execution_count": 37,
      "metadata": {
        "id": "tfoSfY2UVAER"
      },
      "outputs": [],
      "source": [
        "from tensorflow.keras.optimizers import Adam\n",
        "from tensorflow.keras.losses import CategoricalCrossentropy\n",
        "optimizer = Adam(learning_rate=0.01)\n",
        "loss = CategoricalCrossentropy()\n",
        "model.compile(optimizer=optimizer, loss=loss, metrics=['accuracy'])"
      ]
    },
    {
      "cell_type": "code",
      "execution_count": 38,
      "metadata": {
        "colab": {
          "base_uri": "https://localhost:8080/"
        },
        "id": "M2Z0FXLzTctU",
        "outputId": "4ad4eb78-b23e-4ab4-88bd-411588db6db8"
      },
      "outputs": [
        {
          "output_type": "stream",
          "name": "stdout",
          "text": [
            "Epoch 1/5\n",
            "176/176 [==============================] - 65s 343ms/step - loss: 16323006.0000 - accuracy: 0.5042 - val_loss: 2.3757 - val_accuracy: 0.4980\n",
            "Epoch 2/5\n",
            "176/176 [==============================] - 57s 324ms/step - loss: 3.1939 - accuracy: 0.5008 - val_loss: 2.7960 - val_accuracy: 0.4868\n",
            "Epoch 3/5\n",
            "176/176 [==============================] - 58s 331ms/step - loss: 2.8933 - accuracy: 0.4986 - val_loss: 3.0907 - val_accuracy: 0.4908\n",
            "Epoch 4/5\n",
            "176/176 [==============================] - 59s 332ms/step - loss: 2.4128 - accuracy: 0.4967 - val_loss: 3.2767 - val_accuracy: 0.4864\n",
            "Epoch 5/5\n",
            "176/176 [==============================] - 59s 336ms/step - loss: 2.3176 - accuracy: 0.4968 - val_loss: 1.2037 - val_accuracy: 0.5176\n"
          ]
        }
      ],
      "source": [
        "history=model.fit(X_train_new, y_train, batch_size=128,epochs=5,validation_split=0.1)"
      ]
    },
    {
      "cell_type": "markdown",
      "metadata": {
        "id": "l-anIxcLYUgT"
      },
      "source": [
        " Vẽ đồ thị học với Accuracy và Loss"
      ]
    },
    {
      "cell_type": "code",
      "execution_count": 39,
      "metadata": {
        "colab": {
          "base_uri": "https://localhost:8080/",
          "height": 295
        },
        "id": "8cdW1zcPUhdV",
        "outputId": "c5ac1937-d7ae-4df8-db79-3e236f6c6565"
      },
      "outputs": [
        {
          "output_type": "display_data",
          "data": {
            "text/plain": [
              "<Figure size 432x288 with 1 Axes>"
            ],
            "image/png": "[encoded data removed]"
          },
          "metadata": {
            "needs_background": "light"
          }
        }
      ],
      "source": [
        "plt.plot(history.history['accuracy'])\n",
        "plt.plot(history.history['val_accuracy'])\n",
        "plt.title('model accuracy')\n",
        "plt.ylabel('accuracy')\n",
        "plt.xlabel('epoch')\n",
        "plt.legend(['train','val'], loc = 'upper left')\n",
        "plt.show()"
      ]
    },
    {
      "cell_type": "code",
      "execution_count": 40,
      "metadata": {
        "colab": {
          "base_uri": "https://localhost:8080/",
          "height": 312
        },
        "id": "Hz9gy63eYeia",
        "outputId": "2b5a5aa4-529f-4146-cf19-c3d44ae656e2"
      },
      "outputs": [
        {
          "output_type": "execute_result",
          "data": {
            "text/plain": [
              "<function matplotlib.pyplot.show(*args, **kw)>"
            ]
          },
          "metadata": {},
          "execution_count": 40
        },
        {
          "output_type": "display_data",
          "data": {
            "text/plain": [
              "<Figure size 432x288 with 1 Axes>"
            ],
            "image/png": "[encoded data removed]"
          },
          "metadata": {
            "needs_background": "light"
          }
        }
      ],
      "source": [
        "plt.plot(history.history['loss'])\n",
        "plt.plot(history.history['val_loss'])\n",
        "plt.title('model loss')\n",
        "plt.ylabel('loss')\n",
        "plt.xlabel('epochs')\n",
        "plt.legend(['train','dev'],loc='upper left')\n",
        "plt.show"
      ]
    },
    {
      "cell_type": "code",
      "execution_count": 41,
      "metadata": {
        "colab": {
          "base_uri": "https://localhost:8080/"
        },
        "id": "WU-BY8VpYfAq",
        "outputId": "b384fa01-aca2-43e4-b8fb-ee29f1460a69"
      },
      "outputs": [
        {
          "output_type": "stream",
          "name": "stdout",
          "text": [
            "782/782 [==============================] - 24s 30ms/step\n"
          ]
        }
      ],
      "source": [
        "import numpy as np\n",
        "from sklearn.metrics import accuracy_score\n",
        "y_pred = model.predict(X_test_new)\n",
        "y_pred_label = np.argmax(y_pred,axis=-1)"
      ]
    },
    {
      "cell_type": "markdown",
      "source": [
        "Tính độ chính xác đánh giá của mô hình bằng độ đo Accuracy"
      ],
      "metadata": {
        "id": "nJ0N29dwSGEr"
      }
    },
    {
      "cell_type": "code",
      "execution_count": 42,
      "metadata": {
        "colab": {
          "base_uri": "https://localhost:8080/"
        },
        "id": "QGLyKbDaZ_9k",
        "outputId": "c27e2e39-2522-45eb-aca6-9565ecb9580f"
      },
      "outputs": [
        {
          "output_type": "execute_result",
          "data": {
            "text/plain": [
              "50.036"
            ]
          },
          "metadata": {},
          "execution_count": 42
        }
      ],
      "source": [
        "from sklearn.metrics import accuracy_score\n",
        "accuracy_score(y_test, y_pred_label)*100"
      ]
    },
    {
      "cell_type": "markdown",
      "metadata": {
        "id": "lAS4fuwkbptX"
      },
      "source": [
        "# 3. LSTM BILSTM EMBEDDING"
      ]
    },
    {
      "cell_type": "markdown",
      "source": [
        "LSTM"
      ],
      "metadata": {
        "id": "u17kmVfGTaRn"
      }
    },
    {
      "cell_type": "code",
      "execution_count": 43,
      "metadata": {
        "id": "zUwOqUIicyJw"
      },
      "outputs": [],
      "source": [
        "from tensorflow.keras.layers import  Embedding, Bidirectional, LSTM"
      ]
    },
    {
      "cell_type": "code",
      "source": [
        "from tensorflow.keras.losses import BinaryCrossentropy\n",
        "loss = BinaryCrossentropy()"
      ],
      "metadata": {
        "id": "2v4vyoCL3R_q"
      },
      "execution_count": 44,
      "outputs": []
    },
    {
      "cell_type": "code",
      "execution_count": 45,
      "metadata": {
        "id": "MZNvCpyXbtWO"
      },
      "outputs": [],
      "source": [
        "model1 = Sequential()\n",
        "model1.add(Input(shape=(None, ), dtype=\"float64\"))\n",
        "model1.add(Embedding(len(index), 128))\n",
        "model1.add(LSTM(200, return_sequences=False))\n",
        "model1.add(Dense(2, activation='sigmoid'))"
      ]
    },
    {
      "cell_type": "markdown",
      "source": [
        "Sử dụng hàm summary để xem cấu trúc mô hình đã xây dựng"
      ],
      "metadata": {
        "id": "6rIHzkq_SQQi"
      }
    },
    {
      "cell_type": "code",
      "execution_count": 46,
      "metadata": {
        "colab": {
          "base_uri": "https://localhost:8080/"
        },
        "id": "uKADy-OheXP_",
        "outputId": "e4be388c-cd1e-4783-986c-c88a1ccb30b7"
      },
      "outputs": [
        {
          "output_type": "stream",
          "name": "stdout",
          "text": [
            "Model: \"sequential_1\"\n",
            "_________________________________________________________________\n",
            " Layer (type)                Output Shape              Param #   \n",
            "=================================================================\n",
            " embedding (Embedding)       (None, None, 128)         11338752  \n",
            "                                                                 \n",
            " lstm (LSTM)                 (None, 200)               263200    \n",
            "                                                                 \n",
            " dense_1 (Dense)             (None, 2)                 402       \n",
            "                                                                 \n",
            "=================================================================\n",
            "Total params: 11,602,354\n",
            "Trainable params: 11,602,354\n",
            "Non-trainable params: 0\n",
            "_________________________________________________________________\n"
          ]
        }
      ],
      "source": [
        "model1.summary()"
      ]
    },
    {
      "cell_type": "code",
      "execution_count": 47,
      "metadata": {
        "id": "mbTb50nje2eA"
      },
      "outputs": [],
      "source": [
        "optimizer = Adam(learning_rate=0.01)\n",
        "loss = CategoricalCrossentropy()\n",
        "model1.compile(optimizer=optimizer, loss=loss, metrics=['accuracy'])"
      ]
    },
    {
      "cell_type": "code",
      "execution_count": 48,
      "metadata": {
        "colab": {
          "base_uri": "https://localhost:8080/"
        },
        "id": "N9RtbygIeaD_",
        "outputId": "73225e99-b1bf-45b4-87d6-828fce88c833"
      },
      "outputs": [
        {
          "output_type": "stream",
          "name": "stdout",
          "text": [
            "Epoch 1/5\n",
            "176/176 [==============================] - 10s 32ms/step - loss: 0.5197 - accuracy: 0.7373 - val_loss: 0.3377 - val_accuracy: 0.8564\n",
            "Epoch 2/5\n",
            "176/176 [==============================] - 5s 29ms/step - loss: 0.2371 - accuracy: 0.9052 - val_loss: 0.2998 - val_accuracy: 0.8724\n",
            "Epoch 3/5\n",
            "176/176 [==============================] - 5s 29ms/step - loss: 0.1529 - accuracy: 0.9446 - val_loss: 0.3505 - val_accuracy: 0.8720\n",
            "Epoch 4/5\n",
            "176/176 [==============================] - 5s 29ms/step - loss: 0.0910 - accuracy: 0.9679 - val_loss: 0.3827 - val_accuracy: 0.8732\n",
            "Epoch 5/5\n",
            "176/176 [==============================] - 5s 30ms/step - loss: 0.0596 - accuracy: 0.9792 - val_loss: 0.4657 - val_accuracy: 0.8752\n"
          ]
        }
      ],
      "source": [
        "history1=model1.fit(X_train_new, y_train, batch_size=128,epochs=5,validation_split=0.1)"
      ]
    },
    {
      "cell_type": "markdown",
      "source": [
        "Vẽ đồ thị học với Accuracy và Loss"
      ],
      "metadata": {
        "id": "Uz5XijyUSTyf"
      }
    },
    {
      "cell_type": "code",
      "source": [
        "plt.plot(history1.history['accuracy'])\n",
        "plt.plot(history1.history['val_accuracy'])\n",
        "plt.title('model accuracy')\n",
        "plt.ylabel('accuracy')\n",
        "plt.xlabel('epoch')\n",
        "plt.legend(['train','val'], loc = 'upper left')\n",
        "plt.show()"
      ],
      "metadata": {
        "colab": {
          "base_uri": "https://localhost:8080/",
          "height": 295
        },
        "id": "rrBCZbSAzIlN",
        "outputId": "87eed83b-c32f-431b-eda1-e475edf8ccc0"
      },
      "execution_count": 49,
      "outputs": [
        {
          "output_type": "display_data",
          "data": {
            "text/plain": [
              "<Figure size 432x288 with 1 Axes>"
            ],
            "image/png": "[encoded data removed]"
          },
          "metadata": {
            "needs_background": "light"
          }
        }
      ]
    },
    {
      "cell_type": "code",
      "source": [
        "plt.plot(history1.history['loss'])\n",
        "plt.plot(history1.history['val_loss'])\n",
        "plt.title('model loss')\n",
        "plt.ylabel('loss')\n",
        "plt.xlabel('epochs')\n",
        "plt.legend(['train','dev'],loc='upper left')\n",
        "plt.show"
      ],
      "metadata": {
        "colab": {
          "base_uri": "https://localhost:8080/",
          "height": 312
        },
        "id": "HcD7kbzjzeN7",
        "outputId": "42ddce6a-87db-477d-9e42-153078e321b8"
      },
      "execution_count": 50,
      "outputs": [
        {
          "output_type": "execute_result",
          "data": {
            "text/plain": [
              "<function matplotlib.pyplot.show(*args, **kw)>"
            ]
          },
          "metadata": {},
          "execution_count": 50
        },
        {
          "output_type": "display_data",
          "data": {
            "text/plain": [
              "<Figure size 432x288 with 1 Axes>"
            ],
            "image/png": "[encoded data removed]"
          },
          "metadata": {
            "needs_background": "light"
          }
        }
      ]
    },
    {
      "cell_type": "markdown",
      "source": [
        "Đánh giá độ chính xác mô hình bằng độ đo Accuracy"
      ],
      "metadata": {
        "id": "VbmiIigESXck"
      }
    },
    {
      "cell_type": "code",
      "source": [
        "y_pred = model1.predict(X_test_new)\n",
        "y_pred = np.argmax(y_pred,axis = -1)\n",
        "accuracy_score(y_test,y_pred)*100"
      ],
      "metadata": {
        "colab": {
          "base_uri": "https://localhost:8080/"
        },
        "id": "Xn_d9N9G0_a_",
        "outputId": "7fb5b3e7-e9e8-40d8-c22b-2f99d40ba1f3"
      },
      "execution_count": 51,
      "outputs": [
        {
          "output_type": "stream",
          "name": "stdout",
          "text": [
            "782/782 [==============================] - 4s 5ms/step\n"
          ]
        },
        {
          "output_type": "execute_result",
          "data": {
            "text/plain": [
              "86.084"
            ]
          },
          "metadata": {},
          "execution_count": 51
        }
      ]
    },
    {
      "cell_type": "markdown",
      "source": [
        "BiLSTM"
      ],
      "metadata": {
        "id": "mPdbogr21Ib3"
      }
    },
    {
      "cell_type": "code",
      "source": [
        "model2 = Sequential()\n",
        "model2.add(Input(shape=(None, ), dtype=\"float64\"))\n",
        "model2.add(Embedding(len(index), 128))\n",
        "model2.add(Bidirectional(LSTM(200, return_sequences=False)))\n",
        "model2.add(Dense(2, activation='sigmoid'))"
      ],
      "metadata": {
        "id": "2dQvLbXh1E6l"
      },
      "execution_count": 52,
      "outputs": []
    },
    {
      "cell_type": "code",
      "source": [
        "optimizer = Adam(learning_rate = 0.01)\n",
        "loss = BinaryCrossentropy()\n",
        "model2.compile(optimizer = optimizer, loss = loss, metrics = ['accuracy'])"
      ],
      "metadata": {
        "id": "mNu2dpV423T2"
      },
      "execution_count": 53,
      "outputs": []
    },
    {
      "cell_type": "code",
      "source": [
        "model2.summary()"
      ],
      "metadata": {
        "colab": {
          "base_uri": "https://localhost:8080/"
        },
        "id": "LkbHYRde26fi",
        "outputId": "3841cc35-6cc6-4e03-9b11-61c1de9c88d3"
      },
      "execution_count": 54,
      "outputs": [
        {
          "output_type": "stream",
          "name": "stdout",
          "text": [
            "Model: \"sequential_2\"\n",
            "_________________________________________________________________\n",
            " Layer (type)                Output Shape              Param #   \n",
            "=================================================================\n",
            " embedding_1 (Embedding)     (None, None, 128)         11338752  \n",
            "                                                                 \n",
            " bidirectional (Bidirectiona  (None, 400)              526400    \n",
            " l)                                                              \n",
            "                                                                 \n",
            " dense_2 (Dense)             (None, 2)                 802       \n",
            "                                                                 \n",
            "=================================================================\n",
            "Total params: 11,865,954\n",
            "Trainable params: 11,865,954\n",
            "Non-trainable params: 0\n",
            "_________________________________________________________________\n"
          ]
        }
      ]
    },
    {
      "cell_type": "code",
      "source": [
        "history2 = model2.fit(X_train_new, y_train, batch_size = 128,epochs =5, validation_split = 0.1)"
      ],
      "metadata": {
        "colab": {
          "base_uri": "https://localhost:8080/"
        },
        "id": "u5mnC6-E3hUZ",
        "outputId": "52c6bd31-b5ee-4ac0-ca80-44e02f9f7513"
      },
      "execution_count": 55,
      "outputs": [
        {
          "output_type": "stream",
          "name": "stdout",
          "text": [
            "Epoch 1/5\n",
            "176/176 [==============================] - 12s 56ms/step - loss: 0.5187 - accuracy: 0.7387 - val_loss: 0.3558 - val_accuracy: 0.8560\n",
            "Epoch 2/5\n",
            "176/176 [==============================] - 9s 51ms/step - loss: 0.2827 - accuracy: 0.8837 - val_loss: 0.3045 - val_accuracy: 0.8776\n",
            "Epoch 3/5\n",
            "176/176 [==============================] - 9s 51ms/step - loss: 0.1714 - accuracy: 0.9346 - val_loss: 0.3418 - val_accuracy: 0.8600\n",
            "Epoch 4/5\n",
            "176/176 [==============================] - 9s 51ms/step - loss: 0.1189 - accuracy: 0.9565 - val_loss: 0.4248 - val_accuracy: 0.8616\n",
            "Epoch 5/5\n",
            "176/176 [==============================] - 9s 51ms/step - loss: 0.0834 - accuracy: 0.9701 - val_loss: 0.4691 - val_accuracy: 0.8648\n"
          ]
        }
      ]
    },
    {
      "cell_type": "code",
      "source": [
        "plt.plot(history2.history['accuracy'])\n",
        "plt.plot(history2.history['val_accuracy'])\n",
        "plt.title('model accuracy')\n",
        "plt.ylabel('accuracy')\n",
        "plt.xlabel('epoch')\n",
        "plt.legend(['train','val'], loc = 'upper left')\n",
        "plt.show()"
      ],
      "metadata": {
        "colab": {
          "base_uri": "https://localhost:8080/",
          "height": 295
        },
        "id": "g2hAOa493-vb",
        "outputId": "e2313bb7-dbb2-4044-975c-6635be026b93"
      },
      "execution_count": 56,
      "outputs": [
        {
          "output_type": "display_data",
          "data": {
            "text/plain": [
              "<Figure size 432x288 with 1 Axes>"
            ],
            "image/png": "[encoded data removed]"
          },
          "metadata": {
            "needs_background": "light"
          }
        }
      ]
    },
    {
      "cell_type": "code",
      "source": [
        "plt.plot(history2.history['loss'])\n",
        "plt.plot(history2.history['val_loss'])\n",
        "plt.title('model loss')\n",
        "plt.ylabel('loss')\n",
        "plt.xlabel('epoch')\n",
        "plt.legend(['train','val'], loc = 'upper left')\n",
        "plt.show()"
      ],
      "metadata": {
        "colab": {
          "base_uri": "https://localhost:8080/",
          "height": 295
        },
        "id": "ZkwkWTuu4Bm0",
        "outputId": "654ee7bd-cc63-4725-a9da-662466d94582"
      },
      "execution_count": 57,
      "outputs": [
        {
          "output_type": "display_data",
          "data": {
            "text/plain": [
              "<Figure size 432x288 with 1 Axes>"
            ],
            "image/png": "[encoded data removed]"
          },
          "metadata": {
            "needs_background": "light"
          }
        }
      ]
    },
    {
      "cell_type": "code",
      "source": [
        "y_pred = model2.predict(X_test_new)\n",
        "y_pred = np.argmax(y_pred,axis = -1)\n",
        "accuracy_score(y_test,y_pred)*100"
      ],
      "metadata": {
        "colab": {
          "base_uri": "https://localhost:8080/"
        },
        "id": "MJVvHky34GN7",
        "outputId": "8977880e-527b-405f-9ad3-c34ad2bc75a7"
      },
      "execution_count": 58,
      "outputs": [
        {
          "output_type": "stream",
          "name": "stdout",
          "text": [
            "782/782 [==============================] - 8s 9ms/step\n"
          ]
        },
        {
          "output_type": "execute_result",
          "data": {
            "text/plain": [
              "86.188"
            ]
          },
          "metadata": {},
          "execution_count": 58
        }
      ]
    },
    {
      "cell_type": "markdown",
      "source": [
        "# 4. BÀI TẬP "
      ],
      "metadata": {
        "id": "7zEETwijVpmG"
      }
    },
    {
      "cell_type": "markdown",
      "source": [
        "## Bài tập 1"
      ],
      "metadata": {
        "id": "ySzdtLkd9Dfu"
      }
    },
    {
      "cell_type": "code",
      "source": [
        "history3 = model.fit(X_train_new, y_train, batch_size = 128,epochs = 20, validation_split = 0.1)"
      ],
      "metadata": {
        "colab": {
          "base_uri": "https://localhost:8080/"
        },
        "id": "VntFtIub7pw9",
        "outputId": "7ad68faa-3e1c-4f63-82e4-b9c5b5467b89"
      },
      "execution_count": 59,
      "outputs": [
        {
          "output_type": "stream",
          "name": "stdout",
          "text": [
            "Epoch 1/20\n",
            "176/176 [==============================] - 59s 338ms/step - loss: 1.4402 - accuracy: 0.5080 - val_loss: 1.3170 - val_accuracy: 0.4880\n",
            "Epoch 2/20\n",
            "176/176 [==============================] - 60s 344ms/step - loss: 1.6598 - accuracy: 0.5017 - val_loss: 1.6842 - val_accuracy: 0.5012\n",
            "Epoch 3/20\n",
            "176/176 [==============================] - 58s 331ms/step - loss: 1.3930 - accuracy: 0.5031 - val_loss: 1.4049 - val_accuracy: 0.5072\n",
            "Epoch 4/20\n",
            "176/176 [==============================] - 59s 338ms/step - loss: 1.4461 - accuracy: 0.4976 - val_loss: 0.8766 - val_accuracy: 0.4844\n",
            "Epoch 5/20\n",
            "176/176 [==============================] - 59s 333ms/step - loss: 1.3325 - accuracy: 0.5020 - val_loss: 1.0330 - val_accuracy: 0.4924\n",
            "Epoch 6/20\n",
            "176/176 [==============================] - 60s 340ms/step - loss: 1.2599 - accuracy: 0.4956 - val_loss: 1.0704 - val_accuracy: 0.4904\n",
            "Epoch 7/20\n",
            "176/176 [==============================] - 57s 324ms/step - loss: 1.1814 - accuracy: 0.5025 - val_loss: 0.9927 - val_accuracy: 0.4792\n",
            "Epoch 8/20\n",
            "176/176 [==============================] - 58s 328ms/step - loss: 1.1157 - accuracy: 0.4972 - val_loss: 0.7702 - val_accuracy: 0.4940\n",
            "Epoch 9/20\n",
            "176/176 [==============================] - 58s 328ms/step - loss: 1.2161 - accuracy: 0.5009 - val_loss: 0.9969 - val_accuracy: 0.5136\n",
            "Epoch 10/20\n",
            "176/176 [==============================] - 61s 348ms/step - loss: 1.1498 - accuracy: 0.5064 - val_loss: 0.7666 - val_accuracy: 0.5136\n",
            "Epoch 11/20\n",
            "176/176 [==============================] - 59s 338ms/step - loss: 1.1107 - accuracy: 0.5026 - val_loss: 1.2778 - val_accuracy: 0.5136\n",
            "Epoch 12/20\n",
            "176/176 [==============================] - 59s 335ms/step - loss: 1.0988 - accuracy: 0.5024 - val_loss: 0.8289 - val_accuracy: 0.4976\n",
            "Epoch 13/20\n",
            "176/176 [==============================] - 59s 336ms/step - loss: 1.1459 - accuracy: 0.5034 - val_loss: 1.2339 - val_accuracy: 0.4860\n",
            "Epoch 14/20\n",
            "176/176 [==============================] - 60s 342ms/step - loss: 0.9068 - accuracy: 0.5036 - val_loss: 0.8097 - val_accuracy: 0.5016\n",
            "Epoch 15/20\n",
            "176/176 [==============================] - 59s 338ms/step - loss: 0.9904 - accuracy: 0.5065 - val_loss: 1.1148 - val_accuracy: 0.5160\n",
            "Epoch 16/20\n",
            "176/176 [==============================] - 60s 338ms/step - loss: 0.9860 - accuracy: 0.5016 - val_loss: 0.9160 - val_accuracy: 0.5180\n",
            "Epoch 17/20\n",
            "176/176 [==============================] - 59s 338ms/step - loss: 0.9155 - accuracy: 0.4959 - val_loss: 0.8962 - val_accuracy: 0.5028\n",
            "Epoch 18/20\n",
            "176/176 [==============================] - 63s 358ms/step - loss: 0.9316 - accuracy: 0.5000 - val_loss: 0.9005 - val_accuracy: 0.5036\n",
            "Epoch 19/20\n",
            "176/176 [==============================] - 60s 339ms/step - loss: 1.0016 - accuracy: 0.5032 - val_loss: 0.9483 - val_accuracy: 0.5048\n",
            "Epoch 20/20\n",
            "176/176 [==============================] - 59s 333ms/step - loss: 0.8624 - accuracy: 0.5051 - val_loss: 0.7290 - val_accuracy: 0.5044\n"
          ]
        }
      ]
    },
    {
      "cell_type": "code",
      "source": [
        "plt.plot(history3.history['accuracy'])\n",
        "plt.plot(history3.history['val_accuracy'])\n",
        "plt.title('model accuracy')\n",
        "plt.ylabel('accuracy')\n",
        "plt.xlabel('epoch')\n",
        "plt.legend(['train','val'], loc = 'upper left')\n",
        "plt.show()"
      ],
      "metadata": {
        "colab": {
          "base_uri": "https://localhost:8080/",
          "height": 295
        },
        "id": "4UOHUf0z_0ZB",
        "outputId": "1c080df7-8230-478e-a5d6-29af9a3e944a"
      },
      "execution_count": 60,
      "outputs": [
        {
          "output_type": "display_data",
          "data": {
            "text/plain": [
              "<Figure size 432x288 with 1 Axes>"
            ],
            "image/png": "[encoded data removed]"
          },
          "metadata": {
            "needs_background": "light"
          }
        }
      ]
    },
    {
      "cell_type": "code",
      "source": [
        "plt.plot(history3.history['loss'])\n",
        "plt.plot(history3.history['val_loss'])\n",
        "plt.title('model loss')\n",
        "plt.ylabel('loss')\n",
        "plt.xlabel('epoch')\n",
        "plt.legend(['train','val'], loc = 'upper left')\n",
        "plt.show()"
      ],
      "metadata": {
        "colab": {
          "base_uri": "https://localhost:8080/",
          "height": 295
        },
        "id": "BdYrdqOx_5n6",
        "outputId": "760a85ab-0907-42dd-8585-3f766b21d2db"
      },
      "execution_count": 61,
      "outputs": [
        {
          "output_type": "display_data",
          "data": {
            "text/plain": [
              "<Figure size 432x288 with 1 Axes>"
            ],
            "image/png": "[encoded data removed]"
          },
          "metadata": {
            "needs_background": "light"
          }
        }
      ]
    },
    {
      "cell_type": "code",
      "source": [
        "y_pred = model.predict(X_test_new)\n",
        "y_pred = np.argmax(y_pred,axis = -1)\n",
        "\n",
        "accuracy_score(y_test,y_pred)*100"
      ],
      "metadata": {
        "colab": {
          "base_uri": "https://localhost:8080/"
        },
        "id": "UMCBsSqxIhNM",
        "outputId": "f8fb2d66-a0f3-450d-fc8f-c05736f8ef10"
      },
      "execution_count": 62,
      "outputs": [
        {
          "output_type": "stream",
          "name": "stdout",
          "text": [
            "782/782 [==============================] - 23s 29ms/step\n"
          ]
        },
        {
          "output_type": "execute_result",
          "data": {
            "text/plain": [
              "49.756"
            ]
          },
          "metadata": {},
          "execution_count": 62
        }
      ]
    },
    {
      "cell_type": "code",
      "source": [
        "history4 = model1.fit(X_train_new, y_train, batch_size = 128,epochs =20, validation_split = 0.1)"
      ],
      "metadata": {
        "colab": {
          "base_uri": "https://localhost:8080/"
        },
        "id": "OVBodLVfIpxX",
        "outputId": "f87b6d56-03a8-4092-b72f-54cd232f8a91"
      },
      "execution_count": 63,
      "outputs": [
        {
          "output_type": "stream",
          "name": "stdout",
          "text": [
            "Epoch 1/20\n",
            "176/176 [==============================] - 5s 30ms/step - loss: 0.0423 - accuracy: 0.9857 - val_loss: 0.5282 - val_accuracy: 0.8700\n",
            "Epoch 2/20\n",
            "176/176 [==============================] - 5s 30ms/step - loss: 0.0415 - accuracy: 0.9857 - val_loss: 0.5531 - val_accuracy: 0.8604\n",
            "Epoch 3/20\n",
            "176/176 [==============================] - 5s 30ms/step - loss: 0.0342 - accuracy: 0.9881 - val_loss: 0.5860 - val_accuracy: 0.8728\n",
            "Epoch 4/20\n",
            "176/176 [==============================] - 5s 30ms/step - loss: 0.0272 - accuracy: 0.9919 - val_loss: 0.6457 - val_accuracy: 0.8656\n",
            "Epoch 5/20\n",
            "176/176 [==============================] - 5s 30ms/step - loss: 0.0217 - accuracy: 0.9936 - val_loss: 0.7292 - val_accuracy: 0.8592\n",
            "Epoch 6/20\n",
            "176/176 [==============================] - 5s 29ms/step - loss: 0.0209 - accuracy: 0.9932 - val_loss: 0.9090 - val_accuracy: 0.8460\n",
            "Epoch 7/20\n",
            "176/176 [==============================] - 5s 29ms/step - loss: 0.0299 - accuracy: 0.9901 - val_loss: 0.6350 - val_accuracy: 0.8524\n",
            "Epoch 8/20\n",
            "176/176 [==============================] - 5s 29ms/step - loss: 0.0280 - accuracy: 0.9903 - val_loss: 0.7182 - val_accuracy: 0.8592\n",
            "Epoch 9/20\n",
            "176/176 [==============================] - 5s 29ms/step - loss: 0.0223 - accuracy: 0.9932 - val_loss: 0.7014 - val_accuracy: 0.8600\n",
            "Epoch 10/20\n",
            "176/176 [==============================] - 5s 29ms/step - loss: 0.0154 - accuracy: 0.9952 - val_loss: 0.7690 - val_accuracy: 0.8600\n",
            "Epoch 11/20\n",
            "176/176 [==============================] - 5s 29ms/step - loss: 0.0108 - accuracy: 0.9963 - val_loss: 0.8513 - val_accuracy: 0.8572\n",
            "Epoch 12/20\n",
            "176/176 [==============================] - 5s 29ms/step - loss: 0.0116 - accuracy: 0.9963 - val_loss: 0.8857 - val_accuracy: 0.8592\n",
            "Epoch 13/20\n",
            "176/176 [==============================] - 5s 29ms/step - loss: 0.0203 - accuracy: 0.9928 - val_loss: 0.8228 - val_accuracy: 0.8468\n",
            "Epoch 14/20\n",
            "176/176 [==============================] - 5s 29ms/step - loss: 0.0279 - accuracy: 0.9896 - val_loss: 0.7595 - val_accuracy: 0.8572\n",
            "Epoch 15/20\n",
            "176/176 [==============================] - 5s 29ms/step - loss: 0.0211 - accuracy: 0.9931 - val_loss: 0.7670 - val_accuracy: 0.8556\n",
            "Epoch 16/20\n",
            "176/176 [==============================] - 5s 29ms/step - loss: 0.0112 - accuracy: 0.9958 - val_loss: 1.0327 - val_accuracy: 0.8504\n",
            "Epoch 17/20\n",
            "176/176 [==============================] - 5s 29ms/step - loss: 0.0116 - accuracy: 0.9963 - val_loss: 0.9586 - val_accuracy: 0.8568\n",
            "Epoch 18/20\n",
            "176/176 [==============================] - 5s 29ms/step - loss: 0.0174 - accuracy: 0.9946 - val_loss: 0.9049 - val_accuracy: 0.8508\n",
            "Epoch 19/20\n",
            "176/176 [==============================] - 5s 29ms/step - loss: 0.0175 - accuracy: 0.9945 - val_loss: 0.9498 - val_accuracy: 0.8568\n",
            "Epoch 20/20\n",
            "176/176 [==============================] - 5s 29ms/step - loss: 0.0150 - accuracy: 0.9948 - val_loss: 0.9214 - val_accuracy: 0.8580\n"
          ]
        }
      ]
    },
    {
      "cell_type": "code",
      "source": [
        "plt.plot(history4.history['accuracy'])\n",
        "plt.plot(history4.history['val_accuracy'])\n",
        "plt.title('model accuracy')\n",
        "plt.ylabel('accuracy')\n",
        "plt.xlabel('epoch')\n",
        "plt.legend(['train','val'], loc = 'upper left')\n",
        "plt.show()"
      ],
      "metadata": {
        "colab": {
          "base_uri": "https://localhost:8080/",
          "height": 295
        },
        "id": "Kc6SfYGFKhh9",
        "outputId": "f9caac2b-dde5-457a-e26e-c127ad034d04"
      },
      "execution_count": 64,
      "outputs": [
        {
          "output_type": "display_data",
          "data": {
            "text/plain": [
              "<Figure size 432x288 with 1 Axes>"
            ],
            "image/png": "[encoded data removed]"
          },
          "metadata": {
            "needs_background": "light"
          }
        }
      ]
    },
    {
      "cell_type": "code",
      "source": [
        "plt.plot(history4.history['loss'])\n",
        "plt.plot(history4.history['val_loss'])\n",
        "plt.title('model loss')\n",
        "plt.ylabel('loss')\n",
        "plt.xlabel('epoch')\n",
        "plt.legend(['train','val'], loc = 'upper left')\n",
        "plt.show()"
      ],
      "metadata": {
        "colab": {
          "base_uri": "https://localhost:8080/",
          "height": 295
        },
        "id": "QPJFw1ZxKkyw",
        "outputId": "8b418de2-6b0d-4b24-fb64-813b557783ce"
      },
      "execution_count": 65,
      "outputs": [
        {
          "output_type": "display_data",
          "data": {
            "text/plain": [
              "<Figure size 432x288 with 1 Axes>"
            ],
            "image/png": "[encoded data removed]"
          },
          "metadata": {
            "needs_background": "light"
          }
        }
      ]
    },
    {
      "cell_type": "code",
      "source": [
        "y_pred = model1.predict(X_test_new)\n",
        "y_pred = np.argmax(y_pred,axis = -1)\n",
        "\n",
        "accuracy_score(y_test,y_pred)*100"
      ],
      "metadata": {
        "colab": {
          "base_uri": "https://localhost:8080/"
        },
        "id": "IVKEPytQKr31",
        "outputId": "f8af1bc2-c6f8-4ad9-f7a4-0ce5bfa37bdb"
      },
      "execution_count": 66,
      "outputs": [
        {
          "output_type": "stream",
          "name": "stdout",
          "text": [
            "782/782 [==============================] - 4s 5ms/step\n"
          ]
        },
        {
          "output_type": "execute_result",
          "data": {
            "text/plain": [
              "84.636"
            ]
          },
          "metadata": {},
          "execution_count": 66
        }
      ]
    },
    {
      "cell_type": "code",
      "source": [
        "history5 = model2.fit(X_train_new, y_train, batch_size = 128,epochs =20, validation_split = 0.1)"
      ],
      "metadata": {
        "colab": {
          "base_uri": "https://localhost:8080/"
        },
        "id": "_f7XJTuaKx1M",
        "outputId": "464a0b71-22c6-4bf9-8068-6c3e4b3c99e5"
      },
      "execution_count": 67,
      "outputs": [
        {
          "output_type": "stream",
          "name": "stdout",
          "text": [
            "Epoch 1/20\n",
            "176/176 [==============================] - 9s 51ms/step - loss: 0.0556 - accuracy: 0.9812 - val_loss: 0.5146 - val_accuracy: 0.8652\n",
            "Epoch 2/20\n",
            "176/176 [==============================] - 9s 51ms/step - loss: 0.0553 - accuracy: 0.9808 - val_loss: 0.5101 - val_accuracy: 0.8568\n",
            "Epoch 3/20\n",
            "176/176 [==============================] - 9s 51ms/step - loss: 0.0361 - accuracy: 0.9879 - val_loss: 0.6510 - val_accuracy: 0.8516\n",
            "Epoch 4/20\n",
            "176/176 [==============================] - 9s 51ms/step - loss: 0.0416 - accuracy: 0.9844 - val_loss: 0.6527 - val_accuracy: 0.8492\n",
            "Epoch 5/20\n",
            "176/176 [==============================] - 9s 51ms/step - loss: 0.0352 - accuracy: 0.9876 - val_loss: 0.6438 - val_accuracy: 0.8600\n",
            "Epoch 6/20\n",
            "176/176 [==============================] - 9s 51ms/step - loss: 0.0267 - accuracy: 0.9907 - val_loss: 0.7045 - val_accuracy: 0.8500\n",
            "Epoch 7/20\n",
            "176/176 [==============================] - 9s 51ms/step - loss: 0.0222 - accuracy: 0.9917 - val_loss: 0.8022 - val_accuracy: 0.8564\n",
            "Epoch 8/20\n",
            "176/176 [==============================] - 9s 51ms/step - loss: 0.0260 - accuracy: 0.9908 - val_loss: 0.7298 - val_accuracy: 0.8512\n",
            "Epoch 9/20\n",
            "176/176 [==============================] - 9s 51ms/step - loss: 0.0262 - accuracy: 0.9914 - val_loss: 0.7320 - val_accuracy: 0.8544\n",
            "Epoch 10/20\n",
            "176/176 [==============================] - 9s 51ms/step - loss: 0.0295 - accuracy: 0.9905 - val_loss: 0.7846 - val_accuracy: 0.8536\n",
            "Epoch 11/20\n",
            "176/176 [==============================] - 9s 51ms/step - loss: 0.0325 - accuracy: 0.9877 - val_loss: 0.7312 - val_accuracy: 0.8456\n",
            "Epoch 12/20\n",
            "176/176 [==============================] - 9s 51ms/step - loss: 0.0476 - accuracy: 0.9834 - val_loss: 0.7229 - val_accuracy: 0.8532\n",
            "Epoch 13/20\n",
            "176/176 [==============================] - 9s 51ms/step - loss: 0.0473 - accuracy: 0.9824 - val_loss: 0.6242 - val_accuracy: 0.8564\n",
            "Epoch 14/20\n",
            "176/176 [==============================] - 9s 51ms/step - loss: 0.0443 - accuracy: 0.9832 - val_loss: 0.6551 - val_accuracy: 0.8548\n",
            "Epoch 15/20\n",
            "176/176 [==============================] - 9s 51ms/step - loss: 0.0440 - accuracy: 0.9849 - val_loss: 0.8380 - val_accuracy: 0.8500\n",
            "Epoch 16/20\n",
            "176/176 [==============================] - 9s 51ms/step - loss: 0.0499 - accuracy: 0.9830 - val_loss: 0.6810 - val_accuracy: 0.8536\n",
            "Epoch 17/20\n",
            "176/176 [==============================] - 9s 51ms/step - loss: 0.0332 - accuracy: 0.9884 - val_loss: 0.7115 - val_accuracy: 0.8516\n",
            "Epoch 18/20\n",
            "176/176 [==============================] - 9s 51ms/step - loss: 0.0281 - accuracy: 0.9901 - val_loss: 0.8870 - val_accuracy: 0.8556\n",
            "Epoch 19/20\n",
            "176/176 [==============================] - 9s 51ms/step - loss: 0.0245 - accuracy: 0.9916 - val_loss: 0.9353 - val_accuracy: 0.8372\n",
            "Epoch 20/20\n",
            "176/176 [==============================] - 9s 51ms/step - loss: 0.0319 - accuracy: 0.9895 - val_loss: 0.9227 - val_accuracy: 0.8376\n"
          ]
        }
      ]
    },
    {
      "cell_type": "code",
      "source": [
        "plt.plot(history5.history['accuracy'])\n",
        "plt.plot(history5.history['val_accuracy'])\n",
        "plt.title('model accuracy')\n",
        "plt.ylabel('accuracy')\n",
        "plt.xlabel('epoch')\n",
        "plt.legend(['train','val'], loc = 'upper left')\n",
        "plt.show()"
      ],
      "metadata": {
        "colab": {
          "base_uri": "https://localhost:8080/",
          "height": 295
        },
        "id": "IKiFxb5kLtsX",
        "outputId": "5d0eb9e2-d083-46f9-f1a1-76e27eb85130"
      },
      "execution_count": 68,
      "outputs": [
        {
          "output_type": "display_data",
          "data": {
            "text/plain": [
              "<Figure size 432x288 with 1 Axes>"
            ],
            "image/png": "[encoded data removed]"
          },
          "metadata": {
            "needs_background": "light"
          }
        }
      ]
    },
    {
      "cell_type": "code",
      "source": [
        "plt.plot(history5.history['loss'])\n",
        "plt.plot(history5.history['val_loss'])\n",
        "plt.title('model loss')\n",
        "plt.ylabel('loss')\n",
        "plt.xlabel('epoch')\n",
        "plt.legend(['train','val'], loc = 'upper left')\n",
        "plt.show()"
      ],
      "metadata": {
        "colab": {
          "base_uri": "https://localhost:8080/",
          "height": 295
        },
        "id": "2MYv0FkCLy9K",
        "outputId": "21974647-0e6e-444f-e4b0-7a81387e3a35"
      },
      "execution_count": 69,
      "outputs": [
        {
          "output_type": "display_data",
          "data": {
            "text/plain": [
              "<Figure size 432x288 with 1 Axes>"
            ],
            "image/png": "[encoded data removed]"
          },
          "metadata": {
            "needs_background": "light"
          }
        }
      ]
    },
    {
      "cell_type": "code",
      "source": [
        "y_pred = model2.predict(X_test_new)\n",
        "y_pred = np.argmax(y_pred,axis = -1)\n",
        "accuracy_score(y_test,y_pred)*100"
      ],
      "metadata": {
        "colab": {
          "base_uri": "https://localhost:8080/"
        },
        "id": "3ZXW3d3rL9v1",
        "outputId": "ac6fb01a-e52d-402d-cdec-65a886a896f1"
      },
      "execution_count": 70,
      "outputs": [
        {
          "output_type": "stream",
          "name": "stdout",
          "text": [
            "782/782 [==============================] - 7s 9ms/step\n"
          ]
        },
        {
          "output_type": "execute_result",
          "data": {
            "text/plain": [
              "83.14399999999999"
            ]
          },
          "metadata": {},
          "execution_count": 70
        }
      ]
    },
    {
      "cell_type": "markdown",
      "source": [
        "## Bài tập 2"
      ],
      "metadata": {
        "id": "jgP6EujXMGOi"
      }
    },
    {
      "cell_type": "code",
      "source": [
        "modelb2 = Sequential()\n",
        "modelb2.add(Input(shape=(None, 1), dtype=\"float64\"))\n",
        "modelb2.add(SimpleRNN(200, return_sequences=True,activation='relu'))\n",
        "modelb2.add(SimpleRNN(200, return_sequences=True, return_state=False,activation='relu'))\n",
        "modelb2.add(SimpleRNN(200, return_sequences=False, return_state=False,activation='relu'))\n",
        "modelb2.add(Dense(2, activation='sigmoid'))"
      ],
      "metadata": {
        "id": "IWNhqSulMAOz"
      },
      "execution_count": 71,
      "outputs": []
    },
    {
      "cell_type": "code",
      "source": [
        "from tensorflow.keras.optimizers import Adam\n",
        "from tensorflow.keras.losses import BinaryCrossentropy\n",
        "optimizer = Adam(learning_rate=0.01)\n",
        "loss = BinaryCrossentropy()"
      ],
      "metadata": {
        "id": "0ngDOa9BMXkD"
      },
      "execution_count": 73,
      "outputs": []
    },
    {
      "cell_type": "code",
      "source": [
        "modelb2.compile(optimizer=optimizer, loss=loss, metrics=['accuracy'])"
      ],
      "metadata": {
        "id": "1eCfiEalMeRk"
      },
      "execution_count": 74,
      "outputs": []
    },
    {
      "cell_type": "code",
      "source": [
        "historyb2 = modelb2.fit(X_train_new, y_train, batch_size = 128,epochs =5, validation_split = 0.1)"
      ],
      "metadata": {
        "colab": {
          "base_uri": "https://localhost:8080/"
        },
        "id": "vcbk05UiMgfs",
        "outputId": "cb8fbf3f-cddc-4344-caaf-a2c0e39bb569"
      },
      "execution_count": 75,
      "outputs": [
        {
          "output_type": "stream",
          "name": "stdout",
          "text": [
            "Epoch 1/5\n",
            "176/176 [==============================] - 99s 553ms/step - loss: 13780.5166 - accuracy: 0.4975 - val_loss: 0.8396 - val_accuracy: 0.4892\n",
            "Epoch 2/5\n",
            "176/176 [==============================] - 98s 556ms/step - loss: 0.7213 - accuracy: 0.5037 - val_loss: 0.6934 - val_accuracy: 0.4876\n",
            "Epoch 3/5\n",
            "176/176 [==============================] - 98s 556ms/step - loss: 0.6932 - accuracy: 0.5021 - val_loss: 0.6933 - val_accuracy: 0.4876\n",
            "Epoch 4/5\n",
            "176/176 [==============================] - 97s 549ms/step - loss: 0.6932 - accuracy: 0.4962 - val_loss: 0.6931 - val_accuracy: 0.5132\n",
            "Epoch 5/5\n",
            "176/176 [==============================] - 96s 544ms/step - loss: 0.6932 - accuracy: 0.5033 - val_loss: 0.6936 - val_accuracy: 0.4876\n"
          ]
        }
      ]
    },
    {
      "cell_type": "code",
      "source": [
        "y_pred = modelb2.predict(X_test_new)\n",
        "y_pred = np.argmax(y_pred,axis = -1)\n",
        "accuracy_score(y_test,y_pred)*100"
      ],
      "metadata": {
        "colab": {
          "base_uri": "https://localhost:8080/"
        },
        "id": "lZZTK9HHPW1T",
        "outputId": "bd8929fa-8e0c-4103-938c-16949d53b866"
      },
      "execution_count": 78,
      "outputs": [
        {
          "output_type": "stream",
          "name": "stdout",
          "text": [
            "782/782 [==============================] - 33s 42ms/step\n"
          ]
        },
        {
          "output_type": "execute_result",
          "data": {
            "text/plain": [
              "49.996"
            ]
          },
          "metadata": {},
          "execution_count": 78
        }
      ]
    },
    {
      "cell_type": "markdown",
      "source": [
        "## Bài tập 3"
      ],
      "metadata": {
        "id": "4k3KN-JmPoZ-"
      }
    },
    {
      "cell_type": "code",
      "source": [
        "modelb3 = Sequential()\n",
        "modelb3.add(Input(shape=(None, ), dtype=\"float64\"))\n",
        "modelb3.add(Embedding(len(index), 128))\n",
        "modelb3.add(LSTM(200, return_sequences=False))\n",
        "modelb3.add(Dense(2, activation='softmax'))"
      ],
      "metadata": {
        "id": "Z3-n7ck9PcoE"
      },
      "execution_count": 79,
      "outputs": []
    },
    {
      "cell_type": "code",
      "source": [
        "optimizer = Adam(learning_rate = 0.01)\n",
        "loss = BinaryCrossentropy()\n",
        "modelb3.compile(optimizer = optimizer, loss = loss, metrics = ['accuracy'])"
      ],
      "metadata": {
        "id": "qCNBpiZkPyRM"
      },
      "execution_count": 81,
      "outputs": []
    },
    {
      "cell_type": "code",
      "source": [
        "historyb3 = modelb3.fit(X_train_new, y_train, batch_size = 128,epochs =5, validation_split = 0.1)"
      ],
      "metadata": {
        "colab": {
          "base_uri": "https://localhost:8080/"
        },
        "id": "08xv8tv-P1hn",
        "outputId": "aa6d8799-3ffa-4362-f5a0-b7da5ad7dec5"
      },
      "execution_count": 82,
      "outputs": [
        {
          "output_type": "stream",
          "name": "stdout",
          "text": [
            "Epoch 1/5\n",
            "176/176 [==============================] - 7s 32ms/step - loss: 0.5286 - accuracy: 0.7224 - val_loss: 0.3448 - val_accuracy: 0.8664\n",
            "Epoch 2/5\n",
            "176/176 [==============================] - 5s 29ms/step - loss: 0.2397 - accuracy: 0.9030 - val_loss: 0.3137 - val_accuracy: 0.8732\n",
            "Epoch 3/5\n",
            "176/176 [==============================] - 5s 30ms/step - loss: 0.1449 - accuracy: 0.9462 - val_loss: 0.3401 - val_accuracy: 0.8776\n",
            "Epoch 4/5\n",
            "176/176 [==============================] - 5s 30ms/step - loss: 0.0959 - accuracy: 0.9660 - val_loss: 0.3971 - val_accuracy: 0.8636\n",
            "Epoch 5/5\n",
            "176/176 [==============================] - 5s 30ms/step - loss: 0.0644 - accuracy: 0.9780 - val_loss: 0.4446 - val_accuracy: 0.8672\n"
          ]
        }
      ]
    },
    {
      "cell_type": "code",
      "source": [
        "plt.plot(historyb3.history['accuracy'])\n",
        "plt.plot(historyb3.history['val_accuracy'])\n",
        "plt.title('model accuracy')\n",
        "plt.ylabel('accuracy')\n",
        "plt.xlabel('epoch')\n",
        "plt.legend(['train','val'], loc = 'upper left')\n",
        "plt.show()"
      ],
      "metadata": {
        "colab": {
          "base_uri": "https://localhost:8080/",
          "height": 295
        },
        "id": "L8CE-vmIP49h",
        "outputId": "b9b2c6ac-3b4a-4293-c214-25630567c672"
      },
      "execution_count": 83,
      "outputs": [
        {
          "output_type": "display_data",
          "data": {
            "text/plain": [
              "<Figure size 432x288 with 1 Axes>"
            ],
            "image/png": "[encoded data removed]"
          },
          "metadata": {
            "needs_background": "light"
          }
        }
      ]
    },
    {
      "cell_type": "code",
      "source": [
        "plt.plot(historyb3.history['loss'])\n",
        "plt.plot(historyb3.history['val_loss'])\n",
        "plt.title('model loss')\n",
        "plt.ylabel('loss')\n",
        "plt.xlabel('epoch')\n",
        "plt.legend(['train','val'], loc = 'upper left')\n",
        "plt.show()"
      ],
      "metadata": {
        "colab": {
          "base_uri": "https://localhost:8080/",
          "height": 295
        },
        "id": "7rr2BeSmP89Z",
        "outputId": "0d8c85a0-72b0-4c6b-b616-7bb6de2f8d0a"
      },
      "execution_count": 84,
      "outputs": [
        {
          "output_type": "display_data",
          "data": {
            "text/plain": [
              "<Figure size 432x288 with 1 Axes>"
            ],
            "image/png": "[encoded data removed]"
          },
          "metadata": {
            "needs_background": "light"
          }
        }
      ]
    },
    {
      "cell_type": "code",
      "source": [
        "y_pred=modelb3.predict(X_test_new)\n",
        "y_pred=np.argmax(y_pred,axis=-1)\n",
        "accuracy_score(y_test,y_pred)*100"
      ],
      "metadata": {
        "colab": {
          "base_uri": "https://localhost:8080/"
        },
        "id": "xsJiDMkwQGH7",
        "outputId": "454107ab-5a7f-400b-824a-3ff6aaef2e65"
      },
      "execution_count": 85,
      "outputs": [
        {
          "output_type": "stream",
          "name": "stdout",
          "text": [
            "782/782 [==============================] - 4s 5ms/step\n"
          ]
        },
        {
          "output_type": "execute_result",
          "data": {
            "text/plain": [
              "86.288"
            ]
          },
          "metadata": {},
          "execution_count": 85
        }
      ]
    },
    {
      "cell_type": "markdown",
      "source": [
        "## Bài tập 4"
      ],
      "metadata": {
        "id": "6FXAKOV2QfVU"
      }
    },
    {
      "cell_type": "code",
      "source": [
        "modelb4 = Sequential()\n",
        "modelb4.add(Input(shape=(None, ), dtype=\"float64\"))\n",
        "modelb4.add(Embedding(len(index), 128))\n",
        "modelb4.add(LSTM(200, return_sequences=True))\n",
        "modelb4.add(LSTM(200, return_sequences=False))\n",
        "modelb4.add(Dense(2, activation='softmax'))"
      ],
      "metadata": {
        "id": "qTfJhbdoQbsT"
      },
      "execution_count": 86,
      "outputs": []
    },
    {
      "cell_type": "code",
      "source": [
        "optimizer = Adam(learning_rate = 0.01)\n",
        "loss = BinaryCrossentropy()\n",
        "modelb4.compile(optimizer = optimizer, loss = loss, metrics = ['accuracy'])"
      ],
      "metadata": {
        "id": "qxe8hT8tQtas"
      },
      "execution_count": 88,
      "outputs": []
    },
    {
      "cell_type": "code",
      "source": [
        "historyb4 = modelb4.fit(X_train_new, y_train, batch_size = 128,epochs =5, validation_split = 0.1)"
      ],
      "metadata": {
        "colab": {
          "base_uri": "https://localhost:8080/"
        },
        "id": "NbjwkqfPQxPT",
        "outputId": "24bea47f-8dbc-4bee-c1fb-a723cc85983d"
      },
      "execution_count": 89,
      "outputs": [
        {
          "output_type": "stream",
          "name": "stdout",
          "text": [
            "Epoch 1/5\n",
            "176/176 [==============================] - 13s 60ms/step - loss: 0.5751 - accuracy: 0.7006 - val_loss: 0.5534 - val_accuracy: 0.7156\n",
            "Epoch 2/5\n",
            "176/176 [==============================] - 10s 55ms/step - loss: 0.3279 - accuracy: 0.8623 - val_loss: 0.3303 - val_accuracy: 0.8620\n",
            "Epoch 3/5\n",
            "176/176 [==============================] - 10s 55ms/step - loss: 0.2271 - accuracy: 0.9089 - val_loss: 0.3118 - val_accuracy: 0.8660\n",
            "Epoch 4/5\n",
            "176/176 [==============================] - 10s 56ms/step - loss: 0.1583 - accuracy: 0.9426 - val_loss: 0.3373 - val_accuracy: 0.8664\n",
            "Epoch 5/5\n",
            "176/176 [==============================] - 10s 56ms/step - loss: 0.1134 - accuracy: 0.9597 - val_loss: 0.3689 - val_accuracy: 0.8708\n"
          ]
        }
      ]
    },
    {
      "cell_type": "code",
      "source": [
        "plt.plot(historyb4.history['accuracy'])\n",
        "plt.plot(historyb4.history['val_accuracy'])\n",
        "plt.title('model accuracy')\n",
        "plt.ylabel('accuracy')\n",
        "plt.xlabel('epoch')\n",
        "plt.legend(['train','val'], loc = 'upper left')\n",
        "plt.show()"
      ],
      "metadata": {
        "colab": {
          "base_uri": "https://localhost:8080/",
          "height": 295
        },
        "id": "p7NQXWp9Q03v",
        "outputId": "428deb6b-7e47-49e2-a6e3-a0186dfefd14"
      },
      "execution_count": 90,
      "outputs": [
        {
          "output_type": "display_data",
          "data": {
            "text/plain": [
              "<Figure size 432x288 with 1 Axes>"
            ],
            "image/png": "[encoded data removed]"
          },
          "metadata": {
            "needs_background": "light"
          }
        }
      ]
    },
    {
      "cell_type": "code",
      "source": [
        "plt.plot(historyb4.history['loss'])\n",
        "plt.plot(historyb4.history['val_loss'])\n",
        "plt.title('model loss')\n",
        "plt.ylabel('loss')\n",
        "plt.xlabel('epoch')\n",
        "plt.legend(['train','val'], loc = 'upper left')\n",
        "plt.show()"
      ],
      "metadata": {
        "colab": {
          "base_uri": "https://localhost:8080/",
          "height": 295
        },
        "id": "RcjWJyyCQ4mX",
        "outputId": "7855d38d-f74d-47ba-ea7a-8421f15fe7c6"
      },
      "execution_count": 91,
      "outputs": [
        {
          "output_type": "display_data",
          "data": {
            "text/plain": [
              "<Figure size 432x288 with 1 Axes>"
            ],
            "image/png": "[encoded data removed]"
          },
          "metadata": {
            "needs_background": "light"
          }
        }
      ]
    },
    {
      "cell_type": "code",
      "source": [
        "y_pred = modelb4.predict(X_test_new)\n",
        "y_pred = np.argmax(y_pred,axis = -1)\n",
        "accuracy_score(y_test,y_pred)*100"
      ],
      "metadata": {
        "colab": {
          "base_uri": "https://localhost:8080/"
        },
        "id": "r8nivQtwQ5FX",
        "outputId": "86cc78a8-1b13-4479-f6f0-2b5a7dd4a253"
      },
      "execution_count": 92,
      "outputs": [
        {
          "output_type": "stream",
          "name": "stdout",
          "text": [
            "782/782 [==============================] - 8s 9ms/step\n"
          ]
        },
        {
          "output_type": "execute_result",
          "data": {
            "text/plain": [
              "86.60799999999999"
            ]
          },
          "metadata": {},
          "execution_count": 92
        }
      ]
    },
    {
      "cell_type": "markdown",
      "source": [
        "## Bài tập 5"
      ],
      "metadata": {
        "id": "BexZGVCzRSs9"
      }
    },
    {
      "cell_type": "code",
      "source": [
        "from tensorflow.keras.layers import GRU"
      ],
      "metadata": {
        "id": "roWNT8zYRUqr"
      },
      "execution_count": 93,
      "outputs": []
    },
    {
      "cell_type": "code",
      "source": [
        "modelb5 = Sequential()\n",
        "modelb5.add(Input(shape=(None, ), dtype=\"float64\"))\n",
        "modelb5.add(Embedding(len(index), 128))\n",
        "modelb5.add(GRU(200,return_sequences=False))\n",
        "modelb5.add(Dense(2, activation='softmax'))"
      ],
      "metadata": {
        "id": "Rj-wB_P4RWOR"
      },
      "execution_count": 94,
      "outputs": []
    },
    {
      "cell_type": "code",
      "source": [
        "modelb5.summary()"
      ],
      "metadata": {
        "colab": {
          "base_uri": "https://localhost:8080/"
        },
        "id": "RY8npAI-Rbv1",
        "outputId": "1602b42c-393a-4df3-fbb9-d9f70e6d777d"
      },
      "execution_count": 95,
      "outputs": [
        {
          "output_type": "stream",
          "name": "stdout",
          "text": [
            "Model: \"sequential_6\"\n",
            "_________________________________________________________________\n",
            " Layer (type)                Output Shape              Param #   \n",
            "=================================================================\n",
            " embedding_4 (Embedding)     (None, None, 128)         11338752  \n",
            "                                                                 \n",
            " gru (GRU)                   (None, 200)               198000    \n",
            "                                                                 \n",
            " dense_6 (Dense)             (None, 2)                 402       \n",
            "                                                                 \n",
            "=================================================================\n",
            "Total params: 11,537,154\n",
            "Trainable params: 11,537,154\n",
            "Non-trainable params: 0\n",
            "_________________________________________________________________\n"
          ]
        }
      ]
    },
    {
      "cell_type": "code",
      "source": [
        "optimizer = Adam(learning_rate = 0.01)\n",
        "loss = BinaryCrossentropy()\n",
        "modelb5.compile(optimizer = optimizer, loss = loss, metrics = ['accuracy'])"
      ],
      "metadata": {
        "id": "0WWw7loWRd1i"
      },
      "execution_count": 96,
      "outputs": []
    },
    {
      "cell_type": "code",
      "source": [
        "historyb5 = modelb5.fit(X_train_new, y_train, batch_size = 128,epochs =5, validation_split = 0.1)"
      ],
      "metadata": {
        "colab": {
          "base_uri": "https://localhost:8080/"
        },
        "id": "8pek6uYmRgyy",
        "outputId": "c47a7f29-6105-4f12-cf5e-6b44a9cbcf4b"
      },
      "execution_count": 97,
      "outputs": [
        {
          "output_type": "stream",
          "name": "stdout",
          "text": [
            "Epoch 1/5\n",
            "176/176 [==============================] - 7s 30ms/step - loss: 0.4208 - accuracy: 0.7900 - val_loss: 0.2708 - val_accuracy: 0.8888\n",
            "Epoch 2/5\n",
            "176/176 [==============================] - 5s 27ms/step - loss: 0.1827 - accuracy: 0.9305 - val_loss: 0.2803 - val_accuracy: 0.8876\n",
            "Epoch 3/5\n",
            "176/176 [==============================] - 5s 27ms/step - loss: 0.1048 - accuracy: 0.9611 - val_loss: 0.3683 - val_accuracy: 0.8720\n",
            "Epoch 4/5\n",
            "176/176 [==============================] - 5s 27ms/step - loss: 0.0770 - accuracy: 0.9726 - val_loss: 0.4550 - val_accuracy: 0.8584\n",
            "Epoch 5/5\n",
            "176/176 [==============================] - 5s 27ms/step - loss: 0.0969 - accuracy: 0.9632 - val_loss: 0.5266 - val_accuracy: 0.8380\n"
          ]
        }
      ]
    },
    {
      "cell_type": "code",
      "source": [
        "y_pred = modelb5.predict(X_test_new)\n",
        "y_pred = np.argmax(y_pred,axis = -1)\n",
        "accuracy_score(y_test,y_pred)*100"
      ],
      "metadata": {
        "colab": {
          "base_uri": "https://localhost:8080/"
        },
        "id": "O7hSUJFvR2JZ",
        "outputId": "0c29f7b6-020d-459b-9b57-4ae5b48a3ba7"
      },
      "execution_count": 100,
      "outputs": [
        {
          "output_type": "stream",
          "name": "stdout",
          "text": [
            "782/782 [==============================] - 4s 5ms/step\n"
          ]
        },
        {
          "output_type": "execute_result",
          "data": {
            "text/plain": [
              "83.43199999999999"
            ]
          },
          "metadata": {},
          "execution_count": 100
        }
      ]
    }
  ],
  "metadata": {
    "colab": {
      "provenance": [],
      "toc_visible": true
    },
    "kernelspec": {
      "display_name": "Python 3",
      "name": "python3"
    },
    "language_info": {
      "name": "python"
    },
    "accelerator": "GPU",
    "gpuClass": "standard"
  },
  "nbformat": 4,
  "nbformat_minor": 0
}