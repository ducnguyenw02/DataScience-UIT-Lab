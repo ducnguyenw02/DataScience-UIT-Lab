{
  "cells": [
    {
      "cell_type": "markdown",
      "metadata": {
        "id": "lNJiZaIk_3-T"
      },
      "source": [
        "# Load Bộ dữ liệu\n"
      ]
    },
    {
      "cell_type": "code",
      "execution_count": 1,
      "metadata": {
        "colab": {
          "base_uri": "https://localhost:8080/"
        },
        "id": "EXzNmTZEhuSS",
        "outputId": "a69ebf86-52fb-4bd6-8674-fbd9fc345f38"
      },
      "outputs": [
        {
          "output_type": "stream",
          "name": "stdout",
          "text": [
            "Downloading data from https://storage.googleapis.com/tensorflow/tf-keras-datasets/mnist.npz\n",
            "11493376/11490434 [==============================] - 0s 0us/step\n",
            "11501568/11490434 [==============================] - 0s 0us/step\n"
          ]
        }
      ],
      "source": [
        "from keras.datasets.mnist import load_data\n",
        "import numpy as np\n",
        "from matplotlib import pyplot as plt\n",
        "(X_train, y_train), (X_test, y_test) = load_data()"
      ]
    },
    {
      "cell_type": "code",
      "execution_count": 2,
      "metadata": {
        "id": "XFWtZCk__Bgk"
      },
      "outputs": [],
      "source": [
        "# Copy dữ liệu lúc cần dùng \n",
        "X_train_copy, y_train_copy, X_test_copy, y_test_copy = X_train.copy(), y_train.copy(), X_test.copy(), y_test.copy() "
      ]
    },
    {
      "cell_type": "markdown",
      "metadata": {
        "id": "Q9n7l_-duc7Y"
      },
      "source": [
        "# Chuẩn bị dữ liệu"
      ]
    },
    {
      "cell_type": "code",
      "execution_count": 3,
      "metadata": {
        "colab": {
          "base_uri": "https://localhost:8080/",
          "height": 282
        },
        "id": "KIY-q_0Ald5u",
        "outputId": "8cb83154-acf7-40f4-ebfa-0aaf3d094373"
      },
      "outputs": [
        {
          "output_type": "execute_result",
          "data": {
            "text/plain": [
              "<matplotlib.image.AxesImage at 0x7f97359a23d0>"
            ]
          },
          "metadata": {},
          "execution_count": 3
        },
        {
          "output_type": "display_data",
          "data": {
            "text/plain": [
              "<Figure size 432x288 with 1 Axes>"
            ],
            "image/png": "[encoded data removed]"
          },
          "metadata": {
            "needs_background": "light"
          }
        }
      ],
      "source": [
        "plt.imshow(X_train[0])"
      ]
    },
    {
      "cell_type": "code",
      "execution_count": 4,
      "metadata": {
        "colab": {
          "base_uri": "https://localhost:8080/",
          "height": 282
        },
        "id": "5Vt9m3V-rFtM",
        "outputId": "6e5f8041-9a99-45fc-e850-70be6782eb43"
      },
      "outputs": [
        {
          "output_type": "execute_result",
          "data": {
            "text/plain": [
              "<matplotlib.image.AxesImage at 0x7f97326feb10>"
            ]
          },
          "metadata": {},
          "execution_count": 4
        },
        {
          "output_type": "display_data",
          "data": {
            "text/plain": [
              "<Figure size 432x288 with 1 Axes>"
            ],
            "image/png": "[encoded data removed]"
          },
          "metadata": {
            "needs_background": "light"
          }
        }
      ],
      "source": [
        "plt.imshow(X_test[0])"
      ]
    },
    {
      "cell_type": "code",
      "execution_count": 5,
      "metadata": {
        "colab": {
          "base_uri": "https://localhost:8080/"
        },
        "id": "8qTcDQiap2oV",
        "outputId": "84b8469a-1334-465a-8635-29b3a7d33213"
      },
      "outputs": [
        {
          "output_type": "execute_result",
          "data": {
            "text/plain": [
              "((60000, 28, 28), (10000, 28, 28))"
            ]
          },
          "metadata": {},
          "execution_count": 5
        }
      ],
      "source": [
        "X_train.shape, X_test.shape"
      ]
    },
    {
      "cell_type": "code",
      "execution_count": 6,
      "metadata": {
        "colab": {
          "base_uri": "https://localhost:8080/"
        },
        "id": "acldaQZdtHXi",
        "outputId": "3712f42b-da5f-428d-8d1b-d536c37d4fa8"
      },
      "outputs": [
        {
          "output_type": "execute_result",
          "data": {
            "text/plain": [
              "[1, 2, 3, 4, 5]"
            ]
          },
          "metadata": {},
          "execution_count": 6
        }
      ],
      "source": [
        "a = np.array([1, 2, 3, 1, 1, 2, 4, 5, 5])\n",
        "list(set(a))"
      ]
    },
    {
      "cell_type": "code",
      "execution_count": 7,
      "metadata": {
        "id": "YJV9-_WmtHhT"
      },
      "outputs": [],
      "source": [
        "numbers = [2, 3, 5, 2, 11, 2, 7]\n",
        "count_2 = numbers.count(2)"
      ]
    },
    {
      "cell_type": "code",
      "execution_count": 8,
      "metadata": {
        "colab": {
          "base_uri": "https://localhost:8080/"
        },
        "id": "8KNN7415tKBM",
        "outputId": "5cfc5a9c-e2aa-4258-89af-325de0afc0e4"
      },
      "outputs": [
        {
          "output_type": "execute_result",
          "data": {
            "text/plain": [
              "{0, 1, 2, 3, 4, 5, 6, 7, 8, 9}"
            ]
          },
          "metadata": {},
          "execution_count": 8
        }
      ],
      "source": [
        "set(y_train)"
      ]
    },
    {
      "cell_type": "code",
      "execution_count": 9,
      "metadata": {
        "id": "xRO9JjH-wET1"
      },
      "outputs": [],
      "source": [
        "labels = list(set(y_train))"
      ]
    },
    {
      "cell_type": "code",
      "execution_count": 10,
      "metadata": {
        "id": "kp17aN_cumR1"
      },
      "outputs": [],
      "source": [
        "list_labels = dict()\n",
        "\n",
        "for l in labels:\n",
        "  list_labels[l] = list(y_train).count(l) "
      ]
    },
    {
      "cell_type": "code",
      "execution_count": 11,
      "metadata": {
        "colab": {
          "base_uri": "https://localhost:8080/"
        },
        "id": "M-Mw_QRrwAwW",
        "outputId": "3c20533b-1cf8-4f41-b26d-2f1abd71a5db"
      },
      "outputs": [
        {
          "output_type": "execute_result",
          "data": {
            "text/plain": [
              "5923"
            ]
          },
          "metadata": {},
          "execution_count": 11
        }
      ],
      "source": [
        "list_labels[0]"
      ]
    },
    {
      "cell_type": "code",
      "execution_count": 12,
      "metadata": {
        "colab": {
          "base_uri": "https://localhost:8080/",
          "height": 313
        },
        "id": "OCCb7jaJwo9t",
        "outputId": "a5245505-fbe6-4635-dc2f-e98df2bd85af"
      },
      "outputs": [
        {
          "output_type": "execute_result",
          "data": {
            "text/plain": [
              "<function matplotlib.pyplot.show(*args, **kw)>"
            ]
          },
          "metadata": {},
          "execution_count": 12
        },
        {
          "output_type": "display_data",
          "data": {
            "text/plain": [
              "<Figure size 432x288 with 1 Axes>"
            ],
            "image/png": "[encoded data removed]"
          },
          "metadata": {
            "needs_background": "light"
          }
        }
      ],
      "source": [
        "plt.bar(list_labels.keys(), list_labels.values())\n",
        "plt.xlabel(\"Nhãn\")\n",
        "plt.ylabel(\"Số lượng\") \n",
        "plt.title(\"Thống kê\")\n",
        "plt.show"
      ]
    },
    {
      "cell_type": "code",
      "execution_count": 13,
      "metadata": {
        "colab": {
          "base_uri": "https://localhost:8080/",
          "height": 282
        },
        "id": "qRZbQjZhwo3e",
        "outputId": "a5e67dbd-01c8-4b5c-a7a2-dc428efcdd44"
      },
      "outputs": [
        {
          "output_type": "execute_result",
          "data": {
            "text/plain": [
              "<function matplotlib.pyplot.show(*args, **kw)>"
            ]
          },
          "metadata": {},
          "execution_count": 13
        },
        {
          "output_type": "display_data",
          "data": {
            "text/plain": [
              "<Figure size 432x288 with 1 Axes>"
            ],
            "image/png": "[encoded data removed]"
          },
          "metadata": {}
        }
      ],
      "source": [
        "plt.pie(x = list_labels.values(), labels = list_labels.keys(),\n",
        "        startangle = 90)\n",
        "plt.title(\"Thống kê\")\n",
        "plt.show"
      ]
    },
    {
      "cell_type": "code",
      "execution_count": 14,
      "metadata": {
        "id": "9mWtFDK5wo0L"
      },
      "outputs": [],
      "source": [
        "X_train = X_train.reshape(60000,784)\n",
        "X_test = X_test.reshape(-1,784)\n",
        "y_train = y_train.reshape(-1)\n",
        "y_test = y_test.reshape(-1)"
      ]
    },
    {
      "cell_type": "code",
      "execution_count": 15,
      "metadata": {
        "colab": {
          "base_uri": "https://localhost:8080/"
        },
        "id": "hhaF8Kjw_hMH",
        "outputId": "cb1b60f5-e62c-4554-d709-f09d975d0946"
      },
      "outputs": [
        {
          "output_type": "execute_result",
          "data": {
            "text/plain": [
              "((60000, 784), (60000,))"
            ]
          },
          "metadata": {},
          "execution_count": 15
        }
      ],
      "source": [
        "X_train.shape, y_train.shape"
      ]
    },
    {
      "cell_type": "code",
      "execution_count": 16,
      "metadata": {
        "colab": {
          "base_uri": "https://localhost:8080/"
        },
        "id": "YF_Cz2sqdDsF",
        "outputId": "b09fd5d0-725b-4c01-bc9b-0cbc8572a360"
      },
      "outputs": [
        {
          "output_type": "execute_result",
          "data": {
            "text/plain": [
              "(784,)"
            ]
          },
          "metadata": {},
          "execution_count": 16
        }
      ],
      "source": [
        "X_train[0].shape"
      ]
    },
    {
      "cell_type": "code",
      "execution_count": 17,
      "metadata": {
        "colab": {
          "base_uri": "https://localhost:8080/"
        },
        "id": "bPTw6Hh7gElZ",
        "outputId": "ed977674-4ded-41c8-f9df-e010126fa856"
      },
      "outputs": [
        {
          "output_type": "execute_result",
          "data": {
            "text/plain": [
              "2"
            ]
          },
          "metadata": {},
          "execution_count": 17
        }
      ],
      "source": [
        "y_train[5]"
      ]
    },
    {
      "cell_type": "code",
      "execution_count": 18,
      "metadata": {
        "id": "oTx1pRnY3eUO"
      },
      "outputs": [],
      "source": [
        "from tensorflow.keras.utils import to_categorical\n",
        "y_train = to_categorical(y_train, num_classes=10)"
      ]
    },
    {
      "cell_type": "code",
      "execution_count": 19,
      "metadata": {
        "colab": {
          "base_uri": "https://localhost:8080/"
        },
        "id": "H2KyXMoDfZXN",
        "outputId": "6e7e6668-946c-4892-89b9-6ff7eef853e8"
      },
      "outputs": [
        {
          "output_type": "execute_result",
          "data": {
            "text/plain": [
              "(60000, 10)"
            ]
          },
          "metadata": {},
          "execution_count": 19
        }
      ],
      "source": [
        "y_train.shape"
      ]
    },
    {
      "cell_type": "code",
      "execution_count": 20,
      "metadata": {
        "colab": {
          "base_uri": "https://localhost:8080/"
        },
        "id": "latZKzto3qP7",
        "outputId": "b3a949ec-d348-4157-9d3f-18c8501b25f9"
      },
      "outputs": [
        {
          "output_type": "execute_result",
          "data": {
            "text/plain": [
              "array([0., 0., 1., 0., 0., 0., 0., 0., 0., 0.], dtype=float32)"
            ]
          },
          "metadata": {},
          "execution_count": 20
        }
      ],
      "source": [
        "y_train[5]"
      ]
    },
    {
      "cell_type": "markdown",
      "metadata": {
        "id": "06PGcv9dunEN"
      },
      "source": [
        "# Xây dựng mạng Neural bằng Keras - Huấn luyện mô hình"
      ]
    },
    {
      "cell_type": "code",
      "execution_count": 21,
      "metadata": {
        "id": "vauS8iWS3uvg"
      },
      "outputs": [],
      "source": [
        "from keras.models import Sequential\n",
        "from keras.layers import Dense  "
      ]
    },
    {
      "cell_type": "code",
      "execution_count": 22,
      "metadata": {
        "id": "mu1yxmmz6Lpj"
      },
      "outputs": [],
      "source": [
        "from tensorflow.keras.optimizers import Adam\n",
        "from tensorflow.keras.losses import BinaryCrossentropy\n",
        "\n",
        "model = Sequential()\n",
        "model.add(Dense(784, input_shape=(784, )))\n",
        "model.add(Dense(10, input_shape=(10, )))\n",
        "optimizer = Adam(learning_rate=0.01)\n",
        "loss1 = BinaryCrossentropy()\n",
        "model.compile(optimizer=optimizer, loss=loss1, metrics=['accuracy'])"
      ]
    },
    {
      "cell_type": "code",
      "execution_count": 23,
      "metadata": {
        "colab": {
          "base_uri": "https://localhost:8080/"
        },
        "id": "uq-vkDuJ-WtS",
        "outputId": "11e6daa0-460c-44a5-9c59-fa31e6ab0338"
      },
      "outputs": [
        {
          "output_type": "stream",
          "name": "stdout",
          "text": [
            "Epoch 1/10\n",
            "469/469 [==============================] - 6s 5ms/step - loss: 5.2113 - accuracy: 0.1573\n",
            "Epoch 2/10\n",
            "469/469 [==============================] - 2s 5ms/step - loss: 5.1898 - accuracy: 0.1580\n",
            "Epoch 3/10\n",
            "469/469 [==============================] - 2s 5ms/step - loss: 5.1898 - accuracy: 0.1580\n",
            "Epoch 4/10\n",
            "469/469 [==============================] - 2s 4ms/step - loss: 5.1898 - accuracy: 0.1580\n",
            "Epoch 5/10\n",
            "469/469 [==============================] - 2s 5ms/step - loss: 5.1898 - accuracy: 0.1580\n",
            "Epoch 6/10\n",
            "469/469 [==============================] - 2s 5ms/step - loss: 5.1898 - accuracy: 0.1580\n",
            "Epoch 7/10\n",
            "469/469 [==============================] - 2s 5ms/step - loss: 5.1898 - accuracy: 0.1580\n",
            "Epoch 8/10\n",
            "469/469 [==============================] - 2s 5ms/step - loss: 5.1898 - accuracy: 0.1580\n",
            "Epoch 9/10\n",
            "469/469 [==============================] - 2s 5ms/step - loss: 5.1898 - accuracy: 0.1580\n",
            "Epoch 10/10\n",
            "469/469 [==============================] - 1s 3ms/step - loss: 5.1898 - accuracy: 0.1580\n",
            "CPU times: user 20 s, sys: 1.76 s, total: 21.8 s\n",
            "Wall time: 41.6 s\n"
          ]
        },
        {
          "output_type": "execute_result",
          "data": {
            "text/plain": [
              "<keras.callbacks.History at 0x7f972017bbd0>"
            ]
          },
          "metadata": {},
          "execution_count": 23
        }
      ],
      "source": [
        "%%time\n",
        "model.fit(X_train, y_train, batch_size=128, epochs=10)"
      ]
    },
    {
      "cell_type": "code",
      "execution_count": 24,
      "metadata": {
        "colab": {
          "base_uri": "https://localhost:8080/"
        },
        "id": "v-9PhihkjZNR",
        "outputId": "f3a744a6-b047-4db7-b9ce-2b214beca453"
      },
      "outputs": [
        {
          "output_type": "stream",
          "name": "stdout",
          "text": [
            "Model: \"sequential\"\n",
            "_________________________________________________________________\n",
            " Layer (type)                Output Shape              Param #   \n",
            "=================================================================\n",
            " dense (Dense)               (None, 784)               615440    \n",
            "                                                                 \n",
            " dense_1 (Dense)             (None, 10)                7850      \n",
            "                                                                 \n",
            "=================================================================\n",
            "Total params: 623,290\n",
            "Trainable params: 623,290\n",
            "Non-trainable params: 0\n",
            "_________________________________________________________________\n"
          ]
        }
      ],
      "source": [
        "model.summary()"
      ]
    },
    {
      "cell_type": "code",
      "execution_count": 25,
      "metadata": {
        "id": "-xZBoK-O-ZKs"
      },
      "outputs": [],
      "source": [
        "y_pred = model.predict(X_test)"
      ]
    },
    {
      "cell_type": "code",
      "execution_count": 26,
      "metadata": {
        "colab": {
          "base_uri": "https://localhost:8080/"
        },
        "id": "MzWi7XUPpXFo",
        "outputId": "1e56da71-e56f-4b78-d6bc-7a25d902ca20"
      },
      "outputs": [
        {
          "output_type": "execute_result",
          "data": {
            "text/plain": [
              "(10000, 10)"
            ]
          },
          "metadata": {},
          "execution_count": 26
        }
      ],
      "source": [
        "y_pred.shape"
      ]
    },
    {
      "cell_type": "code",
      "execution_count": 27,
      "metadata": {
        "colab": {
          "base_uri": "https://localhost:8080/"
        },
        "id": "_1CoEAp7AYZ5",
        "outputId": "a430be35-88ae-4b7d-e43b-90fa60eab06f"
      },
      "outputs": [
        {
          "output_type": "execute_result",
          "data": {
            "text/plain": [
              "array([7, 7, 7, ..., 7, 7, 6])"
            ]
          },
          "metadata": {},
          "execution_count": 27
        }
      ],
      "source": [
        "y_pred_label = np.argmax(y_pred, axis=-1)\n",
        "y_pred_label"
      ]
    },
    {
      "cell_type": "code",
      "execution_count": 28,
      "metadata": {
        "colab": {
          "base_uri": "https://localhost:8080/"
        },
        "id": "VHTnBoCEqmHq",
        "outputId": "5854ad42-f1a2-4129-f1f8-321e2414af15"
      },
      "outputs": [
        {
          "output_type": "execute_result",
          "data": {
            "text/plain": [
              "array([  -766.8692, -18618.338 ,   1456.8448, -26530.945 , -29296.094 ,\n",
              "       -33065.594 ,   1720.7701,   1841.2129, -36417.24  , -47685.785 ],\n",
              "      dtype=float32)"
            ]
          },
          "metadata": {},
          "execution_count": 28
        }
      ],
      "source": [
        "y_pred[50]"
      ]
    },
    {
      "cell_type": "code",
      "execution_count": 29,
      "metadata": {
        "colab": {
          "base_uri": "https://localhost:8080/"
        },
        "id": "ElX4Dif3rQ6u",
        "outputId": "9db82a34-9526-47a9-946e-e067ef72cb83"
      },
      "outputs": [
        {
          "output_type": "execute_result",
          "data": {
            "text/plain": [
              "False"
            ]
          },
          "metadata": {},
          "execution_count": 29
        }
      ],
      "source": [
        "y_pred_label[50] == y_test[50]"
      ]
    },
    {
      "cell_type": "code",
      "execution_count": 30,
      "metadata": {
        "colab": {
          "base_uri": "https://localhost:8080/"
        },
        "id": "tjSqkYH6rxqG",
        "outputId": "5d347965-4382-45ef-b43f-5ebcc2895794"
      },
      "outputs": [
        {
          "output_type": "execute_result",
          "data": {
            "text/plain": [
              "(6, 6, 7)"
            ]
          },
          "metadata": {},
          "execution_count": 30
        }
      ],
      "source": [
        "y_pred_label[100], y_pred_label[1001], y_pred_label[4123]"
      ]
    },
    {
      "cell_type": "code",
      "execution_count": 31,
      "metadata": {
        "colab": {
          "base_uri": "https://localhost:8080/",
          "height": 282
        },
        "id": "iMGHluvQ-ncj",
        "outputId": "23e112fd-7507-4a10-efce-960b19f947e8"
      },
      "outputs": [
        {
          "output_type": "execute_result",
          "data": {
            "text/plain": [
              "<matplotlib.image.AxesImage at 0x7f96b47299d0>"
            ]
          },
          "metadata": {},
          "execution_count": 31
        },
        {
          "output_type": "display_data",
          "data": {
            "text/plain": [
              "<Figure size 432x288 with 1 Axes>"
            ],
            "image/png": "[encoded data removed]"
          },
          "metadata": {
            "needs_background": "light"
          }
        }
      ],
      "source": [
        "plt.imshow(X_test_copy[100])"
      ]
    },
    {
      "cell_type": "code",
      "execution_count": 32,
      "metadata": {
        "colab": {
          "base_uri": "https://localhost:8080/",
          "height": 282
        },
        "id": "PZ6474Nssb-N",
        "outputId": "62c656c5-bd52-4e0e-c94c-85ec016b8f81"
      },
      "outputs": [
        {
          "output_type": "execute_result",
          "data": {
            "text/plain": [
              "<matplotlib.image.AxesImage at 0x7f97332f7910>"
            ]
          },
          "metadata": {},
          "execution_count": 32
        },
        {
          "output_type": "display_data",
          "data": {
            "text/plain": [
              "<Figure size 432x288 with 1 Axes>"
            ],
            "image/png": "[encoded data removed]"
          },
          "metadata": {
            "needs_background": "light"
          }
        }
      ],
      "source": [
        "plt.imshow(X_test_copy[1001])"
      ]
    },
    {
      "cell_type": "code",
      "execution_count": 33,
      "metadata": {
        "colab": {
          "base_uri": "https://localhost:8080/",
          "height": 282
        },
        "id": "zGQB4UKrslfw",
        "outputId": "c75559e5-a522-46e6-8966-4fbec3f57165"
      },
      "outputs": [
        {
          "output_type": "execute_result",
          "data": {
            "text/plain": [
              "<matplotlib.image.AxesImage at 0x7f96b451d510>"
            ]
          },
          "metadata": {},
          "execution_count": 33
        },
        {
          "output_type": "display_data",
          "data": {
            "text/plain": [
              "<Figure size 432x288 with 1 Axes>"
            ],
            "image/png": "[encoded data removed]"
          },
          "metadata": {
            "needs_background": "light"
          }
        }
      ],
      "source": [
        "plt.imshow(X_test_copy[4123])"
      ]
    },
    {
      "cell_type": "markdown",
      "metadata": {
        "id": "lDXVwlymu_CY"
      },
      "source": [
        "# Đánh giá mô hình"
      ]
    },
    {
      "cell_type": "code",
      "execution_count": 34,
      "metadata": {
        "colab": {
          "base_uri": "https://localhost:8080/"
        },
        "id": "8MX1bAEy-gFX",
        "outputId": "ec58f359-f155-4bce-de5c-e6b29c74447d"
      },
      "outputs": [
        {
          "output_type": "execute_result",
          "data": {
            "text/plain": [
              "15.8"
            ]
          },
          "metadata": {},
          "execution_count": 34
        }
      ],
      "source": [
        "from sklearn.metrics import accuracy_score\n",
        "accuracy_score(y_test, y_pred_label)*100"
      ]
    },
    {
      "cell_type": "markdown",
      "metadata": {
        "id": "uyFlC57-vDSe"
      },
      "source": [
        "# Lưu mô hình"
      ]
    },
    {
      "cell_type": "code",
      "execution_count": 35,
      "metadata": {
        "id": "c0trUzCsoJg6"
      },
      "outputs": [],
      "source": [
        "model.save('/content/drive/MyDrive/Data Scientist/DS201.N11-Deep learning/my_model.h5')"
      ]
    },
    {
      "cell_type": "code",
      "execution_count": 36,
      "metadata": {
        "id": "MC0RDMtPoJeF"
      },
      "outputs": [],
      "source": [
        "from keras.models import load_model\n",
        "model = load_model('/content/drive/MyDrive/Data Scientist/DS201.N11-Deep learning/my_model.h5')"
      ]
    },
    {
      "cell_type": "markdown",
      "metadata": {
        "id": "uUUO0rmZpjOL"
      },
      "source": [
        "# BÀI TẬP \n"
      ]
    },
    {
      "cell_type": "markdown",
      "metadata": {
        "id": "rLDIhskbpm8_"
      },
      "source": [
        "## Bài tập 1"
      ]
    },
    {
      "cell_type": "code",
      "execution_count": 37,
      "metadata": {
        "colab": {
          "base_uri": "https://localhost:8080/"
        },
        "id": "rYhETjn3p3gk",
        "outputId": "0d6027dc-cb6c-42ec-e755-c5a501bae7df"
      },
      "outputs": [
        {
          "output_type": "stream",
          "name": "stdout",
          "text": [
            "Epoch 1/10\n",
            "469/469 [==============================] - 2s 3ms/step - loss: 0.1255 - accuracy: 0.8007\n",
            "Epoch 2/10\n",
            "469/469 [==============================] - 1s 3ms/step - loss: 0.1020 - accuracy: 0.8378\n",
            "Epoch 3/10\n",
            "469/469 [==============================] - 1s 3ms/step - loss: 0.0988 - accuracy: 0.8406\n",
            "Epoch 4/10\n",
            "469/469 [==============================] - 1s 3ms/step - loss: 0.0917 - accuracy: 0.8553\n",
            "Epoch 5/10\n",
            "469/469 [==============================] - 1s 3ms/step - loss: 0.0875 - accuracy: 0.8600\n",
            "Epoch 6/10\n",
            "469/469 [==============================] - 1s 3ms/step - loss: 0.0882 - accuracy: 0.8593\n",
            "Epoch 7/10\n",
            "469/469 [==============================] - 1s 3ms/step - loss: 0.0848 - accuracy: 0.8675\n",
            "Epoch 8/10\n",
            "469/469 [==============================] - 1s 3ms/step - loss: 0.0853 - accuracy: 0.8665\n",
            "Epoch 9/10\n",
            "469/469 [==============================] - 1s 3ms/step - loss: 0.0818 - accuracy: 0.8723\n",
            "Epoch 10/10\n",
            "469/469 [==============================] - 1s 3ms/step - loss: 0.0784 - accuracy: 0.8776\n",
            "\n",
            "\n",
            "Kết quả: \n"
          ]
        },
        {
          "output_type": "execute_result",
          "data": {
            "text/plain": [
              "87.57000000000001"
            ]
          },
          "metadata": {},
          "execution_count": 37
        }
      ],
      "source": [
        "model_1 = Sequential()\n",
        "model_1.add(Dense(784, input_shape=(784, ),activation='sigmoid'))\n",
        "model_1.add(Dense(10, input_shape=(10, ), activation='sigmoid'))\n",
        "optimizer = Adam(learning_rate=0.01)\n",
        "loss1 = BinaryCrossentropy()\n",
        "model_1.compile(optimizer=optimizer, loss=loss1, metrics=['accuracy'])\n",
        "model_1.fit(X_train, y_train, batch_size=128, epochs=10)\n",
        "\n",
        "y_pred_1 = model_1.predict(X_test)\n",
        "y_pred_label_1 = np.argmax(y_pred_1, axis=-1)\n",
        "print(\"\")\n",
        "print(\"\")\n",
        "print(\"Kết quả: \")\n",
        "accuracy_score(y_test, y_pred_label_1)*100"
      ]
    },
    {
      "cell_type": "markdown",
      "metadata": {
        "id": "76F52rB6puCR"
      },
      "source": [
        "## Bài tập 2"
      ]
    },
    {
      "cell_type": "code",
      "execution_count": 38,
      "metadata": {
        "colab": {
          "base_uri": "https://localhost:8080/"
        },
        "id": "H4USyLLUsKk-",
        "outputId": "129e87e7-f631-44e7-cd90-cf3869ae055d"
      },
      "outputs": [
        {
          "output_type": "stream",
          "name": "stdout",
          "text": [
            "Epoch 1/10\n",
            "469/469 [==============================] - 2s 3ms/step - loss: 3.5888 - accuracy: 0.8818\n",
            "Epoch 2/10\n",
            "469/469 [==============================] - 1s 3ms/step - loss: 0.0447 - accuracy: 0.9412\n",
            "Epoch 3/10\n",
            "469/469 [==============================] - 1s 3ms/step - loss: 0.0340 - accuracy: 0.9541\n",
            "Epoch 4/10\n",
            "469/469 [==============================] - 1s 3ms/step - loss: 0.0321 - accuracy: 0.9571\n",
            "Epoch 5/10\n",
            "469/469 [==============================] - 1s 3ms/step - loss: 0.0319 - accuracy: 0.9570\n",
            "Epoch 6/10\n",
            "469/469 [==============================] - 1s 3ms/step - loss: 0.0357 - accuracy: 0.9532\n",
            "Epoch 7/10\n",
            "469/469 [==============================] - 1s 3ms/step - loss: 0.0364 - accuracy: 0.9525\n",
            "Epoch 8/10\n",
            "469/469 [==============================] - 2s 3ms/step - loss: 0.0446 - accuracy: 0.9440\n",
            "Epoch 9/10\n",
            "469/469 [==============================] - 2s 4ms/step - loss: 0.0544 - accuracy: 0.9295\n",
            "Epoch 10/10\n",
            "469/469 [==============================] - 2s 4ms/step - loss: 0.0647 - accuracy: 0.9112\n",
            "\n",
            "\n",
            "Kết quả: \n"
          ]
        },
        {
          "output_type": "execute_result",
          "data": {
            "text/plain": [
              "88.53"
            ]
          },
          "metadata": {},
          "execution_count": 38
        }
      ],
      "source": [
        "model_2 = Sequential()\n",
        "model_2.add(Dense(784, input_shape=(784, ),activation='relu'))\n",
        "model_2.add(Dense(10, input_shape=(10, ), activation='sigmoid'))\n",
        "optimizer = Adam(learning_rate=0.01)\n",
        "loss1 = BinaryCrossentropy()\n",
        "model_2.compile(optimizer=optimizer, loss=loss1, metrics=['accuracy'])\n",
        "model_2.fit(X_train, y_train, batch_size=128, epochs=10)\n",
        "\n",
        "y_pred_2 = model_2.predict(X_test)\n",
        "y_pred_label_2 = np.argmax(y_pred_2, axis=-1)\n",
        "print(\"\")\n",
        "print(\"\")\n",
        "print(\"Kết quả: \")\n",
        "accuracy_score(y_test, y_pred_label_2)*100"
      ]
    },
    {
      "cell_type": "markdown",
      "metadata": {
        "id": "1_fWITuJpv5R"
      },
      "source": [
        "## Bài tập 3"
      ]
    },
    {
      "cell_type": "code",
      "execution_count": 39,
      "metadata": {
        "id": "3_u2G3RRsxsM"
      },
      "outputs": [],
      "source": [
        "# Chuẩn hóa dữ liệu \n",
        "\n",
        "X_train_new = X_train/255.0\n",
        "X_test_new = X_test/255.0\n"
      ]
    },
    {
      "cell_type": "code",
      "execution_count": 40,
      "metadata": {
        "colab": {
          "base_uri": "https://localhost:8080/"
        },
        "id": "XQXsB_f-s2_P",
        "outputId": "1a355f88-253c-41e1-f782-eb1ef2717043"
      },
      "outputs": [
        {
          "output_type": "stream",
          "name": "stdout",
          "text": [
            "Epoch 1/10\n",
            "469/469 [==============================] - 2s 3ms/step - loss: 0.0426 - accuracy: 0.9367\n",
            "Epoch 2/10\n",
            "469/469 [==============================] - 1s 3ms/step - loss: 0.0194 - accuracy: 0.9736\n",
            "Epoch 3/10\n",
            "469/469 [==============================] - 1s 3ms/step - loss: 0.0152 - accuracy: 0.9801\n",
            "Epoch 4/10\n",
            "469/469 [==============================] - 1s 3ms/step - loss: 0.0122 - accuracy: 0.9856\n",
            "Epoch 5/10\n",
            "469/469 [==============================] - 1s 3ms/step - loss: 0.0112 - accuracy: 0.9870\n",
            "Epoch 6/10\n",
            "469/469 [==============================] - 1s 3ms/step - loss: 0.0101 - accuracy: 0.9885\n",
            "Epoch 7/10\n",
            "469/469 [==============================] - 1s 3ms/step - loss: 0.0080 - accuracy: 0.9910\n",
            "Epoch 8/10\n",
            "469/469 [==============================] - 2s 3ms/step - loss: 0.0077 - accuracy: 0.9922\n",
            "Epoch 9/10\n",
            "469/469 [==============================] - 2s 3ms/step - loss: 0.0070 - accuracy: 0.9934\n",
            "Epoch 10/10\n",
            "469/469 [==============================] - 2s 5ms/step - loss: 0.0071 - accuracy: 0.9932\n",
            "\n",
            "\n",
            "Kết quả: \n"
          ]
        },
        {
          "output_type": "execute_result",
          "data": {
            "text/plain": [
              "97.19"
            ]
          },
          "metadata": {},
          "execution_count": 40
        }
      ],
      "source": [
        "# Sử dụng model_2 cho dữ liệu đã chuẩn hóa \n",
        "model_2_new = Sequential()\n",
        "model_2_new.add(Dense(784, input_shape=(784, ),activation='relu'))\n",
        "model_2_new.add(Dense(10, input_shape=(10, ), activation='sigmoid'))\n",
        "optimizer = Adam(learning_rate=0.01)\n",
        "loss1 = BinaryCrossentropy()\n",
        "model_2_new.compile(optimizer=optimizer, loss=loss1, metrics=['accuracy'])\n",
        "model_2_new.fit(X_train_new, y_train, batch_size=128, epochs=10)\n",
        "\n",
        "y_pred_2_new = model_2_new.predict(X_test_new)\n",
        "y_pred_label_2_new = np.argmax(y_pred_2_new, axis=-1)\n",
        "print(\"\")\n",
        "print(\"\")\n",
        "print(\"Kết quả: \")\n",
        "accuracy_score(y_test, y_pred_label_2_new)*100\n"
      ]
    },
    {
      "cell_type": "markdown",
      "metadata": {
        "id": "HgjNDuPMpv3D"
      },
      "source": [
        "## Bài tập 4"
      ]
    },
    {
      "cell_type": "code",
      "execution_count": 41,
      "metadata": {
        "colab": {
          "base_uri": "https://localhost:8080/",
          "height": 445
        },
        "id": "3NG18wtBt0pv",
        "outputId": "dc225b1d-0180-4e05-bb5e-e8be130759cd"
      },
      "outputs": [
        {
          "output_type": "execute_result",
          "data": {
            "text/plain": [
              "<matplotlib.axes._subplots.AxesSubplot at 0x7f9696cb3050>"
            ]
          },
          "metadata": {},
          "execution_count": 41
        },
        {
          "output_type": "display_data",
          "data": {
            "text/plain": [
              "<Figure size 720x504 with 2 Axes>"
            ],
            "image/png": "[encoded data removed]"
          },
          "metadata": {
            "needs_background": "light"
          }
        }
      ],
      "source": [
        "# Ma trận nhầm lẫn cho model ở Bài tập 3\n",
        "import pandas as pd\n",
        "import seaborn as sn\n",
        "from sklearn.metrics import confusion_matrix\n",
        "cm = confusion_matrix(y_test, y_pred_label_2_new)\n",
        "\n",
        "df_cm = pd.DataFrame(cm, index=[i for i in range(0,10)], columns=[i\n",
        "for i in range(0,10)])\n",
        "plt.figure(figsize=(10,7))\n",
        "sn.heatmap(df_cm, annot=True, fmt='.5g')"
      ]
    },
    {
      "cell_type": "markdown",
      "metadata": {
        "id": "OMjjX3W1vK2g"
      },
      "source": [
        "# BÀI TẬP MỞ RỘNG"
      ]
    },
    {
      "cell_type": "markdown",
      "metadata": {
        "id": "dmIMo-J0pv0b"
      },
      "source": [
        "## Bài tập 5\n"
      ]
    },
    {
      "cell_type": "code",
      "execution_count": 42,
      "metadata": {
        "colab": {
          "base_uri": "https://localhost:8080/"
        },
        "id": "Cd0mGlrIvNsQ",
        "outputId": "adcb28d0-ac83-44dc-cc66-727a16d7f639"
      },
      "outputs": [
        {
          "output_type": "stream",
          "name": "stdout",
          "text": [
            "Downloading data from https://www.cs.toronto.edu/~kriz/cifar-10-python.tar.gz\n",
            "170500096/170498071 [==============================] - 6s 0us/step\n",
            "170508288/170498071 [==============================] - 6s 0us/step\n"
          ]
        }
      ],
      "source": [
        "from keras.datasets.cifar10 import load_data\n",
        "(X_train_CIFAR10, y_train_CIFAR10), (X_test_CIFAR10, y_test_CIFAR10) = load_data()"
      ]
    },
    {
      "cell_type": "code",
      "execution_count": 43,
      "metadata": {
        "id": "17lq1x-zw9xp"
      },
      "outputs": [],
      "source": [
        "X_train_CIFAR10 = X_train_CIFAR10.reshape(50000, 32*32*3)\n",
        "X_test_CIFAR10 = X_test_CIFAR10.reshape(10000, 32*32*3)"
      ]
    },
    {
      "cell_type": "code",
      "execution_count": 44,
      "metadata": {
        "id": "w5fJ_8DL-BbM"
      },
      "outputs": [],
      "source": [
        "y_train_CIFAR10 = y_train_CIFAR10.reshape(50000,)\n",
        "y_test_CIFAR10 = y_test_CIFAR10.reshape(10000,)\n",
        "y_train_CIFAR10 = to_categorical(y_train_CIFAR10, num_classes=10)"
      ]
    },
    {
      "cell_type": "code",
      "execution_count": 46,
      "metadata": {
        "colab": {
          "base_uri": "https://localhost:8080/"
        },
        "id": "gj87m6mZvVeg",
        "outputId": "3282b34a-66da-41cb-a5d5-99816a141e1d"
      },
      "outputs": [
        {
          "output_type": "stream",
          "name": "stdout",
          "text": [
            "Epoch 1/10\n",
            "782/782 [==============================] - 4s 5ms/step - loss: 1.5414 - accuracy: 0.0998\n",
            "Epoch 2/10\n",
            "782/782 [==============================] - 4s 5ms/step - loss: 1.5425 - accuracy: 0.0997\n",
            "Epoch 3/10\n",
            "782/782 [==============================] - 3s 4ms/step - loss: 1.5425 - accuracy: 0.1003\n",
            "Epoch 4/10\n",
            "782/782 [==============================] - 3s 4ms/step - loss: 1.5425 - accuracy: 0.0999\n",
            "Epoch 5/10\n",
            "782/782 [==============================] - 3s 4ms/step - loss: 1.5425 - accuracy: 0.0994\n",
            "Epoch 6/10\n",
            "782/782 [==============================] - 3s 4ms/step - loss: 1.5425 - accuracy: 0.1000\n",
            "Epoch 7/10\n",
            "782/782 [==============================] - 3s 4ms/step - loss: 1.5425 - accuracy: 0.0996\n",
            "Epoch 8/10\n",
            "782/782 [==============================] - 3s 4ms/step - loss: 1.5425 - accuracy: 0.1003\n",
            "Epoch 9/10\n",
            "782/782 [==============================] - 3s 4ms/step - loss: 1.5425 - accuracy: 0.1000\n",
            "Epoch 10/10\n",
            "782/782 [==============================] - 3s 4ms/step - loss: 1.5425 - accuracy: 0.1001\n",
            "\n",
            "\n",
            "Kết quả: \n"
          ]
        },
        {
          "output_type": "execute_result",
          "data": {
            "text/plain": [
              "10.0"
            ]
          },
          "metadata": {},
          "execution_count": 46
        }
      ],
      "source": [
        "from keras.layers import Dropout\n",
        "model_CIFAR10 = Sequential()\n",
        "model_CIFAR10.add(Dense(3072, input_shape=(X_train_CIFAR10.shape[1],), activation='sigmoid'))\n",
        "model_CIFAR10.add(Dense(10, input_shape=(10, ), activation='sigmoid'))\n",
        "optimizer = Adam(learning_rate=0.01)\n",
        "loss1 = BinaryCrossentropy()\n",
        "model_CIFAR10.compile(optimizer=optimizer, loss=loss1, metrics=['accuracy'])\n",
        "model_CIFAR10.fit(X_train_CIFAR10, y_train_CIFAR10, batch_size=64, epochs=10)\n",
        "\n",
        "y_pred_CIFAR10 = model_CIFAR10.predict(X_test_CIFAR10)\n",
        "y_pred_label_CIFAR10 = np.argmax(y_pred_CIFAR10, axis=-1)\n",
        "print(\"\")\n",
        "print(\"\")\n",
        "print(\"Kết quả: \")\n",
        "accuracy_score(y_test_CIFAR10, y_pred_label_CIFAR10)*100\n"
      ]
    },
    {
      "cell_type": "markdown",
      "metadata": {
        "id": "0rDbaEXRpvx-"
      },
      "source": [
        "## Bài tập 6"
      ]
    },
    {
      "cell_type": "code",
      "execution_count": 52,
      "metadata": {
        "id": "BlMt6Z45vOGk",
        "colab": {
          "base_uri": "https://localhost:8080/"
        },
        "outputId": "9b3dfa6a-775c-401f-9012-ec851ad4145d"
      },
      "outputs": [
        {
          "output_type": "stream",
          "name": "stdout",
          "text": [
            "Epoch 1/20\n",
            "938/938 [==============================] - 4s 4ms/step - loss: 0.3090 - accuracy: 0.9119\n",
            "Epoch 2/20\n",
            "938/938 [==============================] - 3s 4ms/step - loss: 0.0293 - accuracy: 0.9541\n",
            "Epoch 3/20\n",
            "938/938 [==============================] - 3s 3ms/step - loss: 0.0229 - accuracy: 0.9649\n",
            "Epoch 4/20\n",
            "938/938 [==============================] - 3s 4ms/step - loss: 0.0199 - accuracy: 0.9704\n",
            "Epoch 5/20\n",
            "938/938 [==============================] - 3s 3ms/step - loss: 0.0183 - accuracy: 0.9715\n",
            "Epoch 6/20\n",
            "938/938 [==============================] - 3s 3ms/step - loss: 0.0181 - accuracy: 0.9726\n",
            "Epoch 7/20\n",
            "938/938 [==============================] - 3s 3ms/step - loss: 0.0187 - accuracy: 0.9737\n",
            "Epoch 8/20\n",
            "938/938 [==============================] - 3s 3ms/step - loss: 0.0165 - accuracy: 0.9766\n",
            "Epoch 9/20\n",
            "938/938 [==============================] - 3s 3ms/step - loss: 0.0163 - accuracy: 0.9777\n",
            "Epoch 10/20\n",
            "938/938 [==============================] - 3s 3ms/step - loss: 0.0149 - accuracy: 0.9791\n",
            "Epoch 11/20\n",
            "938/938 [==============================] - 3s 3ms/step - loss: 0.0157 - accuracy: 0.9794\n",
            "Epoch 12/20\n",
            "938/938 [==============================] - 3s 3ms/step - loss: 0.0131 - accuracy: 0.9831\n",
            "Epoch 13/20\n",
            "938/938 [==============================] - 3s 3ms/step - loss: 0.0118 - accuracy: 0.9840\n",
            "Epoch 14/20\n",
            "938/938 [==============================] - 4s 4ms/step - loss: 0.0123 - accuracy: 0.9837\n",
            "Epoch 15/20\n",
            "938/938 [==============================] - 3s 4ms/step - loss: 0.0133 - accuracy: 0.9832\n",
            "Epoch 16/20\n",
            "938/938 [==============================] - 3s 3ms/step - loss: 0.0102 - accuracy: 0.9872\n",
            "Epoch 17/20\n",
            "938/938 [==============================] - 3s 3ms/step - loss: 0.0107 - accuracy: 0.9865\n",
            "Epoch 18/20\n",
            "938/938 [==============================] - 3s 3ms/step - loss: 0.0124 - accuracy: 0.9852\n",
            "Epoch 19/20\n",
            "938/938 [==============================] - 3s 3ms/step - loss: 0.0092 - accuracy: 0.9880\n",
            "Epoch 20/20\n",
            "938/938 [==============================] - 3s 3ms/step - loss: 0.0097 - accuracy: 0.9879\n",
            "\n",
            "\n",
            "Kết quả: \n"
          ]
        },
        {
          "output_type": "execute_result",
          "data": {
            "text/plain": [
              "97.38"
            ]
          },
          "metadata": {},
          "execution_count": 52
        }
      ],
      "source": [
        "model_3 = Sequential()\n",
        "\n",
        "model_3.add(Dense(784, input_shape=(784, ),activation='relu'))\n",
        "model_3.add(Dense(784, input_shape=(784, ),activation='relu'))\n",
        "model_3.add(Dense(784, input_shape=(784, ),activation='relu'))\n",
        "model_3.add(Dense(10, input_shape=(10, ), activation='sigmoid'))\n",
        "optimizer = Adam(learning_rate=0.002)\n",
        "model_CIFAR10.add(Dropout(0.02))\n",
        "loss1 = BinaryCrossentropy()\n",
        "model_3.compile(optimizer=optimizer, loss=loss1, metrics=['accuracy'])\n",
        "model_3.fit(X_train, y_train, batch_size=64, epochs=20)\n",
        "\n",
        "y_pred_3 = model_3.predict(X_test)\n",
        "y_pred_label_3 = np.argmax(y_pred_3, axis=-1)\n",
        "print(\"\")\n",
        "print(\"\")\n",
        "print(\"Kết quả: \")\n",
        "accuracy_score(y_test, y_pred_label_3)*100"
      ]
    },
    {
      "cell_type": "code",
      "source": [],
      "metadata": {
        "id": "ds5jnvMr2qNC"
      },
      "execution_count": null,
      "outputs": []
    }
  ],
  "metadata": {
    "accelerator": "GPU",
    "colab": {
      "collapsed_sections": [],
      "toc_visible": true,
      "provenance": []
    },
    "kernelspec": {
      "display_name": "Python 3",
      "name": "python3"
    },
    "language_info": {
      "name": "python"
    }
  },
  "nbformat": 4,
  "nbformat_minor": 0
}