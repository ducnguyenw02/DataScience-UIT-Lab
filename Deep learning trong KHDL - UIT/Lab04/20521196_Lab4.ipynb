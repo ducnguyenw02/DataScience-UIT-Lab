{
 "cells": [
  {
   "cell_type": "markdown",
   "metadata": {},
   "source": [
    "## Đọc dữ liệu ảnh"
   ]
  },
  {
   "cell_type": "code",
   "execution_count": 2,
   "metadata": {},
   "outputs": [],
   "source": [
    "import tensorflow as tf\n",
    "import keras\n",
    "import os "
   ]
  },
  {
   "cell_type": "markdown",
   "metadata": {},
   "source": [
    "### Đọc bộ dữ liệu chest_xray"
   ]
  },
  {
   "cell_type": "code",
   "execution_count": 3,
   "metadata": {},
   "outputs": [],
   "source": [
    "class_names_chest_xray = sorted(os.listdir('D:/DATASCIENTIST/A_PROJECT/Dataset/DL-UIT/chest_xray/train/'))"
   ]
  },
  {
   "cell_type": "code",
   "execution_count": 4,
   "metadata": {},
   "outputs": [
    {
     "name": "stdout",
     "output_type": "stream",
     "text": [
      "Found 5216 files belonging to 2 classes.\n",
      "Found 624 files belonging to 2 classes.\n",
      "Found 16 files belonging to 2 classes.\n"
     ]
    }
   ],
   "source": [
    "# Tập train bộ dữ liệu chest_xray \n",
    "data_train_chest_xray = tf.keras.utils.image_dataset_from_directory('D:/DATASCIENTIST/A_PROJECT/Dataset/DL-UIT/chest_xray/train/',\n",
    "    labels='inferred',\n",
    "    label_mode='categorical',\n",
    "    class_names=class_names_chest_xray,\n",
    "    color_mode='rgb',\n",
    "    batch_size=256,\n",
    "    image_size=(227, 227),\n",
    "    interpolation='bilinear')\n",
    "\n",
    "# Tập test bộ dữ liệu chest_xray \n",
    "data_test_chest_xray = tf.keras.utils.image_dataset_from_directory('D:/DATASCIENTIST/A_PROJECT/Dataset/DL-UIT/chest_xray/test/',\n",
    "    labels='inferred',\n",
    "    label_mode='categorical',\n",
    "    class_names=class_names_chest_xray,\n",
    "    color_mode='rgb',\n",
    "    batch_size=256,\n",
    "    image_size=(227, 227),\n",
    "    interpolation='bilinear')\n",
    "\n",
    "# Tập dev bộ dữ liệu chest_xray  \n",
    "data_val_chest_xray = tf.keras.utils.image_dataset_from_directory('D:/DATASCIENTIST/A_PROJECT/Dataset/DL-UIT/chest_xray/val/',\n",
    "    labels='inferred',\n",
    "    label_mode='categorical',\n",
    "    class_names=class_names_chest_xray,\n",
    "    color_mode='rgb',\n",
    "    batch_size=256,\n",
    "    image_size=(227, 227),\n",
    "    interpolation='bilinear')"
   ]
  },
  {
   "cell_type": "markdown",
   "metadata": {},
   "source": [
    "### Đọc bộ dữ liệu vegetable"
   ]
  },
  {
   "cell_type": "code",
   "execution_count": 5,
   "metadata": {},
   "outputs": [],
   "source": [
    "class_names_vegetable =  sorted(os.listdir('D:/DATASCIENTIST/A_PROJECT/Dataset/DL-UIT/Vegetable Images/train'))"
   ]
  },
  {
   "cell_type": "code",
   "execution_count": 6,
   "metadata": {},
   "outputs": [
    {
     "name": "stdout",
     "output_type": "stream",
     "text": [
      "Found 15000 files belonging to 15 classes.\n",
      "Found 3000 files belonging to 15 classes.\n",
      "Found 3000 files belonging to 15 classes.\n"
     ]
    }
   ],
   "source": [
    "# Tập train bộ dữ liệu vegetable  \n",
    "data_train_vegetable = tf.keras.utils.image_dataset_from_directory('D:/DATASCIENTIST/A_PROJECT/Dataset/DL-UIT/Vegetable Images/train',\n",
    "    labels='inferred',\n",
    "    label_mode='categorical',\n",
    "    class_names=class_names_vegetable,\n",
    "    color_mode='rgb',\n",
    "    batch_size=256,\n",
    "    image_size=(227, 227),\n",
    "    interpolation='bilinear')\n",
    "\n",
    "# Tập test bộ dữ liệu vegetable  \n",
    "data_test_vegetable = tf.keras.utils.image_dataset_from_directory('D:/DATASCIENTIST/A_PROJECT/Dataset/DL-UIT/Vegetable Images/test',\n",
    "    labels='inferred',\n",
    "    label_mode='categorical',\n",
    "    class_names=class_names_vegetable,\n",
    "    color_mode='rgb',\n",
    "    batch_size=256,\n",
    "    image_size=(227, 227),\n",
    "    interpolation='bilinear')\n",
    "    \n",
    "# Tập dev bộ dữ liệu vegetable  \n",
    "data_val_vegetable = tf.keras.utils.image_dataset_from_directory('D:/DATASCIENTIST/A_PROJECT/Dataset/DL-UIT/Vegetable Images/validation',\n",
    "    labels='inferred',\n",
    "    label_mode='categorical',\n",
    "    class_names=class_names_vegetable,\n",
    "    color_mode='rgb',\n",
    "    batch_size=256,\n",
    "    image_size=(227, 227),\n",
    "    interpolation='bilinear')"
   ]
  },
  {
   "cell_type": "markdown",
   "metadata": {},
   "source": [
    "### Hiển thị ảnh bộ chest_xray"
   ]
  },
  {
   "cell_type": "markdown",
   "metadata": {},
   "source": [
    "#### Tập train"
   ]
  },
  {
   "cell_type": "code",
   "execution_count": 7,
   "metadata": {},
   "outputs": [
    {
     "ename": "",
     "evalue": "",
     "output_type": "error",
     "traceback": [
      "\u001b[1;31mCanceled future for execute_request message before replies were done"
     ]
    },
    {
     "ename": "",
     "evalue": "",
     "output_type": "error",
     "traceback": [
      "\u001b[1;31mThe Kernel crashed while executing code in the the current cell or a previous cell. Please review the code in the cell(s) to identify a possible cause of the failure. Click <a href='https://aka.ms/vscodeJupyterKernelCrash'>here</a> for more info. View Jupyter <a href='command:jupyter.viewOutput'>log</a> for further details."
     ]
    }
   ],
   "source": [
    "import matplotlib.pyplot as plt \n",
    "import numpy as np \n",
    "\n",
    "plt.figure(figsize= (25,10))\n",
    "\n",
    "for images, labels in data_train_chest_xray.take(1):\n",
    "    for i in range(10):\n",
    "        plt.subplot(2, 5, i+1)\n",
    "        plt.imshow(np.squeeze(images[i].numpy().astype('uint8')))\n",
    "        plt.axis('off')\n"
   ]
  },
  {
   "cell_type": "markdown",
   "metadata": {},
   "source": [
    "#### Tập test"
   ]
  },
  {
   "cell_type": "markdown",
   "metadata": {},
   "source": [
    "#### Tập dev"
   ]
  },
  {
   "cell_type": "markdown",
   "metadata": {},
   "source": [
    "### Hiển thị ảnh bộ vegetable "
   ]
  },
  {
   "cell_type": "markdown",
   "metadata": {},
   "source": [
    "#### Tập train"
   ]
  },
  {
   "cell_type": "markdown",
   "metadata": {},
   "source": [
    "#### Tập test"
   ]
  },
  {
   "cell_type": "markdown",
   "metadata": {},
   "source": [
    "#### Tập dev"
   ]
  },
  {
   "cell_type": "markdown",
   "metadata": {},
   "source": []
  }
 ],
 "metadata": {
  "kernelspec": {
   "display_name": "Python 3.10.6 ('datascientist')",
   "language": "python",
   "name": "python3"
  },
  "language_info": {
   "codemirror_mode": {
    "name": "ipython",
    "version": 3
   },
   "file_extension": ".py",
   "mimetype": "text/x-python",
   "name": "python",
   "nbconvert_exporter": "python",
   "pygments_lexer": "ipython3",
   "version": "3.10.6"
  },
  "orig_nbformat": 4,
  "vscode": {
   "interpreter": {
    "hash": "358d40ec2f2cc68ab5357082d6615061de9f031093914720f986ca5de29e1ecf"
   }
  }
 },
 "nbformat": 4,
 "nbformat_minor": 2
}
