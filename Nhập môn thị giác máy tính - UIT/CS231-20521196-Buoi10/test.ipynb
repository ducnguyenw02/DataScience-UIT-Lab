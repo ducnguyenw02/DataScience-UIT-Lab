{
 "cells": [
  {
   "cell_type": "code",
   "execution_count": 4,
   "metadata": {},
   "outputs": [],
   "source": [
    "import cv2\n",
    "import numpy as np\n",
    "\n",
    "bao = cv2.imread('D:/DATASCIENTIST/CS231/Buoi11/bao.jpg')\n",
    "nguoi = cv2.imread('D:/DATASCIENTIST/CS231/Buoi11/nguoi.jpg')\n",
    "nguoi = cv2.resize(nguoi, (474,296))"
   ]
  },
  {
   "cell_type": "code",
   "execution_count": 8,
   "metadata": {},
   "outputs": [
    {
     "data": {
      "text/plain": [
       "array([[122, 124, 135],\n",
       "       [123, 125, 136],\n",
       "       [123, 125, 136],\n",
       "       ...,\n",
       "       [ 77,  90, 104],\n",
       "       [ 80,  92, 104],\n",
       "       [ 80,  92, 104]], dtype=uint8)"
      ]
     },
     "execution_count": 8,
     "metadata": {},
     "output_type": "execute_result"
    }
   ],
   "source": []
  },
  {
   "cell_type": "code",
   "execution_count": null,
   "metadata": {},
   "outputs": [],
   "source": [
    "T = bao.copy()\n",
    "for f in range (72):\n",
    "    t = float(f)/72\n",
    "    for i in range(T.shape[0]):\n",
    "        for j in range(T.shape[1]):\n",
    "            T[i][j] = (1-t)*bao[i][j] + t*nguoi[i][j]\n",
    "    cv2.imshow('Result_img', T)\n",
    "    cv2.waitKey(2000)\n"
   ]
  }
 ],
 "metadata": {
  "kernelspec": {
   "display_name": "Python 3.10.4 ('CS231')",
   "language": "python",
   "name": "python3"
  },
  "language_info": {
   "codemirror_mode": {
    "name": "ipython",
    "version": 3
   },
   "file_extension": ".py",
   "mimetype": "text/x-python",
   "name": "python",
   "nbconvert_exporter": "python",
   "pygments_lexer": "ipython3",
   "version": "3.10.4"
  },
  "orig_nbformat": 4,
  "vscode": {
   "interpreter": {
    "hash": "1166d997b963c827310d30c081d92ea234b309589e178b18be2cf21badc6f33b"
   }
  }
 },
 "nbformat": 4,
 "nbformat_minor": 2
}
