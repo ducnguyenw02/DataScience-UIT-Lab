{
  "nbformat": 4,
  "nbformat_minor": 0,
  "metadata": {
    "colab": {
      "provenance": [],
      "collapsed_sections": []
    },
    "kernelspec": {
      "name": "python3",
      "display_name": "Python 3"
    },
    "language_info": {
      "name": "python"
    }
  },
  "cells": [
    {
      "cell_type": "code",
      "execution_count": 2,
      "metadata": {
        "colab": {
          "base_uri": "https://localhost:8080/"
        },
        "id": "WjOs3fOWXspP",
        "outputId": "0a75801e-c132-4582-e0a4-a50a521d9106"
      },
      "outputs": [
        {
          "output_type": "stream",
          "name": "stdout",
          "text": [
            "Mounted at /content/drive\n"
          ]
        }
      ],
      "source": [
        "from google.colab import drive\n",
        "drive.mount('/content/drive')"
      ]
    },
    {
      "cell_type": "code",
      "source": [
        "import matplotlib.pyplot as plt\n",
        "import pandas as pd\n",
        "import numpy as np\n",
        "import tensorflow as tf\n",
        "from io import *\n",
        "%matplotlib inline\n",
        "from io import BytesIO\n",
        "import requests\n",
        "np.random.seed(0)\n",
        "plt.style.use(\"ggplot\")"
      ],
      "metadata": {
        "id": "E2GvA7RpYkQo"
      },
      "execution_count": 3,
      "outputs": []
    },
    {
      "cell_type": "markdown",
      "source": [
        "## Đọc dữ liệu "
      ],
      "metadata": {
        "id": "1UYD-28aZloi"
      }
    },
    {
      "cell_type": "code",
      "source": [
        "def load_data(path):\n",
        "\n",
        "  data = []\n",
        "  with open(path) as f:\n",
        "    sentence = []\n",
        "    for i, line in enumerate(f.readlines()):\n",
        "      try:\n",
        "        word, tag = line.split()\n",
        "        sentence.append((word,tag))\n",
        "      except:\n",
        "        data.append(sentence)\n",
        "        sentence = []\n",
        "  return data "
      ],
      "metadata": {
        "id": "RBQvpOvgYyff"
      },
      "execution_count": 4,
      "outputs": []
    },
    {
      "cell_type": "code",
      "source": [
        "path_dev = '/content/drive/MyDrive/Data Scientist/DS310.N11 - NLP/data/word/dev_word.conll' \n",
        "path_train = '/content/drive/MyDrive/Data Scientist/DS310.N11 - NLP/data/word/train_word.conll'\n",
        "path_test = '/content/drive/MyDrive/Data Scientist/DS310.N11 - NLP/data/word/test_word.conll'"
      ],
      "metadata": {
        "id": "bSti7JYUZMHG"
      },
      "execution_count": 5,
      "outputs": []
    },
    {
      "cell_type": "code",
      "source": [
        "train = load_data(path_train)\n",
        "test = load_data(path_test)\n",
        "dev = load_data(path_dev)"
      ],
      "metadata": {
        "id": "iq1kF9PoZkQu"
      },
      "execution_count": 8,
      "outputs": []
    },
    {
      "cell_type": "markdown",
      "source": [
        "## Tạo tập từ vựng"
      ],
      "metadata": {
        "id": "-6o8gwUPaHj0"
      }
    },
    {
      "cell_type": "code",
      "source": [
        "words=[]\n",
        "for i in range(len(train)):\n",
        "  for j in range(len(train[i])):\n",
        "    words.append(train[i][j][0])\n",
        "\n",
        "for i in range(len(test)):\n",
        "  for j in range(len(test[i])):\n",
        "    words.append(test[i][j][0])\n",
        "\n",
        "for i in range(len(dev)):\n",
        "  for j in range(len(dev[i])):\n",
        "    words.append(dev[i][j][0])\n",
        "\n",
        "words = list(set(words))\n",
        "words.append(\"ENDPAD\")\n",
        "\n",
        "num_words = len(words)\n",
        "num_words"
      ],
      "metadata": {
        "colab": {
          "base_uri": "https://localhost:8080/"
        },
        "id": "Ok-vCXSrbBqo",
        "outputId": "c8ccbd24-4d0f-43ba-9e59-6e71e85c1523"
      },
      "execution_count": 47,
      "outputs": [
        {
          "output_type": "execute_result",
          "data": {
            "text/plain": [
              "8102"
            ]
          },
          "metadata": {},
          "execution_count": 47
        }
      ]
    },
    {
      "cell_type": "markdown",
      "source": [
        "## Tạo tập nhãn "
      ],
      "metadata": {
        "id": "XJCq6eCWdU9P"
      }
    },
    {
      "cell_type": "code",
      "source": [
        "tags = []\n",
        "for i in range(len(train)):\n",
        "  for j in range(len(train[i])):\n",
        "    tags.append(train[i][j][1])\n",
        "\n",
        "tags = list(set(tags))\n",
        "num_tags = len(tags)"
      ],
      "metadata": {
        "id": "YnDEclC8cm78"
      },
      "execution_count": 59,
      "outputs": []
    },
    {
      "cell_type": "markdown",
      "source": [
        "## Ánh xạ giữa các câu và chỉ mục \n"
      ],
      "metadata": {
        "id": "gY8OWEYXdZou"
      }
    },
    {
      "cell_type": "code",
      "source": [
        "word2idx = {w: i for i, w in enumerate(words)}\n",
        "tag2idx = {t: i for i, t in enumerate(tags)}"
      ],
      "metadata": {
        "id": "Bi-NrYMLdMQS"
      },
      "execution_count": 52,
      "outputs": []
    },
    {
      "cell_type": "code",
      "source": [
        "from tensorflow.keras.preprocessing.sequence import pad_sequences\n",
        "\n",
        "max_len = 95\n",
        "X_train = [[word2idx[w[0]] for w in s] for s in train]\n",
        "X_train = pad_sequences(maxlen=max_len, sequences=X_train, padding=\"post\", value=num_words-1)\n",
        "X_dev = [[word2idx[w[0]] for w in s] for s in dev]\n",
        "X_dev = pad_sequences(maxlen=max_len, sequences=X_dev, padding=\"post\", value=num_words-1)\n",
        "X_test = [[word2idx[w[0]] for w in s] for s in test]\n",
        "X_test = pad_sequences(maxlen=max_len, sequences=X_test, padding=\"post\", value=num_words-1)\n",
        "\n",
        "y_train = [[tag2idx[w[1]] for w in s] for s in train]\n",
        "y_train = pad_sequences(maxlen=max_len, sequences=y_train, padding=\"post\", value=tag2idx[\"O\"])\n",
        "y_dev = [[tag2idx[w[1]] for w in s] for s in dev]\n",
        "y_dev = pad_sequences(maxlen=max_len, sequences=y_dev, padding=\"post\", value=tag2idx[\"O\"])\n",
        "y_test = [[tag2idx[w[1]] for w in s] for s in test]\n",
        "y_test = pad_sequences(maxlen=max_len, sequences=y_test, padding=\"post\", value=tag2idx[\"O\"])"
      ],
      "metadata": {
        "id": "nkP6rgMedvEF"
      },
      "execution_count": 56,
      "outputs": []
    },
    {
      "cell_type": "markdown",
      "source": [
        "## Xây dựng model LSTM"
      ],
      "metadata": {
        "id": "C2L6O3H0eeYt"
      }
    },
    {
      "cell_type": "code",
      "source": [
        "from tensorflow.keras.models import Sequential\n",
        "from tensorflow.keras import Model, Input\n",
        "from tensorflow.keras.layers import LSTM, Embedding, Dense\n",
        "from tensorflow.keras.layers import TimeDistributed, SpatialDropout1D, Bidirectional"
      ],
      "metadata": {
        "id": "0mEpKEuDd-EN"
      },
      "execution_count": 58,
      "outputs": []
    },
    {
      "cell_type": "code",
      "source": [
        "model = Sequential() #Yêu cầu khỏi tạo mạng LSTM 1 chiều\n",
        "#Input\n",
        "input_word = Input(shape=(max_len,))\n",
        "#Embedding\n",
        "model = Embedding(input_dim=num_words, output_dim=max_len, input_length=max_len)(input_word)\n",
        "#SpatialDropout1D\n",
        "model = SpatialDropout1D(0.5)(model)\n",
        "#LSTM\n",
        "model = Bidirectional(LSTM(units=100, return_sequences=True, recurrent_dropout=0.5))(model)\n",
        "#TimeDistributed\n",
        "out = TimeDistributed(Dense(num_tags, activation='softmax'))(model)\n",
        "model = Model(input_word, out)\n",
        "model.summary()\n"
      ],
      "metadata": {
        "colab": {
          "base_uri": "https://localhost:8080/"
        },
        "id": "De7LV5UReAkq",
        "outputId": "487c420e-3202-4516-94dc-bb6b13109a73"
      },
      "execution_count": 61,
      "outputs": [
        {
          "output_type": "stream",
          "name": "stdout",
          "text": [
            "Model: \"model_1\"\n",
            "_________________________________________________________________\n",
            " Layer (type)                Output Shape              Param #   \n",
            "=================================================================\n",
            " input_2 (InputLayer)        [(None, 95)]              0         \n",
            "                                                                 \n",
            " embedding_1 (Embedding)     (None, 95, 95)            769690    \n",
            "                                                                 \n",
            " spatial_dropout1d_1 (Spatia  (None, 95, 95)           0         \n",
            " lDropout1D)                                                     \n",
            "                                                                 \n",
            " bidirectional_1 (Bidirectio  (None, 95, 200)          156800    \n",
            " nal)                                                            \n",
            "                                                                 \n",
            " time_distributed_1 (TimeDis  (None, 95, 20)           4020      \n",
            " tributed)                                                       \n",
            "                                                                 \n",
            "=================================================================\n",
            "Total params: 930,510\n",
            "Trainable params: 930,510\n",
            "Non-trainable params: 0\n",
            "_________________________________________________________________\n"
          ]
        }
      ]
    },
    {
      "cell_type": "code",
      "source": [
        "model.compile(optimizer=\"adam\",\n",
        "              loss=\"sparse_categorical_crossentropy\",\n",
        "              metrics=[\"accuracy\"])"
      ],
      "metadata": {
        "id": "UHQRpPmkeHiK"
      },
      "execution_count": 62,
      "outputs": []
    },
    {
      "cell_type": "code",
      "source": [
        "import time\n",
        "start_time = time.time()\n",
        "\n",
        "history = model.fit(\n",
        "    x=X_train,\n",
        "    y=y_train,\n",
        "    validation_data=(X_dev,y_dev),\n",
        "    validation_split= 0.1,\n",
        "    batch_size= 64, \n",
        "    epochs=8,\n",
        "    verbose=1\n",
        ")\n",
        "print(\"[{}] Completed!\".format(time.time() - start_time))"
      ],
      "metadata": {
        "colab": {
          "base_uri": "https://localhost:8080/"
        },
        "id": "zgIJoIIseiKb",
        "outputId": "0859078d-ac19-4deb-e59b-4d3cff13afaa"
      },
      "execution_count": 63,
      "outputs": [
        {
          "output_type": "stream",
          "name": "stdout",
          "text": [
            "Epoch 1/8\n",
            "79/79 [==============================] - 28s 311ms/step - loss: 0.6040 - accuracy: 0.9265 - val_loss: 0.3351 - val_accuracy: 0.9258\n",
            "Epoch 2/8\n",
            "79/79 [==============================] - 25s 318ms/step - loss: 0.2489 - accuracy: 0.9420 - val_loss: 0.2771 - val_accuracy: 0.9261\n",
            "Epoch 3/8\n",
            "79/79 [==============================] - 25s 314ms/step - loss: 0.1848 - accuracy: 0.9503 - val_loss: 0.2070 - val_accuracy: 0.9424\n",
            "Epoch 4/8\n",
            "79/79 [==============================] - 26s 336ms/step - loss: 0.1360 - accuracy: 0.9604 - val_loss: 0.1649 - val_accuracy: 0.9541\n",
            "Epoch 5/8\n",
            "79/79 [==============================] - 26s 320ms/step - loss: 0.1001 - accuracy: 0.9725 - val_loss: 0.1202 - val_accuracy: 0.9706\n",
            "Epoch 6/8\n",
            "79/79 [==============================] - 24s 309ms/step - loss: 0.0713 - accuracy: 0.9820 - val_loss: 0.0970 - val_accuracy: 0.9762\n",
            "Epoch 7/8\n",
            "79/79 [==============================] - 24s 309ms/step - loss: 0.0540 - accuracy: 0.9862 - val_loss: 0.0864 - val_accuracy: 0.9786\n",
            "Epoch 8/8\n",
            "79/79 [==============================] - 24s 309ms/step - loss: 0.0439 - accuracy: 0.9888 - val_loss: 0.0743 - val_accuracy: 0.9817\n",
            "[203.28152346611023] Completed!\n"
          ]
        }
      ]
    },
    {
      "cell_type": "markdown",
      "source": [
        "## Đánh giá Model"
      ],
      "metadata": {
        "id": "ufAtBG9neufK"
      }
    },
    {
      "cell_type": "code",
      "source": [
        "model.evaluate(X_test, y_test)"
      ],
      "metadata": {
        "colab": {
          "base_uri": "https://localhost:8080/"
        },
        "id": "_173yJuLelYM",
        "outputId": "97983932-fda8-47ec-c946-7fe631c496ae"
      },
      "execution_count": 65,
      "outputs": [
        {
          "output_type": "stream",
          "name": "stdout",
          "text": [
            "94/94 [==============================] - 3s 36ms/step - loss: 0.0828 - accuracy: 0.9803\n"
          ]
        },
        {
          "output_type": "execute_result",
          "data": {
            "text/plain": [
              "[0.08277864754199982, 0.9803403615951538]"
            ]
          },
          "metadata": {},
          "execution_count": 65
        }
      ]
    },
    {
      "cell_type": "markdown",
      "source": [
        "Dự đoán\n"
      ],
      "metadata": {
        "id": "WAdfckaie0U8"
      }
    },
    {
      "cell_type": "code",
      "source": [
        "# i = np.random.randint(0, x_test.shape[0]) #659\n",
        "print(X_test[1])\n",
        "i =10\n",
        "p = model.predict(np.array([X_test[i]]))\n",
        "\n",
        "p = np.argmax(p, axis=-1)\n",
        "y_true = y_test[i]\n",
        "print(\"{:15}{:5}\\t {}\\n\".format(\"Word\", \"True\", \"Pred\"))\n",
        "print(\"-\" *30)\n",
        "for w, true, pred in zip(X_test[i], y_true, p[0]):\n",
        "    print(\"{:15}{}\\t{}\".format(words[w-1], tags[true], tags[pred]))"
      ],
      "metadata": {
        "colab": {
          "base_uri": "https://localhost:8080/"
        },
        "id": "jXvFEO-rez47",
        "outputId": "b8ba781d-f467-4a0f-d0d8-93a564feb74a"
      },
      "execution_count": 66,
      "outputs": [
        {
          "output_type": "stream",
          "name": "stdout",
          "text": [
            "[5783 3312 6625 4190 3099 2825 4719 4397 1359 3213 5336 6625 4995 6301\n",
            " 7097 4755 7750 7097 2378 5764 1194 1500 6625 6021 7513 6625 1875 1810\n",
            " 6254 1681 4307 8083 8101 8101 8101 8101 8101 8101 8101 8101 8101 8101\n",
            " 8101 8101 8101 8101 8101 8101 8101 8101 8101 8101 8101 8101 8101 8101\n",
            " 8101 8101 8101 8101 8101 8101 8101 8101 8101 8101 8101 8101 8101 8101\n",
            " 8101 8101 8101 8101 8101 8101 8101 8101 8101 8101 8101 8101 8101 8101\n",
            " 8101 8101 8101 8101 8101 8101 8101 8101 8101 8101 8101]\n",
            "1/1 [==============================] - 0s 24ms/step\n",
            "Word           True \t Pred\n",
            "\n",
            "------------------------------\n",
            "ngày_sinh      O\tO\n",
            "497            O\tO\n",
            "ương         O\tO\n",
            "149            O\tO\n",
            "bảo           O\tO\n",
            "Nhờ            B-PATIENT_ID\tO\n",
            "thang_máy      O\tO\n",
            "thực_tập       O\tO\n",
            "Nhờ            B-PATIENT_ID\tB-PATIENT_ID\n",
            "Hương_Sơn      O\tO\n",
            "522            O\tO\n",
            "bán_hoa        B-GENDER\tB-GENDER\n",
            "ương         O\tO\n",
            "N.T.P.N.       B-AGE\tB-AGE\n",
            "528            O\tO\n",
            "ương         O\tO\n",
            "thu_gom        O\tO\n",
            "618            O\tO\n",
            "Bảy_Huấn       O\tO\n",
            "chia_tay       O\tO\n",
            "Trương_Huyền_TrườngB-LOCATION\tO\n",
            "TOTO           I-LOCATION\tO\n",
            "ương         O\tO\n",
            "VN7209         B-LOCATION\tO\n",
            "Trương_Huyền_TrườngI-LOCATION\tO\n",
            "ương         O\tO\n",
            "Chẳng          B-LOCATION\tB-LOCATION\n",
            "7/4            I-LOCATION\tI-LOCATION\n",
            "nhạt           O\tO\n",
            "Lồng_ngực      O\tO\n",
            "Lồng_ngực      O\tO\n",
            "Lồng_ngực      O\tO\n",
            "Lồng_ngực      O\tO\n",
            "Lồng_ngực      O\tO\n",
            "Lồng_ngực      O\tO\n",
            "Lồng_ngực      O\tO\n",
            "Lồng_ngực      O\tO\n",
            "Lồng_ngực      O\tO\n",
            "Lồng_ngực      O\tO\n",
            "Lồng_ngực      O\tO\n",
            "Lồng_ngực      O\tO\n",
            "Lồng_ngực      O\tO\n",
            "Lồng_ngực      O\tO\n",
            "Lồng_ngực      O\tO\n",
            "Lồng_ngực      O\tO\n",
            "Lồng_ngực      O\tO\n",
            "Lồng_ngực      O\tO\n",
            "Lồng_ngực      O\tO\n",
            "Lồng_ngực      O\tO\n",
            "Lồng_ngực      O\tO\n",
            "Lồng_ngực      O\tO\n",
            "Lồng_ngực      O\tO\n",
            "Lồng_ngực      O\tO\n",
            "Lồng_ngực      O\tO\n",
            "Lồng_ngực      O\tO\n",
            "Lồng_ngực      O\tO\n",
            "Lồng_ngực      O\tO\n",
            "Lồng_ngực      O\tO\n",
            "Lồng_ngực      O\tO\n",
            "Lồng_ngực      O\tO\n",
            "Lồng_ngực      O\tO\n",
            "Lồng_ngực      O\tO\n",
            "Lồng_ngực      O\tO\n",
            "Lồng_ngực      O\tO\n",
            "Lồng_ngực      O\tO\n",
            "Lồng_ngực      O\tO\n",
            "Lồng_ngực      O\tO\n",
            "Lồng_ngực      O\tO\n",
            "Lồng_ngực      O\tO\n",
            "Lồng_ngực      O\tO\n",
            "Lồng_ngực      O\tO\n",
            "Lồng_ngực      O\tO\n",
            "Lồng_ngực      O\tO\n",
            "Lồng_ngực      O\tO\n",
            "Lồng_ngực      O\tO\n",
            "Lồng_ngực      O\tO\n",
            "Lồng_ngực      O\tO\n",
            "Lồng_ngực      O\tO\n",
            "Lồng_ngực      O\tO\n",
            "Lồng_ngực      O\tO\n",
            "Lồng_ngực      O\tO\n",
            "Lồng_ngực      O\tO\n",
            "Lồng_ngực      O\tO\n",
            "Lồng_ngực      O\tO\n",
            "Lồng_ngực      O\tO\n",
            "Lồng_ngực      O\tO\n",
            "Lồng_ngực      O\tO\n",
            "Lồng_ngực      O\tO\n",
            "Lồng_ngực      O\tO\n",
            "Lồng_ngực      O\tO\n",
            "Lồng_ngực      O\tO\n",
            "Lồng_ngực      O\tO\n",
            "Lồng_ngực      O\tO\n",
            "Lồng_ngực      O\tO\n",
            "Lồng_ngực      O\tO\n"
          ]
        }
      ]
    },
    {
      "cell_type": "code",
      "source": [
        "from sklearn.metrics import  f1_score\n",
        "predict = np.argmax(model.predict(X_test), axis=-1)"
      ],
      "metadata": {
        "colab": {
          "base_uri": "https://localhost:8080/"
        },
        "id": "p_ctlQgle6RF",
        "outputId": "2663de1f-e017-4496-cbdd-cbe8405e0a4b"
      },
      "execution_count": 67,
      "outputs": [
        {
          "output_type": "stream",
          "name": "stdout",
          "text": [
            "94/94 [==============================] - 3s 36ms/step\n"
          ]
        }
      ]
    },
    {
      "cell_type": "code",
      "source": [
        "# Đánh giá theo độ đo f1 score: micro \n",
        "f1_score(y_test.ravel(), predict.ravel(), average = 'micro')"
      ],
      "metadata": {
        "colab": {
          "base_uri": "https://localhost:8080/"
        },
        "id": "McT7a6c0e9Z5",
        "outputId": "ee8fd210-af33-4111-9c31-328eee1db492"
      },
      "execution_count": 68,
      "outputs": [
        {
          "output_type": "execute_result",
          "data": {
            "text/plain": [
              "0.980340350877193"
            ]
          },
          "metadata": {},
          "execution_count": 68
        }
      ]
    },
    {
      "cell_type": "code",
      "source": [
        "# Đánh giá theo độ đo f1 score: macro \n",
        "f1_score(y_test.ravel(), predict.ravel(), average = 'macro')"
      ],
      "metadata": {
        "colab": {
          "base_uri": "https://localhost:8080/"
        },
        "id": "MtMlKHfZe-ye",
        "outputId": "68c49f0f-82c0-46bb-bb16-1cc4d4767361"
      },
      "execution_count": 69,
      "outputs": [
        {
          "output_type": "execute_result",
          "data": {
            "text/plain": [
              "0.5337336045608405"
            ]
          },
          "metadata": {},
          "execution_count": 69
        }
      ]
    },
    {
      "cell_type": "code",
      "source": [
        "# Xuất ra kết quả của F1-score và Accuracy cho từng nhãn thực thể. \n",
        "from sklearn.metrics import classification_report\n",
        "\n",
        "a = {i: t for i, t in enumerate(tags)}\n",
        "print(classification_report(y_test.ravel(), \n",
        "                            predict.ravel(),\n",
        "                            labels=list(a.keys()), \n",
        "                            target_names=list(a.values())))"
      ],
      "metadata": {
        "colab": {
          "base_uri": "https://localhost:8080/"
        },
        "id": "IO4Ydx8_fAaB",
        "outputId": "e7da1595-2efd-47e9-eba1-9f64acad7ab4"
      },
      "execution_count": 70,
      "outputs": [
        {
          "output_type": "stream",
          "name": "stderr",
          "text": [
            "/usr/local/lib/python3.7/dist-packages/sklearn/metrics/_classification.py:1318: UndefinedMetricWarning: Precision and F-score are ill-defined and being set to 0.0 in labels with no predicted samples. Use `zero_division` parameter to control this behavior.\n",
            "  _warn_prf(average, modifier, msg_start, len(result))\n"
          ]
        },
        {
          "output_type": "stream",
          "name": "stdout",
          "text": [
            "                       precision    recall  f1-score   support\n",
            "\n",
            "               B-DATE       0.96      0.94      0.95      1649\n",
            "B-SYMPTOM_AND_DISEASE       0.88      0.78      0.83      1136\n",
            "     B-TRANSPORTATION       0.97      0.32      0.48       193\n",
            "         I-PATIENT_ID       0.00      0.00      0.00        27\n",
            "               I-NAME       0.00      0.00      0.00        13\n",
            "     I-TRANSPORTATION       0.00      0.00      0.00        69\n",
            "             B-GENDER       0.97      0.73      0.84       452\n",
            "                I-AGE       0.00      0.00      0.00         6\n",
            "       I-ORGANIZATION       0.84      0.74      0.79      2014\n",
            "               B-NAME       0.67      0.01      0.02       318\n",
            "                I-JOB       0.00      0.00      0.00       114\n",
            "         B-PATIENT_ID       0.82      0.81      0.81      1988\n",
            "                    O       0.99      1.00      0.99    262942\n",
            "                B-AGE       0.94      0.61      0.74       573\n",
            "           B-LOCATION       0.88      0.86      0.87      4432\n",
            "               I-DATE       0.92      0.99      0.95      1740\n",
            "       B-ORGANIZATION       0.83      0.74      0.78       771\n",
            "                B-JOB       0.00      0.00      0.00       172\n",
            "           I-LOCATION       0.91      0.79      0.84      4905\n",
            "I-SYMPTOM_AND_DISEASE       0.90      0.68      0.78      1486\n",
            "\n",
            "             accuracy                           0.98    285000\n",
            "            macro avg       0.62      0.50      0.53    285000\n",
            "         weighted avg       0.98      0.98      0.98    285000\n",
            "\n"
          ]
        },
        {
          "output_type": "stream",
          "name": "stderr",
          "text": [
            "/usr/local/lib/python3.7/dist-packages/sklearn/metrics/_classification.py:1318: UndefinedMetricWarning: Precision and F-score are ill-defined and being set to 0.0 in labels with no predicted samples. Use `zero_division` parameter to control this behavior.\n",
            "  _warn_prf(average, modifier, msg_start, len(result))\n",
            "/usr/local/lib/python3.7/dist-packages/sklearn/metrics/_classification.py:1318: UndefinedMetricWarning: Precision and F-score are ill-defined and being set to 0.0 in labels with no predicted samples. Use `zero_division` parameter to control this behavior.\n",
            "  _warn_prf(average, modifier, msg_start, len(result))\n"
          ]
        }
      ]
    },
    {
      "cell_type": "markdown",
      "source": [
        "## Lưu Model "
      ],
      "metadata": {
        "id": "3eOEoKQmgCbh"
      }
    },
    {
      "cell_type": "code",
      "source": [
        "model.save('model_LSTM_bt2.h5')"
      ],
      "metadata": {
        "id": "F-Zb8HYqgAz-"
      },
      "execution_count": 71,
      "outputs": []
    }
  ]
}