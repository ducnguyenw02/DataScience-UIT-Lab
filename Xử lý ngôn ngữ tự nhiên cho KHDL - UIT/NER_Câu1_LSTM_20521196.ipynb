{
  "nbformat": 4,
  "nbformat_minor": 0,
  "metadata": {
    "colab": {
      "provenance": [],
      "collapsed_sections": [],
      "toc_visible": true
    },
    "kernelspec": {
      "name": "python3",
      "display_name": "Python 3"
    },
    "language_info": {
      "name": "python"
    },
    "accelerator": "GPU"
  },
  "cells": [
    {
      "cell_type": "code",
      "metadata": {
        "id": "IeWsfNqikGh8",
        "colab": {
          "base_uri": "https://localhost:8080/"
        },
        "outputId": "39bce4e0-23b4-4967-9058-7041556e6bb7"
      },
      "source": [
        "from google.colab import drive\n",
        "drive.mount('/content/drive')"
      ],
      "execution_count": 2,
      "outputs": [
        {
          "output_type": "stream",
          "name": "stdout",
          "text": [
            "Mounted at /content/drive\n"
          ]
        }
      ]
    },
    {
      "cell_type": "markdown",
      "metadata": {
        "id": "yTWomfEpX6dS"
      },
      "source": [
        "# Bước 1: Import Modules"
      ]
    },
    {
      "cell_type": "code",
      "metadata": {
        "id": "ok2BrtLZAItY"
      },
      "source": [
        "import matplotlib.pyplot as plt\n",
        "import pandas as pd\n",
        "import numpy as np\n",
        "import tensorflow as tf"
      ],
      "execution_count": 3,
      "outputs": []
    },
    {
      "cell_type": "markdown",
      "metadata": {
        "id": "i_4kHUK_YS4q"
      },
      "source": [
        "# Bước 2: Load bộ dữ liệu NER\n",
        "\n",
        "Sau khi đọc tập dữ liệu, chúng ta quan sát thử 50 dòng đầu tiên như thế nào.\n"
      ]
    },
    {
      "cell_type": "code",
      "metadata": {
        "id": "kLDDAkTrC_-x",
        "colab": {
          "base_uri": "https://localhost:8080/",
          "height": 1000
        },
        "outputId": "cd7c873e-f01d-41d1-cfe9-d24e362c4ff6"
      },
      "source": [
        "data = pd.read_csv('/content/drive/MyDrive/Data Scientist/Data/ner_dataset.csv', encoding=\"latin1\")\n",
        "data = data.fillna(method=\"ffill\")\n",
        "data.tail(50)\n"
      ],
      "execution_count": 4,
      "outputs": [
        {
          "output_type": "execute_result",
          "data": {
            "text/plain": [
              "              Sentence #       Word  POS    Tag\n",
              "1048525  Sentence: 47956        one   NN      O\n",
              "1048526  Sentence: 47956        was  VBD      O\n",
              "1048527  Sentence: 47956    injured  VBN      O\n",
              "1048528  Sentence: 47956         in   IN      O\n",
              "1048529  Sentence: 47956   Saturday  NNP  B-tim\n",
              "1048530  Sentence: 47956         's  POS      O\n",
              "1048531  Sentence: 47956   incident   NN      O\n",
              "1048532  Sentence: 47956        but   CC      O\n",
              "1048533  Sentence: 47956       that   IN      O\n",
              "1048534  Sentence: 47956        two   CD      O\n",
              "1048535  Sentence: 47956         of   IN      O\n",
              "1048536  Sentence: 47956        the   DT      O\n",
              "1048537  Sentence: 47956    rockets  NNS      O\n",
              "1048538  Sentence: 47956     landed  VBD      O\n",
              "1048539  Sentence: 47956       near   IN      O\n",
              "1048540  Sentence: 47956          a   DT      O\n",
              "1048541  Sentence: 47956     border   NN      O\n",
              "1048542  Sentence: 47956   security   NN      O\n",
              "1048543  Sentence: 47956    outpost   NN      O\n",
              "1048544  Sentence: 47956          .    .      O\n",
              "1048545  Sentence: 47957        Two   CD      O\n",
              "1048546  Sentence: 47957       more  JJR      O\n",
              "1048547  Sentence: 47957     landed  VBD      O\n",
              "1048548  Sentence: 47957         in   IN      O\n",
              "1048549  Sentence: 47957     fields  NNS      O\n",
              "1048550  Sentence: 47957  belonging  VBG      O\n",
              "1048551  Sentence: 47957         to   TO      O\n",
              "1048552  Sentence: 47957          a   DT      O\n",
              "1048553  Sentence: 47957     nearby   JJ      O\n",
              "1048554  Sentence: 47957    village   NN      O\n",
              "1048555  Sentence: 47957          .    .      O\n",
              "1048556  Sentence: 47958       They  PRP      O\n",
              "1048557  Sentence: 47958        say  VBP      O\n",
              "1048558  Sentence: 47958        not   RB      O\n",
              "1048559  Sentence: 47958        all   DT      O\n",
              "1048560  Sentence: 47958         of   IN      O\n",
              "1048561  Sentence: 47958        the   DT      O\n",
              "1048562  Sentence: 47958    rockets  NNS      O\n",
              "1048563  Sentence: 47958   exploded  VBD      O\n",
              "1048564  Sentence: 47958       upon   IN      O\n",
              "1048565  Sentence: 47958     impact   NN      O\n",
              "1048566  Sentence: 47958          .    .      O\n",
              "1048567  Sentence: 47959     Indian   JJ  B-gpe\n",
              "1048568  Sentence: 47959     forces  NNS      O\n",
              "1048569  Sentence: 47959       said  VBD      O\n",
              "1048570  Sentence: 47959       they  PRP      O\n",
              "1048571  Sentence: 47959  responded  VBD      O\n",
              "1048572  Sentence: 47959         to   TO      O\n",
              "1048573  Sentence: 47959        the   DT      O\n",
              "1048574  Sentence: 47959     attack   NN      O"
            ],
            "text/html": [
              "\n",
              "  <div id=\"df-7ec570fa-6951-4c07-b1d7-b2eb3098e2f9\">\n",
              "    <div class=\"colab-df-container\">\n",
              "      <div>\n",
              "<style scoped>\n",
              "    .dataframe tbody tr th:only-of-type {\n",
              "        vertical-align: middle;\n",
              "    }\n",
              "\n",
              "    .dataframe tbody tr th {\n",
              "        vertical-align: top;\n",
              "    }\n",
              "\n",
              "    .dataframe thead th {\n",
              "        text-align: right;\n",
              "    }\n",
              "</style>\n",
              "<table border=\"1\" class=\"dataframe\">\n",
              "  <thead>\n",
              "    <tr style=\"text-align: right;\">\n",
              "      <th></th>\n",
              "      <th>Sentence #</th>\n",
              "      <th>Word</th>\n",
              "      <th>POS</th>\n",
              "      <th>Tag</th>\n",
              "    </tr>\n",
              "  </thead>\n",
              "  <tbody>\n",
              "    <tr>\n",
              "      <th>1048525</th>\n",
              "      <td>Sentence: 47956</td>\n",
              "      <td>one</td>\n",
              "      <td>NN</td>\n",
              "      <td>O</td>\n",
              "    </tr>\n",
              "    <tr>\n",
              "      <th>1048526</th>\n",
              "      <td>Sentence: 47956</td>\n",
              "      <td>was</td>\n",
              "      <td>VBD</td>\n",
              "      <td>O</td>\n",
              "    </tr>\n",
              "    <tr>\n",
              "      <th>1048527</th>\n",
              "      <td>Sentence: 47956</td>\n",
              "      <td>injured</td>\n",
              "      <td>VBN</td>\n",
              "      <td>O</td>\n",
              "    </tr>\n",
              "    <tr>\n",
              "      <th>1048528</th>\n",
              "      <td>Sentence: 47956</td>\n",
              "      <td>in</td>\n",
              "      <td>IN</td>\n",
              "      <td>O</td>\n",
              "    </tr>\n",
              "    <tr>\n",
              "      <th>1048529</th>\n",
              "      <td>Sentence: 47956</td>\n",
              "      <td>Saturday</td>\n",
              "      <td>NNP</td>\n",
              "      <td>B-tim</td>\n",
              "    </tr>\n",
              "    <tr>\n",
              "      <th>1048530</th>\n",
              "      <td>Sentence: 47956</td>\n",
              "      <td>'s</td>\n",
              "      <td>POS</td>\n",
              "      <td>O</td>\n",
              "    </tr>\n",
              "    <tr>\n",
              "      <th>1048531</th>\n",
              "      <td>Sentence: 47956</td>\n",
              "      <td>incident</td>\n",
              "      <td>NN</td>\n",
              "      <td>O</td>\n",
              "    </tr>\n",
              "    <tr>\n",
              "      <th>1048532</th>\n",
              "      <td>Sentence: 47956</td>\n",
              "      <td>but</td>\n",
              "      <td>CC</td>\n",
              "      <td>O</td>\n",
              "    </tr>\n",
              "    <tr>\n",
              "      <th>1048533</th>\n",
              "      <td>Sentence: 47956</td>\n",
              "      <td>that</td>\n",
              "      <td>IN</td>\n",
              "      <td>O</td>\n",
              "    </tr>\n",
              "    <tr>\n",
              "      <th>1048534</th>\n",
              "      <td>Sentence: 47956</td>\n",
              "      <td>two</td>\n",
              "      <td>CD</td>\n",
              "      <td>O</td>\n",
              "    </tr>\n",
              "    <tr>\n",
              "      <th>1048535</th>\n",
              "      <td>Sentence: 47956</td>\n",
              "      <td>of</td>\n",
              "      <td>IN</td>\n",
              "      <td>O</td>\n",
              "    </tr>\n",
              "    <tr>\n",
              "      <th>1048536</th>\n",
              "      <td>Sentence: 47956</td>\n",
              "      <td>the</td>\n",
              "      <td>DT</td>\n",
              "      <td>O</td>\n",
              "    </tr>\n",
              "    <tr>\n",
              "      <th>1048537</th>\n",
              "      <td>Sentence: 47956</td>\n",
              "      <td>rockets</td>\n",
              "      <td>NNS</td>\n",
              "      <td>O</td>\n",
              "    </tr>\n",
              "    <tr>\n",
              "      <th>1048538</th>\n",
              "      <td>Sentence: 47956</td>\n",
              "      <td>landed</td>\n",
              "      <td>VBD</td>\n",
              "      <td>O</td>\n",
              "    </tr>\n",
              "    <tr>\n",
              "      <th>1048539</th>\n",
              "      <td>Sentence: 47956</td>\n",
              "      <td>near</td>\n",
              "      <td>IN</td>\n",
              "      <td>O</td>\n",
              "    </tr>\n",
              "    <tr>\n",
              "      <th>1048540</th>\n",
              "      <td>Sentence: 47956</td>\n",
              "      <td>a</td>\n",
              "      <td>DT</td>\n",
              "      <td>O</td>\n",
              "    </tr>\n",
              "    <tr>\n",
              "      <th>1048541</th>\n",
              "      <td>Sentence: 47956</td>\n",
              "      <td>border</td>\n",
              "      <td>NN</td>\n",
              "      <td>O</td>\n",
              "    </tr>\n",
              "    <tr>\n",
              "      <th>1048542</th>\n",
              "      <td>Sentence: 47956</td>\n",
              "      <td>security</td>\n",
              "      <td>NN</td>\n",
              "      <td>O</td>\n",
              "    </tr>\n",
              "    <tr>\n",
              "      <th>1048543</th>\n",
              "      <td>Sentence: 47956</td>\n",
              "      <td>outpost</td>\n",
              "      <td>NN</td>\n",
              "      <td>O</td>\n",
              "    </tr>\n",
              "    <tr>\n",
              "      <th>1048544</th>\n",
              "      <td>Sentence: 47956</td>\n",
              "      <td>.</td>\n",
              "      <td>.</td>\n",
              "      <td>O</td>\n",
              "    </tr>\n",
              "    <tr>\n",
              "      <th>1048545</th>\n",
              "      <td>Sentence: 47957</td>\n",
              "      <td>Two</td>\n",
              "      <td>CD</td>\n",
              "      <td>O</td>\n",
              "    </tr>\n",
              "    <tr>\n",
              "      <th>1048546</th>\n",
              "      <td>Sentence: 47957</td>\n",
              "      <td>more</td>\n",
              "      <td>JJR</td>\n",
              "      <td>O</td>\n",
              "    </tr>\n",
              "    <tr>\n",
              "      <th>1048547</th>\n",
              "      <td>Sentence: 47957</td>\n",
              "      <td>landed</td>\n",
              "      <td>VBD</td>\n",
              "      <td>O</td>\n",
              "    </tr>\n",
              "    <tr>\n",
              "      <th>1048548</th>\n",
              "      <td>Sentence: 47957</td>\n",
              "      <td>in</td>\n",
              "      <td>IN</td>\n",
              "      <td>O</td>\n",
              "    </tr>\n",
              "    <tr>\n",
              "      <th>1048549</th>\n",
              "      <td>Sentence: 47957</td>\n",
              "      <td>fields</td>\n",
              "      <td>NNS</td>\n",
              "      <td>O</td>\n",
              "    </tr>\n",
              "    <tr>\n",
              "      <th>1048550</th>\n",
              "      <td>Sentence: 47957</td>\n",
              "      <td>belonging</td>\n",
              "      <td>VBG</td>\n",
              "      <td>O</td>\n",
              "    </tr>\n",
              "    <tr>\n",
              "      <th>1048551</th>\n",
              "      <td>Sentence: 47957</td>\n",
              "      <td>to</td>\n",
              "      <td>TO</td>\n",
              "      <td>O</td>\n",
              "    </tr>\n",
              "    <tr>\n",
              "      <th>1048552</th>\n",
              "      <td>Sentence: 47957</td>\n",
              "      <td>a</td>\n",
              "      <td>DT</td>\n",
              "      <td>O</td>\n",
              "    </tr>\n",
              "    <tr>\n",
              "      <th>1048553</th>\n",
              "      <td>Sentence: 47957</td>\n",
              "      <td>nearby</td>\n",
              "      <td>JJ</td>\n",
              "      <td>O</td>\n",
              "    </tr>\n",
              "    <tr>\n",
              "      <th>1048554</th>\n",
              "      <td>Sentence: 47957</td>\n",
              "      <td>village</td>\n",
              "      <td>NN</td>\n",
              "      <td>O</td>\n",
              "    </tr>\n",
              "    <tr>\n",
              "      <th>1048555</th>\n",
              "      <td>Sentence: 47957</td>\n",
              "      <td>.</td>\n",
              "      <td>.</td>\n",
              "      <td>O</td>\n",
              "    </tr>\n",
              "    <tr>\n",
              "      <th>1048556</th>\n",
              "      <td>Sentence: 47958</td>\n",
              "      <td>They</td>\n",
              "      <td>PRP</td>\n",
              "      <td>O</td>\n",
              "    </tr>\n",
              "    <tr>\n",
              "      <th>1048557</th>\n",
              "      <td>Sentence: 47958</td>\n",
              "      <td>say</td>\n",
              "      <td>VBP</td>\n",
              "      <td>O</td>\n",
              "    </tr>\n",
              "    <tr>\n",
              "      <th>1048558</th>\n",
              "      <td>Sentence: 47958</td>\n",
              "      <td>not</td>\n",
              "      <td>RB</td>\n",
              "      <td>O</td>\n",
              "    </tr>\n",
              "    <tr>\n",
              "      <th>1048559</th>\n",
              "      <td>Sentence: 47958</td>\n",
              "      <td>all</td>\n",
              "      <td>DT</td>\n",
              "      <td>O</td>\n",
              "    </tr>\n",
              "    <tr>\n",
              "      <th>1048560</th>\n",
              "      <td>Sentence: 47958</td>\n",
              "      <td>of</td>\n",
              "      <td>IN</td>\n",
              "      <td>O</td>\n",
              "    </tr>\n",
              "    <tr>\n",
              "      <th>1048561</th>\n",
              "      <td>Sentence: 47958</td>\n",
              "      <td>the</td>\n",
              "      <td>DT</td>\n",
              "      <td>O</td>\n",
              "    </tr>\n",
              "    <tr>\n",
              "      <th>1048562</th>\n",
              "      <td>Sentence: 47958</td>\n",
              "      <td>rockets</td>\n",
              "      <td>NNS</td>\n",
              "      <td>O</td>\n",
              "    </tr>\n",
              "    <tr>\n",
              "      <th>1048563</th>\n",
              "      <td>Sentence: 47958</td>\n",
              "      <td>exploded</td>\n",
              "      <td>VBD</td>\n",
              "      <td>O</td>\n",
              "    </tr>\n",
              "    <tr>\n",
              "      <th>1048564</th>\n",
              "      <td>Sentence: 47958</td>\n",
              "      <td>upon</td>\n",
              "      <td>IN</td>\n",
              "      <td>O</td>\n",
              "    </tr>\n",
              "    <tr>\n",
              "      <th>1048565</th>\n",
              "      <td>Sentence: 47958</td>\n",
              "      <td>impact</td>\n",
              "      <td>NN</td>\n",
              "      <td>O</td>\n",
              "    </tr>\n",
              "    <tr>\n",
              "      <th>1048566</th>\n",
              "      <td>Sentence: 47958</td>\n",
              "      <td>.</td>\n",
              "      <td>.</td>\n",
              "      <td>O</td>\n",
              "    </tr>\n",
              "    <tr>\n",
              "      <th>1048567</th>\n",
              "      <td>Sentence: 47959</td>\n",
              "      <td>Indian</td>\n",
              "      <td>JJ</td>\n",
              "      <td>B-gpe</td>\n",
              "    </tr>\n",
              "    <tr>\n",
              "      <th>1048568</th>\n",
              "      <td>Sentence: 47959</td>\n",
              "      <td>forces</td>\n",
              "      <td>NNS</td>\n",
              "      <td>O</td>\n",
              "    </tr>\n",
              "    <tr>\n",
              "      <th>1048569</th>\n",
              "      <td>Sentence: 47959</td>\n",
              "      <td>said</td>\n",
              "      <td>VBD</td>\n",
              "      <td>O</td>\n",
              "    </tr>\n",
              "    <tr>\n",
              "      <th>1048570</th>\n",
              "      <td>Sentence: 47959</td>\n",
              "      <td>they</td>\n",
              "      <td>PRP</td>\n",
              "      <td>O</td>\n",
              "    </tr>\n",
              "    <tr>\n",
              "      <th>1048571</th>\n",
              "      <td>Sentence: 47959</td>\n",
              "      <td>responded</td>\n",
              "      <td>VBD</td>\n",
              "      <td>O</td>\n",
              "    </tr>\n",
              "    <tr>\n",
              "      <th>1048572</th>\n",
              "      <td>Sentence: 47959</td>\n",
              "      <td>to</td>\n",
              "      <td>TO</td>\n",
              "      <td>O</td>\n",
              "    </tr>\n",
              "    <tr>\n",
              "      <th>1048573</th>\n",
              "      <td>Sentence: 47959</td>\n",
              "      <td>the</td>\n",
              "      <td>DT</td>\n",
              "      <td>O</td>\n",
              "    </tr>\n",
              "    <tr>\n",
              "      <th>1048574</th>\n",
              "      <td>Sentence: 47959</td>\n",
              "      <td>attack</td>\n",
              "      <td>NN</td>\n",
              "      <td>O</td>\n",
              "    </tr>\n",
              "  </tbody>\n",
              "</table>\n",
              "</div>\n",
              "      <button class=\"colab-df-convert\" onclick=\"convertToInteractive('df-7ec570fa-6951-4c07-b1d7-b2eb3098e2f9')\"\n",
              "              title=\"Convert this dataframe to an interactive table.\"\n",
              "              style=\"display:none;\">\n",
              "        \n",
              "  <svg xmlns=\"http://www.w3.org/2000/svg\" height=\"24px\"viewBox=\"0 0 24 24\"\n",
              "       width=\"24px\">\n",
              "    <path d=\"M0 0h24v24H0V0z\" fill=\"none\"/>\n",
              "    <path d=\"M18.56 5.44l.94 2.06.94-2.06 2.06-.94-2.06-.94-.94-2.06-.94 2.06-2.06.94zm-11 1L8.5 8.5l.94-2.06 2.06-.94-2.06-.94L8.5 2.5l-.94 2.06-2.06.94zm10 10l.94 2.06.94-2.06 2.06-.94-2.06-.94-.94-2.06-.94 2.06-2.06.94z\"/><path d=\"M17.41 7.96l-1.37-1.37c-.4-.4-.92-.59-1.43-.59-.52 0-1.04.2-1.43.59L10.3 9.45l-7.72 7.72c-.78.78-.78 2.05 0 2.83L4 21.41c.39.39.9.59 1.41.59.51 0 1.02-.2 1.41-.59l7.78-7.78 2.81-2.81c.8-.78.8-2.07 0-2.86zM5.41 20L4 18.59l7.72-7.72 1.47 1.35L5.41 20z\"/>\n",
              "  </svg>\n",
              "      </button>\n",
              "      \n",
              "  <style>\n",
              "    .colab-df-container {\n",
              "      display:flex;\n",
              "      flex-wrap:wrap;\n",
              "      gap: 12px;\n",
              "    }\n",
              "\n",
              "    .colab-df-convert {\n",
              "      background-color: #E8F0FE;\n",
              "      border: none;\n",
              "      border-radius: 50%;\n",
              "      cursor: pointer;\n",
              "      display: none;\n",
              "      fill: #1967D2;\n",
              "      height: 32px;\n",
              "      padding: 0 0 0 0;\n",
              "      width: 32px;\n",
              "    }\n",
              "\n",
              "    .colab-df-convert:hover {\n",
              "      background-color: #E2EBFA;\n",
              "      box-shadow: 0px 1px 2px rgba(60, 64, 67, 0.3), 0px 1px 3px 1px rgba(60, 64, 67, 0.15);\n",
              "      fill: #174EA6;\n",
              "    }\n",
              "\n",
              "    [theme=dark] .colab-df-convert {\n",
              "      background-color: #3B4455;\n",
              "      fill: #D2E3FC;\n",
              "    }\n",
              "\n",
              "    [theme=dark] .colab-df-convert:hover {\n",
              "      background-color: #434B5C;\n",
              "      box-shadow: 0px 1px 3px 1px rgba(0, 0, 0, 0.15);\n",
              "      filter: drop-shadow(0px 1px 2px rgba(0, 0, 0, 0.3));\n",
              "      fill: #FFFFFF;\n",
              "    }\n",
              "  </style>\n",
              "\n",
              "      <script>\n",
              "        const buttonEl =\n",
              "          document.querySelector('#df-7ec570fa-6951-4c07-b1d7-b2eb3098e2f9 button.colab-df-convert');\n",
              "        buttonEl.style.display =\n",
              "          google.colab.kernel.accessAllowed ? 'block' : 'none';\n",
              "\n",
              "        async function convertToInteractive(key) {\n",
              "          const element = document.querySelector('#df-7ec570fa-6951-4c07-b1d7-b2eb3098e2f9');\n",
              "          const dataTable =\n",
              "            await google.colab.kernel.invokeFunction('convertToInteractive',\n",
              "                                                     [key], {});\n",
              "          if (!dataTable) return;\n",
              "\n",
              "          const docLinkHtml = 'Like what you see? Visit the ' +\n",
              "            '<a target=\"_blank\" href=https://colab.research.google.com/notebooks/data_table.ipynb>data table notebook</a>'\n",
              "            + ' to learn more about interactive tables.';\n",
              "          element.innerHTML = '';\n",
              "          dataTable['output_type'] = 'display_data';\n",
              "          await google.colab.output.renderOutput(dataTable, element);\n",
              "          const docLink = document.createElement('div');\n",
              "          docLink.innerHTML = docLinkHtml;\n",
              "          element.appendChild(docLink);\n",
              "        }\n",
              "      </script>\n",
              "    </div>\n",
              "  </div>\n",
              "  "
            ]
          },
          "metadata": {},
          "execution_count": 4
        }
      ]
    },
    {
      "cell_type": "markdown",
      "metadata": {
        "id": "Hvc2uwATZm8f"
      },
      "source": [
        "#Visualizing \n",
        "Thông kê bộ dữ liệu:\n",
        "- Số lượng từ duy nhất trong kho ngữ liệu. (Tập từ vựng, số chiều)\n",
        "- Số lượng thẻ duy nhất trong tập dữ liệu. (Tập nhãn)\n",
        "\n",
        "\n",
        "Bằng cách sử dụng hàm **“nunique”.**"
      ]
    },
    {
      "cell_type": "code",
      "metadata": {
        "id": "foji0Z5-DACL",
        "colab": {
          "base_uri": "https://localhost:8080/"
        },
        "outputId": "472a2ba3-a14c-45de-cfce-0538835a327d"
      },
      "source": [
        "print(\"Unique words in corpus:\", data['Word'].nunique())\n",
        "print(\"Unique tags in corpus:\", data['Tag'].nunique())"
      ],
      "execution_count": 5,
      "outputs": [
        {
          "output_type": "stream",
          "name": "stdout",
          "text": [
            "Unique words in corpus: 35178\n",
            "Unique tags in corpus: 17\n"
          ]
        }
      ]
    },
    {
      "cell_type": "markdown",
      "metadata": {
        "id": "9Ih-dU2ibjC5"
      },
      "source": [
        "Tạo một danh sách và sử dụng phương thức set() để lấy các giá trị trong cột “word” và loại bỏ giá trị trùng.\\\n",
        "Thêm phần đệm có tên “Endpad”.\n"
      ]
    },
    {
      "cell_type": "code",
      "metadata": {
        "id": "9QdG8q_xD2MR"
      },
      "source": [
        "#tạo tập từ vựng\n",
        "words = list(set(data[\"Word\"].values))\n",
        "words.append(\"ENDPAD\")\n",
        "num_words = len(words)"
      ],
      "execution_count": 6,
      "outputs": []
    },
    {
      "cell_type": "code",
      "metadata": {
        "id": "STf-MXyND2Po"
      },
      "source": [
        "#tạo tập nhãn tương tự như trên\n",
        "tags = list(set(data[\"Tag\"].values))\n",
        "num_tags = len(tags)"
      ],
      "execution_count": 7,
      "outputs": []
    },
    {
      "cell_type": "markdown",
      "metadata": {
        "id": "YjkABYEfcm9S"
      },
      "source": [
        "# Bước 3: Lấy các câu và các thẻ tương ứng"
      ]
    },
    {
      "cell_type": "code",
      "metadata": {
        "id": "ZeMYGQ7LD2Yx"
      },
      "source": [
        "class SentenceGetter(object):\n",
        "    def __init__(self, data):\n",
        "        self.n_sent = 1\n",
        "        self.data = data\n",
        "        self.empty = False\n",
        "        agg_func = lambda s: [(w, p, t) for w, p, t in zip(s[\"Word\"].values.tolist(),\n",
        "                                                           s[\"POS\"].values.tolist(),\n",
        "                                                           s[\"Tag\"].values.tolist())]\n",
        "        self.grouped = self.data.groupby(\"Sentence #\").apply(agg_func)\n",
        "        self.sentences = [s for s in self.grouped]\n",
        "\n",
        "#Yêu cầu các bạn có thể viết theo cách khác, không dùng code sẵn"
      ],
      "execution_count": 8,
      "outputs": []
    },
    {
      "cell_type": "code",
      "source": [
        "def sentencegetter(data):\n",
        "  sentences = []\n",
        "  for i in range(47959):\n",
        "    sentences.append([])\n",
        "  for i in range(len(data)):\n",
        "    sentence = data[\"Sentence #\"][i].split(\" \")\n",
        "    index = int(sentence[1])-1\n",
        "    sentences[index].append((data[\"Word\"][i], data[\"POS\"][i], data[\"Tag\"][i]))\n",
        "  return sentences \n",
        "      "
      ],
      "metadata": {
        "id": "1JNZkSFhpsJ5"
      },
      "execution_count": 9,
      "outputs": []
    },
    {
      "cell_type": "code",
      "source": [
        "sentences = sentencegetter(data)"
      ],
      "metadata": {
        "id": "iOey_9J2t6v5"
      },
      "execution_count": 10,
      "outputs": []
    },
    {
      "cell_type": "code",
      "metadata": {
        "id": "Sru0NB5HEZ2i"
      },
      "source": [
        "# getter = SentenceGetter(data)\n",
        "# sentences = getter.sentences"
      ],
      "execution_count": 11,
      "outputs": []
    },
    {
      "cell_type": "markdown",
      "metadata": {
        "id": "XojZjemOdEOC"
      },
      "source": [
        "# Bước 4: Ánh xạ giữa các câu và chỉ mục\n",
        "Chúng ta có thể thấy rằng mỗi từ được gán cho một thẻ duy nhất. Chúng tôi có thể truy xuất những từ này bằng cách sử dụng các chỉ số của chúng và tra cứu chúng trong từ điển và trả về các khóa tương ứng.\n"
      ]
    },
    {
      "cell_type": "code",
      "metadata": {
        "id": "KzmuYP_CEZ-l"
      },
      "source": [
        "word2idx = {w: i   for i, w in enumerate(words)}\n",
        "tag2idx = {t: i for i, t in enumerate(tags)}"
      ],
      "execution_count": 12,
      "outputs": []
    },
    {
      "cell_type": "code",
      "metadata": {
        "id": "dQY8s4cKEvnw",
        "colab": {
          "base_uri": "https://localhost:8080/"
        },
        "outputId": "e31673a0-d14d-4382-e89f-cdddd2115745"
      },
      "source": [
        "# word2idx\n",
        "word2idx[\"ENDPAD\"]\n",
        "tag2idx "
      ],
      "execution_count": 13,
      "outputs": [
        {
          "output_type": "execute_result",
          "data": {
            "text/plain": [
              "{'B-org': 0,\n",
              " 'I-tim': 1,\n",
              " 'I-gpe': 2,\n",
              " 'I-nat': 3,\n",
              " 'I-per': 4,\n",
              " 'B-geo': 5,\n",
              " 'I-geo': 6,\n",
              " 'B-tim': 7,\n",
              " 'B-nat': 8,\n",
              " 'I-eve': 9,\n",
              " 'O': 10,\n",
              " 'I-art': 11,\n",
              " 'B-per': 12,\n",
              " 'I-org': 13,\n",
              " 'B-art': 14,\n",
              " 'B-eve': 15,\n",
              " 'B-gpe': 16}"
            ]
          },
          "metadata": {},
          "execution_count": 13
        }
      ]
    },
    {
      "cell_type": "markdown",
      "metadata": {
        "id": "M4jHHTiNeHQD"
      },
      "source": [
        "#Bước 5: Padding  đầu vào và cắt dữ liệu thành tập Train/Test\\\n",
        "Trong trục X, có thể thấy độ dài an toàn của câu là khoảng 50."
      ]
    },
    {
      "cell_type": "code",
      "metadata": {
        "id": "QsaS9yuIEvqA",
        "colab": {
          "base_uri": "https://localhost:8080/",
          "height": 279
        },
        "outputId": "d0f8d548-b9ef-4a8c-db90-4f8aacb27a68"
      },
      "source": [
        "#vẽ biểu đồ thể hiện phân bố chiều dài của câu trong tập dữ liệu.\n",
        "plt.hist([len(s) for s in sentences], bins=50)\n",
        "plt.xlabel(\"length of sentence\")\n",
        "plt.ylabel(\"number of sentence\")\n",
        "plt.show()"
      ],
      "execution_count": 14,
      "outputs": [
        {
          "output_type": "display_data",
          "data": {
            "text/plain": [
              "<Figure size 432x288 with 1 Axes>"
            ],
            "image/png": "[encoded data removed]"
          },
          "metadata": {
            "needs_background": "light"
          }
        }
      ]
    },
    {
      "cell_type": "markdown",
      "metadata": {
        "id": "45olb3GgimLa"
      },
      "source": [
        "- Sử dụng hàm pad_sequence() cho padding\n",
        "- X sẽ là một đại diện bằng số cho các từ. (sử dụng word2idx)\n",
        "- ‘Post’ chỉ là một giá trị của đối số đệm ở cuối câu.\n",
        "- X,y là vector"
      ]
    },
    {
      "cell_type": "code",
      "metadata": {
        "id": "MdhMd7c8Evrg"
      },
      "source": [
        "#ánh xạ từ trong câu và nhãn về index của nó\n",
        "from tensorflow.keras.preprocessing.sequence import pad_sequences\n",
        "#đặt max length cho phù hợp\n",
        "max_len = 50\n",
        "\n",
        "X = [[word2idx[w[0]] for w in s] for s in sentences]\n",
        "X = pad_sequences(maxlen=max_len, sequences=X, padding=\"post\", value=num_words-1)\n",
        "\n",
        "#tương tự với nhãn\n",
        "y = [[tag2idx[w[2]] for w in s] for s in sentences]\n",
        "y = pad_sequences(maxlen=max_len, sequences=y, padding=\"post\", value=tag2idx[\"O\"])"
      ],
      "execution_count": 15,
      "outputs": []
    },
    {
      "cell_type": "code",
      "metadata": {
        "id": "cdIeqfSChr3z",
        "colab": {
          "base_uri": "https://localhost:8080/"
        },
        "outputId": "3a31c4d3-c6c0-4040-c1c6-243d4b1709ad"
      },
      "source": [
        "print(X[0])\n",
        "print(y[0])"
      ],
      "execution_count": 16,
      "outputs": [
        {
          "output_type": "stream",
          "name": "stdout",
          "text": [
            "[14619 25446 27420 15473  5961  7192 10005 23311 16575 14351 34415  8480\n",
            " 24480  9448 31498 14351 32264 25446  3022  9664  4031  1282  2939 31233\n",
            " 35178 35178 35178 35178 35178 35178 35178 35178 35178 35178 35178 35178\n",
            " 35178 35178 35178 35178 35178 35178 35178 35178 35178 35178 35178 35178\n",
            " 35178 35178]\n",
            "[10 10 10 10 10 10  5 10 10 10 10 10  5 10 10 10 10 10 16 10 10 10 10 10\n",
            " 10 10 10 10 10 10 10 10 10 10 10 10 10 10 10 10 10 10 10 10 10 10 10 10\n",
            " 10 10]\n"
          ]
        }
      ]
    },
    {
      "cell_type": "markdown",
      "metadata": {
        "id": "SricyH2-jpe7"
      },
      "source": [
        "- test_size = 0.2 có nghĩa là 80% dữ liệu chia cho tập huấn luyện và 20% còn lại cho tập kiểm tra."
      ]
    },
    {
      "cell_type": "code",
      "metadata": {
        "id": "pTZXbacIEvth"
      },
      "source": [
        "from sklearn.model_selection import train_test_split \n",
        "\n",
        "x_train, x_test, y_train, y_test = train_test_split(X, y, test_size = 0.2, random_state=1)"
      ],
      "execution_count": 17,
      "outputs": []
    },
    {
      "cell_type": "markdown",
      "metadata": {
        "id": "4BX80iq9kHhf"
      },
      "source": [
        "# Bước 6: Xây dựng Mô hình LSTM hai chiều (bi-LSTM)\n"
      ]
    },
    {
      "cell_type": "code",
      "metadata": {
        "id": "XfT0mUF3F20e"
      },
      "source": [
        "from tensorflow.keras.models import Sequential\n",
        "from tensorflow.keras import Model, Input\n",
        "from tensorflow.keras.layers import LSTM, Embedding, Dense\n",
        "from tensorflow.keras.layers import TimeDistributed, SpatialDropout1D, Bidirectional"
      ],
      "execution_count": 18,
      "outputs": []
    },
    {
      "cell_type": "markdown",
      "metadata": {
        "id": "woxrXbQKlTdR"
      },
      "source": [
        "Bản tóm tắt cho thấy rằng chúng ta có hơn 1,8 triệu tham số cần được huấn luyện."
      ]
    },
    {
      "cell_type": "code",
      "metadata": {
        "id": "Lr4UtVstEvuz",
        "colab": {
          "base_uri": "https://localhost:8080/"
        },
        "outputId": "bc0f1f70-e7be-441c-8f4c-2ca2b47cc4e1"
      },
      "source": [
        "model = Sequential() #Yêu cầu khỏi tạo mạng LSTM 1 chiều\n",
        "\n",
        "#Input\n",
        "input_word = Input(shape=(max_len,))\n",
        "#Embedding\n",
        "model = Embedding(input_dim = num_words, output_dim = 50, input_length = max_len)(input_word)\n",
        "#SpatialDropout1D\n",
        "model = SpatialDropout1D(0.1)(model)\n",
        "#LSTM\n",
        "model = Bidirectional(LSTM(units = 100, return_sequences = True, recurrent_dropout = 0.1))(model)\n",
        "#TimeDistributed\n",
        "out = TimeDistributed(Dense(num_tags, activation = \"softmax\"))(model)\n",
        "\n",
        "model = Model(input_word, out)\n",
        "model.summary()\n",
        "\n"
      ],
      "execution_count": 31,
      "outputs": [
        {
          "output_type": "stream",
          "name": "stderr",
          "text": [
            "WARNING:tensorflow:Layer lstm_1 will not use cuDNN kernels since it doesn't meet the criteria. It will use a generic GPU kernel as fallback when running on GPU.\n",
            "WARNING:tensorflow:Layer lstm_1 will not use cuDNN kernels since it doesn't meet the criteria. It will use a generic GPU kernel as fallback when running on GPU.\n",
            "WARNING:tensorflow:Layer lstm_1 will not use cuDNN kernels since it doesn't meet the criteria. It will use a generic GPU kernel as fallback when running on GPU.\n"
          ]
        },
        {
          "output_type": "stream",
          "name": "stdout",
          "text": [
            "Model: \"model_1\"\n",
            "_________________________________________________________________\n",
            " Layer (type)                Output Shape              Param #   \n",
            "=================================================================\n",
            " input_2 (InputLayer)        [(None, 50)]              0         \n",
            "                                                                 \n",
            " embedding_1 (Embedding)     (None, 50, 50)            1758950   \n",
            "                                                                 \n",
            " spatial_dropout1d_1 (Spatia  (None, 50, 50)           0         \n",
            " lDropout1D)                                                     \n",
            "                                                                 \n",
            " bidirectional_1 (Bidirectio  (None, 50, 200)          120800    \n",
            " nal)                                                            \n",
            "                                                                 \n",
            " time_distributed_1 (TimeDis  (None, 50, 17)           3417      \n",
            " tributed)                                                       \n",
            "                                                                 \n",
            "=================================================================\n",
            "Total params: 1,883,167\n",
            "Trainable params: 1,883,167\n",
            "Non-trainable params: 0\n",
            "_________________________________________________________________\n"
          ]
        }
      ]
    },
    {
      "cell_type": "markdown",
      "metadata": {
        "id": "3Fw5QXjJlyAy"
      },
      "source": [
        "- Sử dụng trình tối ưu hoá \"adam\"\n",
        "- sparce_categorical_crossentropy làm hàm mất mát\n",
        "- Ma trận mà chúng ta sẽ quan tâm là ma trận độ chính xác."
      ]
    },
    {
      "cell_type": "code",
      "metadata": {
        "id": "I5qKoUzREvwr"
      },
      "source": [
        "model.compile(optimizer=\"adam\",\n",
        "              loss=\"sparse_categorical_crossentropy\",\n",
        "              metrics=[\"accuracy\"])"
      ],
      "execution_count": 20,
      "outputs": []
    },
    {
      "cell_type": "markdown",
      "metadata": {
        "id": "Dc_jElQlmtEP"
      },
      "source": [
        "#Bước7: Huấn luyện Model"
      ]
    },
    {
      "cell_type": "markdown",
      "metadata": {
        "id": "xmPTE4emnSJ8"
      },
      "source": [
        "- Để bắt đầu huấn luyện là gọi model.fit ()\n",
        "- Có thể tăng kích thước batch_size nếu bạn có GPU có kích thước bộ nhớ lớn.\n",
        "\n"
      ]
    },
    {
      "cell_type": "code",
      "metadata": {
        "id": "wNg5eaGsGLX7",
        "colab": {
          "base_uri": "https://localhost:8080/"
        },
        "outputId": "6e6628c4-3c43-4ff9-8159-255a77c923bd"
      },
      "source": [
        "# Các bạn nhớ là phải lưu mô hình khi train (có nhắc lại yêu cầu ở cuối) \n",
        "import time\n",
        "start_time = time.time()\n",
        "\n",
        "history = model.fit(\n",
        "    x=x_train,\n",
        "    y=y_train,\n",
        "    # validation_data=(x_valid,y_valid),\n",
        "    validation_split= 0.1,\n",
        "    batch_size= 32, \n",
        "    epochs=1,\n",
        "    verbose=1\n",
        ")\n",
        "print(\"[{}] Completed!\".format(time.time() - start_time))"
      ],
      "execution_count": 21,
      "outputs": [
        {
          "output_type": "stream",
          "name": "stdout",
          "text": [
            "1080/1080 [==============================] - 392s 356ms/step - loss: 0.1833 - accuracy: 0.9577 - val_loss: 0.0684 - val_accuracy: 0.9805\n",
            "[446.6734185218811] Completed!\n"
          ]
        }
      ]
    },
    {
      "cell_type": "markdown",
      "metadata": {
        "id": "S4VxiMpqoMF5"
      },
      "source": [
        "# Bước8: Đánh giá mô hình NER\n",
        "\n"
      ]
    },
    {
      "cell_type": "code",
      "metadata": {
        "id": "TWk9eXUKoHXg",
        "colab": {
          "base_uri": "https://localhost:8080/"
        },
        "outputId": "086ddaa9-e4aa-476c-c732-c3dcbfa1ebed"
      },
      "source": [
        "model.evaluate(x_test, y_test)"
      ],
      "execution_count": 22,
      "outputs": [
        {
          "output_type": "stream",
          "name": "stdout",
          "text": [
            "300/300 [==============================] - 9s 31ms/step - loss: 0.0669 - accuracy: 0.9811\n"
          ]
        },
        {
          "output_type": "execute_result",
          "data": {
            "text/plain": [
              "[0.06692422181367874, 0.981073796749115]"
            ]
          },
          "metadata": {},
          "execution_count": 22
        }
      ]
    },
    {
      "cell_type": "markdown",
      "metadata": {
        "id": "j--OVsRnocbZ"
      },
      "source": [
        "- Dự đoán"
      ]
    },
    {
      "cell_type": "code",
      "metadata": {
        "id": "rb9DEgbcGLbL",
        "colab": {
          "base_uri": "https://localhost:8080/"
        },
        "outputId": "a294cc68-f735-47ab-ba3e-2167da669ff1"
      },
      "source": [
        "# i = np.random.randint(0, x_test.shape[0]) #659\n",
        "print(x_test[1])\n",
        "i =10\n",
        "p = model.predict(np.array([x_test[i]]))\n",
        "\n",
        "p = np.argmax(p, axis=-1)\n",
        "y_true = y_test[i]\n",
        "print(\"{:15}{:5}\\t {}\\n\".format(\"Word\", \"True\", \"Pred\"))\n",
        "print(\"-\" *30)\n",
        "for w, true, pred in zip(x_test[i], y_true, p[0]):\n",
        "    print(\"{:15}{}\\t{}\".format(words[w-1], tags[true], tags[pred]))"
      ],
      "execution_count": 23,
      "outputs": [
        {
          "output_type": "stream",
          "name": "stdout",
          "text": [
            "[13423  7581 16113 12119 31991 14746 25446  6670  9448 28753 31233 35178\n",
            " 35178 35178 35178 35178 35178 35178 35178 35178 35178 35178 35178 35178\n",
            " 35178 35178 35178 35178 35178 35178 35178 35178 35178 35178 35178 35178\n",
            " 35178 35178 35178 35178 35178 35178 35178 35178 35178 35178 35178 35178\n",
            " 35178 35178]\n",
            "1/1 [==============================] - 0s 453ms/step\n",
            "Word           True \t Pred\n",
            "\n",
            "------------------------------\n",
            "Oakland        O\tO\n",
            "bereavement    O\tO\n",
            "Aleim          O\tO\n",
            "Glory          O\tO\n",
            "alleging       O\tO\n",
            "bereavement    O\tO\n",
            "symbolizing    O\tO\n",
            "Petro          O\tO\n",
            "alienate       O\tO\n",
            "Suhaila        O\tO\n",
            "SP             O\tO\n",
            "bereavement    O\tO\n",
            "Bunia          O\tO\n",
            "workings       O\tO\n",
            "activities     O\tO\n",
            "magazines      O\tO\n",
            "inner          O\tO\n",
            "bereavement    O\tO\n",
            "Low            O\tO\n",
            "deceitful      O\tO\n",
            "235            O\tO\n",
            "alleging       O\tO\n",
            "Jilani         O\tO\n",
            "alleging       O\tO\n",
            "Haqooq-i-Zan   O\tO\n",
            "formed         O\tO\n",
            "Donetsk        O\tO\n",
            "patrolled      O\tO\n",
            "Male           O\tO\n",
            "Male           O\tO\n",
            "Male           O\tO\n",
            "Male           O\tO\n",
            "Male           O\tO\n",
            "Male           O\tO\n",
            "Male           O\tO\n",
            "Male           O\tO\n",
            "Male           O\tO\n",
            "Male           O\tO\n",
            "Male           O\tO\n",
            "Male           O\tO\n",
            "Male           O\tO\n",
            "Male           O\tO\n",
            "Male           O\tO\n",
            "Male           O\tO\n",
            "Male           O\tO\n",
            "Male           O\tO\n",
            "Male           O\tO\n",
            "Male           O\tO\n",
            "Male           O\tO\n",
            "Male           O\tO\n"
          ]
        }
      ]
    },
    {
      "cell_type": "markdown",
      "metadata": {
        "id": "TYE4_FZFv2MY"
      },
      "source": []
    },
    {
      "cell_type": "code",
      "metadata": {
        "id": "kvdu_aUtR3YQ"
      },
      "source": [
        "# hoàn thành yêu cầu trong file thực hành tương ứng cho câu 1 và 2."
      ],
      "execution_count": 24,
      "outputs": []
    },
    {
      "cell_type": "code",
      "source": [
        "from sklearn.metrics import  f1_score"
      ],
      "metadata": {
        "id": "V0rp0ZsyWb8G"
      },
      "execution_count": 25,
      "outputs": []
    },
    {
      "cell_type": "code",
      "source": [
        "predict = np.argmax(model.predict(x_test), axis=-1)"
      ],
      "metadata": {
        "colab": {
          "base_uri": "https://localhost:8080/"
        },
        "id": "4DpZStwTWl-I",
        "outputId": "7d335e3c-6f62-4885-c197-d122508e8899"
      },
      "execution_count": 26,
      "outputs": [
        {
          "output_type": "stream",
          "name": "stdout",
          "text": [
            "300/300 [==============================] - 12s 40ms/step\n"
          ]
        }
      ]
    },
    {
      "cell_type": "code",
      "source": [
        "# Đánh giá theo độ đo f1 score: micro \n",
        "f1_score(y_test.ravel(), predict.ravel(), average = 'micro')"
      ],
      "metadata": {
        "colab": {
          "base_uri": "https://localhost:8080/"
        },
        "id": "qtftJXvoWd9d",
        "outputId": "a61f7952-101a-44e3-da90-b8b9f9ce7030"
      },
      "execution_count": 27,
      "outputs": [
        {
          "output_type": "execute_result",
          "data": {
            "text/plain": [
              "0.9810738115095913"
            ]
          },
          "metadata": {},
          "execution_count": 27
        }
      ]
    },
    {
      "cell_type": "code",
      "source": [
        "# Đánh giá theo độ đo f1 score: macro \n",
        "f1_score(y_test.ravel(), predict.ravel(), average = 'macro')"
      ],
      "metadata": {
        "colab": {
          "base_uri": "https://localhost:8080/"
        },
        "id": "8QlmKKLFWsYw",
        "outputId": "b83db5dd-ea7d-489c-a748-c81bc97dc1c3"
      },
      "execution_count": 28,
      "outputs": [
        {
          "output_type": "execute_result",
          "data": {
            "text/plain": [
              "0.46266416298164675"
            ]
          },
          "metadata": {},
          "execution_count": 28
        }
      ]
    },
    {
      "cell_type": "code",
      "source": [
        "# Xuất ra kết quả của F1-score và Accuracy cho từng nhãn thực thể. \n",
        "from sklearn.metrics import classification_report\n",
        "\n",
        "a = {i: t for i, t in enumerate(tags)}\n",
        "print(classification_report(y_test.ravel(), \n",
        "                            predict.ravel(),\n",
        "                            labels=list(a.keys()), \n",
        "                            target_names=list(a.values())))"
      ],
      "metadata": {
        "colab": {
          "base_uri": "https://localhost:8080/"
        },
        "id": "VCQuYAgdW6YE",
        "outputId": "977e363d-2846-4aae-fe90-e7f1fe6a7918"
      },
      "execution_count": 29,
      "outputs": [
        {
          "output_type": "stream",
          "name": "stderr",
          "text": [
            "/usr/local/lib/python3.7/dist-packages/sklearn/metrics/_classification.py:1318: UndefinedMetricWarning: Precision and F-score are ill-defined and being set to 0.0 in labels with no predicted samples. Use `zero_division` parameter to control this behavior.\n",
            "  _warn_prf(average, modifier, msg_start, len(result))\n"
          ]
        },
        {
          "output_type": "stream",
          "name": "stdout",
          "text": [
            "              precision    recall  f1-score   support\n",
            "\n",
            "       B-org       0.72      0.58      0.64      4019\n",
            "       I-tim       0.81      0.53      0.64      1248\n",
            "       I-gpe       0.00      0.00      0.00        38\n",
            "       I-nat       0.00      0.00      0.00         9\n",
            "       I-per       0.78      0.86      0.82      3443\n",
            "       B-geo       0.82      0.85      0.83      7471\n",
            "       I-geo       0.79      0.66      0.72      1466\n",
            "       B-tim       0.89      0.81      0.85      4159\n",
            "       B-nat       0.00      0.00      0.00        41\n",
            "       I-eve       0.00      0.00      0.00        51\n",
            "           O       0.99      1.00      0.99    447502\n",
            "       I-art       0.00      0.00      0.00        66\n",
            "       B-per       0.81      0.73      0.77      3406\n",
            "       I-org       0.68      0.67      0.67      3374\n",
            "       B-art       0.00      0.00      0.00        80\n",
            "       B-eve       0.00      0.00      0.00        56\n",
            "       B-gpe       0.94      0.91      0.92      3171\n",
            "\n",
            "    accuracy                           0.98    479600\n",
            "   macro avg       0.48      0.45      0.46    479600\n",
            "weighted avg       0.98      0.98      0.98    479600\n",
            "\n"
          ]
        },
        {
          "output_type": "stream",
          "name": "stderr",
          "text": [
            "/usr/local/lib/python3.7/dist-packages/sklearn/metrics/_classification.py:1318: UndefinedMetricWarning: Precision and F-score are ill-defined and being set to 0.0 in labels with no predicted samples. Use `zero_division` parameter to control this behavior.\n",
            "  _warn_prf(average, modifier, msg_start, len(result))\n",
            "/usr/local/lib/python3.7/dist-packages/sklearn/metrics/_classification.py:1318: UndefinedMetricWarning: Precision and F-score are ill-defined and being set to 0.0 in labels with no predicted samples. Use `zero_division` parameter to control this behavior.\n",
            "  _warn_prf(average, modifier, msg_start, len(result))\n"
          ]
        }
      ]
    },
    {
      "cell_type": "markdown",
      "source": [
        "# Bước 9: lưu model\n",
        "\n",
        "Các bạn lưu lại model đã lưu và bộ trong số model"
      ],
      "metadata": {
        "id": "-usGGIQuA7qz"
      }
    },
    {
      "cell_type": "code",
      "source": [
        "model.save('model_LSTM_bt1.h5')"
      ],
      "metadata": {
        "id": "Npczgw7-XNc4"
      },
      "execution_count": 30,
      "outputs": []
    },
    {
      "cell_type": "code",
      "source": [],
      "metadata": {
        "id": "fKls_kb_hplN"
      },
      "execution_count": null,
      "outputs": []
    }
  ]
}