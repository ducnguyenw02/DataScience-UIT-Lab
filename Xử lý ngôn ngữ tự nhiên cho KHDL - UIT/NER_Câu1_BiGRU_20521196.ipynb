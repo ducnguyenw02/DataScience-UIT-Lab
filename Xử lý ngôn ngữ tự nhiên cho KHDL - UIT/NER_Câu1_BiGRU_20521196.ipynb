{
  "nbformat": 4,
  "nbformat_minor": 0,
  "metadata": {
    "colab": {
      "provenance": [],
      "collapsed_sections": []
    },
    "kernelspec": {
      "name": "python3",
      "display_name": "Python 3"
    },
    "language_info": {
      "name": "python"
    },
    "accelerator": "GPU"
  },
  "cells": [
    {
      "cell_type": "code",
      "metadata": {
        "id": "IeWsfNqikGh8",
        "colab": {
          "base_uri": "https://localhost:8080/"
        },
        "outputId": "9930c224-3034-4a54-b32e-82797f094c63"
      },
      "source": [
        "from google.colab import drive\n",
        "drive.mount('/content/drive')"
      ],
      "execution_count": 1,
      "outputs": [
        {
          "output_type": "stream",
          "name": "stdout",
          "text": [
            "Mounted at /content/drive\n"
          ]
        }
      ]
    },
    {
      "cell_type": "markdown",
      "metadata": {
        "id": "yTWomfEpX6dS"
      },
      "source": [
        "# Bước 1: Import Modules"
      ]
    },
    {
      "cell_type": "code",
      "metadata": {
        "id": "ok2BrtLZAItY"
      },
      "source": [
        "import matplotlib.pyplot as plt\n",
        "import pandas as pd\n",
        "import numpy as np\n",
        "import tensorflow as tf"
      ],
      "execution_count": 2,
      "outputs": []
    },
    {
      "cell_type": "markdown",
      "metadata": {
        "id": "i_4kHUK_YS4q"
      },
      "source": [
        "# Bước 2: Load bộ dữ liệu NER\n",
        "\n",
        "Sau khi đọc tập dữ liệu, chúng ta quan sát thử 50 dòng đầu tiên như thế nào.\n"
      ]
    },
    {
      "cell_type": "code",
      "metadata": {
        "id": "kLDDAkTrC_-x",
        "colab": {
          "base_uri": "https://localhost:8080/",
          "height": 1000
        },
        "outputId": "b478f13d-9aa2-44d2-b9e4-fd33880ad37c"
      },
      "source": [
        "data = pd.read_csv('/content/drive/MyDrive/Data Scientist/Data/ner_dataset.csv', encoding=\"latin1\")\n",
        "data = data.fillna(method=\"ffill\")\n",
        "data.tail(50)\n"
      ],
      "execution_count": 3,
      "outputs": [
        {
          "output_type": "execute_result",
          "data": {
            "text/plain": [
              "              Sentence #       Word  POS    Tag\n",
              "1048525  Sentence: 47956        one   NN      O\n",
              "1048526  Sentence: 47956        was  VBD      O\n",
              "1048527  Sentence: 47956    injured  VBN      O\n",
              "1048528  Sentence: 47956         in   IN      O\n",
              "1048529  Sentence: 47956   Saturday  NNP  B-tim\n",
              "1048530  Sentence: 47956         's  POS      O\n",
              "1048531  Sentence: 47956   incident   NN      O\n",
              "1048532  Sentence: 47956        but   CC      O\n",
              "1048533  Sentence: 47956       that   IN      O\n",
              "1048534  Sentence: 47956        two   CD      O\n",
              "1048535  Sentence: 47956         of   IN      O\n",
              "1048536  Sentence: 47956        the   DT      O\n",
              "1048537  Sentence: 47956    rockets  NNS      O\n",
              "1048538  Sentence: 47956     landed  VBD      O\n",
              "1048539  Sentence: 47956       near   IN      O\n",
              "1048540  Sentence: 47956          a   DT      O\n",
              "1048541  Sentence: 47956     border   NN      O\n",
              "1048542  Sentence: 47956   security   NN      O\n",
              "1048543  Sentence: 47956    outpost   NN      O\n",
              "1048544  Sentence: 47956          .    .      O\n",
              "1048545  Sentence: 47957        Two   CD      O\n",
              "1048546  Sentence: 47957       more  JJR      O\n",
              "1048547  Sentence: 47957     landed  VBD      O\n",
              "1048548  Sentence: 47957         in   IN      O\n",
              "1048549  Sentence: 47957     fields  NNS      O\n",
              "1048550  Sentence: 47957  belonging  VBG      O\n",
              "1048551  Sentence: 47957         to   TO      O\n",
              "1048552  Sentence: 47957          a   DT      O\n",
              "1048553  Sentence: 47957     nearby   JJ      O\n",
              "1048554  Sentence: 47957    village   NN      O\n",
              "1048555  Sentence: 47957          .    .      O\n",
              "1048556  Sentence: 47958       They  PRP      O\n",
              "1048557  Sentence: 47958        say  VBP      O\n",
              "1048558  Sentence: 47958        not   RB      O\n",
              "1048559  Sentence: 47958        all   DT      O\n",
              "1048560  Sentence: 47958         of   IN      O\n",
              "1048561  Sentence: 47958        the   DT      O\n",
              "1048562  Sentence: 47958    rockets  NNS      O\n",
              "1048563  Sentence: 47958   exploded  VBD      O\n",
              "1048564  Sentence: 47958       upon   IN      O\n",
              "1048565  Sentence: 47958     impact   NN      O\n",
              "1048566  Sentence: 47958          .    .      O\n",
              "1048567  Sentence: 47959     Indian   JJ  B-gpe\n",
              "1048568  Sentence: 47959     forces  NNS      O\n",
              "1048569  Sentence: 47959       said  VBD      O\n",
              "1048570  Sentence: 47959       they  PRP      O\n",
              "1048571  Sentence: 47959  responded  VBD      O\n",
              "1048572  Sentence: 47959         to   TO      O\n",
              "1048573  Sentence: 47959        the   DT      O\n",
              "1048574  Sentence: 47959     attack   NN      O"
            ],
            "text/html": [
              "\n",
              "  <div id=\"df-1cffea8e-29e1-4622-976e-fa1ba849aec2\">\n",
              "    <div class=\"colab-df-container\">\n",
              "      <div>\n",
              "<style scoped>\n",
              "    .dataframe tbody tr th:only-of-type {\n",
              "        vertical-align: middle;\n",
              "    }\n",
              "\n",
              "    .dataframe tbody tr th {\n",
              "        vertical-align: top;\n",
              "    }\n",
              "\n",
              "    .dataframe thead th {\n",
              "        text-align: right;\n",
              "    }\n",
              "</style>\n",
              "<table border=\"1\" class=\"dataframe\">\n",
              "  <thead>\n",
              "    <tr style=\"text-align: right;\">\n",
              "      <th></th>\n",
              "      <th>Sentence #</th>\n",
              "      <th>Word</th>\n",
              "      <th>POS</th>\n",
              "      <th>Tag</th>\n",
              "    </tr>\n",
              "  </thead>\n",
              "  <tbody>\n",
              "    <tr>\n",
              "      <th>1048525</th>\n",
              "      <td>Sentence: 47956</td>\n",
              "      <td>one</td>\n",
              "      <td>NN</td>\n",
              "      <td>O</td>\n",
              "    </tr>\n",
              "    <tr>\n",
              "      <th>1048526</th>\n",
              "      <td>Sentence: 47956</td>\n",
              "      <td>was</td>\n",
              "      <td>VBD</td>\n",
              "      <td>O</td>\n",
              "    </tr>\n",
              "    <tr>\n",
              "      <th>1048527</th>\n",
              "      <td>Sentence: 47956</td>\n",
              "      <td>injured</td>\n",
              "      <td>VBN</td>\n",
              "      <td>O</td>\n",
              "    </tr>\n",
              "    <tr>\n",
              "      <th>1048528</th>\n",
              "      <td>Sentence: 47956</td>\n",
              "      <td>in</td>\n",
              "      <td>IN</td>\n",
              "      <td>O</td>\n",
              "    </tr>\n",
              "    <tr>\n",
              "      <th>1048529</th>\n",
              "      <td>Sentence: 47956</td>\n",
              "      <td>Saturday</td>\n",
              "      <td>NNP</td>\n",
              "      <td>B-tim</td>\n",
              "    </tr>\n",
              "    <tr>\n",
              "      <th>1048530</th>\n",
              "      <td>Sentence: 47956</td>\n",
              "      <td>'s</td>\n",
              "      <td>POS</td>\n",
              "      <td>O</td>\n",
              "    </tr>\n",
              "    <tr>\n",
              "      <th>1048531</th>\n",
              "      <td>Sentence: 47956</td>\n",
              "      <td>incident</td>\n",
              "      <td>NN</td>\n",
              "      <td>O</td>\n",
              "    </tr>\n",
              "    <tr>\n",
              "      <th>1048532</th>\n",
              "      <td>Sentence: 47956</td>\n",
              "      <td>but</td>\n",
              "      <td>CC</td>\n",
              "      <td>O</td>\n",
              "    </tr>\n",
              "    <tr>\n",
              "      <th>1048533</th>\n",
              "      <td>Sentence: 47956</td>\n",
              "      <td>that</td>\n",
              "      <td>IN</td>\n",
              "      <td>O</td>\n",
              "    </tr>\n",
              "    <tr>\n",
              "      <th>1048534</th>\n",
              "      <td>Sentence: 47956</td>\n",
              "      <td>two</td>\n",
              "      <td>CD</td>\n",
              "      <td>O</td>\n",
              "    </tr>\n",
              "    <tr>\n",
              "      <th>1048535</th>\n",
              "      <td>Sentence: 47956</td>\n",
              "      <td>of</td>\n",
              "      <td>IN</td>\n",
              "      <td>O</td>\n",
              "    </tr>\n",
              "    <tr>\n",
              "      <th>1048536</th>\n",
              "      <td>Sentence: 47956</td>\n",
              "      <td>the</td>\n",
              "      <td>DT</td>\n",
              "      <td>O</td>\n",
              "    </tr>\n",
              "    <tr>\n",
              "      <th>1048537</th>\n",
              "      <td>Sentence: 47956</td>\n",
              "      <td>rockets</td>\n",
              "      <td>NNS</td>\n",
              "      <td>O</td>\n",
              "    </tr>\n",
              "    <tr>\n",
              "      <th>1048538</th>\n",
              "      <td>Sentence: 47956</td>\n",
              "      <td>landed</td>\n",
              "      <td>VBD</td>\n",
              "      <td>O</td>\n",
              "    </tr>\n",
              "    <tr>\n",
              "      <th>1048539</th>\n",
              "      <td>Sentence: 47956</td>\n",
              "      <td>near</td>\n",
              "      <td>IN</td>\n",
              "      <td>O</td>\n",
              "    </tr>\n",
              "    <tr>\n",
              "      <th>1048540</th>\n",
              "      <td>Sentence: 47956</td>\n",
              "      <td>a</td>\n",
              "      <td>DT</td>\n",
              "      <td>O</td>\n",
              "    </tr>\n",
              "    <tr>\n",
              "      <th>1048541</th>\n",
              "      <td>Sentence: 47956</td>\n",
              "      <td>border</td>\n",
              "      <td>NN</td>\n",
              "      <td>O</td>\n",
              "    </tr>\n",
              "    <tr>\n",
              "      <th>1048542</th>\n",
              "      <td>Sentence: 47956</td>\n",
              "      <td>security</td>\n",
              "      <td>NN</td>\n",
              "      <td>O</td>\n",
              "    </tr>\n",
              "    <tr>\n",
              "      <th>1048543</th>\n",
              "      <td>Sentence: 47956</td>\n",
              "      <td>outpost</td>\n",
              "      <td>NN</td>\n",
              "      <td>O</td>\n",
              "    </tr>\n",
              "    <tr>\n",
              "      <th>1048544</th>\n",
              "      <td>Sentence: 47956</td>\n",
              "      <td>.</td>\n",
              "      <td>.</td>\n",
              "      <td>O</td>\n",
              "    </tr>\n",
              "    <tr>\n",
              "      <th>1048545</th>\n",
              "      <td>Sentence: 47957</td>\n",
              "      <td>Two</td>\n",
              "      <td>CD</td>\n",
              "      <td>O</td>\n",
              "    </tr>\n",
              "    <tr>\n",
              "      <th>1048546</th>\n",
              "      <td>Sentence: 47957</td>\n",
              "      <td>more</td>\n",
              "      <td>JJR</td>\n",
              "      <td>O</td>\n",
              "    </tr>\n",
              "    <tr>\n",
              "      <th>1048547</th>\n",
              "      <td>Sentence: 47957</td>\n",
              "      <td>landed</td>\n",
              "      <td>VBD</td>\n",
              "      <td>O</td>\n",
              "    </tr>\n",
              "    <tr>\n",
              "      <th>1048548</th>\n",
              "      <td>Sentence: 47957</td>\n",
              "      <td>in</td>\n",
              "      <td>IN</td>\n",
              "      <td>O</td>\n",
              "    </tr>\n",
              "    <tr>\n",
              "      <th>1048549</th>\n",
              "      <td>Sentence: 47957</td>\n",
              "      <td>fields</td>\n",
              "      <td>NNS</td>\n",
              "      <td>O</td>\n",
              "    </tr>\n",
              "    <tr>\n",
              "      <th>1048550</th>\n",
              "      <td>Sentence: 47957</td>\n",
              "      <td>belonging</td>\n",
              "      <td>VBG</td>\n",
              "      <td>O</td>\n",
              "    </tr>\n",
              "    <tr>\n",
              "      <th>1048551</th>\n",
              "      <td>Sentence: 47957</td>\n",
              "      <td>to</td>\n",
              "      <td>TO</td>\n",
              "      <td>O</td>\n",
              "    </tr>\n",
              "    <tr>\n",
              "      <th>1048552</th>\n",
              "      <td>Sentence: 47957</td>\n",
              "      <td>a</td>\n",
              "      <td>DT</td>\n",
              "      <td>O</td>\n",
              "    </tr>\n",
              "    <tr>\n",
              "      <th>1048553</th>\n",
              "      <td>Sentence: 47957</td>\n",
              "      <td>nearby</td>\n",
              "      <td>JJ</td>\n",
              "      <td>O</td>\n",
              "    </tr>\n",
              "    <tr>\n",
              "      <th>1048554</th>\n",
              "      <td>Sentence: 47957</td>\n",
              "      <td>village</td>\n",
              "      <td>NN</td>\n",
              "      <td>O</td>\n",
              "    </tr>\n",
              "    <tr>\n",
              "      <th>1048555</th>\n",
              "      <td>Sentence: 47957</td>\n",
              "      <td>.</td>\n",
              "      <td>.</td>\n",
              "      <td>O</td>\n",
              "    </tr>\n",
              "    <tr>\n",
              "      <th>1048556</th>\n",
              "      <td>Sentence: 47958</td>\n",
              "      <td>They</td>\n",
              "      <td>PRP</td>\n",
              "      <td>O</td>\n",
              "    </tr>\n",
              "    <tr>\n",
              "      <th>1048557</th>\n",
              "      <td>Sentence: 47958</td>\n",
              "      <td>say</td>\n",
              "      <td>VBP</td>\n",
              "      <td>O</td>\n",
              "    </tr>\n",
              "    <tr>\n",
              "      <th>1048558</th>\n",
              "      <td>Sentence: 47958</td>\n",
              "      <td>not</td>\n",
              "      <td>RB</td>\n",
              "      <td>O</td>\n",
              "    </tr>\n",
              "    <tr>\n",
              "      <th>1048559</th>\n",
              "      <td>Sentence: 47958</td>\n",
              "      <td>all</td>\n",
              "      <td>DT</td>\n",
              "      <td>O</td>\n",
              "    </tr>\n",
              "    <tr>\n",
              "      <th>1048560</th>\n",
              "      <td>Sentence: 47958</td>\n",
              "      <td>of</td>\n",
              "      <td>IN</td>\n",
              "      <td>O</td>\n",
              "    </tr>\n",
              "    <tr>\n",
              "      <th>1048561</th>\n",
              "      <td>Sentence: 47958</td>\n",
              "      <td>the</td>\n",
              "      <td>DT</td>\n",
              "      <td>O</td>\n",
              "    </tr>\n",
              "    <tr>\n",
              "      <th>1048562</th>\n",
              "      <td>Sentence: 47958</td>\n",
              "      <td>rockets</td>\n",
              "      <td>NNS</td>\n",
              "      <td>O</td>\n",
              "    </tr>\n",
              "    <tr>\n",
              "      <th>1048563</th>\n",
              "      <td>Sentence: 47958</td>\n",
              "      <td>exploded</td>\n",
              "      <td>VBD</td>\n",
              "      <td>O</td>\n",
              "    </tr>\n",
              "    <tr>\n",
              "      <th>1048564</th>\n",
              "      <td>Sentence: 47958</td>\n",
              "      <td>upon</td>\n",
              "      <td>IN</td>\n",
              "      <td>O</td>\n",
              "    </tr>\n",
              "    <tr>\n",
              "      <th>1048565</th>\n",
              "      <td>Sentence: 47958</td>\n",
              "      <td>impact</td>\n",
              "      <td>NN</td>\n",
              "      <td>O</td>\n",
              "    </tr>\n",
              "    <tr>\n",
              "      <th>1048566</th>\n",
              "      <td>Sentence: 47958</td>\n",
              "      <td>.</td>\n",
              "      <td>.</td>\n",
              "      <td>O</td>\n",
              "    </tr>\n",
              "    <tr>\n",
              "      <th>1048567</th>\n",
              "      <td>Sentence: 47959</td>\n",
              "      <td>Indian</td>\n",
              "      <td>JJ</td>\n",
              "      <td>B-gpe</td>\n",
              "    </tr>\n",
              "    <tr>\n",
              "      <th>1048568</th>\n",
              "      <td>Sentence: 47959</td>\n",
              "      <td>forces</td>\n",
              "      <td>NNS</td>\n",
              "      <td>O</td>\n",
              "    </tr>\n",
              "    <tr>\n",
              "      <th>1048569</th>\n",
              "      <td>Sentence: 47959</td>\n",
              "      <td>said</td>\n",
              "      <td>VBD</td>\n",
              "      <td>O</td>\n",
              "    </tr>\n",
              "    <tr>\n",
              "      <th>1048570</th>\n",
              "      <td>Sentence: 47959</td>\n",
              "      <td>they</td>\n",
              "      <td>PRP</td>\n",
              "      <td>O</td>\n",
              "    </tr>\n",
              "    <tr>\n",
              "      <th>1048571</th>\n",
              "      <td>Sentence: 47959</td>\n",
              "      <td>responded</td>\n",
              "      <td>VBD</td>\n",
              "      <td>O</td>\n",
              "    </tr>\n",
              "    <tr>\n",
              "      <th>1048572</th>\n",
              "      <td>Sentence: 47959</td>\n",
              "      <td>to</td>\n",
              "      <td>TO</td>\n",
              "      <td>O</td>\n",
              "    </tr>\n",
              "    <tr>\n",
              "      <th>1048573</th>\n",
              "      <td>Sentence: 47959</td>\n",
              "      <td>the</td>\n",
              "      <td>DT</td>\n",
              "      <td>O</td>\n",
              "    </tr>\n",
              "    <tr>\n",
              "      <th>1048574</th>\n",
              "      <td>Sentence: 47959</td>\n",
              "      <td>attack</td>\n",
              "      <td>NN</td>\n",
              "      <td>O</td>\n",
              "    </tr>\n",
              "  </tbody>\n",
              "</table>\n",
              "</div>\n",
              "      <button class=\"colab-df-convert\" onclick=\"convertToInteractive('df-1cffea8e-29e1-4622-976e-fa1ba849aec2')\"\n",
              "              title=\"Convert this dataframe to an interactive table.\"\n",
              "              style=\"display:none;\">\n",
              "        \n",
              "  <svg xmlns=\"http://www.w3.org/2000/svg\" height=\"24px\"viewBox=\"0 0 24 24\"\n",
              "       width=\"24px\">\n",
              "    <path d=\"M0 0h24v24H0V0z\" fill=\"none\"/>\n",
              "    <path d=\"M18.56 5.44l.94 2.06.94-2.06 2.06-.94-2.06-.94-.94-2.06-.94 2.06-2.06.94zm-11 1L8.5 8.5l.94-2.06 2.06-.94-2.06-.94L8.5 2.5l-.94 2.06-2.06.94zm10 10l.94 2.06.94-2.06 2.06-.94-2.06-.94-.94-2.06-.94 2.06-2.06.94z\"/><path d=\"M17.41 7.96l-1.37-1.37c-.4-.4-.92-.59-1.43-.59-.52 0-1.04.2-1.43.59L10.3 9.45l-7.72 7.72c-.78.78-.78 2.05 0 2.83L4 21.41c.39.39.9.59 1.41.59.51 0 1.02-.2 1.41-.59l7.78-7.78 2.81-2.81c.8-.78.8-2.07 0-2.86zM5.41 20L4 18.59l7.72-7.72 1.47 1.35L5.41 20z\"/>\n",
              "  </svg>\n",
              "      </button>\n",
              "      \n",
              "  <style>\n",
              "    .colab-df-container {\n",
              "      display:flex;\n",
              "      flex-wrap:wrap;\n",
              "      gap: 12px;\n",
              "    }\n",
              "\n",
              "    .colab-df-convert {\n",
              "      background-color: #E8F0FE;\n",
              "      border: none;\n",
              "      border-radius: 50%;\n",
              "      cursor: pointer;\n",
              "      display: none;\n",
              "      fill: #1967D2;\n",
              "      height: 32px;\n",
              "      padding: 0 0 0 0;\n",
              "      width: 32px;\n",
              "    }\n",
              "\n",
              "    .colab-df-convert:hover {\n",
              "      background-color: #E2EBFA;\n",
              "      box-shadow: 0px 1px 2px rgba(60, 64, 67, 0.3), 0px 1px 3px 1px rgba(60, 64, 67, 0.15);\n",
              "      fill: #174EA6;\n",
              "    }\n",
              "\n",
              "    [theme=dark] .colab-df-convert {\n",
              "      background-color: #3B4455;\n",
              "      fill: #D2E3FC;\n",
              "    }\n",
              "\n",
              "    [theme=dark] .colab-df-convert:hover {\n",
              "      background-color: #434B5C;\n",
              "      box-shadow: 0px 1px 3px 1px rgba(0, 0, 0, 0.15);\n",
              "      filter: drop-shadow(0px 1px 2px rgba(0, 0, 0, 0.3));\n",
              "      fill: #FFFFFF;\n",
              "    }\n",
              "  </style>\n",
              "\n",
              "      <script>\n",
              "        const buttonEl =\n",
              "          document.querySelector('#df-1cffea8e-29e1-4622-976e-fa1ba849aec2 button.colab-df-convert');\n",
              "        buttonEl.style.display =\n",
              "          google.colab.kernel.accessAllowed ? 'block' : 'none';\n",
              "\n",
              "        async function convertToInteractive(key) {\n",
              "          const element = document.querySelector('#df-1cffea8e-29e1-4622-976e-fa1ba849aec2');\n",
              "          const dataTable =\n",
              "            await google.colab.kernel.invokeFunction('convertToInteractive',\n",
              "                                                     [key], {});\n",
              "          if (!dataTable) return;\n",
              "\n",
              "          const docLinkHtml = 'Like what you see? Visit the ' +\n",
              "            '<a target=\"_blank\" href=https://colab.research.google.com/notebooks/data_table.ipynb>data table notebook</a>'\n",
              "            + ' to learn more about interactive tables.';\n",
              "          element.innerHTML = '';\n",
              "          dataTable['output_type'] = 'display_data';\n",
              "          await google.colab.output.renderOutput(dataTable, element);\n",
              "          const docLink = document.createElement('div');\n",
              "          docLink.innerHTML = docLinkHtml;\n",
              "          element.appendChild(docLink);\n",
              "        }\n",
              "      </script>\n",
              "    </div>\n",
              "  </div>\n",
              "  "
            ]
          },
          "metadata": {},
          "execution_count": 3
        }
      ]
    },
    {
      "cell_type": "markdown",
      "metadata": {
        "id": "Hvc2uwATZm8f"
      },
      "source": [
        "#Visualizing \n",
        "Thông kê bộ dữ liệu:\n",
        "- Số lượng từ duy nhất trong kho ngữ liệu. (Tập từ vựng, số chiều)\n",
        "- Số lượng thẻ duy nhất trong tập dữ liệu. (Tập nhãn)\n",
        "\n",
        "\n",
        "Bằng cách sử dụng hàm **“nunique”.**"
      ]
    },
    {
      "cell_type": "code",
      "metadata": {
        "id": "foji0Z5-DACL",
        "colab": {
          "base_uri": "https://localhost:8080/"
        },
        "outputId": "399a978f-ca7e-455e-e1b2-3d189161b349"
      },
      "source": [
        "print(\"Unique words in corpus:\", data['Word'].nunique())\n",
        "print(\"Unique tags in corpus:\", data['Tag'].nunique())"
      ],
      "execution_count": 4,
      "outputs": [
        {
          "output_type": "stream",
          "name": "stdout",
          "text": [
            "Unique words in corpus: 35178\n",
            "Unique tags in corpus: 17\n"
          ]
        }
      ]
    },
    {
      "cell_type": "markdown",
      "metadata": {
        "id": "9Ih-dU2ibjC5"
      },
      "source": [
        "Tạo một danh sách và sử dụng phương thức set() để lấy các giá trị trong cột “word” và loại bỏ giá trị trùng.\\\n",
        "Thêm phần đệm có tên “Endpad”.\n"
      ]
    },
    {
      "cell_type": "code",
      "metadata": {
        "id": "9QdG8q_xD2MR"
      },
      "source": [
        "#tạo tập từ vựng\n",
        "words = list(set(data[\"Word\"].values))\n",
        "words.append(\"ENDPAD\")\n",
        "num_words = len(words)"
      ],
      "execution_count": 5,
      "outputs": []
    },
    {
      "cell_type": "code",
      "metadata": {
        "id": "STf-MXyND2Po"
      },
      "source": [
        "#tạo tập nhãn tương tự như trên\n",
        "tags = list(set(data[\"Tag\"].values))\n",
        "num_tags = len(tags)"
      ],
      "execution_count": 6,
      "outputs": []
    },
    {
      "cell_type": "markdown",
      "metadata": {
        "id": "YjkABYEfcm9S"
      },
      "source": [
        "# Bước 3: Lấy các câu và các thẻ tương ứng"
      ]
    },
    {
      "cell_type": "code",
      "metadata": {
        "id": "ZeMYGQ7LD2Yx"
      },
      "source": [
        "class SentenceGetter(object):\n",
        "    def __init__(self, data):\n",
        "        self.n_sent = 1\n",
        "        self.data = data\n",
        "        self.empty = False\n",
        "        agg_func = lambda s: [(w, p, t) for w, p, t in zip(s[\"Word\"].values.tolist(),\n",
        "                                                           s[\"POS\"].values.tolist(),\n",
        "                                                           s[\"Tag\"].values.tolist())]\n",
        "        self.grouped = self.data.groupby(\"Sentence #\").apply(agg_func)\n",
        "        self.sentences = [s for s in self.grouped]\n",
        "\n",
        "#Yêu cầu các bạn có thể viết theo cách khác, không dùng code sẵn"
      ],
      "execution_count": 7,
      "outputs": []
    },
    {
      "cell_type": "code",
      "source": [
        "def sentencegetter(data):\n",
        "  sentences = []\n",
        "  for i in range(47959):\n",
        "    sentences.append([])\n",
        "  for i in range(len(data)):\n",
        "    sentence = data[\"Sentence #\"][i].split(\" \")\n",
        "    index = int(sentence[1])-1\n",
        "    sentences[index].append((data[\"Word\"][i], data[\"POS\"][i], data[\"Tag\"][i]))\n",
        "  return sentences \n",
        "      "
      ],
      "metadata": {
        "id": "1JNZkSFhpsJ5"
      },
      "execution_count": 8,
      "outputs": []
    },
    {
      "cell_type": "code",
      "source": [
        "sentences = sentencegetter(data)"
      ],
      "metadata": {
        "id": "iOey_9J2t6v5"
      },
      "execution_count": 9,
      "outputs": []
    },
    {
      "cell_type": "code",
      "metadata": {
        "id": "Sru0NB5HEZ2i"
      },
      "source": [
        "# getter = SentenceGetter(data)\n",
        "# sentences = getter.sentences"
      ],
      "execution_count": 10,
      "outputs": []
    },
    {
      "cell_type": "markdown",
      "metadata": {
        "id": "XojZjemOdEOC"
      },
      "source": [
        "# Bước 4: Ánh xạ giữa các câu và chỉ mục\n",
        "Chúng ta có thể thấy rằng mỗi từ được gán cho một thẻ duy nhất. Chúng tôi có thể truy xuất những từ này bằng cách sử dụng các chỉ số của chúng và tra cứu chúng trong từ điển và trả về các khóa tương ứng.\n"
      ]
    },
    {
      "cell_type": "code",
      "metadata": {
        "id": "KzmuYP_CEZ-l"
      },
      "source": [
        "word2idx = {w: i   for i, w in enumerate(words)}\n",
        "tag2idx = {t: i for i, t in enumerate(tags)}"
      ],
      "execution_count": 11,
      "outputs": []
    },
    {
      "cell_type": "code",
      "metadata": {
        "id": "dQY8s4cKEvnw",
        "colab": {
          "base_uri": "https://localhost:8080/"
        },
        "outputId": "70648a64-c3dd-4633-c471-80ad17984cb7"
      },
      "source": [
        "# word2idx\n",
        "word2idx[\"ENDPAD\"]\n",
        "tag2idx "
      ],
      "execution_count": 12,
      "outputs": [
        {
          "output_type": "execute_result",
          "data": {
            "text/plain": [
              "{'I-org': 0,\n",
              " 'B-tim': 1,\n",
              " 'I-art': 2,\n",
              " 'I-nat': 3,\n",
              " 'O': 4,\n",
              " 'B-nat': 5,\n",
              " 'B-per': 6,\n",
              " 'I-gpe': 7,\n",
              " 'B-art': 8,\n",
              " 'B-gpe': 9,\n",
              " 'B-geo': 10,\n",
              " 'B-org': 11,\n",
              " 'I-tim': 12,\n",
              " 'B-eve': 13,\n",
              " 'I-eve': 14,\n",
              " 'I-geo': 15,\n",
              " 'I-per': 16}"
            ]
          },
          "metadata": {},
          "execution_count": 12
        }
      ]
    },
    {
      "cell_type": "markdown",
      "metadata": {
        "id": "M4jHHTiNeHQD"
      },
      "source": [
        "#Bước 5: Padding  đầu vào và cắt dữ liệu thành tập Train/Test\\\n",
        "Trong trục X, có thể thấy độ dài an toàn của câu là khoảng 50."
      ]
    },
    {
      "cell_type": "code",
      "metadata": {
        "id": "QsaS9yuIEvqA",
        "colab": {
          "base_uri": "https://localhost:8080/",
          "height": 279
        },
        "outputId": "220a5622-9026-4ebb-8280-2930f1bada1b"
      },
      "source": [
        "#vẽ biểu đồ thể hiện phân bố chiều dài của câu trong tập dữ liệu.\n",
        "plt.hist([len(s) for s in sentences], bins=50)\n",
        "plt.xlabel(\"length of sentence\")\n",
        "plt.ylabel(\"number of sentence\")\n",
        "plt.show()"
      ],
      "execution_count": 13,
      "outputs": [
        {
          "output_type": "display_data",
          "data": {
            "text/plain": [
              "<Figure size 432x288 with 1 Axes>"
            ],
            "image/png": "[encoded data removed]"
          },
          "metadata": {
            "needs_background": "light"
          }
        }
      ]
    },
    {
      "cell_type": "markdown",
      "metadata": {
        "id": "45olb3GgimLa"
      },
      "source": [
        "- Sử dụng hàm pad_sequence() cho padding\n",
        "- X sẽ là một đại diện bằng số cho các từ. (sử dụng word2idx)\n",
        "- ‘Post’ chỉ là một giá trị của đối số đệm ở cuối câu.\n",
        "- X,y là vector"
      ]
    },
    {
      "cell_type": "code",
      "metadata": {
        "id": "MdhMd7c8Evrg"
      },
      "source": [
        "#ánh xạ từ trong câu và nhãn về index của nó\n",
        "from tensorflow.keras.preprocessing.sequence import pad_sequences\n",
        "#đặt max length cho phù hợp\n",
        "max_len = 50\n",
        "\n",
        "X = [[word2idx[w[0]] for w in s] for s in sentences]\n",
        "X = pad_sequences(maxlen=max_len, sequences=X, padding=\"post\", value=num_words-1)\n",
        "\n",
        "#tương tự với nhãn\n",
        "y = [[tag2idx[w[2]] for w in s] for s in sentences]\n",
        "y = pad_sequences(maxlen=max_len, sequences=y, padding=\"post\", value=tag2idx[\"O\"])"
      ],
      "execution_count": 14,
      "outputs": []
    },
    {
      "cell_type": "code",
      "metadata": {
        "id": "cdIeqfSChr3z",
        "colab": {
          "base_uri": "https://localhost:8080/"
        },
        "outputId": "54fe7a64-4c26-4972-aab0-a961ac5589b8"
      },
      "source": [
        "print(X[0])\n",
        "print(y[0])"
      ],
      "execution_count": 15,
      "outputs": [
        {
          "output_type": "stream",
          "name": "stdout",
          "text": [
            "[ 2529 11220  8555  8346 25385 21537 27743 27711 16013  5043 11866 30375\n",
            " 30672  3174   362  5043  8262 11220 29545  6103 18652   801 32746 31175\n",
            " 35178 35178 35178 35178 35178 35178 35178 35178 35178 35178 35178 35178\n",
            " 35178 35178 35178 35178 35178 35178 35178 35178 35178 35178 35178 35178\n",
            " 35178 35178]\n",
            "[ 4  4  4  4  4  4 10  4  4  4  4  4 10  4  4  4  4  4  9  4  4  4  4  4\n",
            "  4  4  4  4  4  4  4  4  4  4  4  4  4  4  4  4  4  4  4  4  4  4  4  4\n",
            "  4  4]\n"
          ]
        }
      ]
    },
    {
      "cell_type": "markdown",
      "metadata": {
        "id": "SricyH2-jpe7"
      },
      "source": [
        "- test_size = 0.2 có nghĩa là 80% dữ liệu chia cho tập huấn luyện và 20% còn lại cho tập kiểm tra."
      ]
    },
    {
      "cell_type": "code",
      "metadata": {
        "id": "pTZXbacIEvth"
      },
      "source": [
        "from sklearn.model_selection import train_test_split \n",
        "\n",
        "x_train, x_test, y_train, y_test = train_test_split(X, y, test_size = 0.2, random_state=1)"
      ],
      "execution_count": 16,
      "outputs": []
    },
    {
      "cell_type": "markdown",
      "metadata": {
        "id": "4BX80iq9kHhf"
      },
      "source": [
        "# Bước 6: Xây dựng Mô hình BiGRU\n"
      ]
    },
    {
      "cell_type": "code",
      "source": [
        "from tensorflow.keras.models import Sequential\n",
        "from tensorflow.keras import Model, Input\n",
        "from tensorflow.keras.layers import LSTM, Embedding, Dense, GRU\n",
        "from tensorflow.keras.layers import TimeDistributed, SpatialDropout1D, Bidirectional"
      ],
      "metadata": {
        "id": "D52fAmKA6x8S"
      },
      "execution_count": 17,
      "outputs": []
    },
    {
      "cell_type": "code",
      "source": [
        "model = Sequential() #Yêu cầu khỏi tạo mạng LSTM 1 chiều\n",
        "#Input\n",
        "input_word = Input(shape=(max_len,))\n",
        "#Embedding\n",
        "model = Embedding(input_dim=num_words, output_dim=max_len, input_length=max_len)(input_word)\n",
        "#SpatialDropout1D\n",
        "model = SpatialDropout1D(0.5)(model)\n",
        "#GRU\n",
        "model = Bidirectional(GRU(64, return_sequences=True))(model)\n",
        "#LSTM\n",
        "model = Bidirectional(GRU(units=100, return_sequences=True, recurrent_dropout=0.5))(model)\n",
        "#TimeDistributed\n",
        "out = TimeDistributed(Dense(num_tags, activation='softmax'))(model)\n",
        "model = Model(input_word, out)\n",
        "model.summary()\n"
      ],
      "metadata": {
        "colab": {
          "base_uri": "https://localhost:8080/"
        },
        "id": "8fOFxoR76x4x",
        "outputId": "65d320ef-4f37-493f-b560-ed8872fedf75"
      },
      "execution_count": 18,
      "outputs": [
        {
          "output_type": "stream",
          "name": "stderr",
          "text": [
            "WARNING:tensorflow:Layer gru_1 will not use cuDNN kernels since it doesn't meet the criteria. It will use a generic GPU kernel as fallback when running on GPU.\n",
            "WARNING:tensorflow:Layer gru_1 will not use cuDNN kernels since it doesn't meet the criteria. It will use a generic GPU kernel as fallback when running on GPU.\n",
            "WARNING:tensorflow:Layer gru_1 will not use cuDNN kernels since it doesn't meet the criteria. It will use a generic GPU kernel as fallback when running on GPU.\n"
          ]
        },
        {
          "output_type": "stream",
          "name": "stdout",
          "text": [
            "Model: \"model\"\n",
            "_________________________________________________________________\n",
            " Layer (type)                Output Shape              Param #   \n",
            "=================================================================\n",
            " input_1 (InputLayer)        [(None, 50)]              0         \n",
            "                                                                 \n",
            " embedding (Embedding)       (None, 50, 50)            1758950   \n",
            "                                                                 \n",
            " spatial_dropout1d (SpatialD  (None, 50, 50)           0         \n",
            " ropout1D)                                                       \n",
            "                                                                 \n",
            " bidirectional (Bidirectiona  (None, 50, 128)          44544     \n",
            " l)                                                              \n",
            "                                                                 \n",
            " bidirectional_1 (Bidirectio  (None, 50, 200)          138000    \n",
            " nal)                                                            \n",
            "                                                                 \n",
            " time_distributed (TimeDistr  (None, 50, 17)           3417      \n",
            " ibuted)                                                         \n",
            "                                                                 \n",
            "=================================================================\n",
            "Total params: 1,944,911\n",
            "Trainable params: 1,944,911\n",
            "Non-trainable params: 0\n",
            "_________________________________________________________________\n"
          ]
        }
      ]
    },
    {
      "cell_type": "code",
      "source": [
        "model.compile(optimizer=\"adam\",\n",
        "              loss=\"sparse_categorical_crossentropy\",\n",
        "              metrics=[\"accuracy\"])"
      ],
      "metadata": {
        "id": "NCu10KBX7HlC"
      },
      "execution_count": 19,
      "outputs": []
    },
    {
      "cell_type": "markdown",
      "metadata": {
        "id": "Dc_jElQlmtEP"
      },
      "source": [
        "#Bước7: Huấn luyện Model"
      ]
    },
    {
      "cell_type": "markdown",
      "metadata": {
        "id": "xmPTE4emnSJ8"
      },
      "source": [
        "- Để bắt đầu huấn luyện là gọi model.fit ()\n",
        "- Có thể tăng kích thước batch_size nếu bạn có GPU có kích thước bộ nhớ lớn.\n",
        "\n"
      ]
    },
    {
      "cell_type": "code",
      "metadata": {
        "id": "wNg5eaGsGLX7",
        "colab": {
          "base_uri": "https://localhost:8080/"
        },
        "outputId": "ae8daf19-8e2e-4638-e3a0-d5a8d58d5525"
      },
      "source": [
        "# Các bạn nhớ là phải lưu mô hình khi train (có nhắc lại yêu cầu ở cuối) \n",
        "import time\n",
        "start_time = time.time()\n",
        "\n",
        "history = model.fit(\n",
        "    x=x_train,\n",
        "    y=y_train,\n",
        "    # validation_data=(x_valid,y_valid),\n",
        "    validation_split= 0.1,\n",
        "    batch_size= 32, \n",
        "    epochs=1,\n",
        "    verbose=1\n",
        ")\n",
        "print(\"[{}] Completed!\".format(time.time() - start_time))"
      ],
      "execution_count": 20,
      "outputs": [
        {
          "output_type": "stream",
          "name": "stdout",
          "text": [
            "1080/1080 [==============================] - 383s 344ms/step - loss: 0.1615 - accuracy: 0.9622 - val_loss: 0.0635 - val_accuracy: 0.9813\n",
            "[383.17595195770264] Completed!\n"
          ]
        }
      ]
    },
    {
      "cell_type": "markdown",
      "metadata": {
        "id": "S4VxiMpqoMF5"
      },
      "source": [
        "# Bước8: Đánh giá mô hình NER\n",
        "\n"
      ]
    },
    {
      "cell_type": "code",
      "metadata": {
        "id": "TWk9eXUKoHXg",
        "colab": {
          "base_uri": "https://localhost:8080/"
        },
        "outputId": "6ddecc9c-ecc6-4257-a8b2-1a5c4be8dbe1"
      },
      "source": [
        "model.evaluate(x_test, y_test)"
      ],
      "execution_count": 21,
      "outputs": [
        {
          "output_type": "stream",
          "name": "stdout",
          "text": [
            "300/300 [==============================] - 10s 34ms/step - loss: 0.0620 - accuracy: 0.9814\n"
          ]
        },
        {
          "output_type": "execute_result",
          "data": {
            "text/plain": [
              "[0.0620059110224247, 0.9814178347587585]"
            ]
          },
          "metadata": {},
          "execution_count": 21
        }
      ]
    },
    {
      "cell_type": "markdown",
      "metadata": {
        "id": "j--OVsRnocbZ"
      },
      "source": [
        "- Dự đoán"
      ]
    },
    {
      "cell_type": "code",
      "metadata": {
        "id": "rb9DEgbcGLbL",
        "colab": {
          "base_uri": "https://localhost:8080/"
        },
        "outputId": "6cb83529-14c8-494d-9ac7-5e32ef2f9908"
      },
      "source": [
        "# i = np.random.randint(0, x_test.shape[0]) #659\n",
        "print(x_test[1])\n",
        "i =10\n",
        "p = model.predict(np.array([x_test[i]]))\n",
        "\n",
        "p = np.argmax(p, axis=-1)\n",
        "y_true = y_test[i]\n",
        "print(\"{:15}{:5}\\t {}\\n\".format(\"Word\", \"True\", \"Pred\"))\n",
        "print(\"-\" *30)\n",
        "for w, true, pred in zip(x_test[i], y_true, p[0]):\n",
        "    print(\"{:15}{}\\t{}\".format(words[w-1], tags[true], tags[pred]))"
      ],
      "execution_count": 22,
      "outputs": [
        {
          "output_type": "stream",
          "name": "stdout",
          "text": [
            "[ 7395  5815 22569 14811 26395 23343 11220 29849  3174 35060 31175 35178\n",
            " 35178 35178 35178 35178 35178 35178 35178 35178 35178 35178 35178 35178\n",
            " 35178 35178 35178 35178 35178 35178 35178 35178 35178 35178 35178 35178\n",
            " 35178 35178 35178 35178 35178 35178 35178 35178 35178 35178 35178 35178\n",
            " 35178 35178]\n",
            "1/1 [==============================] - 1s 1s/step\n",
            "Word           True \t Pred\n",
            "\n",
            "------------------------------\n",
            "greats         O\tO\n",
            "quieter        O\tO\n",
            "motorbikes     O\tO\n",
            "Neal           O\tO\n",
            "Valdes         O\tO\n",
            "quieter        O\tO\n",
            "leveraged      O\tO\n",
            "Vuk            O\tO\n",
            "remote         O\tO\n",
            "two-man        O\tO\n",
            "Punjab         O\tO\n",
            "quieter        O\tO\n",
            "affront        O\tO\n",
            "flooded        O\tO\n",
            "Yong-Chun      O\tO\n",
            "Sangju         O\tO\n",
            "Qinghai        O\tO\n",
            "quieter        O\tO\n",
            "1996           O\tO\n",
            "Haswa          O\tO\n",
            "salivated      O\tO\n",
            "Valdes         O\tO\n",
            "hypothermia    O\tO\n",
            "Valdes         O\tO\n",
            "bullying       O\tO\n",
            "husbandry      O\tO\n",
            "5,64,000       O\tO\n",
            "SPLM           O\tO\n",
            "republic       O\tO\n",
            "republic       O\tO\n",
            "republic       O\tO\n",
            "republic       O\tO\n",
            "republic       O\tO\n",
            "republic       O\tO\n",
            "republic       O\tO\n",
            "republic       O\tO\n",
            "republic       O\tO\n",
            "republic       O\tO\n",
            "republic       O\tO\n",
            "republic       O\tO\n",
            "republic       O\tO\n",
            "republic       O\tO\n",
            "republic       O\tO\n",
            "republic       O\tO\n",
            "republic       O\tO\n",
            "republic       O\tO\n",
            "republic       O\tO\n",
            "republic       O\tO\n",
            "republic       O\tO\n",
            "republic       O\tO\n"
          ]
        }
      ]
    },
    {
      "cell_type": "code",
      "source": [
        "from sklearn.metrics import  f1_score"
      ],
      "metadata": {
        "id": "V0rp0ZsyWb8G"
      },
      "execution_count": 23,
      "outputs": []
    },
    {
      "cell_type": "code",
      "source": [
        "predict = np.argmax(model.predict(x_test), axis=-1)"
      ],
      "metadata": {
        "colab": {
          "base_uri": "https://localhost:8080/"
        },
        "id": "4DpZStwTWl-I",
        "outputId": "bc6b1983-346a-480c-f541-9691b12536fb"
      },
      "execution_count": 24,
      "outputs": [
        {
          "output_type": "stream",
          "name": "stdout",
          "text": [
            "300/300 [==============================] - 10s 33ms/step\n"
          ]
        }
      ]
    },
    {
      "cell_type": "code",
      "source": [
        "# Đánh giá theo độ đo f1 score: micro \n",
        "f1_score(y_test.ravel(), predict.ravel(), average = 'micro')"
      ],
      "metadata": {
        "colab": {
          "base_uri": "https://localhost:8080/"
        },
        "id": "qtftJXvoWd9d",
        "outputId": "5fc7d15f-e28d-4324-ed89-5c4ee4d24180"
      },
      "execution_count": 25,
      "outputs": [
        {
          "output_type": "execute_result",
          "data": {
            "text/plain": [
              "0.9814178482068391"
            ]
          },
          "metadata": {},
          "execution_count": 25
        }
      ]
    },
    {
      "cell_type": "code",
      "source": [
        "# Đánh giá theo độ đo f1 score: macro \n",
        "f1_score(y_test.ravel(), predict.ravel(), average = 'macro')"
      ],
      "metadata": {
        "colab": {
          "base_uri": "https://localhost:8080/"
        },
        "id": "8QlmKKLFWsYw",
        "outputId": "4dc26f08-4aae-4209-c0bb-dcd1ac7d9a54"
      },
      "execution_count": 26,
      "outputs": [
        {
          "output_type": "execute_result",
          "data": {
            "text/plain": [
              "0.4639890361752578"
            ]
          },
          "metadata": {},
          "execution_count": 26
        }
      ]
    },
    {
      "cell_type": "code",
      "source": [
        "# Xuất ra kết quả của F1-score và Accuracy cho từng nhãn thực thể. \n",
        "from sklearn.metrics import classification_report\n",
        "\n",
        "a = {i: t for i, t in enumerate(tags)}\n",
        "print(classification_report(y_test.ravel(), \n",
        "                            predict.ravel(),\n",
        "                            labels=list(a.keys()), \n",
        "                            target_names=list(a.values())))"
      ],
      "metadata": {
        "colab": {
          "base_uri": "https://localhost:8080/"
        },
        "id": "VCQuYAgdW6YE",
        "outputId": "307c91ef-73ca-4ad5-9181-40dbe29a8f3e"
      },
      "execution_count": 27,
      "outputs": [
        {
          "output_type": "stream",
          "name": "stderr",
          "text": [
            "/usr/local/lib/python3.7/dist-packages/sklearn/metrics/_classification.py:1318: UndefinedMetricWarning: Precision and F-score are ill-defined and being set to 0.0 in labels with no predicted samples. Use `zero_division` parameter to control this behavior.\n",
            "  _warn_prf(average, modifier, msg_start, len(result))\n"
          ]
        },
        {
          "output_type": "stream",
          "name": "stdout",
          "text": [
            "              precision    recall  f1-score   support\n",
            "\n",
            "       I-org       0.66      0.72      0.69      3374\n",
            "       B-tim       0.92      0.80      0.86      4159\n",
            "       I-art       0.00      0.00      0.00        66\n",
            "       I-nat       0.00      0.00      0.00         9\n",
            "           O       0.99      1.00      1.00    447502\n",
            "       B-nat       0.00      0.00      0.00        41\n",
            "       B-per       0.85      0.62      0.72      3406\n",
            "       I-gpe       0.00      0.00      0.00        38\n",
            "       B-art       0.00      0.00      0.00        80\n",
            "       B-gpe       0.93      0.91      0.92      3171\n",
            "       B-geo       0.81      0.88      0.84      7471\n",
            "       B-org       0.65      0.64      0.64      4019\n",
            "       I-tim       0.84      0.55      0.67      1248\n",
            "       B-eve       0.00      0.00      0.00        56\n",
            "       I-eve       0.00      0.00      0.00        51\n",
            "       I-geo       0.87      0.65      0.74      1466\n",
            "       I-per       0.84      0.78      0.81      3443\n",
            "\n",
            "    accuracy                           0.98    479600\n",
            "   macro avg       0.49      0.44      0.46    479600\n",
            "weighted avg       0.98      0.98      0.98    479600\n",
            "\n"
          ]
        },
        {
          "output_type": "stream",
          "name": "stderr",
          "text": [
            "/usr/local/lib/python3.7/dist-packages/sklearn/metrics/_classification.py:1318: UndefinedMetricWarning: Precision and F-score are ill-defined and being set to 0.0 in labels with no predicted samples. Use `zero_division` parameter to control this behavior.\n",
            "  _warn_prf(average, modifier, msg_start, len(result))\n",
            "/usr/local/lib/python3.7/dist-packages/sklearn/metrics/_classification.py:1318: UndefinedMetricWarning: Precision and F-score are ill-defined and being set to 0.0 in labels with no predicted samples. Use `zero_division` parameter to control this behavior.\n",
            "  _warn_prf(average, modifier, msg_start, len(result))\n"
          ]
        }
      ]
    },
    {
      "cell_type": "markdown",
      "source": [
        "# Bước 9: lưu model\n",
        "\n",
        "Các bạn lưu lại model đã lưu và bộ trong số model"
      ],
      "metadata": {
        "id": "-usGGIQuA7qz"
      }
    },
    {
      "cell_type": "code",
      "source": [
        "model.save('model_BiGRU_bt1.h5')"
      ],
      "metadata": {
        "id": "Npczgw7-XNc4"
      },
      "execution_count": 29,
      "outputs": []
    }
  ]
}