{
  "nbformat": 4,
  "nbformat_minor": 0,
  "metadata": {
    "colab": {
      "provenance": [],
      "collapsed_sections": [],
      "toc_visible": true
    },
    "kernelspec": {
      "name": "python3",
      "display_name": "Python 3"
    },
    "language_info": {
      "name": "python"
    }
  },
  "cells": [
    {
      "cell_type": "code",
      "execution_count": null,
      "metadata": {
        "colab": {
          "base_uri": "https://localhost:8080/"
        },
        "id": "WjOs3fOWXspP",
        "outputId": "4e670668-83b2-42f1-b4f0-6006beec90a0"
      },
      "outputs": [
        {
          "output_type": "stream",
          "name": "stdout",
          "text": [
            "Drive already mounted at /content/drive; to attempt to forcibly remount, call drive.mount(\"/content/drive\", force_remount=True).\n"
          ]
        }
      ],
      "source": [
        "from google.colab import drive\n",
        "drive.mount('/content/drive')"
      ]
    },
    {
      "cell_type": "code",
      "source": [
        "import matplotlib.pyplot as plt\n",
        "import pandas as pd\n",
        "import numpy as np\n",
        "import tensorflow as tf\n",
        "from io import *\n",
        "%matplotlib inline\n",
        "from io import BytesIO\n",
        "import requests\n",
        "np.random.seed(0)\n",
        "plt.style.use(\"ggplot\")"
      ],
      "metadata": {
        "id": "E2GvA7RpYkQo"
      },
      "execution_count": null,
      "outputs": []
    },
    {
      "cell_type": "markdown",
      "source": [
        "## Đọc dữ liệu "
      ],
      "metadata": {
        "id": "1UYD-28aZloi"
      }
    },
    {
      "cell_type": "code",
      "source": [
        "def load_data(path):\n",
        "\n",
        "  data = []\n",
        "  with open(path) as f:\n",
        "    sentence = []\n",
        "    for i, line in enumerate(f.readlines()):\n",
        "      try:\n",
        "        word, tag = line.split()\n",
        "        sentence.append((word,tag))\n",
        "      except:\n",
        "        data.append(sentence)\n",
        "        sentence = []\n",
        "  return data "
      ],
      "metadata": {
        "id": "RBQvpOvgYyff"
      },
      "execution_count": null,
      "outputs": []
    },
    {
      "cell_type": "code",
      "source": [
        "path_dev = '/content/drive/MyDrive/Data Scientist/DS310.N11 - NLP/data/word/dev_word.conll' \n",
        "path_train = '/content/drive/MyDrive/Data Scientist/DS310.N11 - NLP/data/word/train_word.conll'\n",
        "path_test = '/content/drive/MyDrive/Data Scientist/DS310.N11 - NLP/data/word/test_word.conll'"
      ],
      "metadata": {
        "id": "bSti7JYUZMHG"
      },
      "execution_count": null,
      "outputs": []
    },
    {
      "cell_type": "code",
      "source": [
        "train = load_data(path_train)\n",
        "test = load_data(path_test)\n",
        "dev = load_data(path_dev)"
      ],
      "metadata": {
        "id": "iq1kF9PoZkQu"
      },
      "execution_count": null,
      "outputs": []
    },
    {
      "cell_type": "markdown",
      "source": [
        "## Tạo tập từ vựng"
      ],
      "metadata": {
        "id": "-6o8gwUPaHj0"
      }
    },
    {
      "cell_type": "code",
      "source": [
        "words=[]\n",
        "for i in range(len(train)):\n",
        "  for j in range(len(train[i])):\n",
        "    words.append(train[i][j][0])\n",
        "\n",
        "for i in range(len(test)):\n",
        "  for j in range(len(test[i])):\n",
        "    words.append(test[i][j][0])\n",
        "\n",
        "for i in range(len(dev)):\n",
        "  for j in range(len(dev[i])):\n",
        "    words.append(dev[i][j][0])\n",
        "\n",
        "words = list(set(words))\n",
        "words.append(\"ENDPAD\")\n",
        "\n",
        "num_words = len(words)\n",
        "num_words"
      ],
      "metadata": {
        "colab": {
          "base_uri": "https://localhost:8080/"
        },
        "id": "Ok-vCXSrbBqo",
        "outputId": "f10148d0-e29a-4724-ae6b-0dd49f7da0fe"
      },
      "execution_count": null,
      "outputs": [
        {
          "output_type": "execute_result",
          "data": {
            "text/plain": [
              "8102"
            ]
          },
          "metadata": {},
          "execution_count": 151
        }
      ]
    },
    {
      "cell_type": "markdown",
      "source": [
        "## Tạo tập nhãn "
      ],
      "metadata": {
        "id": "XJCq6eCWdU9P"
      }
    },
    {
      "cell_type": "code",
      "source": [
        "tags = []\n",
        "for i in range(len(train)):\n",
        "  for j in range(len(train[i])):\n",
        "    tags.append(train[i][j][1])\n",
        "\n",
        "tags = list(set(tags))\n",
        "num_tags = len(tags)"
      ],
      "metadata": {
        "id": "YnDEclC8cm78"
      },
      "execution_count": null,
      "outputs": []
    },
    {
      "cell_type": "markdown",
      "source": [
        "## Ánh xạ giữa các câu và chỉ mục \n"
      ],
      "metadata": {
        "id": "gY8OWEYXdZou"
      }
    },
    {
      "cell_type": "code",
      "source": [
        "word2idx = {w: i for i, w in enumerate(words)}\n",
        "tag2idx = {t: i for i, t in enumerate(tags)}"
      ],
      "metadata": {
        "id": "Bi-NrYMLdMQS"
      },
      "execution_count": null,
      "outputs": []
    },
    {
      "cell_type": "code",
      "source": [
        "from tensorflow.keras.preprocessing.sequence import pad_sequences\n",
        "\n",
        "max_len = 95\n",
        "X_train = [[word2idx[w[0]] for w in s] for s in train]\n",
        "X_train = pad_sequences(maxlen=max_len, sequences=X_train, padding=\"post\", value=num_words-1)\n",
        "X_dev = [[word2idx[w[0]] for w in s] for s in dev]\n",
        "X_dev = pad_sequences(maxlen=max_len, sequences=X_dev, padding=\"post\", value=num_words-1)\n",
        "X_test = [[word2idx[w[0]] for w in s] for s in test]\n",
        "X_test = pad_sequences(maxlen=max_len, sequences=X_test, padding=\"post\", value=num_words-1)\n",
        "\n",
        "y_train = [[tag2idx[w[1]] for w in s] for s in train]\n",
        "y_train = pad_sequences(maxlen=max_len, sequences=y_train, padding=\"post\", value=tag2idx[\"O\"])\n",
        "y_dev = [[tag2idx[w[1]] for w in s] for s in dev]\n",
        "y_dev = pad_sequences(maxlen=max_len, sequences=y_dev, padding=\"post\", value=tag2idx[\"O\"])\n",
        "y_test = [[tag2idx[w[1]] for w in s] for s in test]\n",
        "y_test = pad_sequences(maxlen=max_len, sequences=y_test, padding=\"post\", value=tag2idx[\"O\"])"
      ],
      "metadata": {
        "id": "nkP6rgMedvEF"
      },
      "execution_count": null,
      "outputs": []
    },
    {
      "cell_type": "code",
      "source": [
        "from tensorflow.keras.models import Sequential\n",
        "from tensorflow.keras import Model, Input\n",
        "from tensorflow.keras.layers import LSTM, Embedding, Dense, GRU\n",
        "from tensorflow.keras.layers import TimeDistributed, SpatialDropout1D, Bidirectional"
      ],
      "metadata": {
        "id": "0mEpKEuDd-EN"
      },
      "execution_count": 204,
      "outputs": []
    },
    {
      "cell_type": "markdown",
      "source": [
        "## Tạo Model BiGRU"
      ],
      "metadata": {
        "id": "3eOEoKQmgCbh"
      }
    },
    {
      "cell_type": "code",
      "source": [
        "model = Sequential() #Yêu cầu khỏi tạo mạng LSTM 1 chiều\n",
        "#Input\n",
        "input_word = Input(shape=(max_len,))\n",
        "#Embedding\n",
        "model = Embedding(input_dim=num_words, output_dim=max_len, input_length=max_len)(input_word)\n",
        "#SpatialDropout1D\n",
        "model = SpatialDropout1D(0.5)(model)\n",
        "#GRU\n",
        "model = Bidirectional(GRU(64, return_sequences=True))(model)\n",
        "#LSTM\n",
        "model = Bidirectional(GRU(units=100, return_sequences=True, recurrent_dropout=0.5))(model)\n",
        "#TimeDistributed\n",
        "out = TimeDistributed(Dense(num_tags, activation='softmax'))(model)\n",
        "model = Model(input_word, out)\n",
        "model.summary()\n"
      ],
      "metadata": {
        "colab": {
          "base_uri": "https://localhost:8080/"
        },
        "id": "Sz-XrNNP3_OU",
        "outputId": "476373cb-f2e9-4b37-e0ea-fb063eff85c9"
      },
      "execution_count": 205,
      "outputs": [
        {
          "output_type": "stream",
          "name": "stdout",
          "text": [
            "Model: \"model_10\"\n",
            "_________________________________________________________________\n",
            " Layer (type)                Output Shape              Param #   \n",
            "=================================================================\n",
            " input_14 (InputLayer)       [(None, 95)]              0         \n",
            "                                                                 \n",
            " embedding_5 (Embedding)     (None, 95, 95)            769690    \n",
            "                                                                 \n",
            " spatial_dropout1d_2 (Spatia  (None, 95, 95)           0         \n",
            " lDropout1D)                                                     \n",
            "                                                                 \n",
            " bidirectional_2 (Bidirectio  (None, 95, 128)          61824     \n",
            " nal)                                                            \n",
            "                                                                 \n",
            " bidirectional_3 (Bidirectio  (None, 95, 200)          138000    \n",
            " nal)                                                            \n",
            "                                                                 \n",
            " time_distributed_2 (TimeDis  (None, 95, 20)           4020      \n",
            " tributed)                                                       \n",
            "                                                                 \n",
            "=================================================================\n",
            "Total params: 973,534\n",
            "Trainable params: 973,534\n",
            "Non-trainable params: 0\n",
            "_________________________________________________________________\n"
          ]
        }
      ]
    },
    {
      "cell_type": "code",
      "source": [
        "model.compile(optimizer=\"adam\",\n",
        "              loss=\"sparse_categorical_crossentropy\",\n",
        "              metrics=[\"accuracy\"])"
      ],
      "metadata": {
        "id": "E3F4Jd8j3_K2"
      },
      "execution_count": 206,
      "outputs": []
    },
    {
      "cell_type": "code",
      "source": [
        "import time\n",
        "start_time = time.time()\n",
        "\n",
        "history = model.fit(\n",
        "    x=X_train,\n",
        "    y=y_train,\n",
        "    validation_data=(X_dev,y_dev),\n",
        "    validation_split= 0.1,\n",
        "    batch_size= 64, \n",
        "    epochs=8,\n",
        "    verbose=1\n",
        ")\n",
        "print(\"[{}] Completed!\".format(time.time() - start_time))"
      ],
      "metadata": {
        "colab": {
          "base_uri": "https://localhost:8080/"
        },
        "id": "6a0Ur-En3_Ix",
        "outputId": "e8bca157-e1cf-4782-fe24-2c9d4b74f130"
      },
      "execution_count": 207,
      "outputs": [
        {
          "output_type": "stream",
          "name": "stdout",
          "text": [
            "Epoch 1/8\n",
            "79/79 [==============================] - 41s 435ms/step - loss: 0.5489 - accuracy: 0.9304 - val_loss: 0.2946 - val_accuracy: 0.9258\n",
            "Epoch 2/8\n",
            "79/79 [==============================] - 37s 471ms/step - loss: 0.1986 - accuracy: 0.9476 - val_loss: 0.2119 - val_accuracy: 0.9421\n",
            "Epoch 3/8\n",
            "79/79 [==============================] - 33s 421ms/step - loss: 0.1260 - accuracy: 0.9634 - val_loss: 0.1411 - val_accuracy: 0.9629\n",
            "Epoch 4/8\n",
            "79/79 [==============================] - 33s 423ms/step - loss: 0.0762 - accuracy: 0.9795 - val_loss: 0.0958 - val_accuracy: 0.9766\n",
            "Epoch 5/8\n",
            "79/79 [==============================] - 34s 436ms/step - loss: 0.0524 - accuracy: 0.9863 - val_loss: 0.0805 - val_accuracy: 0.9808\n",
            "Epoch 6/8\n",
            "79/79 [==============================] - 34s 429ms/step - loss: 0.0395 - accuracy: 0.9897 - val_loss: 0.0727 - val_accuracy: 0.9835\n",
            "Epoch 7/8\n",
            "79/79 [==============================] - 33s 421ms/step - loss: 0.0308 - accuracy: 0.9918 - val_loss: 0.0701 - val_accuracy: 0.9847\n",
            "Epoch 8/8\n",
            "79/79 [==============================] - 33s 422ms/step - loss: 0.0259 - accuracy: 0.9931 - val_loss: 0.0604 - val_accuracy: 0.9865\n",
            "[328.43634009361267] Completed!\n"
          ]
        }
      ]
    },
    {
      "cell_type": "markdown",
      "source": [
        "## Đánh giá Model"
      ],
      "metadata": {
        "id": "TKON07GHxzfR"
      }
    },
    {
      "cell_type": "code",
      "source": [
        "from sklearn.metrics import  f1_score\n",
        "predict = np.argmax(model.predict(X_test), axis=-1)"
      ],
      "metadata": {
        "colab": {
          "base_uri": "https://localhost:8080/"
        },
        "id": "DRJIPvVjjLCg",
        "outputId": "db66b0e9-8709-413e-b323-5311aaf7bfed"
      },
      "execution_count": 208,
      "outputs": [
        {
          "output_type": "stream",
          "name": "stdout",
          "text": [
            "94/94 [==============================] - 5s 47ms/step\n"
          ]
        }
      ]
    },
    {
      "cell_type": "code",
      "source": [
        "# Đánh giá theo độ đo f1 score: micro \n",
        "f1_score(y_test.ravel(), predict.ravel(), average = 'micro')"
      ],
      "metadata": {
        "colab": {
          "base_uri": "https://localhost:8080/"
        },
        "id": "ISE44_T6k-aX",
        "outputId": "cae79269-4d39-4924-bbb7-d3aa533e0aa9"
      },
      "execution_count": 209,
      "outputs": [
        {
          "output_type": "execute_result",
          "data": {
            "text/plain": [
              "0.9844842105263157"
            ]
          },
          "metadata": {},
          "execution_count": 209
        }
      ]
    },
    {
      "cell_type": "code",
      "source": [
        "# Đánh giá theo độ đo f1 score: macro \n",
        "f1_score(y_test.ravel(), predict.ravel(), average = 'macro')"
      ],
      "metadata": {
        "colab": {
          "base_uri": "https://localhost:8080/"
        },
        "id": "M7QRQh_0lBOF",
        "outputId": "12ac0a0f-bf58-4632-f6bb-ddc139231707"
      },
      "execution_count": 210,
      "outputs": [
        {
          "output_type": "execute_result",
          "data": {
            "text/plain": [
              "0.5964513192675934"
            ]
          },
          "metadata": {},
          "execution_count": 210
        }
      ]
    },
    {
      "cell_type": "code",
      "source": [
        "# Xuất ra kết quả của F1-score và Accuracy cho từng nhãn thực thể. \n",
        "from sklearn.metrics import classification_report\n",
        "\n",
        "a = {i: t for i, t in enumerate(tags)}\n",
        "print(classification_report(y_test.ravel(), \n",
        "                            predict.ravel(),\n",
        "                            labels=list(a.keys()), \n",
        "                            target_names=list(a.values())))"
      ],
      "metadata": {
        "colab": {
          "base_uri": "https://localhost:8080/"
        },
        "id": "GIWe4uztlvF4",
        "outputId": "015bda8e-49e0-4e9c-8a06-3c7e2e9102a8"
      },
      "execution_count": 211,
      "outputs": [
        {
          "output_type": "stream",
          "name": "stdout",
          "text": [
            "                       precision    recall  f1-score   support\n",
            "\n",
            "               B-DATE       0.97      0.95      0.96      1649\n",
            "B-SYMPTOM_AND_DISEASE       0.89      0.81      0.85      1136\n",
            "     B-TRANSPORTATION       0.92      0.51      0.65       193\n",
            "         I-PATIENT_ID       0.00      0.00      0.00        27\n",
            "               I-NAME       0.00      0.00      0.00        13\n",
            "     I-TRANSPORTATION       1.00      0.03      0.06        69\n",
            "             B-GENDER       0.94      0.88      0.91       452\n",
            "                I-AGE       0.00      0.00      0.00         6\n",
            "       I-ORGANIZATION       0.83      0.82      0.83      2014\n",
            "               B-NAME       0.91      0.40      0.56       318\n",
            "                I-JOB       0.00      0.00      0.00       114\n",
            "         B-PATIENT_ID       0.90      0.89      0.90      1988\n",
            "                    O       0.99      1.00      0.99    262942\n",
            "                B-AGE       0.90      0.88      0.89       573\n",
            "           B-LOCATION       0.92      0.88      0.90      4432\n",
            "               I-DATE       0.94      0.99      0.96      1740\n",
            "       B-ORGANIZATION       0.83      0.79      0.81       771\n",
            "                B-JOB       0.00      0.00      0.00       172\n",
            "           I-LOCATION       0.92      0.82      0.87      4905\n",
            "I-SYMPTOM_AND_DISEASE       0.89      0.72      0.80      1486\n",
            "\n",
            "             accuracy                           0.98    285000\n",
            "            macro avg       0.69      0.57      0.60    285000\n",
            "         weighted avg       0.98      0.98      0.98    285000\n",
            "\n"
          ]
        },
        {
          "output_type": "stream",
          "name": "stderr",
          "text": [
            "/usr/local/lib/python3.7/dist-packages/sklearn/metrics/_classification.py:1318: UndefinedMetricWarning: Precision and F-score are ill-defined and being set to 0.0 in labels with no predicted samples. Use `zero_division` parameter to control this behavior.\n",
            "  _warn_prf(average, modifier, msg_start, len(result))\n",
            "/usr/local/lib/python3.7/dist-packages/sklearn/metrics/_classification.py:1318: UndefinedMetricWarning: Precision and F-score are ill-defined and being set to 0.0 in labels with no predicted samples. Use `zero_division` parameter to control this behavior.\n",
            "  _warn_prf(average, modifier, msg_start, len(result))\n",
            "/usr/local/lib/python3.7/dist-packages/sklearn/metrics/_classification.py:1318: UndefinedMetricWarning: Precision and F-score are ill-defined and being set to 0.0 in labels with no predicted samples. Use `zero_division` parameter to control this behavior.\n",
            "  _warn_prf(average, modifier, msg_start, len(result))\n"
          ]
        }
      ]
    },
    {
      "cell_type": "markdown",
      "source": [
        "## Lưu Model"
      ],
      "metadata": {
        "id": "QVL8sMwklq5D"
      }
    },
    {
      "cell_type": "code",
      "source": [
        "model.save('model_biGRU_bt2.h5')"
      ],
      "metadata": {
        "id": "MVEqraIulD81"
      },
      "execution_count": 212,
      "outputs": []
    }
  ]
}